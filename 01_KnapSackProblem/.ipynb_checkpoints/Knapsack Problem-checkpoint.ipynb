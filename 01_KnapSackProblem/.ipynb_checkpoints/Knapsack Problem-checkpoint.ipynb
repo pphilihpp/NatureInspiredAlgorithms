{
 "cells": [
  {
   "cell_type": "code",
   "execution_count": 2,
   "metadata": {},
   "outputs": [],
   "source": [
    "import numpy as np\n",
    "import matplotlib.pyplot as plt\n",
    "from datetime import datetime"
   ]
  },
  {
   "cell_type": "code",
   "execution_count": 3,
   "metadata": {},
   "outputs": [],
   "source": [
    "knapsack = {0: (1, 5000), 1: (10, 1000), 2: (100, 2000), 3: (200, 5000), 4: (300, 4000)}\n",
    "weight_limit = 400\n",
    "array_weight = 0\n",
    "# isinstance(knapsack[0], tuple)\n",
    "# len(knapsack)"
   ]
  },
  {
   "cell_type": "code",
   "execution_count": 4,
   "metadata": {},
   "outputs": [
    {
     "data": {
      "text/plain": [
       "array([1, 1, 1, 1, 0])"
      ]
     },
     "execution_count": 4,
     "metadata": {},
     "output_type": "execute_result"
    }
   ],
   "source": [
    "array = np.random.randint(2, size=5)\n",
    "array"
   ]
  },
  {
   "cell_type": "markdown",
   "metadata": {},
   "source": [
    "# Functions"
   ]
  },
  {
   "cell_type": "markdown",
   "metadata": {},
   "source": [
    "### Check if random array is smaller than weight = feasability"
   ]
  },
  {
   "cell_type": "code",
   "execution_count": 5,
   "metadata": {},
   "outputs": [],
   "source": [
    "def check_feasibility(array, knapsack):\n",
    "    array_weight = 0\n",
    "    for i in range(len(knapsack)):\n",
    "        knapsack_weight = knapsack[i]\n",
    "        dummy = array[i]*knapsack_weight[0]\n",
    "        array_weight = array_weight + dummy\n",
    "    \n",
    "    feasible = weight_limit >= array_weight\n",
    "    return feasible"
   ]
  },
  {
   "cell_type": "markdown",
   "metadata": {},
   "source": [
    "### Hill-climbing swap function"
   ]
  },
  {
   "cell_type": "code",
   "execution_count": 6,
   "metadata": {},
   "outputs": [],
   "source": [
    "def swap(array):  \n",
    "    best_array = array   \n",
    "    for i in range(len(best_array)):\n",
    "        dummy_array = np.copy(best_array)\n",
    "        dummy_var = dummy_array[i]\n",
    "        if(i < (len(best_array)-1)): \n",
    "            dummy_array[i] = dummy_array[i+1]\n",
    "            dummy_array[i+1] = dummy_var\n",
    "        else:\n",
    "            dummy_array[i] = dummy_array[i-len(best_array)]\n",
    "            dummy_array[i-len(best_array)] = dummy_var\n",
    "        \n",
    "        \n",
    "        if check_feasibility(dummy_array, knapsack) == True:\n",
    "            if getValuefromArray(dummy_array, knapsack) > getValuefromArray(best_array, knapsack):\n",
    "                best_array = dummy_array\n",
    "    return best_array"
   ]
  },
  {
   "cell_type": "markdown",
   "metadata": {},
   "source": [
    "### First-choice-hill-climbing swap function"
   ]
  },
  {
   "cell_type": "code",
   "execution_count": 7,
   "metadata": {},
   "outputs": [],
   "source": [
    "def fcSwap(array):\n",
    "    best_array = array   \n",
    "    for i in range(len(best_array)):\n",
    "        dummy_array = np.copy(best_array)\n",
    "        dummy_var = dummy_array[i]\n",
    "        if(i < (len(best_array)-1)): \n",
    "            dummy_array[i] = dummy_array[i+1]\n",
    "            dummy_array[i+1] = dummy_var\n",
    "        else:\n",
    "            dummy_array[i] = dummy_array[i-len(best_array)]\n",
    "            dummy_array[i-len(best_array)] = dummy_var\n",
    "        \n",
    "        \n",
    "        if check_feasibility(dummy_array, knapsack) == True:\n",
    "            if getValuefromArray(dummy_array, knapsack) > getValuefromArray(best_array, knapsack):\n",
    "                best_array = dummy_array\n",
    "                break\n",
    "    return best_array"
   ]
  },
  {
   "cell_type": "markdown",
   "metadata": {},
   "source": [
    "### Hill-climbing transposition function"
   ]
  },
  {
   "cell_type": "code",
   "execution_count": 8,
   "metadata": {},
   "outputs": [],
   "source": [
    "def transp(array):  \n",
    "    best_array = array   \n",
    "    for i in range(len(best_array)):\n",
    "       \n",
    "            for j in range(len(best_array)):\n",
    "              \n",
    "                dummy_array = np.copy(best_array)\n",
    "                dummy_var = dummy_array[i]\n",
    "                dummy_array[i] = dummy_array[j]\n",
    "                dummy_array[j] = dummy_var\n",
    "\n",
    "                if check_feasibility(dummy_array, knapsack) == True:\n",
    "                    if getValuefromArray(dummy_array, knapsack) > getValuefromArray(best_array, knapsack):\n",
    "                        best_array = dummy_array\n",
    "                \n",
    "    return best_array"
   ]
  },
  {
   "cell_type": "markdown",
   "metadata": {},
   "source": [
    "### First-choice-hill-climbing transposition function"
   ]
  },
  {
   "cell_type": "code",
   "execution_count": 9,
   "metadata": {},
   "outputs": [],
   "source": [
    "def fcTransp(array):  \n",
    "    best_array = array   \n",
    "    for i in range(len(best_array)):\n",
    "       \n",
    "            for j in range(len(best_array)):\n",
    "              \n",
    "                dummy_array = np.copy(best_array)\n",
    "                dummy_var = dummy_array[i]\n",
    "                dummy_array[i] = dummy_array[j]\n",
    "                dummy_array[j] = dummy_var\n",
    "\n",
    "                if check_feasibility(dummy_array, knapsack) == True:\n",
    "                    if getValuefromArray(dummy_array, knapsack) > getValuefromArray(best_array, knapsack):\n",
    "                        best_array = dummy_array\n",
    "                        break\n",
    "                \n",
    "    return best_array"
   ]
  },
  {
   "cell_type": "markdown",
   "metadata": {},
   "source": [
    "### Get Knapsack Value"
   ]
  },
  {
   "cell_type": "code",
   "execution_count": 10,
   "metadata": {},
   "outputs": [],
   "source": [
    "def getValuefromArray(array, knapsack): \n",
    "    array_value = 0\n",
    "    for i in range(len(knapsack)):\n",
    "        knapsack_value = knapsack[i]\n",
    "        dummy = array[i]*knapsack_value[1]\n",
    "        array_value = array_value + dummy\n",
    "    \n",
    "    return array_value"
   ]
  },
  {
   "cell_type": "code",
   "execution_count": 11,
   "metadata": {},
   "outputs": [
    {
     "name": "stdout",
     "output_type": "stream",
     "text": [
      "[0 0 1 1 0]\n",
      "0\n"
     ]
    },
    {
     "data": {
      "text/plain": [
       "7000"
      ]
     },
     "execution_count": 11,
     "metadata": {},
     "output_type": "execute_result"
    }
   ],
   "source": [
    "# checking if function works\n",
    "knapsack = {0: (1, 5000), 1: (10, 1000), 2: (100, 2000), 3: (200, 5000), 4: (300, 4000)}\n",
    "test = knapsack[0]\n",
    "test[1]\n",
    "array = np.random.randint(2, size=5)\n",
    "print(array)\n",
    "print(array[0])\n",
    "getValuefromArray(array, knapsack)"
   ]
  },
  {
   "cell_type": "markdown",
   "metadata": {},
   "source": [
    "### Get Knapsack Weight"
   ]
  },
  {
   "cell_type": "code",
   "execution_count": 12,
   "metadata": {},
   "outputs": [],
   "source": [
    "def getWeightfromArray(array, knapsack):\n",
    "    array_weight = 0\n",
    "    for i in range(len(knapsack)):\n",
    "        knapsack_weight = knapsack[i]\n",
    "        dummy = array[i]*knapsack_weight[0]\n",
    "        array_weight = array_weight + dummy\n",
    "    return array_weight"
   ]
  },
  {
   "cell_type": "markdown",
   "metadata": {},
   "source": [
    "# Action"
   ]
  },
  {
   "cell_type": "code",
   "execution_count": 17,
   "metadata": {},
   "outputs": [
    {
     "name": "stdout",
     "output_type": "stream",
     "text": [
      "[0 0 1 0 0]\n",
      "[1 0 0 0 0]\n",
      "5000\n",
      "1\n",
      "2\n",
      "0:00:00.003490\n"
     ]
    }
   ],
   "source": [
    "feasible = False\n",
    "converged = False\n",
    "count = 0\n",
    "start = datetime.now()\n",
    "while(not feasible):\n",
    "    array = np.random.randint(2, size=5)\n",
    "    feasible = check_feasibility(array, knapsack)\n",
    "print(array)\n",
    "while(not converged):   \n",
    "    count += 1\n",
    "    best_array = fcTransp(array)\n",
    "    converged = getValuefromArray(best_array, knapsack) <= getValuefromArray(array, knapsack)\n",
    "    array = best_array\n",
    "\n",
    "totalCount += count\n",
    "totalValue += getValuefromArray(array, knapsack)\n",
    "totalWeight += getWeightfromArray(array, knapsack)\n",
    "totalTime += datetime.now() - start\n",
    "print(array)\n",
    "print(getValuefromArray(array, knapsack))\n",
    "print(getWeightfromArray(array, knapsack))\n",
    "print(count)\n",
    "print(datetime.now() - start)"
   ]
  },
  {
   "cell_type": "markdown",
   "metadata": {},
   "source": [
    "# Action Loop 100"
   ]
  },
  {
   "cell_type": "code",
   "execution_count": 30,
   "metadata": {},
   "outputs": [
    {
     "name": "stdout",
     "output_type": "stream",
     "text": [
      "100 Runs:\n",
      "Total Count: 168\n",
      "Average Count: 1.68\n",
      "Total Value: 838000\n",
      "Average Value: 8380.0\n",
      "Total Weight: 18945\n",
      "Average Weight: 189.45\n",
      "Total Time: 0:00:00.041377\n",
      "Average Time: 0:00:00.000414\n"
     ]
    }
   ],
   "source": [
    "totalCount = 0\n",
    "totalValue = 0\n",
    "totalWeight = 0\n",
    "totalTime = datetime.now() - datetime.now()\n",
    "\n",
    "\n",
    "for x in range(99):\n",
    "    feasible = False\n",
    "    converged = False\n",
    "    count = 0\n",
    "    start = datetime.now()\n",
    "    while(not feasible):\n",
    "        array = np.random.randint(2, size=5)\n",
    "        feasible = check_feasibility(array, knapsack)\n",
    "    #print(array)\n",
    "    while(not converged):   \n",
    "        count += 1\n",
    "        best_array = swap(array)\n",
    "        converged = getValuefromArray(best_array, knapsack) <= getValuefromArray(array, knapsack)\n",
    "        array = best_array\n",
    "        \n",
    "    totalCount += count\n",
    "    totalValue += getValuefromArray(array, knapsack)\n",
    "    totalWeight += getWeightfromArray(array, knapsack)\n",
    "    totalTime += datetime.now() - start\n",
    "    #print(array)\n",
    "    #print(getValuefromArray(array, knapsack))\n",
    "    #print(getWeightfromArray(array, knapsack))\n",
    "    #print(count)\n",
    "    #print(datetime.now() - start)\n",
    "\n",
    "print('100 Runs:')\n",
    "print('Total Count:',totalCount)\n",
    "print('Average Count:',totalCount / 100)\n",
    "print('Total Value:',totalValue)\n",
    "print('Average Value:',totalValue / 100)\n",
    "print('Total Weight:',totalWeight)\n",
    "print('Average Weight:',totalWeight / 100)\n",
    "print('Total Time:',totalTime)\n",
    "print('Average Time:',totalTime / 100)"
   ]
  },
  {
   "cell_type": "markdown",
   "metadata": {},
   "source": [
    "# Boxplots"
   ]
  },
  {
   "cell_type": "markdown",
   "metadata": {},
   "source": [
    "### I found a good website that explains how to design boxplots: http://blog.bharatbhole.com/creating-boxplots-with-matplotlib/\n",
    "### I also created a framework to illustrate the boxplot for the weights of the knapsack. What still has to be done is to get the input array. Here that means that we need an array (or maybe list would also work) that displays the weight of the knapsack for the 100 runs. According to that example, the value of the knapsack e.g. can be illustrated as well."
   ]
  },
  {
   "cell_type": "code",
   "execution_count": 39,
   "metadata": {},
   "outputs": [
    {
     "data": {
      "image/png": "[encoded data removed]",
      "text/plain": [
       "<matplotlib.figure.Figure at 0x1143c56d8>"
      ]
     },
     "metadata": {},
     "output_type": "display_data"
    }
   ],
   "source": [
    "# Input: Array with a list of the 100 weights (here: array_weights)\n",
    "# compute mean, standard deviation, and number of values desired (100)\n",
    "\n",
    "# example array_weights has been randomly created to see if boxplot works\n",
    "array_weights = np.random.randint(low = 1, high = 400, size = 100)\n",
    "\n",
    "mean_weight = np.mean(array_weights)\n",
    "std_weight = np.std(array_weights)\n",
    "number_of_values = len(array_weights)\n",
    "\n",
    "# data has to be concatenated\n",
    "data_to_plot = [mean_weight, std_weight, number_of_values]\n",
    "\n",
    "plt.boxplot(data_to_plot)\n",
    "plt.show()"
   ]
  },
  {
   "cell_type": "markdown",
   "metadata": {},
   "source": [
    "# Test"
   ]
  },
  {
   "cell_type": "code",
   "execution_count": 20,
   "metadata": {},
   "outputs": [],
   "source": [
    "def swaptest(array):  \n",
    "    best_array = array   \n",
    "    for i in range(len(best_array)-1):\n",
    "        \n",
    "        dummy_array = np.copy(best_array)\n",
    "        dummy_var = dummy_array[i]\n",
    "        print(dummy_var)\n",
    "        dummy_array[i] = dummy_array[i+1]\n",
    "        print(dummy_array[i])\n",
    "        dummy_array[i+1] = dummy_var\n",
    "        print(dummy_array[i+1])\n",
    "        #print(\"dummy array before feasibility\")\n",
    "        #print(dummy_array)\n",
    "        if check_feasibility(dummy_array, knapsack):\n",
    "            print(\"dummy\")\n",
    "            print(dummy_array)\n",
    "            print(\"dummy array after feasibility check\")\n",
    "            print(getValuefromArray(dummy_array,knapsack))\n",
    "            print(\"best array after feasibility check\")\n",
    "            print(getValuefromArray(best_array,knapsack))\n",
    "            print(\"best\")\n",
    "            print(best_array)\n",
    "            if getValuefromArray(dummy_array, knapsack) > getValuefromArray(best_array, knapsack):\n",
    "                best_array = dummy_array\n",
    "                print(\"test\")\n",
    "                \n",
    "    return best_array"
   ]
  },
  {
   "cell_type": "code",
   "execution_count": 21,
   "metadata": {},
   "outputs": [
    {
     "name": "stdout",
     "output_type": "stream",
     "text": [
      "[2 1 1 1 0]\n",
      "[2 1 1 1 0]\n",
      "[1 1 1 1 0]\n"
     ]
    }
   ],
   "source": [
    "arraytest1 = np.random.randint(2, size=5)\n",
    "arraytest2 = arraytest1\n",
    "arraytest3 = np.copy(arraytest1)\n",
    "arraytest1[0] = 2\n",
    "print(arraytest1)\n",
    "print(arraytest2)\n",
    "print(arraytest3)"
   ]
  },
  {
   "cell_type": "code",
   "execution_count": null,
   "metadata": {},
   "outputs": [],
   "source": []
  }
 ],
 "metadata": {
  "kernelspec": {
   "display_name": "Python 3",
   "language": "python",
   "name": "python3"
  },
  "language_info": {
   "codemirror_mode": {
    "name": "ipython",
    "version": 3
   },
   "file_extension": ".py",
   "mimetype": "text/x-python",
   "name": "python",
   "nbconvert_exporter": "python",
   "pygments_lexer": "ipython3",
   "version": "3.6.4"
  }
 },
 "nbformat": 4,
 "nbformat_minor": 2
}
