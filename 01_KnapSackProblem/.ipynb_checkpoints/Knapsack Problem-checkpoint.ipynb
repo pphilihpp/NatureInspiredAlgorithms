{
 "cells": [
  {
   "cell_type": "code",
   "execution_count": 108,
   "metadata": {
    "collapsed": true
   },
   "outputs": [],
   "source": [
    "import numpy as np\n",
    "from datetime import datetime"
   ]
  },
  {
   "cell_type": "code",
   "execution_count": 196,
   "metadata": {
    "collapsed": true
   },
   "outputs": [],
   "source": [
    "knapsack = {0: (1, 5000), 1: (10, 1000), 2: (100, 2000), 3: (200, 5000), 4: (300, 4000)}\n",
    "weight_limit = 400\n",
    "array_weight = 0\n",
    "# isinstance(knapsack[0], tuple)\n",
    "# len(knapsack)"
   ]
  },
  {
   "cell_type": "code",
   "execution_count": 10,
   "metadata": {},
   "outputs": [
    {
     "data": {
      "text/plain": [
       "array([1, 1, 0, 0, 0])"
      ]
     },
     "execution_count": 10,
     "metadata": {},
     "output_type": "execute_result"
    }
   ],
   "source": [
    "array = np.random.randint(2, size=5)\n",
    "array"
   ]
  },
  {
   "cell_type": "markdown",
   "metadata": {},
   "source": [
    "# Functions"
   ]
  },
  {
   "cell_type": "markdown",
   "metadata": {},
   "source": [
    "### Check if random array is smaller than weight = feasability"
   ]
  },
  {
   "cell_type": "code",
   "execution_count": 185,
   "metadata": {
    "collapsed": true
   },
   "outputs": [],
   "source": [
    "def check_feasibility(array, knapsack):\n",
    "    array_weight = 0\n",
    "    for i in range(len(knapsack)):\n",
    "        knapsack_weight = knapsack[i]\n",
    "        dummy = array[i]*knapsack_weight[0]\n",
    "        array_weight = array_weight + dummy\n",
    "    \n",
    "    feasible = weight_limit >= array_weight\n",
    "    return feasible"
   ]
  },
  {
   "cell_type": "markdown",
   "metadata": {},
   "source": [
    "### Hill-climbing swap function"
   ]
  },
  {
   "cell_type": "code",
   "execution_count": 186,
   "metadata": {
    "collapsed": true
   },
   "outputs": [],
   "source": [
    "def swap(array):  \n",
    "    best_array = array   \n",
    "    for i in range(len(best_array)):\n",
    "        dummy_array = np.copy(best_array)\n",
    "        dummy_var = dummy_array[i]\n",
    "        if(i < (len(best_array)-1)): \n",
    "            dummy_array[i] = dummy_array[i+1]\n",
    "            dummy_array[i+1] = dummy_var\n",
    "        else:\n",
    "            dummy_array[i] = dummy_array[i-len(best_array)]\n",
    "            dummy_array[i-len(best_array)] = dummy_var\n",
    "        \n",
    "        \n",
    "        if check_feasibility(dummy_array, knapsack) == True:\n",
    "            print(dummy_array)\n",
    "            print(getWeightfromArray(dummy_array,knapsack))\n",
    "            if getValuefromArray(dummy_array, knapsack) > getValuefromArray(best_array, knapsack):\n",
    "                best_array = dummy_array\n",
    "                print('better_array_found')\n",
    "    return best_array"
   ]
  },
  {
   "cell_type": "markdown",
   "metadata": {},
   "source": [
    "### First-choice-hill-climbing swap function"
   ]
  },
  {
   "cell_type": "code",
   "execution_count": 187,
   "metadata": {
    "collapsed": true
   },
   "outputs": [],
   "source": [
    "def fcSwap(array):\n",
    "    best_array = array   \n",
    "    for i in range(len(best_array)):\n",
    "        dummy_array = np.copy(best_array)\n",
    "        dummy_var = dummy_array[i]\n",
    "        if(i < (len(best_array)-1)): \n",
    "            dummy_array[i] = dummy_array[i+1]\n",
    "            dummy_array[i+1] = dummy_var\n",
    "        else:\n",
    "            dummy_array[i] = dummy_array[i-len(best_array)]\n",
    "            dummy_array[i-len(best_array)] = dummy_var\n",
    "        \n",
    "        \n",
    "        if check_feasibility(dummy_array, knapsack) == True:\n",
    "            if getValuefromArray(dummy_array, knapsack) > getValuefromArray(best_array, knapsack):\n",
    "                best_array = dummy_array\n",
    "                break\n",
    "    return best_array"
   ]
  },
  {
   "cell_type": "markdown",
   "metadata": {},
   "source": [
    "### Hill-climbing transposition function"
   ]
  },
  {
   "cell_type": "code",
   "execution_count": 188,
   "metadata": {},
   "outputs": [],
   "source": [
    "def transp(array):  \n",
    "    best_array = array   \n",
    "    for i in range(len(best_array)):\n",
    "       \n",
    "            for j in range(len(best_array)):\n",
    "              \n",
    "                dummy_array = np.copy(best_array)\n",
    "                dummy_var = dummy_array[i]\n",
    "                dummy_array[i] = dummy_array[j]\n",
    "                dummy_array[j] = dummy_var\n",
    "\n",
    "                if check_feasibility(dummy_array, knapsack) == True:\n",
    "                    if getValuefromArray(dummy_array, knapsack) > getValuefromArray(best_array, knapsack):\n",
    "                        best_array = dummy_array\n",
    "                \n",
    "    return best_array"
   ]
  },
  {
   "cell_type": "markdown",
   "metadata": {},
   "source": [
    "### First-choice-hill-climbing transposition function"
   ]
  },
  {
   "cell_type": "code",
   "execution_count": 189,
   "metadata": {
    "collapsed": true
   },
   "outputs": [],
   "source": [
    "def transp(array):  \n",
    "    best_array = array   \n",
    "    for i in range(len(best_array)):\n",
    "       \n",
    "            for j in range(len(best_array)):\n",
    "              \n",
    "                dummy_array = np.copy(best_array)\n",
    "                dummy_var = dummy_array[i]\n",
    "                dummy_array[i] = dummy_array[j]\n",
    "                dummy_array[j] = dummy_var\n",
    "\n",
    "                if check_feasibility(dummy_array, knapsack) == True:\n",
    "                    if getValuefromArray(dummy_array, knapsack) > getValuefromArray(best_array, knapsack):\n",
    "                        best_array = dummy_array\n",
    "                        break\n",
    "                \n",
    "    return best_array"
   ]
  },
  {
   "cell_type": "markdown",
   "metadata": {},
   "source": [
    "### Get Knapsack Value"
   ]
  },
  {
   "cell_type": "code",
   "execution_count": 190,
   "metadata": {
    "collapsed": true
   },
   "outputs": [],
   "source": [
    "def getValuefromArray(array, knapsack): \n",
    "    array_value = 0\n",
    "    for i in range(len(knapsack)):\n",
    "        knapsack_value = knapsack[i]\n",
    "        dummy = array[i]*knapsack_value[1]\n",
    "        array_value = array_value + dummy\n",
    "    \n",
    "    return array_value"
   ]
  },
  {
   "cell_type": "code",
   "execution_count": 191,
   "metadata": {},
   "outputs": [
    {
     "name": "stdout",
     "output_type": "stream",
     "text": [
      "[1 0 1 1 0]\n",
      "1\n"
     ]
    },
    {
     "data": {
      "text/plain": [
       "12000"
      ]
     },
     "execution_count": 191,
     "metadata": {},
     "output_type": "execute_result"
    }
   ],
   "source": [
    "# checking if function works\n",
    "knapsack = {0: (1, 5000), 1: (10, 1000), 2: (100, 2000), 3: (200, 5000), 4: (300, 4000)}\n",
    "test = knapsack[0]\n",
    "test[1]\n",
    "array = np.random.randint(2, size=5)\n",
    "print(array)\n",
    "print(array[0])\n",
    "getValuefromArray(array, knapsack)"
   ]
  },
  {
   "cell_type": "markdown",
   "metadata": {},
   "source": [
    "### Get Knapsack Weight"
   ]
  },
  {
   "cell_type": "code",
   "execution_count": 192,
   "metadata": {
    "collapsed": true
   },
   "outputs": [],
   "source": [
    "def getWeightfromArray(array, knapsack):\n",
    "    array_weight = 0\n",
    "    for i in range(len(knapsack)):\n",
    "        knapsack_weight = knapsack[i]\n",
    "        dummy = array[i]*knapsack_weight[0]\n",
    "        array_weight = array_weight + dummy\n",
    "    return array_weight"
   ]
  },
  {
   "cell_type": "markdown",
   "metadata": {},
   "source": [
    "# Action"
   ]
  },
  {
   "cell_type": "code",
   "execution_count": 205,
   "metadata": {},
   "outputs": [
    {
     "name": "stdout",
     "output_type": "stream",
     "text": [
      "[1 1 0 0 1]\n",
      "1\n",
      "2\n",
      "3\n",
      "[1 0 1 1 0]\n",
      "12000\n",
      "301\n",
      "3\n",
      "0:00:00.015625\n"
     ]
    }
   ],
   "source": [
    "\n",
    "feasible = False\n",
    "converged = False\n",
    "count = 0\n",
    "start = datetime.now()\n",
    "while(not feasible):\n",
    "    array = np.random.randint(2, size=5)\n",
    "    feasible = check_feasibility(array, knapsack)\n",
    "print(array)\n",
    "while(not converged):   \n",
    "    count += 1\n",
    "    print(count)\n",
    "    best_array = transp(array)\n",
    "    converged = getValuefromArray(best_array, knapsack) <= getValuefromArray(array, knapsack)\n",
    "    array = best_array\n",
    "    \n",
    "\n",
    "print(array)\n",
    "print(getValuefromArray(array, knapsack))\n",
    "print(getWeightfromArray(array, knapsack))\n",
    "print(count)\n",
    "print(datetime.now() - start)\n"
   ]
  },
  {
   "cell_type": "markdown",
   "metadata": {},
   "source": [
    "# Test"
   ]
  },
  {
   "cell_type": "code",
   "execution_count": 85,
   "metadata": {
    "collapsed": true
   },
   "outputs": [],
   "source": [
    "def swaptest(array):  \n",
    "    best_array = array   \n",
    "    for i in range(len(best_array)-1):\n",
    "        \n",
    "        dummy_array = np.copy(best_array)\n",
    "        dummy_var = dummy_array[i]\n",
    "        print(dummy_var)\n",
    "        dummy_array[i] = dummy_array[i+1]\n",
    "        print(dummy_array[i])\n",
    "        dummy_array[i+1] = dummy_var\n",
    "        print(dummy_array[i+1])\n",
    "        #print(\"dummy array before feasibility\")\n",
    "        #print(dummy_array)\n",
    "        if check_feasibility(dummy_array, knapsack):\n",
    "            print(\"dummy\")\n",
    "            print(dummy_array)\n",
    "            print(\"dummy array after feasibility check\")\n",
    "            print(getValuefromArray(dummy_array,knapsack))\n",
    "            print(\"best array after feasibility check\")\n",
    "            print(getValuefromArray(best_array,knapsack))\n",
    "            print(\"best\")\n",
    "            print(best_array)\n",
    "            if getValuefromArray(dummy_array, knapsack) > getValuefromArray(best_array, knapsack):\n",
    "                best_array = dummy_array\n",
    "                print(\"test\")\n",
    "                \n",
    "    return best_array"
   ]
  },
  {
   "cell_type": "code",
   "execution_count": 6,
   "metadata": {},
   "outputs": [
    {
     "name": "stdout",
     "output_type": "stream",
     "text": [
      "[2 0 0 0 0]\n",
      "[2 0 0 0 0]\n",
      "[1 0 0 0 0]\n"
     ]
    }
   ],
   "source": [
    "arraytest1 = np.random.randint(2, size=5)\n",
    "arraytest2 = arraytest1\n",
    "arraytest3 = np.copy(arraytest1)\n",
    "arraytest1[0] = 2\n",
    "print(arraytest1)\n",
    "print(arraytest2)\n",
    "print(arraytest3)"
   ]
  },
  {
   "cell_type": "code",
   "execution_count": null,
   "metadata": {
    "collapsed": true
   },
   "outputs": [],
   "source": []
  }
 ],
 "metadata": {
  "kernelspec": {
   "display_name": "Python 3",
   "language": "python",
   "name": "python3"
  },
  "language_info": {
   "codemirror_mode": {
    "name": "ipython",
    "version": 3
   },
   "file_extension": ".py",
   "mimetype": "text/x-python",
   "name": "python",
   "nbconvert_exporter": "python",
   "pygments_lexer": "ipython3",
   "version": "3.6.3"
  }
 },
 "nbformat": 4,
 "nbformat_minor": 2
}
