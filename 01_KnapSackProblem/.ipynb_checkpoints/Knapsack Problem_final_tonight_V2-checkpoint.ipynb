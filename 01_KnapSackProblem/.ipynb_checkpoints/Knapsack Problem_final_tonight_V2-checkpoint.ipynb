{
 "cells": [
  {
   "cell_type": "code",
   "execution_count": 1,
   "metadata": {
    "collapsed": true
   },
   "outputs": [],
   "source": [
    "import numpy as np\n",
    "import matplotlib.pyplot as plt\n",
    "from datetime import datetime"
   ]
  },
  {
   "cell_type": "code",
   "execution_count": 13,
   "metadata": {
    "collapsed": true
   },
   "outputs": [],
   "source": [
    "knapsack = {0: (1, 5000), 1: (10, 1000), 2: (100, 2000), 3: (200, 5000), 4: (300, 4000)}\n",
    "weight_limit = 400\n",
    "array_weight = 0"
   ]
  },
  {
   "cell_type": "code",
   "execution_count": 31,
   "metadata": {
    "collapsed": true
   },
   "outputs": [],
   "source": [
    "knapsack = {0: (1, 5000), 1: (1000, 1000), 2: (100, 2000), 3: (200, 500), 4: (300, 10000), 5: (700, 400), 6: (50, 500), 7: (100,1500), 8: (10,3500)}\n",
    "weight_limit = 5000\n",
    "array_weight = 0"
   ]
  },
  {
   "cell_type": "code",
   "execution_count": 25,
   "metadata": {
    "collapsed": true
   },
   "outputs": [],
   "source": [
    "knapsack = {0: (100, 100), 1: (100, 200), 2: (100, 150), 3: (100, 500)}\n",
    "weight_limit = 400\n",
    "array_weight = 0"
   ]
  },
  {
   "cell_type": "markdown",
   "metadata": {},
   "source": [
    "# Functions"
   ]
  },
  {
   "cell_type": "markdown",
   "metadata": {},
   "source": [
    "### Check if random array is smaller than weight = feasability"
   ]
  },
  {
   "cell_type": "code",
   "execution_count": 4,
   "metadata": {
    "collapsed": true
   },
   "outputs": [],
   "source": [
    "def check_feasibility(array, knapsack):\n",
    "    array_weight = 0\n",
    "    for i in range(len(knapsack)):\n",
    "        knapsack_weight = knapsack[i]\n",
    "        dummy = array[i]*knapsack_weight[0]\n",
    "        array_weight = array_weight + dummy\n",
    "    \n",
    "    feasible = (weight_limit >= array_weight) and array_weight > 0\n",
    "    return feasible"
   ]
  },
  {
   "cell_type": "markdown",
   "metadata": {},
   "source": [
    "### Hill-climbing swap function"
   ]
  },
  {
   "cell_type": "code",
   "execution_count": 5,
   "metadata": {
    "collapsed": true
   },
   "outputs": [],
   "source": [
    "def swap(array):  \n",
    "    best_array = array   \n",
    "\n",
    "    for i in range(len(best_array)):\n",
    "        dummy_array = np.copy(array)\n",
    "        dummy_var = dummy_array[i]\n",
    "        if(i < (len(best_array)-1)):\n",
    "\n",
    "            dummy_array[i] = dummy_array[i+1]\n",
    "            dummy_array[i+1] = dummy_var\n",
    "            \n",
    "        else:\n",
    "            dummy_array[i] = dummy_array[i-len(array)+1]\n",
    "            dummy_array[i-len(array)+1] = dummy_var\n",
    "       \n",
    "        if check_feasibility(dummy_array, knapsack) == True:\n",
    "            if getValuefromArray(dummy_array, knapsack) > getValuefromArray(best_array, knapsack):\n",
    "                best_array = dummy_array\n",
    "    return best_array"
   ]
  },
  {
   "cell_type": "markdown",
   "metadata": {},
   "source": [
    "### First-choice-hill-climbing swap function"
   ]
  },
  {
   "cell_type": "code",
   "execution_count": 6,
   "metadata": {
    "collapsed": true
   },
   "outputs": [],
   "source": [
    "def fcSwap(array):  \n",
    "    best_array = array   \n",
    "\n",
    "    for i in range(len(best_array)):\n",
    "        dummy_array = np.copy(array)\n",
    "        dummy_var = dummy_array[i]\n",
    "        if(i < (len(best_array)-1)):\n",
    "\n",
    "            dummy_array[i] = dummy_array[i+1]\n",
    "            dummy_array[i+1] = dummy_var\n",
    "            \n",
    "        else:\n",
    "            dummy_array[i] = dummy_array[i-len(array)+1]\n",
    "            dummy_array[i-len(array)+1] = dummy_var\n",
    "       \n",
    "        if check_feasibility(dummy_array, knapsack) == True:\n",
    "            if getValuefromArray(dummy_array, knapsack) > getValuefromArray(best_array, knapsack):\n",
    "                best_array = dummy_array\n",
    "                break\n",
    "    return best_array"
   ]
  },
  {
   "cell_type": "markdown",
   "metadata": {},
   "source": [
    "### Hill-climbing transposition function"
   ]
  },
  {
   "cell_type": "code",
   "execution_count": 7,
   "metadata": {
    "collapsed": true
   },
   "outputs": [],
   "source": [
    "def transp(array):  \n",
    "    best_array = array   \n",
    "    for i in range(len(best_array)):\n",
    "       \n",
    "        \n",
    "            for j in range(len(best_array)):              \n",
    "                dummy_array = np.copy(array)\n",
    "                dummy_var = dummy_array[i]\n",
    "                dummy_array[i] = dummy_array[j]\n",
    "                dummy_array[j] = dummy_var\n",
    "\n",
    "                if check_feasibility(dummy_array, knapsack) == True:\n",
    "                    if getValuefromArray(dummy_array, knapsack) > getValuefromArray(best_array, knapsack):\n",
    "                        best_array = dummy_array\n",
    "    return best_array"
   ]
  },
  {
   "cell_type": "markdown",
   "metadata": {},
   "source": [
    "### First-choice-hill-climbing transposition function"
   ]
  },
  {
   "cell_type": "code",
   "execution_count": 8,
   "metadata": {
    "collapsed": true
   },
   "outputs": [],
   "source": [
    "def fcTransp(array):  \n",
    "    best_array = array   \n",
    "    for i in range(len(best_array)):\n",
    "            flag=0\n",
    "       \n",
    "            for j in range(len(best_array)):\n",
    "                \n",
    "                dummy_array = np.copy(array)\n",
    "                dummy_var = dummy_array[i]\n",
    "                dummy_array[i] = dummy_array[j]\n",
    "                dummy_array[j] = dummy_var\n",
    "\n",
    "                if check_feasibility(dummy_array, knapsack) == True:\n",
    "                    if getValuefromArray(dummy_array, knapsack) > getValuefromArray(best_array, knapsack):\n",
    "                        best_array = dummy_array\n",
    "                        flag = 1\n",
    "                        break\n",
    "            if flag == 1:\n",
    "                break\n",
    "            \n",
    "    return best_array"
   ]
  },
  {
   "cell_type": "markdown",
   "metadata": {},
   "source": [
    "### Get Knapsack Value"
   ]
  },
  {
   "cell_type": "code",
   "execution_count": 9,
   "metadata": {
    "collapsed": true
   },
   "outputs": [],
   "source": [
    "def getValuefromArray(array, knapsack): \n",
    "    array_value = 0\n",
    "    for i in range(len(knapsack)):\n",
    "        knapsack_value = knapsack[i]\n",
    "        dummy = array[i]*knapsack_value[1]\n",
    "        array_value = array_value + dummy\n",
    "    \n",
    "    return array_value"
   ]
  },
  {
   "cell_type": "markdown",
   "metadata": {},
   "source": [
    "### Get Knapsack Weight"
   ]
  },
  {
   "cell_type": "code",
   "execution_count": 10,
   "metadata": {
    "collapsed": true
   },
   "outputs": [],
   "source": [
    "def getWeightfromArray(array, knapsack):\n",
    "    array_weight = 0\n",
    "    for i in range(len(knapsack)):\n",
    "        knapsack_weight = knapsack[i]\n",
    "        dummy = array[i]*knapsack_weight[0]\n",
    "        array_weight = array_weight + dummy\n",
    "    return array_weight"
   ]
  },
  {
   "cell_type": "markdown",
   "metadata": {},
   "source": [
    "# BoxPlot related code"
   ]
  },
  {
   "cell_type": "code",
   "execution_count": 32,
   "metadata": {},
   "outputs": [
    {
     "name": "stdout",
     "output_type": "stream",
     "text": [
      "100 Runs:\n",
      "Total Time 1: 0:00:00\n",
      "Total Time 2: 0:00:00\n",
      "Total Time 3: 0:00:00\n",
      "Total Time 4: 0:00:00\n",
      "Average Time: 0:00:01.343888\n",
      "Median values: 18000.0\n",
      "Median values: 15950.0\n",
      "Median values: 18500.0\n",
      "Median values: 15950.0\n",
      "Count1 9568\n",
      "Number of elements in Weight Array_swap: 100\n",
      "Value Array_swap: [8500, 22500, 11500, 12500, 17500, 17000, 17400, 10500, 14500, 22900, 19500, 22000, 15000, 20900, 17000, 15500, 18500, 18000, 18500, 17500, 16500, 18500, 11000, 19400, 21000, 20000, 20500, 22000, 10500, 22400, 17400, 18500, 18500, 18500, 22000, 19500, 12500, 22500, 17000, 18500, 15000, 15000, 13900, 20500, 15500, 22900, 19000, 21500, 16500, 19400, 13000, 20500, 16000, 18000, 22900, 18000, 19000, 16500, 14000, 17000, 21500, 21000, 20500, 15000, 15500, 18000, 24400, 14000, 23500, 16000, 21000, 21000, 12500, 18900, 19400, 23000, 17000, 17000, 12000, 13000, 19500, 21500, 18500, 24400, 15400, 9500, 14000, 14000, 22900, 11000, 21500, 16900, 15900, 5500, 11500, 23900, 17000, 15000, 20500, 9000]\n",
      "Count2 9568\n",
      "Number of elements in Weight Array_fcswap: 100\n",
      "Value Array_fcSwap: [8500, 22500, 11500, 7000, 17500, 11400, 17400, 10500, 6400, 22900, 10900, 22000, 9500, 19000, 11500, 15500, 18500, 17900, 18500, 17500, 16400, 13000, 11000, 19400, 21000, 20000, 20500, 21500, 2400, 21900, 17400, 18500, 12900, 18500, 22000, 10900, 12500, 22500, 8900, 13000, 9500, 15000, 12000, 20500, 15500, 22900, 19000, 21000, 10900, 19400, 13000, 20500, 7400, 12400, 22900, 17900, 19000, 16500, 6000, 17000, 13000, 21000, 20500, 9400, 9900, 18000, 24400, 14000, 23500, 16000, 21000, 12500, 12500, 18900, 19400, 23000, 8900, 11400, 12000, 12900, 10900, 21500, 12900, 24400, 14000, 8500, 14000, 14000, 22900, 5500, 12900, 16900, 15900, 5500, 5900, 23900, 17000, 9400, 20500, 9000]\n",
      "Count3 9950\n",
      "Number of elements in Weight Array_transp: 100\n",
      "Value Array_transp: [15000, 23000, 18500, 12500, 17500, 17000, 19000, 18500, 14500, 23000, 19500, 23000, 15000, 22000, 17000, 15500, 18500, 18000, 18500, 20500, 16500, 18500, 19500, 20000, 21000, 20000, 20500, 22000, 10500, 22500, 20500, 18500, 18500, 18500, 23000, 19500, 18000, 22500, 17000, 18500, 15000, 15000, 16500, 21000, 15500, 23500, 22000, 21500, 16500, 21500, 21500, 20500, 16000, 18000, 23000, 18000, 19000, 18500, 14000, 18500, 21500, 21500, 20500, 15000, 15500, 18500, 24400, 14000, 23500, 18500, 22000, 21000, 15500, 19500, 20000, 23500, 17000, 17000, 12000, 13000, 19500, 21500, 18500, 24400, 18500, 16500, 17500, 17500, 24000, 11000, 21500, 19000, 19000, 12000, 11500, 24000, 18500, 15000, 20500, 17000]\n",
      "Count4 9950\n",
      "Number of elements in Weight Array_fctransp: 100\n",
      "Value Array_fcTransp: [13500, 23000, 14500, 7000, 13000, 11400, 16400, 15500, 9400, 21900, 14900, 22400, 9500, 19500, 11500, 8900, 14000, 11400, 18500, 18000, 9900, 13000, 15000, 19400, 20000, 15400, 15900, 21500, 5400, 21900, 20500, 18500, 12900, 13900, 22400, 14900, 12500, 21500, 12400, 13000, 9500, 15000, 16500, 20500, 10900, 22900, 19400, 21000, 10900, 18900, 17000, 20500, 11400, 12400, 21900, 11400, 14400, 18500, 9000, 18500, 17000, 21000, 20500, 9400, 9900, 18000, 24400, 7500, 23000, 17000, 19500, 16500, 15500, 18900, 19400, 23400, 12400, 11400, 5400, 6400, 14900, 17000, 12900, 24400, 18500, 12500, 16000, 16000, 23400, 5500, 16900, 16500, 18900, 6500, 5900, 24000, 18500, 9400, 20500, 10500]\n",
      "Time Array: []\n"
     ]
    }
   ],
   "source": [
    "totalCount = 0\n",
    "totalValue = 0\n",
    "totalWeight = 0\n",
    "\n",
    "wt_array = []\n",
    "wt_array_swap = []\n",
    "wt_array_fcswap = []\n",
    "wt_array_transp = []\n",
    "wt_array_fctransp = []\n",
    "time_array = []\n",
    "count1 = 0\n",
    "totalcount1 = 0\n",
    "count2 = 0\n",
    "totalcount2 = 0\n",
    "count3 = 0\n",
    "totalcount3 = 0\n",
    "count4 = 0\n",
    "totalcount4 = 0\n",
    "\n",
    "start = datetime.now()\n",
    "\n",
    "for x in range(100):\n",
    "    feasible = False\n",
    "    converged = False\n",
    "    converged_fcswap = False\n",
    "    converged_transp = False\n",
    "    converged_fctransp = False\n",
    "    \n",
    "    \n",
    "    #start = datetime.now()\n",
    "    \n",
    "    while(not feasible):\n",
    "        array = np.random.randint(2, size=9)\n",
    "        array_swap = np.copy(array)\n",
    "        array_fcswap = np.copy(array)\n",
    "        array_transp = np.copy(array)\n",
    "        array_fctransp = np.copy(array)\n",
    "        feasible = check_feasibility(array, knapsack)\n",
    "\n",
    "    trarry = array_swap\n",
    "    fctrarry = array_fcswap\n",
    "    \n",
    "    start1 = datetime.now()\n",
    "    \n",
    "    while(not converged):   \n",
    "            count1 += 1\n",
    "            best_array_swap = swap(array_swap)\n",
    "            converged = getValuefromArray(best_array_swap, knapsack) <= getValuefromArray(trarry, knapsack)\n",
    "            trarry = np.copy(best_array_swap)\n",
    "\n",
    "    wt_array_swap.append(getValuefromArray(trarry, knapsack))    \n",
    "    totalTime1 = datetime.now() - start1\n",
    "\n",
    "    \n",
    "    start2 = datetime.now()\n",
    "    \n",
    "    while(not converged_fcswap):\n",
    "        count2 += 1\n",
    "        best_array_fcswap = fcSwap(array_fcswap)\n",
    "        converged_fcswap = getValuefromArray(best_array_fcswap, knapsack) <= getValuefromArray(fctrarry, knapsack)\n",
    "        fctrarry = np.copy(best_array_fcswap)\n",
    "        \n",
    "    wt_array_fcswap.append(getValuefromArray(fctrarry, knapsack)) \n",
    "    totalTime2 = datetime.now() - start2      \n",
    "\n",
    "    start3 = datetime.now()\n",
    "    \n",
    "    while(not converged_transp):\n",
    "        count3 += 1\n",
    "        best_array_transp = transp(array_swap)\n",
    "        converged_transp = getValuefromArray(best_array_transp, knapsack) <= getValuefromArray(array_transp, knapsack)\n",
    "        array_transp = np.copy(best_array_transp)\n",
    "\n",
    "    wt_array_transp.append(getValuefromArray(array_transp, knapsack)) \n",
    "    totalTime3 = datetime.now() - start3\n",
    "    \n",
    "    start4 = datetime.now()\n",
    "    \n",
    "    while(not converged_fctransp): \n",
    "        count4 += 1\n",
    "        best_array_fctransp = fcTransp(array_swap)\n",
    "        converged_fctransp = getValuefromArray(best_array_fctransp, knapsack) <= getValuefromArray(array_fctransp, knapsack)\n",
    "        array_fctransp = np.copy(best_array_fctransp)\n",
    "\n",
    "    wt_array_fctransp.append(getValuefromArray(array_fctransp, knapsack))  \n",
    "    totalTime4 = datetime.now() - start4\n",
    "    \n",
    "    totalcount1 += count1\n",
    "    totalcount2 += count2\n",
    "    totalcount3 += count3\n",
    "    totalcount4 += count4\n",
    "    totalValue += getValuefromArray(array, knapsack)\n",
    "    totalWeight += getWeightfromArray(array, knapsack)\n",
    "totalTime = datetime.now() - start\n",
    "    \n",
    "data_to_plot = [wt_array_swap, wt_array_fcswap, wt_array_transp, wt_array_fctransp ]\n",
    "\n",
    "\n",
    "print('100 Runs:')\n",
    "print('Total Time 1:',totalTime1)\n",
    "print('Total Time 2:',totalTime2)\n",
    "print('Total Time 3:',totalTime3)\n",
    "print('Total Time 4:',totalTime4)\n",
    "print('Average Time:',totalTime / 1)\n",
    "\n",
    "print('Median values:',np.median(wt_array_swap,axis=0))\n",
    "print('Median values:',np.median(wt_array_fcswap,axis=0))\n",
    "print('Median values:',np.median(wt_array_transp,axis=0))\n",
    "print('Median values:',np.median(wt_array_fctransp,axis=0))\n",
    "\n",
    "print(\"Count1\", totalcount1)\n",
    "print(\"Number of elements in Weight Array_swap:\", len(wt_array_swap))\n",
    "print('Value Array_swap:', wt_array_swap)\n",
    "print(\"Count2\", totalcount2)\n",
    "print(\"Number of elements in Weight Array_fcswap:\", len(wt_array_fcswap))\n",
    "print('Value Array_fcSwap:', wt_array_fcswap)\n",
    "print(\"Count3\", totalcount3)\n",
    "print(\"Number of elements in Weight Array_transp:\", len(wt_array_transp))\n",
    "print('Value Array_transp:', wt_array_transp)\n",
    "print(\"Count4\", totalcount4)\n",
    "print(\"Number of elements in Weight Array_fctransp:\", len(wt_array_fctransp))\n",
    "print('Value Array_fcTransp:', wt_array_fctransp)\n",
    "print('Time Array:', time_array)"
   ]
  },
  {
   "cell_type": "code",
   "execution_count": 33,
   "metadata": {},
   "outputs": [
    {
     "data": {
      "image/png": "[encoded data removed]",
      "text/plain": [
       "<matplotlib.figure.Figure at 0x21671f5ee80>"
      ]
     },
     "metadata": {},
     "output_type": "display_data"
    }
   ],
   "source": [
    "# Create a figure instance\n",
    "fig = plt.figure(1, figsize=(9, 6))\n",
    "\n",
    "# Create an axes instance\n",
    "ax = fig.add_subplot(111)\n",
    "\n",
    "# Create the boxplot\n",
    "bp = ax.boxplot(data_to_plot)\n",
    "\n",
    "## add patch_artist=True option to ax.boxplot() \n",
    "## to get fill color\n",
    "bp = ax.boxplot(data_to_plot, patch_artist=True)\n",
    "\n",
    "## change outline color, fill color and linewidth of the boxes\n",
    "for box in bp['boxes']:\n",
    "    # change outline color\n",
    "    box.set( color='#7570b3', linewidth=2)\n",
    "    # change fill color\n",
    "    box.set( facecolor = '#1b9e77' )\n",
    "\n",
    "## change color and linewidth of the whiskers\n",
    "for whisker in bp['whiskers']:\n",
    "    whisker.set(color='#7570b3', linewidth=2)\n",
    "\n",
    "## change color and linewidth of the caps\n",
    "for cap in bp['caps']:\n",
    "    cap.set(color='#7570b3', linewidth=2)\n",
    "\n",
    "## change color and linewidth of the medians\n",
    "for median in bp['medians']:\n",
    "    median.set(color='#b2df8a', linewidth=2)\n",
    "\n",
    "## change the style of fliers and their fill\n",
    "for flier in bp['fliers']:\n",
    "    flier.set(marker='o', color='#e7298a', alpha=0.5)\n",
    "    \n",
    "## Custom x-axis labels\n",
    "ax.set_xticklabels(['HC_Swap', 'FCHC_Swap', 'HC_Transp', 'FCHC_Transp'])\n",
    "\n",
    "## Remove top axes and right axes ticks\n",
    "ax.get_xaxis().tick_bottom()\n",
    "ax.get_yaxis().tick_left()\n",
    "\n",
    "# Save the figure\n",
    "fig.savefig('fig1.png', bbox_inches='tight')\n",
    "plt.show()"
   ]
  },
  {
   "cell_type": "code",
   "execution_count": null,
   "metadata": {
    "collapsed": true
   },
   "outputs": [],
   "source": []
  }
 ],
 "metadata": {
  "kernelspec": {
   "display_name": "Python 3",
   "language": "python",
   "name": "python3"
  },
  "language_info": {
   "codemirror_mode": {
    "name": "ipython",
    "version": 3
   },
   "file_extension": ".py",
   "mimetype": "text/x-python",
   "name": "python",
   "nbconvert_exporter": "python",
   "pygments_lexer": "ipython3",
   "version": "3.6.3"
  }
 },
 "nbformat": 4,
 "nbformat_minor": 2
}
