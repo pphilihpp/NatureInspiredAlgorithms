{
 "cells": [
  {
   "cell_type": "code",
   "execution_count": 77,
   "metadata": {},
   "outputs": [],
   "source": [
    "import numpy as np"
   ]
  },
  {
   "cell_type": "code",
   "execution_count": 78,
   "metadata": {},
   "outputs": [],
   "source": [
    "knapsack = {0: (1, 5000), 1: (10, 1000), 2: (100, 2000), 3: (200, 5000), 4: (300, 4000)}\n",
    "weight_limit = 400\n",
    "array_weight = 0\n",
    "# isinstance(knapsack[0], tuple)\n",
    "# len(knapsack)"
   ]
  },
  {
   "cell_type": "code",
   "execution_count": 79,
   "metadata": {},
   "outputs": [
    {
     "data": {
      "text/plain": [
       "array([1, 0, 1, 0, 0])"
      ]
     },
     "execution_count": 79,
     "metadata": {},
     "output_type": "execute_result"
    }
   ],
   "source": [
    "array = np.random.randint(2, size=5)\n",
    "array"
   ]
  },
  {
   "cell_type": "markdown",
   "metadata": {},
   "source": [
    "# Functions"
   ]
  },
  {
   "cell_type": "markdown",
   "metadata": {},
   "source": [
    "### Check if random array is smaller than weight = feasability"
   ]
  },
  {
   "cell_type": "code",
   "execution_count": 80,
   "metadata": {},
   "outputs": [],
   "source": [
    "def check_feasibility(array, knapsack):\n",
    "    array_weight = 0\n",
    "    for i in range(len(knapsack)):\n",
    "        knapsack_weight = knapsack[i]\n",
    "        dummy = array[i]*knapsack_weight[0]\n",
    "        array_weight = array_weight + dummy\n",
    "    \n",
    "    feasible = weight_limit >= array_weight\n",
    "    return feasible"
   ]
  },
  {
   "cell_type": "markdown",
   "metadata": {},
   "source": [
    "### Hill-climbing swap function"
   ]
  },
  {
   "cell_type": "code",
   "execution_count": 81,
   "metadata": {},
   "outputs": [],
   "source": [
    "def swap(array):  \n",
    "    best_array = array   \n",
    "    for i in range(len(array)-1):\n",
    "        dummy_array = array\n",
    "        dummy_var = dummy_array[i]\n",
    "        dummy_array[i] = dummy_array[i+1]\n",
    "        dummy_array[i+1] = dummy_var\n",
    "        \n",
    "        if check_feasibility(dummy_array, knapsack) == True:\n",
    "            if getValuefromArray(dummy_array, knapsack) > getValuefromArray(best_array, knapsack):\n",
    "                best_array = dummy_array\n",
    "                print(\"test\")\n",
    "    return best_array"
   ]
  },
  {
   "cell_type": "markdown",
   "metadata": {},
   "source": [
    "### First-choice-hill-climbing swap function"
   ]
  },
  {
   "cell_type": "code",
   "execution_count": 82,
   "metadata": {},
   "outputs": [],
   "source": [
    "def fcSwap(array):\n",
    "    best_array = array   \n",
    "    for i in range(len(array)):\n",
    "        dummy_array = array\n",
    "        dummy_var = dummy_array[i]\n",
    "        dummy_array[i] = dummy_array[i+1]\n",
    "        dummy_array[i+1] = dummy_var\n",
    "    \n",
    "        if check_feasibility(dummy_array, knapsack):\n",
    "            if getValuefromArray(dummy_array, knapsack) > getValuefromArray(best_array, knapsack):\n",
    "                best_array = dummy_array\n",
    "                break\n",
    "    return best_array"
   ]
  },
  {
   "cell_type": "markdown",
   "metadata": {},
   "source": [
    "### Get Knapsack Value"
   ]
  },
  {
   "cell_type": "code",
   "execution_count": 83,
   "metadata": {},
   "outputs": [],
   "source": [
    "def getValuefromArray(array, knapsack): \n",
    "    array_value = 0\n",
    "    for i in range(len(knapsack)):\n",
    "        knapsack_value = knapsack[i]\n",
    "        dummy = array[i]*knapsack_value[1]\n",
    "        array_value = array_value + dummy\n",
    "    \n",
    "    return array_value"
   ]
  },
  {
   "cell_type": "code",
   "execution_count": 84,
   "metadata": {},
   "outputs": [
    {
     "name": "stdout",
     "output_type": "stream",
     "text": [
      "[0 1 1 0 0]\n",
      "0\n"
     ]
    },
    {
     "data": {
      "text/plain": [
       "3000"
      ]
     },
     "execution_count": 84,
     "metadata": {},
     "output_type": "execute_result"
    }
   ],
   "source": [
    "# checking if function works\n",
    "knapsack = {0: (1, 5000), 1: (10, 1000), 2: (100, 2000), 3: (200, 5000), 4: (300, 4000)}\n",
    "test = knapsack[0]\n",
    "test[1]\n",
    "array = np.random.randint(2, size=5)\n",
    "print(array)\n",
    "print(array[0])\n",
    "getValuefromArray(array, knapsack)"
   ]
  },
  {
   "cell_type": "markdown",
   "metadata": {},
   "source": [
    "### Get Knapsack Weight"
   ]
  },
  {
   "cell_type": "code",
   "execution_count": 85,
   "metadata": {},
   "outputs": [],
   "source": [
    "def getWeightfromArray(array, knapsack):\n",
    "    array_weight = 0\n",
    "    for i in range(len(knapsack)):\n",
    "        knapsack_weight = knapsack[i]\n",
    "        dummy = array[i]*knapsack_weight[0]\n",
    "        array_weight = array_weight + dummy\n",
    "    return array_weight"
   ]
  },
  {
   "cell_type": "markdown",
   "metadata": {},
   "source": [
    "# Action"
   ]
  },
  {
   "cell_type": "code",
   "execution_count": 103,
   "metadata": {},
   "outputs": [
    {
     "name": "stdout",
     "output_type": "stream",
     "text": [
      "[0 0 1 0 1]\n",
      "0\n",
      "0\n",
      "0\n",
      "dummy\n",
      "[0 0 1 0 1]\n",
      "dummy array after feasibility check\n",
      "6000\n",
      "best array after feasibility check\n",
      "6000\n",
      "best\n",
      "[0 0 1 0 1]\n",
      "0\n",
      "1\n",
      "0\n",
      "dummy\n",
      "[0 1 0 0 1]\n",
      "dummy array after feasibility check\n",
      "5000\n",
      "best array after feasibility check\n",
      "5000\n",
      "best\n",
      "[0 1 0 0 1]\n",
      "0\n",
      "0\n",
      "0\n",
      "dummy\n",
      "[0 1 0 0 1]\n",
      "dummy array after feasibility check\n",
      "5000\n",
      "best array after feasibility check\n",
      "5000\n",
      "best\n",
      "[0 1 0 0 1]\n",
      "0\n",
      "1\n",
      "0\n",
      "dummy\n",
      "[0 1 0 1 0]\n",
      "dummy array after feasibility check\n",
      "6000\n",
      "best array after feasibility check\n",
      "6000\n",
      "best\n",
      "[0 1 0 1 0]\n",
      "[0 1 0 1 0]\n",
      "6000\n",
      "210\n"
     ]
    }
   ],
   "source": [
    "feasible = False\n",
    "converged = False\n",
    "while(not feasible):\n",
    "    array = np.random.randint(2, size=5)\n",
    "    feasible = check_feasibility(array, knapsack)\n",
    "print(array)\n",
    "while(not converged):   \n",
    "    best_array = swaptest(array)\n",
    "    converged = getValuefromArray(best_array, knapsack) <= getValuefromArray(array, knapsack)\n",
    "    array = best_array\n",
    "\n",
    "print(array)\n",
    "print(getValuefromArray(array, knapsack))\n",
    "print(getWeightfromArray(array, knapsack))"
   ]
  },
  {
   "cell_type": "code",
   "execution_count": 101,
   "metadata": {},
   "outputs": [],
   "source": [
    "def swaptest(array):  \n",
    "    best_array = array   \n",
    "    for i in range(len(best_array)-1):\n",
    "        \n",
    "        dummy_array = best_array\n",
    "        dummy_var = dummy_array[i]\n",
    "        print(dummy_var)\n",
    "        dummy_array[i] = dummy_array[i+1]\n",
    "        print(dummy_array[i])\n",
    "        dummy_array[i+1] = dummy_var\n",
    "        print(dummy_array[i+1])\n",
    "        #print(\"dummy array before feasibility\")\n",
    "        #print(dummy_array)\n",
    "        if check_feasibility(dummy_array, knapsack):\n",
    "            print(\"dummy\")\n",
    "            print(dummy_array)\n",
    "            print(\"dummy array after feasibility check\")\n",
    "            print(getValuefromArray(dummy_array,knapsack))\n",
    "            print(\"best array after feasibility check\")\n",
    "            print(getValuefromArray(best_array,knapsack))\n",
    "            print(\"best\")\n",
    "            print(best_array)\n",
    "            if getValuefromArray(dummy_array, knapsack) > getValuefromArray(best_array, knapsack):\n",
    "                best_array = dummy_array\n",
    "                print(\"test\")\n",
    "                \n",
    "    return best_array"
   ]
  },
  {
   "cell_type": "code",
   "execution_count": null,
   "metadata": {},
   "outputs": [],
   "source": []
  }
 ],
 "metadata": {
  "kernelspec": {
   "display_name": "Python 3",
   "language": "python",
   "name": "python3"
  },
  "language_info": {
   "codemirror_mode": {
    "name": "ipython",
    "version": 3
   },
   "file_extension": ".py",
   "mimetype": "text/x-python",
   "name": "python",
   "nbconvert_exporter": "python",
   "pygments_lexer": "ipython3",
   "version": "3.6.4"
  }
 },
 "nbformat": 4,
 "nbformat_minor": 2
}
