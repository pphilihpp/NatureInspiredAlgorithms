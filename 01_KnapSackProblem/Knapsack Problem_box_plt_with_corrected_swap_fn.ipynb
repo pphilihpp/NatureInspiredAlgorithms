{
 "cells": [
  {
   "cell_type": "code",
   "execution_count": 1,
   "metadata": {},
   "outputs": [],
   "source": [
    "import numpy as np\n",
    "import matplotlib.pyplot as plt\n",
    "from datetime import datetime"
   ]
  },
  {
   "cell_type": "code",
   "execution_count": 95,
   "metadata": {},
   "outputs": [],
   "source": [
    "knapsack = {0: (1, 5000), 1: (10, 1000), 2: (100, 2000), 3: (200, 5000), 4: (300, 4000)}\n",
    "weight_limit = 400\n",
    "array_weight = 0\n",
    "# isinstance(knapsack[0], tuple)\n",
    "# len(knapsack)"
   ]
  },
  {
   "cell_type": "code",
   "execution_count": 25,
   "metadata": {},
   "outputs": [],
   "source": [
    "knapsack = {0: (1, 5000), 1: (10, 1000), 2: (100, 2000), 3: (200, 5000), 4: (300, 4000), 5: (700, 400), 6: (50, 4500), 7: (100,1500), 8: (10,3500)}\n",
    "weight_limit = 5000\n",
    "array_weight = 0\n",
    "# isinstance(knapsack[0], tuple)\n",
    "# len(knapsack)"
   ]
  },
  {
   "cell_type": "code",
   "execution_count": 120,
   "metadata": {},
   "outputs": [],
   "source": [
    "knapsack = {0: (100, 100), 1: (100, 200), 2: (150, 100), 3: (100, 500)}\n",
    "weight_limit = 400\n",
    "array_weight = 0\n",
    "# isinstance(knapsack[0], tuple)\n",
    "# len(knapsack)"
   ]
  },
  {
   "cell_type": "code",
   "execution_count": 4,
   "metadata": {},
   "outputs": [],
   "source": [
    "array = np.random.randint(2, size=5)\n",
    "array\n",
    "dictanorysize=9"
   ]
  },
  {
   "cell_type": "markdown",
   "metadata": {},
   "source": [
    "# Functions"
   ]
  },
  {
   "cell_type": "markdown",
   "metadata": {},
   "source": [
    "### Check if random array is smaller than weight = feasability"
   ]
  },
  {
   "cell_type": "code",
   "execution_count": 107,
   "metadata": {},
   "outputs": [],
   "source": [
    "def check_feasibility(array, knapsack):\n",
    "    array_weight = 0\n",
    "    for i in range(len(knapsack)):\n",
    "        knapsack_weight = knapsack[i]\n",
    "        dummy = array[i]*knapsack_weight[0]\n",
    "        array_weight = array_weight + dummy\n",
    "    \n",
    "    feasible = (weight_limit >= array_weight) and array_weight > 0\n",
    "    return feasible"
   ]
  },
  {
   "cell_type": "markdown",
   "metadata": {},
   "source": [
    "### Hill-climbing swap function"
   ]
  },
  {
   "cell_type": "code",
   "execution_count": 127,
   "metadata": {},
   "outputs": [],
   "source": [
    "def swap(array):  \n",
    "    best_array = array   \n",
    "\n",
    "    for i in range(len(best_array)):\n",
    "        dummy_array = np.copy(array)\n",
    "        dummy_var = dummy_array[i]\n",
    "        if(i < (len(best_array)-1)):\n",
    "\n",
    "            dummy_array[i] = dummy_array[i+1]\n",
    "            dummy_array[i+1] = dummy_var\n",
    "            \n",
    "        else:\n",
    "            dummy_array[i] = dummy_array[i-len(array)+1]\n",
    "            dummy_array[i-len(array)+1] = dummy_var\n",
    "       \n",
    "        if check_feasibility(dummy_array, knapsack) == True:\n",
    "            if getValuefromArray(dummy_array, knapsack) > getValuefromArray(best_array, knapsack):\n",
    "                best_array = dummy_array\n",
    "    print(\"return from swap fn\")            \n",
    "    return best_array"
   ]
  },
  {
   "cell_type": "markdown",
   "metadata": {},
   "source": [
    "### First-choice-hill-climbing swap function"
   ]
  },
  {
   "cell_type": "code",
   "execution_count": 128,
   "metadata": {},
   "outputs": [],
   "source": [
    "def fcSwap(array):  \n",
    "    best_array = array   \n",
    "\n",
    "    for i in range(len(best_array)):\n",
    "        dummy_array = np.copy(array)\n",
    "        dummy_var = dummy_array[i]\n",
    "        if(i < (len(best_array)-1)):\n",
    "\n",
    "            dummy_array[i] = dummy_array[i+1]\n",
    "            dummy_array[i+1] = dummy_var\n",
    "            \n",
    "        else:\n",
    "            dummy_array[i] = dummy_array[i-len(array)+1]\n",
    "            dummy_array[i-len(array)+1] = dummy_var\n",
    "       \n",
    "        if check_feasibility(dummy_array, knapsack) == True:\n",
    "            if getValuefromArray(dummy_array, knapsack) > getValuefromArray(best_array, knapsack):\n",
    "                best_array = dummy_array\n",
    "                break\n",
    "    print(\"return from fcswap fn\")\n",
    "    return best_array"
   ]
  },
  {
   "cell_type": "markdown",
   "metadata": {},
   "source": [
    "### Hill-climbing transposition function"
   ]
  },
  {
   "cell_type": "code",
   "execution_count": 141,
   "metadata": {},
   "outputs": [],
   "source": [
    "def transp(array):  \n",
    "    best_array = array   \n",
    "    for i in range(len(best_array)):\n",
    "       \n",
    "        \n",
    "            for j in range(len(best_array)):              \n",
    "#             for j in range(len(best_array)):\n",
    "                dummy_array = np.copy(best_array)\n",
    "                dummy_var = dummy_array[i]\n",
    "                dummy_array[i] = dummy_array[j]\n",
    "                dummy_array[j] = dummy_var\n",
    "\n",
    "                if check_feasibility(dummy_array, knapsack) == True:\n",
    "                    if getValuefromArray(dummy_array, knapsack) > getValuefromArray(best_array, knapsack):\n",
    "                        best_array = dummy_array\n",
    "    print(\"return from transp fn\") \n",
    "    return best_array"
   ]
  },
  {
   "cell_type": "markdown",
   "metadata": {},
   "source": [
    "### First-choice-hill-climbing transposition function"
   ]
  },
  {
   "cell_type": "code",
   "execution_count": 142,
   "metadata": {},
   "outputs": [],
   "source": [
    "def fcTransp(array):  \n",
    "    best_array = array   \n",
    "    for i in range(len(best_array)):\n",
    "       \n",
    "            for j in range(len(best_array)):\n",
    "#           for j in range(i+1, len(best_array)):\n",
    "                \n",
    "                dummy_array = np.copy(best_array)\n",
    "                dummy_var = dummy_array[i]\n",
    "                dummy_array[i] = dummy_array[j]\n",
    "                dummy_array[j] = dummy_var\n",
    "\n",
    "                if check_feasibility(dummy_array, knapsack) == True:\n",
    "                    if getValuefromArray(dummy_array, knapsack) > getValuefromArray(best_array, knapsack):\n",
    "                        best_array = dummy_array\n",
    "                        break\n",
    "    print(\"return from fctransp fn\")            \n",
    "    return best_array"
   ]
  },
  {
   "cell_type": "markdown",
   "metadata": {},
   "source": [
    "### Get Knapsack Value"
   ]
  },
  {
   "cell_type": "code",
   "execution_count": 10,
   "metadata": {},
   "outputs": [],
   "source": [
    "def getValuefromArray(array, knapsack): \n",
    "    array_value = 0\n",
    "    for i in range(len(knapsack)):\n",
    "        knapsack_value = knapsack[i]\n",
    "        dummy = array[i]*knapsack_value[1]\n",
    "        array_value = array_value + dummy\n",
    "    \n",
    "    return array_value"
   ]
  },
  {
   "cell_type": "code",
   "execution_count": 11,
   "metadata": {},
   "outputs": [
    {
     "name": "stdout",
     "output_type": "stream",
     "text": [
      "[0 0 1 1 0]\n",
      "0\n"
     ]
    },
    {
     "data": {
      "text/plain": [
       "7000"
      ]
     },
     "execution_count": 11,
     "metadata": {},
     "output_type": "execute_result"
    }
   ],
   "source": [
    "# checking if function works\n",
    "knapsack = {0: (1, 5000), 1: (10, 1000), 2: (100, 2000), 3: (200, 5000), 4: (300, 4000)}\n",
    "test = knapsack[0]\n",
    "test[1]\n",
    "array = np.random.randint(2, size=5)\n",
    "print(array)\n",
    "print(array[0])\n",
    "getValuefromArray(array, knapsack)"
   ]
  },
  {
   "cell_type": "markdown",
   "metadata": {},
   "source": [
    "### Get Knapsack Weight"
   ]
  },
  {
   "cell_type": "code",
   "execution_count": 12,
   "metadata": {},
   "outputs": [],
   "source": [
    "def getWeightfromArray(array, knapsack):\n",
    "    array_weight = 0\n",
    "    for i in range(len(knapsack)):\n",
    "        knapsack_weight = knapsack[i]\n",
    "        dummy = array[i]*knapsack_weight[0]\n",
    "        array_weight = array_weight + dummy\n",
    "    return array_weight"
   ]
  },
  {
   "cell_type": "markdown",
   "metadata": {},
   "source": [
    "# Action"
   ]
  },
  {
   "cell_type": "code",
   "execution_count": 143,
   "metadata": {},
   "outputs": [
    {
     "name": "stdout",
     "output_type": "stream",
     "text": [
      "return from transp fn\n",
      "return from transp fn\n",
      "return from fctransp fn\n",
      "return from fctransp fn\n",
      "trarray\n",
      "[0 1 0 1]\n",
      "0:00:00.007028\n"
     ]
    }
   ],
   "source": [
    "feasible = False\n",
    "converged = False\n",
    "converged_fcSwap = False\n",
    "count = 0\n",
    "start = datetime.now()\n",
    "totalCount = 0\n",
    "totalValue = 0\n",
    "totalWeight = 0\n",
    "totalTime = 0\n",
    "# while(not feasible):\n",
    "#     array = np.random.randint(2, size=9)\n",
    "#     feasible = check_feasibility(array, knapsack)\n",
    "\n",
    "array = [1, 0, 1, 0]\n",
    "\n",
    "# print(array)\n",
    "\n",
    "trarray=array\n",
    "fctrarray=array\n",
    "while(not converged):   \n",
    "    count += 1\n",
    "    best_array = transp(array)\n",
    "    converged = getValuefromArray(best_array, knapsack) <= getValuefromArray(trarray, knapsack)\n",
    "    trarray = best_array\n",
    "\n",
    "while(not converged_fcSwap):   \n",
    "    count += 1\n",
    "    best_array = fcTransp(array)\n",
    "    converged_fcSwap = getValuefromArray(best_array, knapsack) <= getValuefromArray(fctrarray, knapsack)\n",
    "    fctrarray = best_array\n",
    "\n",
    "    \n",
    "    \n",
    "totalCount += count\n",
    "totalValue += getValuefromArray(array, knapsack)\n",
    "totalWeight = getWeightfromArray(array, knapsack)\n",
    "#totalTime += datetime.now() - start\n",
    "# print(array)\n",
    "print(\"trarray\")\n",
    "print(trarray)\n",
    "# print(getValuefromArray(trarray, knapsack))\n",
    "# print(getWeightfromArray(trarray, knapsack))\n",
    "# print(\"fctrarray\")\n",
    "# print(fctrarray)\n",
    "# print(getValuefromArray(fctrarray, knapsack))\n",
    "# print(getWeightfromArray(fctrarray, knapsack))\n",
    "\n",
    "# print(count)\n",
    "print(datetime.now() - start)"
   ]
  },
  {
   "cell_type": "code",
   "execution_count": 124,
   "metadata": {},
   "outputs": [],
   "source": [
    "def swap(array):  \n",
    "    best_array = array   \n",
    "#     print(len((array)))\n",
    "    for i in range(len(best_array)):\n",
    "        dummy_array = np.copy(array)\n",
    "        dummy_var = dummy_array[i]\n",
    "        if(i < (len(best_array)-1)):\n",
    "            print(\"i<max\")\n",
    "            print(i)\n",
    "            dummy_array[i] = dummy_array[i+1]\n",
    "            dummy_array[i+1] = dummy_var\n",
    "            print(\"dummyarray_lt max\")    \n",
    "            print(dummy_array)\n",
    "            \n",
    "        else:\n",
    "            print(\"i=max\")\n",
    "            print(i)\n",
    "            dummy_array[i] = dummy_array[i-len(array)+1]\n",
    "            dummy_array[i-len(array)+1] = dummy_var\n",
    "            print(\"dummyarray_ MAX\")    \n",
    "            print(dummy_array)\n",
    "        \n",
    "        if check_feasibility(dummy_array, knapsack) == True:\n",
    "            if getValuefromArray(dummy_array, knapsack) > getValuefromArray(best_array, knapsack):\n",
    "                best_array = dummy_array\n",
    "                print(\"best array\")\n",
    "                print(best_array)\n",
    "#                 break\n",
    "#         print(\"swap\")\n",
    "#         print(best_array)\n",
    "    return best_array"
   ]
  },
  {
   "cell_type": "markdown",
   "metadata": {},
   "source": [
    "# Test Action Loop 100"
   ]
  },
  {
   "cell_type": "code",
   "execution_count": null,
   "metadata": {},
   "outputs": [],
   "source": [
    "totalCount = 0\n",
    "totalValue = 0\n",
    "totalWeight = 0\n",
    "#totalTime = 0\n",
    "wt_array = []\n",
    "time_array = []\n",
    "\n",
    "for x in range(99):\n",
    "    feasible = False\n",
    "    converged = False\n",
    "    count = 0\n",
    "    start = datetime.now()\n",
    "    while(not feasible):\n",
    "        array = np.random.randint(2, size=dictanorysize)\n",
    "        feasible = check_feasibility(array, knapsack)\n",
    "    #print(array)\n",
    "    while(not converged):   \n",
    "        count += 1\n",
    "        best_array = swap(array)\n",
    "        converged = getValuefromArray(best_array, knapsack) <= getValuefromArray(array, knapsack)\n",
    "        array = best_array\n",
    "\n",
    "    totalCount += count\n",
    "    totalValue += getValuefromArray(array, knapsack)\n",
    "    totalWeight += getWeightfromArray(array, knapsack)\n",
    "    totalTime = datetime.now() - start\n",
    "    \n",
    "    wt_array.append(getValuefromArray(array, knapsack)) \n",
    "    #totalTime = datetime.now() - start\n",
    "    time_array.append(totalTime)\n",
    "    #time_array.append(datetime.now() - start)\n",
    "    \n",
    "    #print(array)\n",
    "    #print(getValuefromArray(array, knapsack))\n",
    "    #print(getWeightfromArray(array, knapsack))\n",
    "    #print(count)\n",
    "    #print(datetime.now() - start)\n",
    "\n",
    "print('100 Runs:')\n",
    "print('Total Count:',totalCount)\n",
    "print('Average Count:',totalCount / 100)\n",
    "print('Total Value:',totalValue)\n",
    "print('Average Value:',totalValue / 100)\n",
    "print('Total Weight:',totalWeight)\n",
    "print('Average Weight:',totalWeight / 100)\n",
    "print('Total Time:',totalTime)\n",
    "print('Average Time:',totalTime / 100)\n",
    "\n",
    "print('Weight Array:', wt_array)\n",
    "#print('Time Array:', time_array)"
   ]
  },
  {
   "cell_type": "markdown",
   "metadata": {},
   "source": [
    "# Boxplots"
   ]
  },
  {
   "cell_type": "markdown",
   "metadata": {},
   "source": [
    "# BoxPlot related code"
   ]
  },
  {
   "cell_type": "code",
   "execution_count": 140,
   "metadata": {},
   "outputs": [
    {
     "name": "stdout",
     "output_type": "stream",
     "text": [
      "return from swap fn\n",
      "return from swap fn\n",
      "return from swap fn\n",
      "array_swap\n",
      "[0 1 0 1]\n",
      "return from fcswap fn\n",
      "return from fcswap fn\n",
      "return from fcswap fn\n",
      "array_fcswap\n",
      "[0 1 0 1]\n",
      "100 Runs:\n",
      "Total Time: 0:00:00.000985\n",
      "Average Time: 0:00:00.000010\n",
      "Median values: 700.0\n",
      "Median values: 700.0\n",
      "Median values: nan\n",
      "Median values: nan\n",
      "Count1 3\n",
      "Number of elements in Weight Array_swap: 1\n",
      "Value Array_swap: [700]\n",
      "Count2 3\n",
      "Number of elements in Weight Array_fcswap: 1\n",
      "Value Array_fcSwap: [700]\n",
      "Count3 0\n",
      "Number of elements in Weight Array_transp: 0\n",
      "Value Array_transp: []\n",
      "Count4 0\n",
      "Number of elements in Weight Array_fctransp: 0\n",
      "Value Array_fcTransp: []\n",
      "Time Array: []\n"
     ]
    },
    {
     "name": "stderr",
     "output_type": "stream",
     "text": [
      "C:\\Users\\bhask\\Anaconda3\\lib\\site-packages\\numpy\\core\\fromnumeric.py:2957: RuntimeWarning: Mean of empty slice.\n",
      "  out=out, **kwargs)\n",
      "C:\\Users\\bhask\\Anaconda3\\lib\\site-packages\\numpy\\core\\_methods.py:80: RuntimeWarning: invalid value encountered in double_scalars\n",
      "  ret = ret.dtype.type(ret / rcount)\n"
     ]
    }
   ],
   "source": [
    "totalCount = 0\n",
    "totalValue = 0\n",
    "totalWeight = 0\n",
    "#totalTime = 0\n",
    "wt_array = []\n",
    "wt_array_swap = []\n",
    "wt_array_fcswap = []\n",
    "wt_array_transp = []\n",
    "wt_array_fctransp = []\n",
    "time_array = []\n",
    "count1 = 0\n",
    "totalcount1 = 0\n",
    "count2 = 0\n",
    "totalcount2 = 0\n",
    "count3 = 0\n",
    "totalcount3 = 0\n",
    "count4 = 0\n",
    "totalcount4 = 0\n",
    "    \n",
    "for x in range(1):\n",
    "    feasible = False\n",
    "    converged = False\n",
    "    converged_fcswap = False\n",
    "    converged_transp = False\n",
    "    converged_fctransp = False\n",
    "    \n",
    "    \n",
    "    start = datetime.now()\n",
    "    \n",
    "    #print('Weight Array_swap:', wt_array_swap)\n",
    "#     while(not feasible):\n",
    "#         array = np.random.randint(2, size=5)\n",
    "#         array_swap = np.copy(array)\n",
    "#         array_fcswap = np.copy(array)\n",
    "#         array_transp = np.copy(array)\n",
    "#         array_fctransp = np.copy(array)\n",
    "#         feasible = check_feasibility(array, knapsack\n",
    "\n",
    "    array_swap = [1,0,1,0]\n",
    "    array_fcswap = [1,0,1,0]\n",
    "    #print(array)\n",
    "   \n",
    "    \n",
    "    while(not converged):   \n",
    "        count1 += 1\n",
    "        best_array_swap = swap(array_swap)\n",
    "        converged = getValuefromArray(best_array_swap, knapsack) <= getValuefromArray(array_swap, knapsack)\n",
    "        array_swap = np.copy(best_array_swap)\n",
    "        \n",
    "    print(\"array_swap\")\n",
    "    print(array_swap)    \n",
    "    wt_array_swap.append(getValuefromArray(array_swap, knapsack))    \n",
    "    while(not converged_fcswap):\n",
    "        count2 += 1\n",
    "        best_array_fcswap = fcSwap(array_fcswap)\n",
    "        converged_fcswap = getValuefromArray(best_array_fcswap, knapsack) <= getValuefromArray(array_fcswap, knapsack)\n",
    "        array_fcswap = np.copy(best_array_fcswap)\n",
    "    print(\"array_fcswap\")\n",
    "    print(array_fcswap)\n",
    "    wt_array_fcswap.append(getValuefromArray(array_fcswap, knapsack)) \n",
    "          \n",
    "#     while(not converged_transp):\n",
    "#         count3 += 1\n",
    "#         best_array_transp = transp(array_transp)\n",
    "#         converged_transp = getValuefromArray(best_array_transp, knapsack) <= getValuefromArray(array_transp, knapsack)\n",
    "#         array_transp = np.copy(best_array_transp)\n",
    "\n",
    "#     wt_array_transp.append(getValuefromArray(array_transp, knapsack)) \n",
    "    \n",
    "#     while(not converged_fctransp): \n",
    "#         count4 += 1\n",
    "#         best_array_fctransp = fcTransp(array_fctransp)\n",
    "#         converged_fctransp = getValuefromArray(best_array_fctransp, knapsack) <= getValuefromArray(array_fctransp, knapsack)\n",
    "#         array_fctransp = np.copy(best_array_fctransp)\n",
    "\n",
    "#     wt_array_fctransp.append(getValuefromArray(array_fctransp, knapsack))  \n",
    "    \n",
    "    \n",
    "    totalcount1 += count1\n",
    "    totalcount2 += count2\n",
    "    totalcount3 += count3\n",
    "    totalcount4 += count4\n",
    "    totalValue += getValuefromArray(array, knapsack)\n",
    "    totalWeight += getWeightfromArray(array, knapsack)\n",
    "    totalTime = datetime.now() - start\n",
    "    \n",
    "#     wt_array_swap.append(getValuefromArray(array_swap, knapsack)) \n",
    "#     wt_array_fcswap.append(getValuefromArray(array_fcswap, knapsack)) \n",
    "#     wt_array_transp.append(getValuefromArray(array_transp, knapsack)) \n",
    "#     wt_array_fctransp.append(getValuefromArray(array_fctransp, knapsack)) \n",
    "    #totalTime = datetime.now() - start\n",
    "    #time_array.append(totalTime)\n",
    "    #time_array.append(datetime.now() - start)\n",
    "    \n",
    "    #print(array)\n",
    "    #print(getValuefromArray(array, knapsack))\n",
    "    #print(getWeightfromArray(array, knapsack))\n",
    "    #print(count)\n",
    "    #print(datetime.now() - start)\n",
    "\n",
    "    \n",
    "data_to_plot = [wt_array_swap, wt_array_fcswap, wt_array_transp, wt_array_fctransp ]\n",
    "\n",
    "\n",
    "print('100 Runs:')\n",
    "# print('Total Count:',totalCount)\n",
    "# print('Average Count:',totalCount / 100)\n",
    "# print('Total Value:',totalValue)\n",
    "# print('Average Value:',totalValue / 100)\n",
    "# print('Total Weight:',totalWeight)\n",
    "# print('Average Weight:',totalWeight / 100)\n",
    "print('Total Time:',totalTime)\n",
    "print('Average Time:',totalTime / 100)\n",
    "\n",
    "#print('Max values:',np.median(wt_array.median,wt_array_fcswap.median,wt_array_transp.median,wt_array_fctransp.median )\n",
    "print('Median values:',np.median(wt_array_swap,axis=0))\n",
    "print('Median values:',np.median(wt_array_fcswap,axis=0))\n",
    "print('Median values:',np.median(wt_array_transp,axis=0))\n",
    "print('Median values:',np.median(wt_array_fctransp,axis=0))\n",
    "\n",
    "print(\"Count1\", totalcount1)\n",
    "#print('Weight Array:', wt_array)\n",
    "print(\"Number of elements in Weight Array_swap:\", len(wt_array_swap))\n",
    "print('Value Array_swap:', wt_array_swap)\n",
    "print(\"Count2\", totalcount2)\n",
    "print(\"Number of elements in Weight Array_fcswap:\", len(wt_array_fcswap))\n",
    "print('Value Array_fcSwap:', wt_array_fcswap)\n",
    "print(\"Count3\", totalcount3)\n",
    "print(\"Number of elements in Weight Array_transp:\", len(wt_array_transp))\n",
    "print('Value Array_transp:', wt_array_transp)\n",
    "print(\"Count4\", totalcount4)\n",
    "print(\"Number of elements in Weight Array_fctransp:\", len(wt_array_fctransp))\n",
    "print('Value Array_fcTransp:', wt_array_fctransp)\n",
    "print('Time Array:', time_array)"
   ]
  },
  {
   "cell_type": "code",
   "execution_count": 97,
   "metadata": {},
   "outputs": [
    {
     "data": {
      "image/png": "[encoded data removed]",
      "text/plain": [
       "<Figure size 648x432 with 1 Axes>"
      ]
     },
     "metadata": {},
     "output_type": "display_data"
    }
   ],
   "source": [
    "\n",
    "# def setLabelExample():\n",
    "#     fig = pyplot.figure() \n",
    "#     x = [i for i in range(200)]\n",
    "#     y = [xi**2 for xi in x]\n",
    "\n",
    "#     ax = fig.add_subplot(1,1,1)\n",
    "#     ax.plot(x, y) \n",
    "#     ax.tick_params(axis='x', labelsize=30)\n",
    "\n",
    "# Create a figure instance\n",
    "fig = plt.figure(1, figsize=(9, 6))\n",
    "\n",
    "# Create an axes instance\n",
    "ax = fig.add_subplot(111)\n",
    "\n",
    "# Create the boxplot\n",
    "bp = ax.boxplot(data_to_plot)\n",
    "\n",
    "## add patch_artist=True option to ax.boxplot() \n",
    "## to get fill color\n",
    "bp = ax.boxplot(data_to_plot, patch_artist=True)\n",
    "\n",
    "## change outline color, fill color and linewidth of the boxes\n",
    "for box in bp['boxes']:\n",
    "    # change outline color\n",
    "    box.set( color='#7570b3', linewidth=2)\n",
    "    # change fill color\n",
    "    box.set( facecolor = '#1b9e77' )\n",
    "\n",
    "## change color and linewidth of the whiskers\n",
    "for whisker in bp['whiskers']:\n",
    "    whisker.set(color='#7570b3', linewidth=2)\n",
    "\n",
    "## change color and linewidth of the caps\n",
    "for cap in bp['caps']:\n",
    "    cap.set(color='#7570b3', linewidth=2)\n",
    "\n",
    "## change color and linewidth of the medians\n",
    "for median in bp['medians']:\n",
    "    median.set(color='#b2df8a', linewidth=2)\n",
    "\n",
    "## change the style of fliers and their fill\n",
    "for flier in bp['fliers']:\n",
    "    flier.set(marker='o', color='#e7298a', alpha=0.5)\n",
    "    \n",
    "## Custom x-axis labels\n",
    "ax.set_xticklabels(['HC_Swap', 'FCHC_Swap', 'HC_Transp', 'FCHC_Transp'])\n",
    "\n",
    "## Remove top axes and right axes ticks\n",
    "ax.get_xaxis().tick_bottom()\n",
    "ax.get_yaxis().tick_left()\n",
    "\n",
    "# Save the figure\n",
    "fig.savefig('fig1.png', bbox_inches='tight')"
   ]
  },
  {
   "cell_type": "code",
   "execution_count": null,
   "metadata": {},
   "outputs": [],
   "source": []
  }
 ],
 "metadata": {
  "kernelspec": {
   "display_name": "Python 3",
   "language": "python",
   "name": "python3"
  },
  "language_info": {
   "codemirror_mode": {
    "name": "ipython",
    "version": 3
   },
   "file_extension": ".py",
   "mimetype": "text/x-python",
   "name": "python",
   "nbconvert_exporter": "python",
   "pygments_lexer": "ipython3",
   "version": "3.6.4"
  }
 },
 "nbformat": 4,
 "nbformat_minor": 2
}
