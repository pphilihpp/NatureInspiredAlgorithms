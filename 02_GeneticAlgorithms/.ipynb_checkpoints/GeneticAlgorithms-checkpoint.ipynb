{
 "cells": [
  {
   "cell_type": "markdown",
   "metadata": {},
   "source": [
    "# Genetic Algorithms"
   ]
  },
  {
   "cell_type": "markdown",
   "metadata": {},
   "source": [
    "## 1. Initialization"
   ]
  },
  {
   "cell_type": "code",
   "execution_count": 13,
   "metadata": {
    "collapsed": true
   },
   "outputs": [],
   "source": [
    "import numpy as np\n",
    "import math\n",
    "import matplotlib.pyplot as plt\n",
    "from datetime import datetime"
   ]
  },
  {
   "cell_type": "code",
   "execution_count": 9,
   "metadata": {},
   "outputs": [
    {
     "name": "stdout",
     "output_type": "stream",
     "text": [
      "[0, 1, 2]\n"
     ]
    }
   ],
   "source": [
    "def define_machines(number):\n",
    "    # defining machine\n",
    "    machines = []\n",
    "\n",
    "    for i in range(number):\n",
    "        machines.append(i)\n",
    "        \n",
    "    return machines\n",
    "    \n",
    "print(define_machines(3))\n"
   ]
  },
  {
   "cell_type": "code",
   "execution_count": 3,
   "metadata": {
    "collapsed": true
   },
   "outputs": [],
   "source": [
    "# defining jobs\n",
    "# jobs = []\n",
    "\n",
    "# for i in range(1,301)\n",
    "#     jobs.append(i)\n",
    "    \n",
    "# jobs"
   ]
  },
  {
   "cell_type": "code",
   "execution_count": 15,
   "metadata": {},
   "outputs": [
    {
     "name": "stdout",
     "output_type": "stream",
     "text": [
      "[12 19  4  3 11  6  5  6  1  4]\n"
     ]
    }
   ],
   "source": [
    "def creating_process_times(border_high,border_low,number):\n",
    "    # Assigning random processing times for each job\n",
    "    time_high = np.random.randint(1,border_high, size=number)\n",
    "    time_low = np.random.randint(1,border_low, size=number)\n",
    "\n",
    "    process_times = np.concatenate((time_high ,time_low), axis=0)\n",
    "    \n",
    "    return process_times\n",
    "\n",
    "print(creating_process_times(30,10,5))\n",
    "\n",
    "# time_high\n",
    "# time_low"
   ]
  },
  {
   "cell_type": "code",
   "execution_count": 20,
   "metadata": {},
   "outputs": [
    {
     "name": "stdout",
     "output_type": "stream",
     "text": [
      "[1 0 0 1 1 1 1 0 2 1]\n"
     ]
    }
   ],
   "source": [
    "def assigning_jobs_to_machines(machine_number,job_number):\n",
    "    # Assigning random jobs to machines\n",
    "    job_locations = []\n",
    "    job_locations = np.random.randint(0,machine_number,size = job_number)\n",
    "    return job_locations\n",
    "\n",
    "print(assigning_jobs_to_machines(3,10))"
   ]
  },
  {
   "cell_type": "code",
   "execution_count": 5,
   "metadata": {
    "collapsed": true
   },
   "outputs": [],
   "source": [
    "# calculate processing time\n",
    "def compute_time(process_times, job_locations,machines):\n",
    "    time = 0\n",
    "    max_time = 0\n",
    "    for i in range(len(machines)):\n",
    "       \n",
    "        for j in range(len(job_locations)):\n",
    "            if job_locations[j] == i:\n",
    "                time = time + process_times[j]\n",
    "                \n",
    "        if time > max_time:\n",
    "            max_time = time\n",
    "    \n",
    "        print(time)\n",
    "        time = 0               \n",
    "                \n",
    "            \n",
    "    return max_time"
   ]
  },
  {
   "cell_type": "code",
   "execution_count": 9,
   "metadata": {},
   "outputs": [
    {
     "name": "stdout",
     "output_type": "stream",
     "text": [
      "32\n",
      "25\n",
      "50\n"
     ]
    },
    {
     "data": {
      "text/plain": [
       "50"
      ]
     },
     "execution_count": 9,
     "metadata": {},
     "output_type": "execute_result"
    }
   ],
   "source": [
    "time = compute_time(process_times, job_locations,machines)\n",
    "time\n",
    "\n",
    "\n",
    "# array = [2, 3, 4, 5]\n",
    "# array[1]"
   ]
  },
  {
   "cell_type": "code",
   "execution_count": 30,
   "metadata": {},
   "outputs": [
    {
     "name": "stdout",
     "output_type": "stream",
     "text": [
      "0\n",
      "1\n",
      "2\n",
      "3\n",
      "[array([2, 2, 1, 1, 0]), array([1, 2, 1, 0, 0]), array([2, 0, 0, 1, 1]), array([1, 2, 1, 2, 1])]\n"
     ]
    }
   ],
   "source": [
    "def initialize(population_size,machine_number,job_number):\n",
    "    define_machines(machine_number)\n",
    "    creating_process_times(30,10,job_number)\n",
    "    chromosomes = []\n",
    "    \n",
    "    for i in range(population_size-1):\n",
    "        job_locations = assigning_jobs_to_machines(machine_number,job_number)\n",
    "        print(i)\n",
    "        chromosomes.append(np.copy(job_locations))\n",
    "    \n",
    "    return chromosomes\n",
    "print(initialize(5,3,5))"
   ]
  },
  {
   "cell_type": "markdown",
   "metadata": {},
   "source": [
    "## 2. Evaluation"
   ]
  },
  {
   "cell_type": "code",
   "execution_count": 1,
   "metadata": {
    "collapsed": true
   },
   "outputs": [],
   "source": [
    "def evaluate(chromosomes):\n",
    "    chromosome = []\n",
    "    return chromosome"
   ]
  },
  {
   "cell_type": "markdown",
   "metadata": {},
   "source": [
    "## 3. Selection"
   ]
  },
  {
   "cell_type": "code",
   "execution_count": null,
   "metadata": {
    "collapsed": true
   },
   "outputs": [],
   "source": [
    "def select():\n",
    "    chromosome = []\n",
    "    return chromosome"
   ]
  },
  {
   "cell_type": "markdown",
   "metadata": {},
   "source": [
    "## 4. Recombination"
   ]
  },
  {
   "cell_type": "code",
   "execution_count": 2,
   "metadata": {
    "collapsed": true
   },
   "outputs": [],
   "source": [
    "def recombine(chromosome):\n",
    "    chromosome = np.copy(new_chromosome)\n",
    "    return new_chromosome"
   ]
  },
  {
   "cell_type": "markdown",
   "metadata": {},
   "source": [
    "## 5. Mutation"
   ]
  },
  {
   "cell_type": "code",
   "execution_count": 3,
   "metadata": {
    "collapsed": true
   },
   "outputs": [],
   "source": [
    "def mutate(child_chromosomes):\n",
    "    mutateted_child_chromsomes = np.copy(child_chromosomes)\n",
    "    return mutateted_child_chromsomes\n",
    "    "
   ]
  },
  {
   "cell_type": "markdown",
   "metadata": {},
   "source": [
    "## 6. Replacement"
   ]
  },
  {
   "cell_type": "code",
   "execution_count": 4,
   "metadata": {
    "collapsed": true
   },
   "outputs": [],
   "source": [
    "def replace(parent_chromosomes,child_chromosomes):\n",
    "    new_parent_chromosomes = np.copy(parent_chromosomes)\n",
    "    return new_parent_chromosomes"
   ]
  },
  {
   "cell_type": "markdown",
   "metadata": {},
   "source": [
    "## 7. Action"
   ]
  },
  {
   "cell_type": "code",
   "execution_count": null,
   "metadata": {
    "collapsed": true
   },
   "outputs": [],
   "source": [
    "initialize()\n",
    "evaluate()\n",
    "chromosome1 = select()\n",
    "chromosome2 = select()\n",
    "recombine()\n",
    "mutate()\n",
    "replace()"
   ]
  }
 ],
 "metadata": {
  "kernelspec": {
   "display_name": "Python 3",
   "language": "python",
   "name": "python3"
  },
  "language_info": {
   "codemirror_mode": {
    "name": "ipython",
    "version": 3
   },
   "file_extension": ".py",
   "mimetype": "text/x-python",
   "name": "python",
   "nbconvert_exporter": "python",
   "pygments_lexer": "ipython3",
   "version": "3.6.3"
  }
 },
 "nbformat": 4,
 "nbformat_minor": 2
}
