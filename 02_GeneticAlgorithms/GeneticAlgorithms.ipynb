{
 "cells": [
  {
   "cell_type": "markdown",
   "metadata": {},
   "source": [
    "# Genetic Algorithms"
   ]
  },
  {
   "cell_type": "markdown",
   "metadata": {},
   "source": [
    "This jupyter notebook applies genetic algorithm to the Makespan Problem. Genetic Algorithms are search methods based on selection and genetics. We define \"chromosomes\" as candidate solutions. The Genetic Algorithm"
   ]
  },
  {
   "cell_type": "markdown",
   "metadata": {},
   "source": [
    "## 1. Initialization"
   ]
  },
  {
   "cell_type": "code",
   "execution_count": 1,
   "metadata": {},
   "outputs": [],
   "source": [
    "import numpy as np\n",
    "import random\n",
    "import math\n",
    "import matplotlib.pyplot as plt\n",
    "from datetime import datetime"
   ]
  },
  {
   "cell_type": "code",
   "execution_count": 24,
   "metadata": {},
   "outputs": [
    {
     "name": "stdout",
     "output_type": "stream",
     "text": [
      "[0, 1, 2]\n"
     ]
    }
   ],
   "source": [
    "def define_machines(machine_number):\n",
    "    # defining machine\n",
    "    machines = []\n",
    "\n",
    "    for i in range(machine_number):\n",
    "        machines.append(i)\n",
    "        \n",
    "    return machines\n",
    "    \n",
    "print(define_machines(2))\n"
   ]
  },
  {
   "cell_type": "code",
   "execution_count": 25,
   "metadata": {
    "collapsed": true
   },
   "outputs": [],
   "source": [
    "# defining jobs\n",
    "# jobs = []\n",
    "\n",
    "# for i in range(1,301)\n",
    "#     jobs.append(i)\n",
    "    \n",
    "# jobs"
   ]
  },
  {
   "cell_type": "code",
   "execution_count": 26,
   "metadata": {
    "collapsed": true
   },
   "outputs": [],
   "source": [
    "def creating_process_times(stack1_border_high,stack1_border_low,stack1_number,stack2_border_high,stack2_border_low,stack2_number):\n",
    "    # Assigning random processing times for each job\n",
    "    stack1 = np.random.randint(stack1_border_low,stack1_border_high+1, size=stack1_number)\n",
    "    stack2 = np.random.randint(stack2_border_low,stack2_border_high+1, size=stack2_number)\n",
    "\n",
    "    process_times = np.concatenate((stack1 ,stack2), axis=0)\n",
    "    \n",
    "    return process_times\n",
    "\n",
    "print(creating_process_times(4,1,10,8,5,20))\n",
    "\n",
    "# time_high\n",
    "# time_low"
   ]
  },
  {
   "cell_type": "code",
   "execution_count": 27,
   "metadata": {},
   "outputs": [
    {
     "name": "stdout",
     "output_type": "stream",
     "text": [
      "[2 0 1 0 2 0 2 1 2 1]\n",
      "[array([2, 0, 1, 0, 2, 0, 2, 1, 2, 1])]\n",
      "[1 1 0 1 2 1 1 1 0 0]\n",
      "[array([2, 0, 1, 0, 2, 0, 2, 1, 2, 1]), array([1, 1, 0, 1, 2, 1, 1, 1, 0, 0])]\n",
      "[1 2 1 1 0 2 1 0 2 0]\n",
      "[array([2, 0, 1, 0, 2, 0, 2, 1, 2, 1]), array([1, 1, 0, 1, 2, 1, 1, 1, 0, 0]), array([1, 2, 1, 1, 0, 2, 1, 0, 2, 0])]\n",
      "[array([2, 0, 1, 0, 2, 0, 2, 1, 2, 1]), array([1, 1, 0, 1, 2, 1, 1, 1, 0, 0]), array([1, 2, 1, 1, 0, 2, 1, 0, 2, 0])]\n"
     ]
    }
   ],
   "source": [
    "def initialize(machine_number,job_number,population_size):\n",
    "    # Assigning random jobs to machines\n",
    "    population=[]\n",
    "    chromosone = []\n",
    "    #job_locations = np.random.randint(0,machine_number,size = job_number)\n",
    "    \n",
    "    for i in range(population_size):\n",
    "        chromosone = np.random.randint(0,machine_number,size = job_number)\n",
    "        #print(chromosone)\n",
    "        population.append(chromosone)\n",
    "        #population= np.append(population job_locations, 0)\n",
    "        #print(population)\n",
    "        job_locations = []\n",
    "        \n",
    "    return population\n",
    "\n",
    "print(initialize(2,30,100))"
   ]
  },
  {
   "cell_type": "code",
   "execution_count": 28,
   "metadata": {
    "collapsed": true
   },
   "outputs": [],
   "source": [
    "# calculate processing time\n",
    "def evaluate_chromosones(process_times, chromosone,machines):\n",
    "    time = 0\n",
    "    max_time = 0\n",
    "    for i in range(machines):\n",
    "       \n",
    "        for j in range(len(chromosone)):\n",
    "            if chromosone[j] == i:\n",
    "                time = time + process_times[j]\n",
    "                \n",
    "        if time > max_time:\n",
    "            max_time = time\n",
    "    \n",
    "        #print(time)\n",
    "        time = 0               \n",
    "                \n",
    "    chromosome_fitness_level=max_time        \n",
    "    return chromosome_fitness_level\n",
    "print(evaluate_chromosones([ 5, 5, 5, 7, 7, 6, 5],[0, 1, 1, 0, 0, 1, 0],2))"
   ]
  },
  {
   "cell_type": "markdown",
   "metadata": {},
   "source": [
    "## 2. Evaluation"
   ]
  },
  {
   "cell_type": "code",
   "execution_count": 31,
   "metadata": {
    "collapsed": true
   },
   "outputs": [],
   "source": [
    "\n",
    "# take the function \"compute time\" and get fitness level for each chromosome, give back array of fitness values\n",
    "def evaluate(population,process_times,machines):\n",
    "    print(process_times)\n",
    "    population_fitness = []\n",
    "    #print(np.nditer(population))\n",
    "    print(population)\n",
    "    for i in (population):\n",
    "        print(evaluate_chromosones(process_times, i,machines))\n",
    "        population_fitness.append(evaluate_chromosones(process_times, i,machines))\n",
    "        print(population_fitness)\n",
    "    return population_fitness\n",
    "\n",
    "\n",
    "# evaluate_chromosones(process_times, chromosone,machines):\n",
    "# creating_process_times(stack1_border_high,stack1_border_low,stack1_number,stack2_border_high,stack2_border_low,stack2_number):\n",
    "# initialize(machine_number,job_number,population_size):\n",
    "evaluate(initialize(2,10,10), creating_process_times(4,1,5,8,5,5),2)"
   ]
  },
  {
   "cell_type": "markdown",
   "metadata": {},
   "source": [
    "## 3. Selection"
   ]
  },
  {
   "cell_type": "code",
   "execution_count": 32,
   "metadata": {},
   "outputs": [
    {
     "ename": "SyntaxError",
     "evalue": "invalid syntax (<ipython-input-32-61bc407ff661>, line 4)",
     "output_type": "error",
     "traceback": [
      "\u001b[1;36m  File \u001b[1;32m\"<ipython-input-32-61bc407ff661>\"\u001b[1;36m, line \u001b[1;32m4\u001b[0m\n\u001b[1;33m    select the chromosome according to algorithm like rhoulette wheel selection and return the matin_pool as chromosomes\u001b[0m\n\u001b[1;37m             ^\u001b[0m\n\u001b[1;31mSyntaxError\u001b[0m\u001b[1;31m:\u001b[0m invalid syntax\n"
     ]
    }
   ],
   "source": [
    "def roulette_select(population,population_fitness,mating_pool_size):\n",
    "    # TODO: take the variable \"mating pool\" and get this number of chromosomes from the population (Roulette, Tournament)\n",
    "    # returns array of chromosomes (mating pool)\n",
    "    \n",
    "    denominator = np.sum(population_fitness)\n",
    "    probabilities = np.true_divide(population_fitness, denominator)\n",
    "    \n",
    "   \n",
    "    print(probabilities)\n",
    "    \n",
    "    boundaries = []\n",
    "    boundaries.append(0)\n",
    "    boundaries[0] = probabilities[0]\n",
    "    print(boundaries[0])\n",
    "    for i in range(1,len(probabilities)):\n",
    "        boundaries.append(0)\n",
    "        boundaries[i] = probabilities[i]+boundaries[i-1]\n",
    "    print(\"boundaries\")\n",
    "    print(boundaries)\n",
    "    mating_pool = []\n",
    "    for i in range(mating_pool_size):\n",
    "        print(\"rand_mate\")\n",
    "        \n",
    "        rand_mate = np.random.uniform(0,1)\n",
    "       # rand_mate = 1\n",
    "        print(rand_mate)\n",
    "        for j in range(len(boundaries)):\n",
    "            if boundaries[j] > rand_mate:\n",
    "                mating_pool.append(population[j-1])\n",
    "                break\n",
    "            if rand_mate == 1:\n",
    "                mating_pool.append(population[0])\n",
    "                break\n",
    "    print(mating_pool)\n",
    "    \n",
    "    #select the chromosome according to algorithm like rhoulette wheel selection and return the matin_pool as chromosomes\n",
    "    \n",
    "    return mating_pool\n",
    "\n",
    "population = [[1, 0, 1, 0, 1, 0, 0, 1, 1, 1], [0, 0, 1, 0, 0, 1, 0, 1, 0, 1], [0, 1, 0, 1, 0, 1, 0, 1, 1, 1], [0, 1, 1, 1, 0, 1, 0, 0, 1, 1], [1, 0, 0, 0, 0, 1, 1, 1, 1, 0], [0, 0, 1, 1, 0, 0, 0, 1, 0, 1], [1, 0, 1, 0, 0, 0, 1, 1, 1, 0], [1, 1, 0, 0, 0, 1, 0, 1, 0, 1], [1, 1, 0, 0, 1, 0, 1, 0, 1, 0], [0, 1, 0, 0, 1, 1, 0, 1, 0, 1]]\n",
    "population_fitness = [27, 28, 31, 27, 27, 30, 23, 23, 25, 24]\n",
    "\n",
    "roulette_select(population,population_fitness,5)"
   ]
  },
  {
   "cell_type": "code",
   "execution_count": null,
   "metadata": {},
   "outputs": [],
   "source": [
    "def tournament_select(population,population_fitness,mating_pool_size):\n",
    "    # TODO: take the variable \"mating pool\" and get this number of chromosomes from the population (Roulette, Tournament)\n",
    "    # returns array of chromosomes (mating pool)\n",
    "\n",
    "    mating_pool=[]\n",
    "    highest_fitness_level= 0\n",
    "    old_highest_fitnesslevel_location=[]\n",
    "    for i in range(0,mating_pool_size):\n",
    "        for j in range(0,len(population_fitness)):\n",
    "            if population_fitness[j]>highest_fitness_level and j not in old_highest_fitnesslevel_location:\n",
    "                highest_fitness_level=population_fitness[j]\n",
    "                print(highest_fitness_level)\n",
    "        mating_pool.append(highest_fitness_level)\n",
    "        old_highest_fitnesslevel_location.append(j)\n",
    "        print(old_highest_fitnesslevel_location)\n",
    "        highest_fitness_level=0\n",
    "                       \n",
    "                       \n",
    "                       \n",
    "   # mydict= dict(zip(population,population_fitness))\n",
    "   # print(mydict)\n",
    "    #for key, value in sorted(mydict.iteritems(), key=lambda (k,v): (v,k)):\n",
    "     #   print \"%s: %s\" % (key, value)\n",
    "    \n",
    "    \n",
    "    return mating_pool \n",
    "   # return mydict\n",
    "\n",
    "\n",
    "\n",
    "population = [[1, 0, 1, 0, 1, 0, 0, 1, 1, 1], [0, 0, 1, 0, 0, 1, 0, 1, 0, 1], [0, 1, 0, 1, 0, 1, 0, 1, 1, 1], [0, 1, 1, 1, 0, 1, 0, 0, 1, 1], [1, 0, 0, 0, 0, 1, 1, 1, 1, 0], [0, 0, 1, 1, 0, 0, 0, 1, 0, 1], [1, 0, 1, 0, 0, 0, 1, 1, 1, 0], [1, 1, 0, 0, 0, 1, 0, 1, 0, 1], [1, 1, 0, 0, 1, 0, 1, 0, 1, 0], [0, 1, 0, 0, 1, 1, 0, 1, 0, 1]]\n",
    "population_fitness = [27, 28, 31, 27, 27, 30, 23, 23, 25, 24]\n",
    "\n",
    "tournament_select(population,population_fitness,5)\n",
    "\n",
    "# Issues:\n",
    "#  problem is that saving the old best fitness level locations in an array and checking for that does not work yet.\n",
    "# and also in the append of the mating pool it's' still appending the\n",
    "# fitnesslevel of las position of the j loop when we actually want to append population[j]"
   ]
  },
  {
   "cell_type": "code",
   "execution_count": null,
   "metadata": {},
   "outputs": [],
   "source": [
    "def tournament_select(population,population_fitness,mating_pool_size):\n",
    "\n",
    "    mydict= dict(zip(population_fitness,population))\n",
    "    print(mydict)\n",
    " \n",
    "    sorted_dict = sorted(mydict.items())\n",
    "#     print(sorted_dict)\n",
    "\n",
    "#     sorted_mating_pool = sorted_dict.items()\n",
    "#     sorted_mating_pool = mydict.values()\n",
    "#     sorted_dict.values()\n",
    "#     try:\n",
    "#         del sorted_dict['key']\n",
    "#     except KeyError:\n",
    "#         pass\n",
    "#     if 'key' in sorted_dict: \n",
    "#         del sorted_dict['key']\n",
    "#     population_fitness = list(map(int, population_fitness))\n",
    "    for i in range(len(population_fitness),0,1):\n",
    "#         sorted_dict.pop(population_fitness[i])\n",
    "        try:\n",
    "            del sorted_dict.key[i]\n",
    "        except KeyError:\n",
    "            pass\n",
    "#     sorted_mating_pool = sorted_dict.pop('key')\n",
    "#     print(sorted_mating_pool)\n",
    "    print(sorted_dict)\n",
    "     return sorted_dict\n",
    "\n",
    "\n",
    "\n",
    "population = [[1, 0, 1, 0, 1, 0, 0, 1, 1, 1], [0, 0, 1, 0, 0, 1, 0, 1, 0, 1], [0, 1, 0, 1, 0, 1, 0, 1, 1, 1], [0, 1, 1, 1, 0, 1, 0, 0, 1, 1], [1, 0, 0, 0, 0, 1, 1, 1, 1, 0], [0, 0, 1, 1, 0, 0, 0, 1, 0, 1], [1, 0, 1, 0, 0, 0, 1, 1, 1, 0], [1, 1, 0, 0, 0, 1, 0, 1, 0, 1], [1, 1, 0, 0, 1, 0, 1, 0, 1, 0], [0, 1, 0, 0, 1, 1, 0, 1, 0, 1]]\n",
    "population_fitness = [27, 28, 31, 27, 27, 30, 23, 23, 25, 24]\n",
    "\n",
    "tournament_select(population,population_fitness,5)\n",
    "\n",
    "# Two issues in this code:\n",
    "#     1. Although i pass 10 values of populationa and corresponding fitness levels, only 7 are present in mydict\n",
    "#     2. Not able to separate the valuescolumn  from the sorted dict even after using pop and del methods \n",
    "\n"
   ]
  },
  {
   "cell_type": "markdown",
   "metadata": {},
   "source": [
    "## 4. Recombination"
   ]
  },
  {
   "cell_type": "code",
   "execution_count": 33,
   "metadata": {
    "collapsed": true
   },
   "outputs": [],
   "source": [
    "def one_point_crossover(parent1,parent2):\n",
    "    location = np.random.randint(0,len(parent1))\n",
    "    child1 = np.copy(parent1)\n",
    "    child2 = np.copy(parent2)\n",
    "    for i in range(len(parent1)):\n",
    "        if i <= location:\n",
    "            child1[i] = parent1[i]\n",
    "            child2[i] = parent2[i]\n",
    "        else:\n",
    "            child1[i] = parent2[i]\n",
    "            child2[i] = parent1[i]\n",
    "            \n",
    "    return child1,child2  "
   ]
  },
  {
   "cell_type": "code",
   "execution_count": 34,
   "metadata": {
    "collapsed": true
   },
   "outputs": [],
   "source": [
    "def uniform_crossover(parent1, parent2):\n",
    "    location_array = np.random.choice(2, len(parent1))\n",
    "    child1 = np.copy(parent1)\n",
    "    child2 = np.copy(parent2)\n",
    "    for i in range(len(parent1)):\n",
    "        if location_array[i] == 0:\n",
    "            child1[i] = parent1[i]\n",
    "            child2[i] = parent2[i]\n",
    "        else:\n",
    "            child1[i] = parent2[i]\n",
    "            child2[i] = parent1[i]\n",
    "            \n",
    "    return child1,child2"
   ]
  },
  {
   "cell_type": "code",
   "execution_count": 47,
   "metadata": {
    "collapsed": true
   },
   "outputs": [],
   "source": [
    "def recombine_one_point_crossover(mating_pool,crossover_probability):\n",
    "    # takes randomly two chromosomes and performs one point crossover / two point\n",
    "     # crossover probability that two \"parents\" fuck, if not they just get copied\n",
    "    # returns children array, same size like mating pool \n",
    "    \n",
    "    children_chromosome = []\n",
    "    i = 0\n",
    "    while len(mating_pool) > 0:\n",
    "        parent1 = mating_pool.pop()\n",
    "        parent2 = mating_pool.pop()\n",
    "        \n",
    "        if random.random() < crossover_probability:\n",
    "            child1, child2 = one_point_crossover(parent1,parent2)\n",
    "            children_chromosome.append(child1)\n",
    "            children_chromosome.append(child2)\n",
    "        else:\n",
    "            children_chromosome.append(parent1)\n",
    "            children_chromosome.append(parent2)\n",
    "            print(parent1)\n",
    "            print(parent2)\n",
    "        i += 1\n",
    "    \n",
    "    return children_chromosome"
   ]
  },
  {
   "cell_type": "code",
   "execution_count": 36,
   "metadata": {
    "collapsed": true
   },
   "outputs": [],
   "source": [
    "def recombine_uniform_crossover(mating_pool,crossover_probability):\n",
    "    # takes randomly two chromosomes and performs one point crossover / two point\n",
    "     # crossover probability that two \"parents\" fuck, if not they just get copied\n",
    "    # returns children array, same size like mating pool \n",
    "    \n",
    "    children_chromosome = []\n",
    "    i = 0\n",
    "    while len(mating_pool) > 0:\n",
    "        parent1 = mating_pool.pop()\n",
    "        parent2 = mating_pool.pop()\n",
    "        \n",
    "        if random.random() < crossover_probability:\n",
    "            child1, child2 = uniform_crossover(parent1,parent2)\n",
    "            children_chromosome.append(child1)\n",
    "            children_chromosome.append(child2)\n",
    "        else:\n",
    "            children_chromosome.append(parent1)\n",
    "            children_chromosome.append(parent2)\n",
    "            print(parent1)\n",
    "            print(parent2)\n",
    "        i += 1\n",
    "    \n",
    "    return children_chromosome"
   ]
  },
  {
   "cell_type": "markdown",
   "metadata": {},
   "source": [
    "## 5. Mutation"
   ]
  },
  {
   "cell_type": "code",
   "execution_count": 84,
   "metadata": {},
   "outputs": [
    {
     "name": "stdout",
     "output_type": "stream",
     "text": [
      "[0 1 2 3 0]\n"
     ]
    }
   ],
   "source": [
    "def flip(child_chromosome,mutation_probability,machine_number):\n",
    "    mutated_child_chromosome = np.copy(child_chromosome)\n",
    "    if random.random() < mutation_probability:\n",
    "        location = np.random.randint(0,len(child_chromosome))\n",
    "        new_machine_number = np.random.randint(0,machine_number+1)\n",
    "        mutated_child_chromosome[location] = new_machine_number \n",
    "    return mutated_child_chromosome\n",
    "print(flip([0,1,2,3,0],0.5,4))"
   ]
  },
  {
   "cell_type": "code",
   "execution_count": 85,
   "metadata": {},
   "outputs": [
    {
     "name": "stdout",
     "output_type": "stream",
     "text": [
      "[1 0 2 3 0]\n"
     ]
    }
   ],
   "source": [
    "def swap(child_chromosome,mutation_probability):\n",
    "    mutated_child_chromosome = np.copy(child_chromosome)\n",
    "    if random.random() < mutation_probability:\n",
    "        location1 = np.random.randint(0,len(child_chromosome))\n",
    "        location2 = np.random.randint(0,len(child_chromosome))\n",
    "        while location1 == location2:\n",
    "                location2 = np.random.randint(0,len(child_chromosome))\n",
    "        help_variable = mutated_child_chromosome[location1]\n",
    "        mutated_child_chromosome[location1] = mutated_child_chromosome[location2]\n",
    "        mutated_child_chromosome[location2] = help_variable\n",
    "    return mutated_child_chromosome\n",
    "print(swap([0,1,2,3,0],0.5))"
   ]
  },
  {
   "cell_type": "code",
   "execution_count": 86,
   "metadata": {
    "collapsed": true
   },
   "outputs": [],
   "source": [
    "def mutate_flip(child_chromosomes,mutation_probability,machine_number):\n",
    "    # goes through children_chromosome, get changed with mutation probability, ramdom machine_flip / swap\n",
    "    # gives back children array\n",
    "    mutated_child_chromosomes = np.copy(child_chromosomes)\n",
    "    for i in range(len(child_chromosomes)):\n",
    "        child_chromosomes[i] = flip(child_chromosomes[i],mutation_probability,machine_number)\n",
    "    return mutated_child_chromosomes"
   ]
  },
  {
   "cell_type": "code",
   "execution_count": 87,
   "metadata": {
    "collapsed": true
   },
   "outputs": [],
   "source": [
    "def mutate_swap(child_chromosomes,mutation_probability,machine_number):\n",
    "    # goes through children_chromosome, get changed with mutation probability, ramdom machine_flip / swap\n",
    "    # gives back children array\n",
    "    mutated_child_chromosomes = np.copy(child_chromosomes)\n",
    "    for i in range(len(child_chromosomes)):\n",
    "        child_chromosomes[i] = swap(child_chromosomes[i],mutation_probability)\n",
    "    return mutated_child_chromosomes"
   ]
  },
  {
   "cell_type": "markdown",
   "metadata": {},
   "source": [
    "## 6. Replacement"
   ]
  },
  {
   "cell_type": "code",
   "execution_count": 65,
   "metadata": {
    "collapsed": true
   },
   "outputs": [],
   "source": [
    "def replace_deleteall(chromosomes,children_chromosomes):\n",
    "    # gets population & children array, gives back new population\n",
    "    # delete_all - look at the difference in size between population and children, take the best ones of population to get rid difference, then delete rest and put children in\n",
    "    # choose_best - look at population and children at same time, choose the best ones of all to get new population\n",
    "    if len(chromosomes) == len(children_chromosomes):\n",
    "        new_chromosomes = np.copy(children_chromosomes)\n",
    "    else:\n",
    "        new_chromosomes = []\n",
    "        difference = len(chromosomes)-len(children_chromosomes)\n",
    "        \n",
    "        while (len(new_chromosomes) < difference):\n",
    "            chromosomes_values = evaluate(chromosomes)\n",
    "            max_value = max(chromosomes_values)\n",
    "            max_index = chromosomes_values.index(max_value)\n",
    "            new_chromosomes.append(chromosomes[max_index])\n",
    "            chromosomes.delete[max_index]\n",
    "            \n",
    "        new_chromosomes.extend(children_chromosomes)\n",
    "    \n",
    "    return new_chromosomes\n",
    "\n",
    "\n",
    "def replace_choosebest(chromosomes, children_chromosomes):\n",
    "    \n",
    "    new_chromosomes = []\n",
    "    all_chromosomes =[]\n",
    "    all_chromosomes.extend(chromosomes)\n",
    "    all_chromosomes.extend(children_chromosomes)\n",
    "    \n",
    "    while (len(new_chromosomes) < len(chromosomes)):\n",
    "            chromosomes_values = evaluate(all_chromosomes)\n",
    "            max_value = max(chromosomes_values)\n",
    "            max_index = chromosomes_values.index(max_value)\n",
    "            new_chromosomes.append(all_chromosomes[max_index])\n",
    "            all_chromosomes.delete[max_index]\n",
    "    \n",
    "    return new_chromosomes"
   ]
  },
  {
   "cell_type": "markdown",
   "metadata": {},
   "source": [
    "## 7. Action"
   ]
  },
  {
   "cell_type": "code",
   "execution_count": 90,
   "metadata": {},
   "outputs": [
    {
     "name": "stdout",
     "output_type": "stream",
     "text": [
      "[2 1 1 2 2]\n",
      "[array([2, 1, 1, 2, 2])]\n",
      "[2 0 1 0 1]\n",
      "[array([2, 1, 1, 2, 2]), array([2, 0, 1, 0, 1])]\n",
      "[0 1 2 2 2]\n",
      "[array([2, 1, 1, 2, 2]), array([2, 0, 1, 0, 1]), array([0, 1, 2, 2, 2])]\n",
      "[1 2 1 2 0]\n",
      "[array([2, 1, 1, 2, 2]), array([2, 0, 1, 0, 1]), array([0, 1, 2, 2, 2]), array([1, 2, 1, 2, 0])]\n",
      "[1 1 0 2 1]\n",
      "[array([2, 1, 1, 2, 2]), array([2, 0, 1, 0, 1]), array([0, 1, 2, 2, 2]), array([1, 2, 1, 2, 0]), array([1, 1, 0, 2, 1])]\n",
      "[2 0 1 2 2]\n",
      "[array([2, 1, 1, 2, 2]), array([2, 0, 1, 0, 1]), array([0, 1, 2, 2, 2]), array([1, 2, 1, 2, 0]), array([1, 1, 0, 2, 1]), array([2, 0, 1, 2, 2])]\n",
      "[2 0 1 0 1]\n",
      "[2 1 1 2 2]\n"
     ]
    },
    {
     "ename": "NameError",
     "evalue": "name 'chromosome_fitness_level' is not defined",
     "output_type": "error",
     "traceback": [
      "\u001b[1;31m---------------------------------------------------------------------------\u001b[0m",
      "\u001b[1;31mNameError\u001b[0m                                 Traceback (most recent call last)",
      "\u001b[1;32m<ipython-input-90-6eeaaa27c85e>\u001b[0m in \u001b[0;36m<module>\u001b[1;34m()\u001b[0m\n\u001b[0;32m     56\u001b[0m             \u001b[0mfitness_value_first\u001b[0m \u001b[1;33m=\u001b[0m \u001b[1;36m0\u001b[0m\u001b[1;33m\u001b[0m\u001b[0m\n\u001b[0;32m     57\u001b[0m     \u001b[1;32melif\u001b[0m \u001b[0mcount\u001b[0m \u001b[1;33m==\u001b[0m \u001b[1;36m0\u001b[0m\u001b[1;33m:\u001b[0m\u001b[1;33m\u001b[0m\u001b[0m\n\u001b[1;32m---> 58\u001b[1;33m         \u001b[0mfitness_value_first\u001b[0m \u001b[1;33m=\u001b[0m \u001b[0mnp\u001b[0m\u001b[1;33m.\u001b[0m\u001b[0mamin\u001b[0m\u001b[1;33m(\u001b[0m\u001b[0mevaluate\u001b[0m\u001b[1;33m(\u001b[0m\u001b[0mchromosomes\u001b[0m\u001b[1;33m)\u001b[0m\u001b[1;33m)\u001b[0m\u001b[1;33m\u001b[0m\u001b[0m\n\u001b[0m\u001b[0;32m     59\u001b[0m         \u001b[0mcount\u001b[0m \u001b[1;33m+=\u001b[0m \u001b[1;36m1\u001b[0m\u001b[1;33m\u001b[0m\u001b[0m\n\u001b[0;32m     60\u001b[0m     \u001b[1;32melse\u001b[0m\u001b[1;33m:\u001b[0m\u001b[1;33m\u001b[0m\u001b[0m\n",
      "\u001b[1;32m<ipython-input-31-5193820138e1>\u001b[0m in \u001b[0;36mevaluate\u001b[1;34m(chromosomes)\u001b[0m\n\u001b[0;32m      1\u001b[0m \u001b[1;31m# take the function \"compute time\" and get fitness level for each chromosome, give back array of fitness values\u001b[0m\u001b[1;33m\u001b[0m\u001b[1;33m\u001b[0m\u001b[0m\n\u001b[0;32m      2\u001b[0m \u001b[1;32mdef\u001b[0m \u001b[0mevaluate\u001b[0m\u001b[1;33m(\u001b[0m\u001b[0mchromosomes\u001b[0m\u001b[1;33m)\u001b[0m\u001b[1;33m:\u001b[0m\u001b[1;33m\u001b[0m\u001b[0m\n\u001b[1;32m----> 3\u001b[1;33m     \u001b[1;32mreturn\u001b[0m \u001b[0mchromosome_fitness_level\u001b[0m\u001b[1;33m\u001b[0m\u001b[0m\n\u001b[0m",
      "\u001b[1;31mNameError\u001b[0m: name 'chromosome_fitness_level' is not defined"
     ]
    }
   ],
   "source": [
    "#variables\n",
    "population_size = 6\n",
    "machine_number = 3\n",
    "job_number = 5\n",
    "mating_pool = 4\n",
    "crossover_probability = 0.9\n",
    "mutation_probability = 0.9\n",
    "\n",
    "do_recombine_one_point_crossover = False\n",
    "do_mutate_flip = False\n",
    "do_replace_deleteall = False\n",
    "\n",
    "converged = False\n",
    "count = 0\n",
    "\n",
    "# Initialization\n",
    "chromosomes = []\n",
    "#chromosomes = initialize(population_size,machine_number,job_number)\n",
    "\n",
    "#start loop\n",
    "while not converged:\n",
    "    children_chromosomes = []\n",
    "    new_chromosomes = []\n",
    "    # Evaluation\n",
    "    #evaluate(chromosomes)\n",
    "\n",
    "    # Selection\n",
    "    #selected_mating_pool = select()\n",
    "    selected_mating_pool = assigning_jobs_to_machines(machine_number,job_number,population_size)\n",
    "\n",
    "    # Recombination\n",
    "    if do_recombine_one_point_crossover:\n",
    "        children_chromosomes = recombine_one_point_crossover(selected_mating_pool,crossover_probability)\n",
    "    else:\n",
    "        children_chromosomes = recombine_uniform_crossover(selected_mating_pool,crossover_probability)\n",
    "\n",
    "    # Mutation\n",
    "    if do_mutate_flip:\n",
    "        children_chromosomes = mutate_flip(children_chromosomes,mutation_probability,machine_number)\n",
    "    else:\n",
    "        children_chromosomes = mutate_swap(children_chromosomes,mutation_probability,machine_number)\n",
    "\n",
    "    # Replacement\n",
    "    if do_replace_deleteall:\n",
    "        new_chromosomes = replace_deleteall(chromosomes,children_chromosomes)\n",
    "    else:\n",
    "        new_chromosomes = replace_choosebest(chromosomes,children_chromosomes)\n",
    "\n",
    "    chromosomes = np.copy(new_chromosomes)\n",
    "    \n",
    "    if count == 100:\n",
    "        if (abs(fitness_value_first - np.amin(evaluate(chromosomes)))) <= 100:\n",
    "            converged = True\n",
    "        else:\n",
    "            count = 0\n",
    "            fitness_value_first = 0\n",
    "    elif count == 0:\n",
    "        fitness_value_first = np.amin(evaluate(chromosomes))\n",
    "        count += 1\n",
    "    else:\n",
    "        count += 1\n",
    "\n",
    "# convergence: if they don't change after lot of iterations (idea: just look at every 100th one if it stopped changing)"
   ]
  },
  {
   "cell_type": "code",
   "execution_count": null,
   "metadata": {
    "collapsed": true
   },
   "outputs": [],
   "source": []
  }
 ],
 "metadata": {
  "kernelspec": {
   "display_name": "Python 3",
   "language": "python",
   "name": "python3"
  },
  "language_info": {
   "codemirror_mode": {
    "name": "ipython",
    "version": 3
   },
   "file_extension": ".py",
   "mimetype": "text/x-python",
   "name": "python",
   "nbconvert_exporter": "python",
   "pygments_lexer": "ipython3",
   "version": "3.6.4"
  }
 },
 "nbformat": 4,
 "nbformat_minor": 2
}
