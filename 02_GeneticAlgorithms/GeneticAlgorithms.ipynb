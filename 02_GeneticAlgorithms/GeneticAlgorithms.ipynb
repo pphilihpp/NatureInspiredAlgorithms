{
 "cells": [
  {
   "cell_type": "markdown",
   "metadata": {},
   "source": [
    "# Genetic Algorithms"
   ]
  },
  {
   "cell_type": "markdown",
   "metadata": {},
   "source": [
    "## 1. Initialization"
   ]
  },
  {
   "cell_type": "code",
   "execution_count": 7,
   "metadata": {},
   "outputs": [],
   "source": [
    "import numpy as np\n",
    "import math\n",
    "import matplotlib.pyplot as plt\n",
    "from datetime import datetime"
   ]
  },
  {
   "cell_type": "code",
   "execution_count": 48,
   "metadata": {},
   "outputs": [
    {
     "data": {
      "text/plain": [
       "[0, 1, 2, 3, 4, 5, 6, 7, 8, 9, 10, 11, 12, 13, 14, 15, 16, 17, 18, 19]"
      ]
     },
     "execution_count": 48,
     "metadata": {},
     "output_type": "execute_result"
    }
   ],
   "source": [
    "# defining machine\n",
    "machines = []\n",
    "\n",
    "for i in range(20):\n",
    "    machines.append(i)\n",
    "    \n",
    "machines\n"
   ]
  },
  {
   "cell_type": "code",
   "execution_count": 8,
   "metadata": {},
   "outputs": [],
   "source": [
    "# defining jobs\n",
    "# jobs = []\n",
    "\n",
    "# for i in range(1,301)\n",
    "#     jobs.append(i)\n",
    "    \n",
    "# jobs"
   ]
  },
  {
   "cell_type": "code",
   "execution_count": 44,
   "metadata": {},
   "outputs": [
    {
     "data": {
      "text/plain": [
       "array([ 37,  51, 684, 631, 363, 678, 276, 957,  28, 457, 882, 514,  82,\n",
       "       304, 898, 808, 410, 504, 548, 497, 338, 349, 668,  89, 786, 716,\n",
       "       921, 455, 565,  56, 814, 164, 932, 475, 726, 507, 345, 514, 858,\n",
       "       420, 599, 292,  13, 200, 580, 128, 296, 479, 307, 646, 285,  84,\n",
       "       976, 143, 273,  79, 861, 797, 907, 474, 897, 815, 166, 929, 174,\n",
       "       314, 823, 427, 965, 550, 383, 857, 187,  42, 651, 712, 690, 160,\n",
       "       887, 599, 575, 959, 122, 858,  59, 734, 797, 375, 628, 351,  97,\n",
       "       495, 851,  22, 317, 310, 428, 192, 689, 684, 867, 443, 292, 567,\n",
       "       642, 998,  23, 893, 689, 714, 185, 307,  37, 855, 164, 822, 966,\n",
       "       349, 836, 767, 453, 654, 219,  23,  60,  37, 134, 303, 310, 351,\n",
       "       165, 565, 348, 735, 535, 411, 109, 186, 237, 706, 912, 280,  20,\n",
       "       573, 962, 545, 911, 329,  98, 548, 897, 853, 619, 710, 152, 740,\n",
       "        50, 196, 490, 748, 758, 728, 568, 504,  50, 661, 681, 905, 314,\n",
       "       537, 566,  50, 748, 778, 892, 956, 632, 569, 210, 473, 362, 519,\n",
       "       610, 111, 420,  15, 796, 789, 608, 654,  85, 833, 731, 483,  96,\n",
       "        41, 527, 853, 497, 109, 255, 255, 247, 157, 128, 171, 286, 121,\n",
       "       226, 248, 168, 173, 265, 183, 226, 202, 259, 162, 155, 133, 199,\n",
       "       124, 178, 199, 181, 161, 275, 269, 113, 184, 110, 270, 241, 129,\n",
       "       112, 159, 252, 114, 296, 151, 242, 125, 145, 196, 164, 156, 219,\n",
       "       209, 278, 187, 149, 207, 207, 262, 207, 114, 288, 280, 180, 282,\n",
       "       110, 188, 124, 165, 118, 176, 215, 225, 239, 278, 284, 294, 282,\n",
       "       167, 132, 282, 123, 200, 124, 216, 256, 100, 101, 233, 115, 290,\n",
       "       108, 149, 237, 257, 258, 122, 238, 120, 299, 240, 147, 283, 238,\n",
       "       298])"
      ]
     },
     "execution_count": 44,
     "metadata": {},
     "output_type": "execute_result"
    }
   ],
   "source": [
    "# Assigning random processing times for each job\n",
    "\n",
    "time_high = np.random.randint(10,1000, size=200)\n",
    "time_low = np.random.randint(100,300, size=100)\n",
    "\n",
    "process_times = np.concatenate((time_high ,time_low), axis=0)\n",
    "\n",
    "process_times\n",
    "\n",
    "# time_high\n",
    "# time_low"
   ]
  },
  {
   "cell_type": "code",
   "execution_count": 45,
   "metadata": {},
   "outputs": [
    {
     "data": {
      "text/plain": [
       "array([ 2, 11,  8, 16,  1,  7, 12,  1, 18, 10,  8,  0, 13,  2, 14, 13,  0,\n",
       "       16,  8, 12,  8,  8, 11,  4, 11,  5, 14, 17,  2, 12,  0, 17, 12, 12,\n",
       "        8,  0, 18, 13,  1, 17, 14,  1, 16,  0, 16,  1, 11,  7,  5,  8, 14,\n",
       "       10, 11,  6, 11,  0,  0,  2,  4,  4, 16,  7,  1, 10,  7, 12,  5,  5,\n",
       "        9,  5, 18, 18,  2,  0, 12, 10, 15,  7,  9,  4,  4, 14,  7, 15, 18,\n",
       "       14,  5,  6,  9,  0, 14, 14, 14,  6,  1,  2, 15,  7,  6, 12,  6,  5,\n",
       "       12, 15,  1,  7, 18,  6,  6,  2, 13, 15,  1, 10,  8,  5, 18, 12, 15,\n",
       "        6,  8, 12, 15, 17, 16,  5,  6,  6, 16, 16, 15, 11, 14,  7, 16, 15,\n",
       "       13,  5, 12, 13,  4,  2, 12,  6, 17, 12, 17,  5,  3,  4,  9,  6, 17,\n",
       "        9,  6, 16, 12, 18,  5,  0,  4,  1, 15, 16,  0, 12, 10, 16,  1,  2,\n",
       "        0,  4,  4, 16,  0, 15, 16, 13, 10, 14,  3,  8, 14,  9, 13, 17,  8,\n",
       "       16,  1,  0,  4, 18,  2,  3,  0,  7, 18,  4, 13,  9,  4, 16, 16,  5,\n",
       "        8, 16,  4, 10,  6,  7,  1, 15, 16,  8, 12, 13, 13,  4, 12,  9,  1,\n",
       "       14,  9,  9,  8, 14,  0,  8,  9, 12,  2, 12,  6, 11,  0, 12,  0, 12,\n",
       "       14, 11, 14, 12, 11, 12,  3,  3, 12, 11,  2, 16, 18,  6, 11, 13,  2,\n",
       "        5,  6, 13, 13,  0, 13, 17,  9, 13, 13,  1, 13, 11,  1, 13, 15, 18,\n",
       "        0,  9,  5,  4, 18,  9, 15, 16, 16,  7, 16,  8,  6,  6, 15,  4,  9,\n",
       "        6, 14,  8, 15,  4, 10, 14,  2,  4,  3, 11])"
      ]
     },
     "execution_count": 45,
     "metadata": {},
     "output_type": "execute_result"
    }
   ],
   "source": [
    "# Assigning random jobs to machines\n",
    "jobs = []\n",
    "job_locations = np.random.randint(0,19,size = 300)\n",
    "\n",
    "job_locations"
   ]
  },
  {
   "cell_type": "code",
   "execution_count": 46,
   "metadata": {},
   "outputs": [],
   "source": [
    "# calculate processing time\n",
    "def compute_time(process_times, job_locations,machines):\n",
    "    time = 0\n",
    "    max_time = 0\n",
    "    for i in range(len(machines)):\n",
    "      \n",
    "        for j in job_locations:\n",
    "            if j == i:\n",
    "                time = time + process_times[j] \n",
    "                if time > max_time:\n",
    "                    max_time= time\n",
    "                \n",
    "            \n",
    "    return max_time"
   ]
  },
  {
   "cell_type": "code",
   "execution_count": 47,
   "metadata": {},
   "outputs": [
    {
     "data": {
      "text/plain": [
       "129462"
      ]
     },
     "execution_count": 47,
     "metadata": {},
     "output_type": "execute_result"
    }
   ],
   "source": [
    "time = compute_time(process_times, job_locations,machines)\n",
    "time\n",
    "\n",
    "\n",
    "# array = [2, 3, 4, 5]\n",
    "# array[1]"
   ]
  },
  {
   "cell_type": "markdown",
   "metadata": {},
   "source": [
    "## 2. Evaluation"
   ]
  },
  {
   "cell_type": "markdown",
   "metadata": {},
   "source": [
    "## 3. Selection"
   ]
  },
  {
   "cell_type": "markdown",
   "metadata": {},
   "source": [
    "## 4. Recombination"
   ]
  },
  {
   "cell_type": "markdown",
   "metadata": {},
   "source": [
    "## 5. Mutation"
   ]
  },
  {
   "cell_type": "markdown",
   "metadata": {},
   "source": [
    "## 6. Replacement"
   ]
  },
  {
   "cell_type": "markdown",
   "metadata": {},
   "source": [
    "## 7. Action"
   ]
  }
 ],
 "metadata": {
  "kernelspec": {
   "display_name": "Python 3",
   "language": "python",
   "name": "python3"
  },
  "language_info": {
   "codemirror_mode": {
    "name": "ipython",
    "version": 3
   },
   "file_extension": ".py",
   "mimetype": "text/x-python",
   "name": "python",
   "nbconvert_exporter": "python",
   "pygments_lexer": "ipython3",
   "version": "3.6.4"
  }
 },
 "nbformat": 4,
 "nbformat_minor": 2
}
