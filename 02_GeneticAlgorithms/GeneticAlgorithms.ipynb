{
 "cells": [
  {
   "cell_type": "markdown",
   "metadata": {},
   "source": [
    "# Genetic Algorithms"
   ]
  },
  {
   "cell_type": "markdown",
   "metadata": {},
   "source": [
    "## 1. Initialization"
   ]
  },
  {
   "cell_type": "code",
   "execution_count": 1,
   "metadata": {},
   "outputs": [],
   "source": [
    "import numpy as np\n",
    "import math\n",
    "import matplotlib.pyplot as plt\n",
    "from datetime import datetime"
   ]
  },
  {
   "cell_type": "code",
   "execution_count": 2,
   "metadata": {},
   "outputs": [
    {
     "data": {
      "text/plain": [
       "[0, 1, 2]"
      ]
     },
     "execution_count": 2,
     "metadata": {},
     "output_type": "execute_result"
    }
   ],
   "source": [
    "# defining machine\n",
    "machines = []\n",
    "\n",
    "for i in range(3):\n",
    "    machines.append(i)\n",
    "    \n",
    "machines\n"
   ]
  },
  {
   "cell_type": "code",
   "execution_count": 3,
   "metadata": {},
   "outputs": [],
   "source": [
    "# defining jobs\n",
    "# jobs = []\n",
    "\n",
    "# for i in range(1,301)\n",
    "#     jobs.append(i)\n",
    "    \n",
    "# jobs"
   ]
  },
  {
   "cell_type": "code",
   "execution_count": 4,
   "metadata": {},
   "outputs": [
    {
     "data": {
      "text/plain": [
       "array([25,  7, 21, 14, 24,  8,  8,  2,  3,  7])"
      ]
     },
     "execution_count": 4,
     "metadata": {},
     "output_type": "execute_result"
    }
   ],
   "source": [
    "# Assigning random processing times for each job\n",
    "\n",
    "time_high = np.random.randint(1,30, size=5)\n",
    "time_low = np.random.randint(1,10, size=5)\n",
    "\n",
    "process_times = np.concatenate((time_high ,time_low), axis=0)\n",
    "\n",
    "process_times\n",
    "\n",
    "# time_high\n",
    "# time_low"
   ]
  },
  {
   "cell_type": "code",
   "execution_count": 5,
   "metadata": {},
   "outputs": [
    {
     "data": {
      "text/plain": [
       "array([1, 0, 1, 1, 0, 2, 0, 0, 2, 0])"
      ]
     },
     "execution_count": 5,
     "metadata": {},
     "output_type": "execute_result"
    }
   ],
   "source": [
    "# Assigning random jobs to machines\n",
    "jobs = []\n",
    "job_locations = np.random.randint(0,3,size = 10)\n",
    "\n",
    "job_locations"
   ]
  },
  {
   "cell_type": "code",
   "execution_count": 6,
   "metadata": {},
   "outputs": [],
   "source": [
    "# calculate processing time\n",
    "def compute_time(process_times, job_locations,machines):\n",
    "    time = 0\n",
    "    max_time = 0\n",
    "    for i in range(len(machines)):\n",
    "       \n",
    "        for j in range(len(job_locations)):\n",
    "            if job_locations[j] == i:\n",
    "                time = time + process_times[j]\n",
    "                \n",
    "        if time > max_time:\n",
    "            max_time = time\n",
    "    \n",
    "        print(time)\n",
    "        time = 0               \n",
    "                \n",
    "            \n",
    "    return max_time"
   ]
  },
  {
   "cell_type": "code",
   "execution_count": 7,
   "metadata": {},
   "outputs": [
    {
     "name": "stdout",
     "output_type": "stream",
     "text": [
      "48\n",
      "60\n",
      "11\n"
     ]
    },
    {
     "data": {
      "text/plain": [
       "60"
      ]
     },
     "execution_count": 7,
     "metadata": {},
     "output_type": "execute_result"
    }
   ],
   "source": [
    "time = compute_time(process_times, job_locations,machines)\n",
    "time\n",
    "\n",
    "\n",
    "# array = [2, 3, 4, 5]\n",
    "# array[1]"
   ]
  },
  {
   "cell_type": "markdown",
   "metadata": {},
   "source": [
    "## 2. Evaluation"
   ]
  },
  {
   "cell_type": "markdown",
   "metadata": {},
   "source": [
    "## 3. Selection"
   ]
  },
  {
   "cell_type": "markdown",
   "metadata": {},
   "source": [
    "## 4. Recombination"
   ]
  },
  {
   "cell_type": "markdown",
   "metadata": {},
   "source": [
    "## 5. Mutation"
   ]
  },
  {
   "cell_type": "markdown",
   "metadata": {},
   "source": [
    "## 6. Replacement"
   ]
  },
  {
   "cell_type": "markdown",
   "metadata": {},
   "source": [
    "## 7. Action"
   ]
  }
 ],
 "metadata": {
  "kernelspec": {
   "display_name": "Python 3",
   "language": "python",
   "name": "python3"
  },
  "language_info": {
   "codemirror_mode": {
    "name": "ipython",
    "version": 3
   },
   "file_extension": ".py",
   "mimetype": "text/x-python",
   "name": "python",
   "nbconvert_exporter": "python",
   "pygments_lexer": "ipython3",
   "version": "3.6.4"
  }
 },
 "nbformat": 4,
 "nbformat_minor": 2
}
