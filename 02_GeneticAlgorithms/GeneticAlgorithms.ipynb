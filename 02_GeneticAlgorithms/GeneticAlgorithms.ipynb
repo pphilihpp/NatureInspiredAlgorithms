{
 "cells": [
  {
   "cell_type": "markdown",
   "metadata": {},
   "source": [
    "# Genetic Algorithms"
   ]
  },
  {
   "cell_type": "markdown",
   "metadata": {},
   "source": [
    "## 1. Initialization"
   ]
  },
  {
   "cell_type": "code",
   "execution_count": 1,
   "metadata": {
    "collapsed": true
   },
   "outputs": [],
   "source": [
    "import numpy as np\n",
    "import math\n",
    "import matplotlib.pyplot as plt\n",
    "from datetime import datetime"
   ]
  },
  {
   "cell_type": "code",
   "execution_count": 2,
   "metadata": {},
   "outputs": [
    {
     "name": "stdout",
     "output_type": "stream",
     "text": [
      "[0, 1, 2]\n"
     ]
    }
   ],
   "source": [
    "def define_machines(machine_number):\n",
    "    # defining machine\n",
    "    machines = []\n",
    "\n",
    "    for i in range(machine_number):\n",
    "        machines.append(i)\n",
    "        \n",
    "    return machines\n",
    "    \n",
    "print(define_machines(3))\n"
   ]
  },
  {
   "cell_type": "code",
   "execution_count": 3,
   "metadata": {
    "collapsed": true
   },
   "outputs": [],
   "source": [
    "# defining jobs\n",
    "# jobs = []\n",
    "\n",
    "# for i in range(1,301)\n",
    "#     jobs.append(i)\n",
    "    \n",
    "# jobs"
   ]
  },
  {
   "cell_type": "code",
   "execution_count": 4,
   "metadata": {},
   "outputs": [
    {
     "name": "stdout",
     "output_type": "stream",
     "text": [
      "[14  5 14  9 23  4  8  1  5  9]\n"
     ]
    }
   ],
   "source": [
    "def creating_process_times(stack1_border_high,stack1_border_low,stack1_number,stack2_border_high,stack2_border_low,stack2_number):\n",
    "    # Assigning random processing times for each job\n",
    "    stack1 = np.random.randint(stack1_border_low,stack1_border_high, size=stack1_number)\n",
    "    stack2 = np.random.randint(stack2_border_low,stack2_border_high, size=stack2_number)\n",
    "\n",
    "    process_times = np.concatenate((stack1 ,stack2), axis=0)\n",
    "    \n",
    "    return process_times\n",
    "\n",
    "##print(creating_process_times(30,10,5))\n",
    "\n",
    "# time_high\n",
    "# time_low"
   ]
  },
  {
   "cell_type": "code",
   "execution_count": 19,
   "metadata": {},
   "outputs": [
    {
     "name": "stdout",
     "output_type": "stream",
     "text": [
      "[1 0 2 2 0 2 2 2 0 2]\n",
      "[array([1, 0, 2, 2, 0, 2, 2, 2, 0, 2])]\n",
      "[0 0 1 0 2 1 0 2 1 2]\n",
      "[array([1, 0, 2, 2, 0, 2, 2, 2, 0, 2]), array([0, 0, 1, 0, 2, 1, 0, 2, 1, 2])]\n",
      "[2 1 2 2 2 0 2 1 0 1]\n",
      "[array([1, 0, 2, 2, 0, 2, 2, 2, 0, 2]), array([0, 0, 1, 0, 2, 1, 0, 2, 1, 2]), array([2, 1, 2, 2, 2, 0, 2, 1, 0, 1])]\n",
      "[array([1, 0, 2, 2, 0, 2, 2, 2, 0, 2]), array([0, 0, 1, 0, 2, 1, 0, 2, 1, 2]), array([2, 1, 2, 2, 2, 0, 2, 1, 0, 1])]\n"
     ]
    }
   ],
   "source": [
    "def assigning_jobs_to_machines(machine_number,job_number,population_size):\n",
    "    # Assigning random jobs to machines\n",
    "    population=[]\n",
    "    job_locations = []\n",
    "    #job_locations = np.random.randint(0,machine_number,size = job_number)\n",
    "    \n",
    "    for i in range(population_size):\n",
    "        job_locations = np.random.randint(0,machine_number,size = job_number)\n",
    "        print(job_locations)\n",
    "        population.append(job_locations)\n",
    "        #population= np.append(population job_locations, 0)\n",
    "        print(population)\n",
    "        job_locations = []\n",
    "        \n",
    "    return population\n",
    "\n",
    "print(assigning_jobs_to_machines(3,10,3))"
   ]
  },
  {
   "cell_type": "code",
   "execution_count": 6,
   "metadata": {
    "collapsed": true
   },
   "outputs": [],
   "source": [
    "# calculate processing time\n",
    "def compute_time(process_times, job_locations,machines):\n",
    "    time = 0\n",
    "    max_time = 0\n",
    "    for i in range(len(machines)):\n",
    "       \n",
    "        for j in range(len(job_locations)):\n",
    "            if job_locations[j] == i:\n",
    "                time = time + process_times[j]\n",
    "                \n",
    "        if time > max_time:\n",
    "            max_time = time\n",
    "    \n",
    "        print(time)\n",
    "        time = 0               \n",
    "                \n",
    "            \n",
    "    return max_time"
   ]
  },
  {
   "cell_type": "code",
   "execution_count": 7,
   "metadata": {},
   "outputs": [
    {
     "ename": "NameError",
     "evalue": "name 'process_times' is not defined",
     "output_type": "error",
     "traceback": [
      "\u001b[1;31m---------------------------------------------------------------------------\u001b[0m",
      "\u001b[1;31mNameError\u001b[0m                                 Traceback (most recent call last)",
      "\u001b[1;32m<ipython-input-7-a715484d4a0c>\u001b[0m in \u001b[0;36m<module>\u001b[1;34m()\u001b[0m\n\u001b[1;32m----> 1\u001b[1;33m \u001b[0mtime\u001b[0m \u001b[1;33m=\u001b[0m \u001b[0mcompute_time\u001b[0m\u001b[1;33m(\u001b[0m\u001b[0mprocess_times\u001b[0m\u001b[1;33m,\u001b[0m \u001b[0mjob_locations\u001b[0m\u001b[1;33m,\u001b[0m\u001b[0mmachines\u001b[0m\u001b[1;33m)\u001b[0m\u001b[1;33m\u001b[0m\u001b[0m\n\u001b[0m\u001b[0;32m      2\u001b[0m \u001b[0mtime\u001b[0m\u001b[1;33m\u001b[0m\u001b[0m\n\u001b[0;32m      3\u001b[0m \u001b[1;33m\u001b[0m\u001b[0m\n\u001b[0;32m      4\u001b[0m \u001b[1;33m\u001b[0m\u001b[0m\n\u001b[0;32m      5\u001b[0m \u001b[1;31m# array = [2, 3, 4, 5]\u001b[0m\u001b[1;33m\u001b[0m\u001b[1;33m\u001b[0m\u001b[0m\n",
      "\u001b[1;31mNameError\u001b[0m: name 'process_times' is not defined"
     ]
    }
   ],
   "source": [
    "time = compute_time(process_times, job_locations,machines)\n",
    "time\n",
    "\n",
    "\n",
    "# array = [2, 3, 4, 5]\n",
    "# array[1]"
   ]
  },
  {
   "cell_type": "code",
   "execution_count": null,
   "metadata": {
    "collapsed": true
   },
   "outputs": [],
   "source": [
    "def initialize(population_size,machine_number,job_number):\n",
    "    define_machines(machine_number)\n",
    "    creating_process_times(30,10,job_number)\n",
    "    chromosomes = []\n",
    "    \n",
    "    for i in range(population_size):\n",
    "        job_locations = assigning_jobs_to_machines(machine_number,job_number)\n",
    "        print(i)\n",
    "        chromosomes.append(np.copy(job_locations))\n",
    "    \n",
    "    return chromosomes\n",
    "print(initialize(5,3,5))"
   ]
  },
  {
   "cell_type": "markdown",
   "metadata": {},
   "source": [
    "## 2. Evaluation"
   ]
  },
  {
   "cell_type": "code",
   "execution_count": null,
   "metadata": {
    "collapsed": true
   },
   "outputs": [],
   "source": [
    "# take the function \"compute time\" and get fitness level for each chromosome, give back array of fitness values\n",
    "def evaluate(chromosomes):\n",
    "    return chromosome_fitness_level"
   ]
  },
  {
   "cell_type": "markdown",
   "metadata": {},
   "source": [
    "## 3. Selection"
   ]
  },
  {
   "cell_type": "code",
   "execution_count": null,
   "metadata": {
    "collapsed": true
   },
   "outputs": [],
   "source": [
    "def select(chromosomes,chromosome_fitness_level):\n",
    "    # TODO: take the variable \"mating pool\" and get this number of chromosomes from the population (Roulette, Tournament)\n",
    "    # returns array of chromosomes (mating pool)\n",
    "    select the chromosome according to algorithm like rhoulette wheel selection and return the matin_pool as chromosomes\n",
    "    chromosome = []\n",
    "    return chromosomes"
   ]
  },
  {
   "cell_type": "markdown",
   "metadata": {},
   "source": [
    "## 4. Recombination"
   ]
  },
  {
   "cell_type": "code",
   "execution_count": 1,
   "metadata": {
    "collapsed": true
   },
   "outputs": [],
   "source": [
    "def one_point_crossover(parent1,parent2):\n",
    "    location = np.random.randint(0,len(parent1))\n",
    "    child1 = np.copy(parent1)\n",
    "    child2 = np.copy(parent2)\n",
    "    for i in range(len(parent1)):\n",
    "        if i <= location:\n",
    "            child1[i] = parent1[i]\n",
    "            child2[i] = parent2[i]\n",
    "        else:\n",
    "            child1[i] = parent2[i]\n",
    "            child2[i] = parent1[i]\n",
    "            \n",
    "    return child1,child2  "
   ]
  },
  {
   "cell_type": "code",
   "execution_count": 2,
   "metadata": {
    "collapsed": true
   },
   "outputs": [],
   "source": [
    "def uniform_crossover(parent1, parent2):\n",
    "    location_array = np.random.choice(2, len(parent1))\n",
    "    child1 = np.copy(parent1)\n",
    "    child2 = np.copy(parent2)\n",
    "    for i in range(len(parent1)):\n",
    "        if location_array[i] == 0:\n",
    "            child1[i] = parent1[i]\n",
    "            child2[i] = parent2[i]\n",
    "        else:\n",
    "            child1[i] = parent2[i]\n",
    "            child2[i] = parent1[i]\n",
    "            \n",
    "    return child1,child2"
   ]
  },
  {
   "cell_type": "code",
   "execution_count": 3,
   "metadata": {
    "collapsed": true
   },
   "outputs": [],
   "source": [
    "def recombine_one_point_crossover(mating_pool,crossover_probability):\n",
    "    # takes randomly two chromosomes and performs one point crossover / two point\n",
    "     # crossover probability that two \"parents\" fuck, if not they just get copied\n",
    "    # returns children array, same size like mating pool \n",
    "    \n",
    "    children_chromosome = []\n",
    "    i = 0\n",
    "    while len(mating_pool) > 0:\n",
    "        parent1 = mating_pool.pop()\n",
    "        parent2 = mating_pool.pop()\n",
    "        \n",
    "        if random.random() < crossover_probability:\n",
    "            child1, child2 = one_point_crossover(parent1,parent2)\n",
    "            children_chromosome.append(child1)\n",
    "            children_chromosome.append(child2)\n",
    "        else:\n",
    "            children_chromosome.append(parent1)\n",
    "            children_chromosome.append(parent2)\n",
    "            print(parent1)\n",
    "            print(parent2)\n",
    "        i += 1\n",
    "    \n",
    "    return children_chromosome"
   ]
  },
  {
   "cell_type": "code",
   "execution_count": 4,
   "metadata": {
    "collapsed": true
   },
   "outputs": [],
   "source": [
    "def recombine_uniform_crossover(mating_pool,crossover_probability):\n",
    "    # takes randomly two chromosomes and performs one point crossover / two point\n",
    "     # crossover probability that two \"parents\" fuck, if not they just get copied\n",
    "    # returns children array, same size like mating pool \n",
    "    \n",
    "    children_chromosome = []\n",
    "    i = 0\n",
    "    while len(mating_pool) > 0:\n",
    "        parent1 = mating_pool.pop()\n",
    "        parent2 = mating_pool.pop()\n",
    "        \n",
    "        if random.random() < crossover_probability:\n",
    "            child1, child2 = uniform_crossover(parent1,parent2)\n",
    "            children_chromosome.append(child1)\n",
    "            children_chromosome.append(child2)\n",
    "        else:\n",
    "            children_chromosome.append(parent1)\n",
    "            children_chromosome.append(parent2)\n",
    "            print(parent1)\n",
    "            print(parent2)\n",
    "        i += 1\n",
    "    \n",
    "    return children_chromosome"
   ]
  },
  {
   "cell_type": "markdown",
   "metadata": {},
   "source": [
    "## 5. Mutation"
   ]
  },
  {
   "cell_type": "code",
   "execution_count": null,
   "metadata": {
    "collapsed": true
   },
   "outputs": [],
   "source": [
    "def mutate(child_chromosomes):\n",
    "    # goes through children_chromosome, get changed with mutation probability, ramdom machine_flip / swap\n",
    "    # gives back children array\n",
    "    mutateted_child_chromsomes = np.copy(child_chromosomes)\n",
    "    return mutateted_child_chromsomes\n",
    "    "
   ]
  },
  {
   "cell_type": "markdown",
   "metadata": {},
   "source": [
    "## 6. Replacement"
   ]
  },
  {
   "cell_type": "code",
   "execution_count": null,
   "metadata": {
    "collapsed": true
   },
   "outputs": [],
   "source": [
    "def replace(parent_chromosomes,child_chromosomes):\n",
    "    # gets population & children array, gives back new population\n",
    "    # delete_all - look at the difference in size between population and children, take the best ones of population to get rid difference, then delete rest and put children in\n",
    "    # choose_best - look at population and children at same time, choose the best ones of all to get new population\n",
    "    new_parent_chromosomes = np.copy(parent_chromosomes)\n",
    "    return new_parent_chromosomes"
   ]
  },
  {
   "cell_type": "markdown",
   "metadata": {},
   "source": [
    "## 7. Action"
   ]
  },
  {
   "cell_type": "code",
   "execution_count": null,
   "metadata": {
    "collapsed": true
   },
   "outputs": [],
   "source": [
    "#variables\n",
    "population_size = 5\n",
    "machine_number = 3\n",
    "job_number = 5\n",
    "mating_pool = 4\n",
    "crossover_probability \n",
    "mutation_probability\n",
    "\n",
    "\n",
    "# Initialization\n",
    "chromosomes = initialize(population_size,machine_number,job_number)\n",
    "\n",
    "#start loop\n",
    "\n",
    "# Evaluation\n",
    "evaluate(chromosomes)\n",
    "\n",
    "# Selection\n",
    "chromosome1 = select()\n",
    "chromosome2 = select()\n",
    "\n",
    "# Recombination\n",
    "recombine()\n",
    "\n",
    "# Mutation\n",
    "mutate()\n",
    "\n",
    "# Replacement\n",
    "replace()\n",
    "\n",
    "\n",
    "# convergence: if they don't change after lot of iterations (idea: just look at every 100th one if it stopped changing)"
   ]
  },
  {
   "cell_type": "raw",
   "metadata": {},
   "source": []
  },
  {
   "cell_type": "code",
   "execution_count": null,
   "metadata": {
    "collapsed": true
   },
   "outputs": [],
   "source": []
  }
 ],
 "metadata": {
  "kernelspec": {
   "display_name": "Python 3",
   "language": "python",
   "name": "python3"
  },
  "language_info": {
   "codemirror_mode": {
    "name": "ipython",
    "version": 3
   },
   "file_extension": ".py",
   "mimetype": "text/x-python",
   "name": "python",
   "nbconvert_exporter": "python",
   "pygments_lexer": "ipython3",
   "version": "3.6.3"
  }
 },
 "nbformat": 4,
 "nbformat_minor": 2
}