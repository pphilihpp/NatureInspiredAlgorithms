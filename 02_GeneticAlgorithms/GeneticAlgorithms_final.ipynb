{
 "cells": [
  {
   "cell_type": "markdown",
   "metadata": {},
   "source": [
    "# Genetic Algorithms"
   ]
  },
  {
   "cell_type": "markdown",
   "metadata": {},
   "source": [
    "This jupyter notebook applies genetic algorithm to the Makespan Problem. Genetic Algorithms are search methods based on selection and genetics. We define \"chromosomes\" as candidate solutions. The Makespan problem deals with the time a job takes from the beginning to the end. Given 1,...,n jobs with processing time p1,...,pn and m machines, the task is to assign jobs to machines in a way that minimizes time to finish all jobs.\n",
    "\n",
    "Cited literature comes from Sastry, Goldberg and Kendall's \"Genetic Algorithms\"."
   ]
  },
  {
   "cell_type": "markdown",
   "metadata": {},
   "source": [
    "## 1. Initialization"
   ]
  },
  {
   "cell_type": "code",
   "execution_count": 1,
   "metadata": {},
   "outputs": [],
   "source": [
    "import numpy as np\n",
    "import random\n",
    "import math\n",
    "import matplotlib.pyplot as plt\n",
    "from datetime import datetime"
   ]
  },
  {
   "cell_type": "markdown",
   "metadata": {},
   "source": [
    "In the initialization we first set up a list that illustrates the total number of machines. Starting from machine 0 until a given integer."
   ]
  },
  {
   "cell_type": "code",
   "execution_count": 2,
   "metadata": {},
   "outputs": [],
   "source": [
    "def define_machines(machine_number):\n",
    "    machines = []\n",
    "\n",
    "    for i in range(machine_number):\n",
    "        machines.append(i) \n",
    "    return machines   \n"
   ]
  },
  {
   "cell_type": "code",
   "execution_count": null,
   "metadata": {},
   "outputs": [],
   "source": []
  },
  {
   "cell_type": "markdown",
   "metadata": {},
   "source": [
    "In our example each job may take a while. The \"process time\" is random but has to be within an interval that is defined via a lower and an upper bound. Here these bounds are called borders. The output is an array that displays the time each job takes. That means positions 0 stands for job 0 and the integer that is taken at this position signifies the process time that is assigned to this job."
   ]
  },
  {
   "cell_type": "code",
   "execution_count": 3,
   "metadata": {},
   "outputs": [],
   "source": [
    "def creating_process_times(stack1_border_high,stack1_border_low,stack1_number,stack2_border_high,\n",
    "                           stack2_border_low,stack2_number):\n",
    "    \n",
    "    stack1 = np.random.randint(stack1_border_low,stack1_border_high+1, size=stack1_number)\n",
    "    stack2 = np.random.randint(stack2_border_low,stack2_border_high+1, size=stack2_number)\n",
    "\n",
    "    process_times = np.concatenate((stack1 ,stack2), axis=0)\n",
    "    \n",
    "    return process_times\n",
    "\n"
   ]
  },
  {
   "cell_type": "markdown",
   "metadata": {},
   "source": [
    "The initialization function randomly assigns jobs to machines. It takes the number of total machines (machine_number), the number of total jobs (job_number) and the population size. The population size is the most important factor when it comes to scalability and performance of our algorithm. A small population sizes might have the consequence that it will converge too quickly and delivers \"substandard solutions\". A large population size, on the other hand, may lead to \"unnecessary expenditure of valuable computational time\". The output is a list of arrays that displays all candidate solutions. "
   ]
  },
  {
   "cell_type": "code",
   "execution_count": 4,
   "metadata": {},
   "outputs": [],
   "source": [
    "def initialize(machine_number,job_number,population_size):\n",
    "    # Assigning random jobs to machines\n",
    "    population = []\n",
    "    chromosone = []\n",
    "    #job_locations = np.random.randint(0,machine_number,size = job_number)\n",
    "    \n",
    "    for i in range(population_size):\n",
    "        chromosone = np.random.randint(0,machine_number,size = job_number)\n",
    "        population.append(chromosone)\n",
    "        job_locations = []\n",
    "        \n",
    "    return population\n",
    "\n"
   ]
  },
  {
   "cell_type": "markdown",
   "metadata": {},
   "source": [
    "The evaluate_chromosomes function takes the process_time that each job takes, the chromosomes and the machines as input and evaluates how \"fit\" each chromosome is, i.e. how long it takes to get all the jobs done. In order to find out how long a chromosome takes, we have to add all processing times for each job that belong to one machine. The machine with the longest processing time defines the fitness of a chromosome. "
   ]
  },
  {
   "cell_type": "code",
   "execution_count": 5,
   "metadata": {},
   "outputs": [],
   "source": [
    "# calculate processing time\n",
    "def evaluate_chromosones(process_times,chromosone,machines):\n",
    "    time = 0\n",
    "    max_time = 0\n",
    "    for i in range(machines):\n",
    "       \n",
    "        for j in range(len(chromosone)):\n",
    "            if chromosone[j] == i:\n",
    "                time = time + process_times[j]\n",
    "                \n",
    "        if time > max_time:\n",
    "            max_time = time\n",
    "    \n",
    "        time = 0               \n",
    "                \n",
    "    chromosome_fitness_level= -max_time      \n",
    "    return chromosome_fitness_level\n",
    "#print(evaluate_chromosones([ 5, 5, 5, 7, 7, 6, 5],[0, 1, 1, 1, 2, 1, 0],3))"
   ]
  },
  {
   "cell_type": "markdown",
   "metadata": {},
   "source": [
    "## 2. Evaluation"
   ]
  },
  {
   "cell_type": "markdown",
   "metadata": {},
   "source": [
    "The Initialization has finished and the evaluate function calculates and array called population_fitness that displays the fitness level of each chromosome. Note that the order of the fitness values is important since it marks to which chromosome it belongs to. "
   ]
  },
  {
   "cell_type": "code",
   "execution_count": 6,
   "metadata": {},
   "outputs": [
    {
     "data": {
      "text/plain": [
       "[-11, -8, -8, -9, -11]"
      ]
     },
     "execution_count": 6,
     "metadata": {},
     "output_type": "execute_result"
    }
   ],
   "source": [
    "\n",
    "# take the function \"compute time\" and get fitness level for each chromosome, give back array of fitness values\n",
    "def evaluate(population,process_times,machines):\n",
    "    population_fitness = []\n",
    "    for i in (population):\n",
    "        population_fitness.append(evaluate_chromosones(process_times, i,machines))\n",
    "    return population_fitness\n",
    "\n",
    "\n",
    "# evaluate_chromosones(process_times, chromosone,machines):\n",
    "# creating_process_times(stack1_border_high,stack1_border_low,stack1_number,stack2_border_high,stack2_border_low,stack2_number):\n",
    "# initialize(machine_number,job_number,population_size):\n",
    "evaluate(initialize(2,5,5), creating_process_times(4,1,5,8,5,5),2)"
   ]
  },
  {
   "cell_type": "markdown",
   "metadata": {},
   "source": [
    "## 3. Selection"
   ]
  },
  {
   "cell_type": "markdown",
   "metadata": {},
   "source": [
    "Now the survival-of-the-fittest mechanism comes into play and is applied to the candidate solutions. We chose two different selection processes. On the one hand, roulette wheel selection and on the other hand, tournament selection. \n",
    "\n",
    "In roulette wheel selection, the method receives the population, the fitness of the population as an array (order important) and the mating pool size. It first calculates the probability of each candidate according to its fitness value. Metaphorically speaking, we are designing a huge roulette wheel with spot sizes illustrating the probability of each candidate. Good solutions (i.e. smaller fitness values) have smaller slots (biased). Note that we are looking for the smallest fitness value since we want to minimize the processing time in our optimization problem. After calculating the cumulative propability (boundaries), a uniform random number called rand_mate $\\in $ (0,1) is selected. If rand_mate < boundaries, then select the first chromosome. Consider also the case that rand_mate might be 1 and the mating pool is the same as the population."
   ]
  },
  {
   "cell_type": "code",
   "execution_count": 7,
   "metadata": {},
   "outputs": [
    {
     "data": {
      "text/plain": [
       "[[1, 1, 0, 0, 1, 0, 1, 0, 1, 0],\n",
       " [0, 1, 1, 1, 0, 1, 0, 0, 1, 1],\n",
       " [1, 0, 1, 0, 0, 0, 1, 1, 1, 0],\n",
       " [0, 1, 0, 0, 1, 1, 0, 1, 0, 1],\n",
       " [0, 1, 0, 0, 1, 1, 0, 1, 0, 1]]"
      ]
     },
     "execution_count": 7,
     "metadata": {},
     "output_type": "execute_result"
    }
   ],
   "source": [
    "def roulette_select(population,population_fitness,mating_pool_size):\n",
    "    # TODO: take the variable \"mating pool\" and get this number of chromosomes from the population (Roulette, Tournament)\n",
    "    # returns array of chromosomes (mating pool)\n",
    "    \n",
    "    denominator = np.sum(population_fitness)*-1\n",
    "   \n",
    "    for i in range(len(population_fitness)):\n",
    "       \n",
    "        population_fitness[i]=population_fitness[i] + denominator\n",
    "        \n",
    "    denominator = np.sum(population_fitness)\n",
    "    probabilities = np.true_divide(population_fitness, denominator)\n",
    "    \n",
    "    boundaries = []\n",
    "    boundaries.append(0)\n",
    "    boundaries[0] = probabilities[0]\n",
    "    for i in range(1,len(probabilities)):\n",
    "        boundaries.append(0)\n",
    "        boundaries[i] = probabilities[i]+boundaries[i-1]\n",
    "    mating_pool = []\n",
    "   \n",
    "    for i in range(mating_pool_size):\n",
    "        rand_mate = np.random.uniform(0,1)\n",
    "        #print(rand_mate)\n",
    "        for j in range(len(boundaries)):\n",
    "            if boundaries[j] > rand_mate:\n",
    "                mating_pool.append(population[j])\n",
    "                break\n",
    "            if rand_mate == 1:\n",
    "                mating_pool.append(population[0])\n",
    "                break\n",
    "    #select the chromosome according to algorithm like rhoulette wheel selection and return the matin_pool as chromosomes\n",
    "    \n",
    "    return mating_pool\n",
    "\n",
    "population = [[1, 0, 1, 0, 1, 0, 0, 1, 1, 1], [0, 0, 1, 0, 0, 1, 0, 1, 0, 1], [0, 1, 0, 1, 0, 1, 0, 1, 1, 1], [0, 1, 1, 1, 0, 1, 0, 0, 1, 1], [1, 0, 0, 0, 0, 1, 1, 1, 1, 0], [0, 0, 1, 1, 0, 0, 0, 1, 0, 1], [1, 0, 1, 0, 0, 0, 1, 1, 1, 0], [1, 1, 0, 0, 0, 1, 0, 1, 0, 1], [1, 1, 0, 0, 1, 0, 1, 0, 1, 0], [0, 1, 0, 0, 1, 1, 0, 1, 0, 1]]\n",
    "population_fitness = [-23, -25, -17, -27, -40, -30, -11, -23, -30, -23]\n",
    "\n",
    "\n",
    "roulette_select(population,population_fitness,5)"
   ]
  },
  {
   "cell_type": "markdown",
   "metadata": {},
   "source": [
    "The second selection method is called tournament selection. It also takes the population, its fitness array and the mating pool size as input. It basically takes the chromosomes that have the lowest fitness values. Note that we have an optimization problem where we want to minimize the total processing time. "
   ]
  },
  {
   "cell_type": "code",
   "execution_count": 8,
   "metadata": {},
   "outputs": [
    {
     "data": {
      "text/plain": [
       "[[0, 0, 1, 0, 0, 1, 0, 1, 0, 1],\n",
       " [1, 0, 1, 0, 1, 0, 0, 1, 1, 1],\n",
       " [0, 1, 0, 1, 0, 1, 0, 1, 1, 1],\n",
       " [0, 1, 1, 1, 0, 1, 0, 0, 1, 1],\n",
       " [1, 0, 0, 0, 0, 1, 1, 1, 1, 0]]"
      ]
     },
     "execution_count": 8,
     "metadata": {},
     "output_type": "execute_result"
    }
   ],
   "source": [
    "def tournament_select(population,population_fitness,mating_pool_size):\n",
    "    # TODO: take the variable \"mating pool\" and get this number of chromosomes from the population (Roulette, Tournament)\n",
    "    # returns array of chromosomes (mating pool)\n",
    "\n",
    "    mating_pool=[]\n",
    "    highest_fitness_level= 0\n",
    "    old_highest_fitnesslevel_location=[]\n",
    "    b=0\n",
    "    for i in range(0,mating_pool_size):\n",
    "        for j in range(0,len(population_fitness)):\n",
    "            if population_fitness[j]>highest_fitness_level and j not in old_highest_fitnesslevel_location:\n",
    "                highest_fitness_level=population_fitness[j]\n",
    "             \n",
    "                b=j\n",
    "        mating_pool.append(population[b])\n",
    "        \n",
    "        old_highest_fitnesslevel_location.append(b)\n",
    "        \n",
    "        highest_fitness_level=0\n",
    "                     \n",
    "                       \n",
    "                       \n",
    "\n",
    "    \n",
    "    \n",
    "    return mating_pool \n",
    "   # return mydict\n",
    "\n",
    "\n",
    "\n",
    "population = [[1, 0, 1, 0, 1, 0, 0, 1, 1, 1], [0, 0, 1, 0, 0, 1, 0, 1, 0, 1], [0, 1, 0, 1, 0, 1, 0, 1, 1, 1], [0, 1, 1, 1, 0, 1, 0, 0, 1, 1], [1, 0, 0, 0, 0, 1, 1, 1, 1, 0], [0, 0, 1, 1, 0, 0, 0, 1, 0, 1], [1, 0, 1, 0, 0, 0, 1, 1, 1, 0], [1, 1, 0, 0, 0, 1, 0, 1, 0, 1], [1, 1, 0, 0, 1, 0, 1, 0, 1, 0], [0, 1, 0, 0, 1, 1, 0, 1, 0, 1]]\n",
    "population_fitness = [50,52, 40, 39, 32, 30, 20, 23, 25, 24]\n",
    "\n",
    "tournament_select(population,population_fitness,5)\n",
    "#print(population_fitness)\n",
    "\n",
    "# Issues:\n",
    "#  problem is that saving the old best fitness level locations in an array and checking for that does not work yet.\n",
    "# and also in the append of the mating pool it's' still appending the\n",
    "# fitnesslevel of las position of the j loop when we actually want to append population[j]"
   ]
  },
  {
   "cell_type": "code",
   "execution_count": null,
   "metadata": {},
   "outputs": [],
   "source": [
    "\n",
    "\n"
   ]
  },
  {
   "cell_type": "markdown",
   "metadata": {},
   "source": [
    "## 4. Recombination"
   ]
  },
  {
   "cell_type": "markdown",
   "metadata": {},
   "source": [
    "In recombination, two chromosomes are taken, called parent1 and parent2, and they are recombined (have children, here: child1 and child2) that might produce better outputs, i.e. lower fitness values. Note that we are looking for the lowest fitness value since we want to minimize the processing time. \n",
    "\n",
    "We used two different methods of recombination. On the one hand, one-point-crossover and on the other hand, uniform-crossover. In one-point crossover the parents are recombined in such way that child1 receives the values of parent1 for everything less or equal than a randomly set location, and the values of parent2 for all entries greater than the location. Conversely this holds for child2."
   ]
  },
  {
   "cell_type": "code",
   "execution_count": 9,
   "metadata": {},
   "outputs": [],
   "source": [
    "def one_point_crossover(parent1,parent2):\n",
    "    location = np.random.randint(0,len(parent1))\n",
    "    child1 = np.copy(parent1)\n",
    "    child2 = np.copy(parent2)\n",
    "    for i in range(len(parent1)):\n",
    "        if i <= location:\n",
    "            child1[i] = parent1[i]\n",
    "            child2[i] = parent2[i]\n",
    "        else:\n",
    "            child1[i] = parent2[i]\n",
    "            child2[i] = parent1[i]\n",
    "            \n",
    "    return child1,child2  "
   ]
  },
  {
   "cell_type": "markdown",
   "metadata": {},
   "source": [
    "Uniform-crossover randomly initializes a location_array that consists of 0 and 1's (same length as the parent arrays). Child1 receives the values of parent1 if the value in the location array is 0. It receives the values of parent2 if the value in the location array is 1. Conversely this holds for child2.  "
   ]
  },
  {
   "cell_type": "code",
   "execution_count": 10,
   "metadata": {},
   "outputs": [],
   "source": [
    "def uniform_crossover(parent1, parent2):\n",
    "    location_array = np.random.choice(2, len(parent1))\n",
    "    child1 = np.copy(parent1)\n",
    "    child2 = np.copy(parent2)\n",
    "    for i in range(len(parent1)):\n",
    "        if location_array[i] == 0:\n",
    "            child1[i] = parent1[i]\n",
    "            child2[i] = parent2[i]\n",
    "        else:\n",
    "            child1[i] = parent2[i]\n",
    "            child2[i] = parent1[i]\n",
    "            \n",
    "    return child1,child2"
   ]
  },
  {
   "cell_type": "code",
   "execution_count": 11,
   "metadata": {},
   "outputs": [],
   "source": [
    "def recombine_one_point_crossover(mating_pool,crossover_probability):\n",
    "    # takes randomly two chromosomes and performs one point crossover / two point\n",
    "     # crossover probability that two \"parents\" fuck, if not they just get copied\n",
    "    # returns children array, same size like mating pool \n",
    "    \n",
    "    children_chromosome = []\n",
    "    i = 0\n",
    "    while len(mating_pool) > 0:\n",
    "        parent1 = mating_pool.pop()\n",
    "        parent2 = mating_pool.pop()\n",
    "        \n",
    "        if random.random() < crossover_probability:\n",
    "            child1, child2 = one_point_crossover(parent1,parent2)\n",
    "            children_chromosome.append(child1)\n",
    "            children_chromosome.append(child2)\n",
    "        else:\n",
    "            children_chromosome.append(parent1)\n",
    "            children_chromosome.append(parent2)\n",
    "        i += 1\n",
    "    \n",
    "    return children_chromosome"
   ]
  },
  {
   "cell_type": "code",
   "execution_count": 12,
   "metadata": {},
   "outputs": [],
   "source": [
    "def recombine_uniform_crossover(mating_pool,crossover_probability):\n",
    "    # takes randomly two chromosomes and performs one point crossover / two point\n",
    "     # crossover probability that two \"parents\" fuck, if not they just get copied\n",
    "    # returns children array, same size like mating pool \n",
    "    \n",
    "    children_chromosome = []\n",
    "    i = 0\n",
    "    while len(mating_pool) > 0:\n",
    "        parent1 = mating_pool.pop()\n",
    "        parent2 = mating_pool.pop()\n",
    "        \n",
    "        if random.random() < crossover_probability:\n",
    "            child1, child2 = uniform_crossover(parent1,parent2)\n",
    "            children_chromosome.append(child1)\n",
    "            children_chromosome.append(child2)\n",
    "        else:\n",
    "            children_chromosome.append(parent1)\n",
    "            children_chromosome.append(parent2)\n",
    "        i += 1\n",
    "    \n",
    "    return children_chromosome"
   ]
  },
  {
   "cell_type": "markdown",
   "metadata": {},
   "source": [
    "## 5. Mutation"
   ]
  },
  {
   "cell_type": "markdown",
   "metadata": {},
   "source": [
    "Mutation (in contrast to recombination) operates locally and tries to improve the fitness level with local optimization techniques. Here we consider the flip method and the swap method. "
   ]
  },
  {
   "cell_type": "code",
   "execution_count": 13,
   "metadata": {},
   "outputs": [
    {
     "name": "stdout",
     "output_type": "stream",
     "text": [
      "[2 1 2 3 0]\n"
     ]
    }
   ],
   "source": [
    "def flip(child_chromosome,mutation_probability,machine_number):\n",
    "    mutated_child_chromosome = np.copy(child_chromosome)\n",
    "    if random.random() < mutation_probability:\n",
    "        location = np.random.randint(0,len(child_chromosome))\n",
    "        new_machine_number = np.random.randint(0,machine_number+1)\n",
    "        mutated_child_chromosome[location] = new_machine_number \n",
    "    return mutated_child_chromosome\n",
    "print(flip([0,1,2,3,0],0.5,4))"
   ]
  },
  {
   "cell_type": "code",
   "execution_count": 14,
   "metadata": {},
   "outputs": [
    {
     "name": "stdout",
     "output_type": "stream",
     "text": [
      "[1 0 2 3 0]\n"
     ]
    }
   ],
   "source": [
    "def swap(child_chromosome,mutation_probability):\n",
    "    mutated_child_chromosome = np.copy(child_chromosome)\n",
    "    if random.random() < mutation_probability:\n",
    "        location1 = np.random.randint(0,len(child_chromosome))\n",
    "        location2 = np.random.randint(0,len(child_chromosome))\n",
    "        while location1 == location2:\n",
    "                location2 = np.random.randint(0,len(child_chromosome))\n",
    "        help_variable = mutated_child_chromosome[location1]\n",
    "        mutated_child_chromosome[location1] = mutated_child_chromosome[location2]\n",
    "        mutated_child_chromosome[location2] = help_variable\n",
    "    return mutated_child_chromosome\n",
    "print(swap([0,1,2,3,0],0.5))"
   ]
  },
  {
   "cell_type": "code",
   "execution_count": 15,
   "metadata": {},
   "outputs": [],
   "source": [
    "def mutate_flip(child_chromosomes,mutation_probability,machine_number):\n",
    "    # goes through children_chromosome, get changed with mutation probability, ramdom machine_flip / swap\n",
    "    # gives back children array\n",
    "    mutated_child_chromosomes = np.copy(child_chromosomes)\n",
    "    for i in range(len(child_chromosomes)):\n",
    "        child_chromosomes[i] = flip(child_chromosomes[i],mutation_probability,machine_number)\n",
    "    return mutated_child_chromosomes"
   ]
  },
  {
   "cell_type": "code",
   "execution_count": 16,
   "metadata": {},
   "outputs": [],
   "source": [
    "def mutate_swap(child_chromosomes,mutation_probability,machine_number):\n",
    "    # goes through children_chromosome, get changed with mutation probability, ramdom machine_flip / swap\n",
    "    # gives back children array\n",
    "    mutated_child_chromosomes = np.copy(child_chromosomes)\n",
    "    for i in range(len(child_chromosomes)):\n",
    "        child_chromosomes[i] = swap(child_chromosomes[i],mutation_probability)\n",
    "    return mutated_child_chromosomes"
   ]
  },
  {
   "cell_type": "markdown",
   "metadata": {},
   "source": [
    "## 6. Replacement"
   ]
  },
  {
   "cell_type": "code",
   "execution_count": 17,
   "metadata": {},
   "outputs": [],
   "source": [
    "def replace_deleteall(chromosomes,children_chromosomes,process_times,machine_number):\n",
    "    # gets population & children array, gives back new population\n",
    "    # delete_all - look at the difference in size between population and children, take the best ones of population to get rid difference, then delete rest and put children in\n",
    "    # choose_best - look at population and children at same time, choose the best ones of all to get new population\n",
    "    if len(chromosomes) == len(children_chromosomes):\n",
    "        new_chromosomes = np.copy(children_chromosomes)\n",
    "    else:\n",
    "        new_chromosomes = []\n",
    "        difference = len(chromosomes)-len(children_chromosomes)\n",
    "        \n",
    "        while (len(new_chromosomes) < difference):\n",
    "            chromosomes_values = evaluate(chromosomes,process_times,machine_number)\n",
    "            max_value = max(chromosomes_values)\n",
    "            max_index = chromosomes_values.index(max_value)\n",
    "            new_chromosomes.append(chromosomes[max_index])\n",
    "            chromosomes.delete[max_index]\n",
    "            \n",
    "        new_chromosomes.extend(children_chromosomes)\n",
    "    \n",
    "    return new_chromosomes\n",
    "\n",
    "\n",
    "def replace_choosebest(chromosomes, children_chromosomes,process_times,machine_number):\n",
    "    \n",
    "    new_chromosomes = []\n",
    "    all_chromosomes =[]\n",
    "    all_chromosomes.extend(chromosomes)\n",
    "    all_chromosomes.extend(children_chromosomes)\n",
    "    \n",
    "    while (len(new_chromosomes) < len(chromosomes)):\n",
    "            chromosomes_values = evaluate(all_chromosomes,process_times,machine_number)\n",
    "            max_value = max(chromosomes_values)\n",
    "            max_index = chromosomes_values.index(max_value)\n",
    "            new_chromosomes.append(all_chromosomes[max_index])\n",
    "            del all_chromosomes[max_index]\n",
    "    \n",
    "    return new_chromosomes"
   ]
  },
  {
   "cell_type": "markdown",
   "metadata": {},
   "source": [
    "## 7. Action"
   ]
  },
  {
   "cell_type": "code",
   "execution_count": null,
   "metadata": {},
   "outputs": [],
   "source": []
  },
  {
   "cell_type": "code",
   "execution_count": 56,
   "metadata": {},
   "outputs": [],
   "source": [
    "population_size = 10\n",
    "machine_number = 20\n",
    "job_number = 300\n",
    "stack1_border_high = 10000\n",
    "stack1_border_low = 10\n",
    "stack1_number = 200\n",
    "stack2_border_high = 1000\n",
    "stack2_border_low = 100\n",
    "stack2_number = 100\n",
    "# Initialization\n",
    "chromosomes = []\n",
    "chromosomes = initialize(machine_number,job_number,population_size)\n",
    "process_times = creating_process_times(stack1_border_high,stack1_border_low,stack1_number,stack2_border_high,stack2_border_low,stack2_number)\n",
    "copy_population=chromosomes\n"
   ]
  },
  {
   "cell_type": "code",
   "execution_count": 57,
   "metadata": {},
   "outputs": [
    {
     "name": "stdout",
     "output_type": "stream",
     "text": [
      "False False False False\n"
     ]
    }
   ],
   "source": [
    "do_recombine_one_point_crossover = False\n",
    "do_mutate_flip = False\n",
    "do_replace_deleteall = False\n",
    "do_roulette_select = False\n",
    "print(do_recombine_one_point_crossover, do_mutate_flip, do_replace_deleteall, do_roulette_select)"
   ]
  },
  {
   "cell_type": "code",
   "execution_count": 29,
   "metadata": {},
   "outputs": [
    {
     "name": "stdout",
     "output_type": "stream",
     "text": [
      "True False False False\n"
     ]
    }
   ],
   "source": [
    "do_recombine_one_point_crossover = True\n",
    "do_mutate_flip = False\n",
    "do_replace_deleteall = False\n",
    "do_roulette_select = False\n",
    "print(do_recombine_one_point_crossover, do_mutate_flip, do_replace_deleteall, do_roulette_select)"
   ]
  },
  {
   "cell_type": "code",
   "execution_count": null,
   "metadata": {},
   "outputs": [],
   "source": [
    "do_recombine_one_point_crossover = False\n",
    "do_mutate_flip = FTrue\n",
    "do_replace_deleteall = False\n",
    "do_roulette_select = False\n",
    "print(do_recombine_one_point_crossover, do_mutate_flip, do_replace_deleteall, do_roulette_select)"
   ]
  },
  {
   "cell_type": "code",
   "execution_count": 37,
   "metadata": {},
   "outputs": [
    {
     "name": "stdout",
     "output_type": "stream",
     "text": [
      "False False True False\n"
     ]
    }
   ],
   "source": [
    "do_recombine_one_point_crossover = False\n",
    "do_mutate_flip = False\n",
    "do_replace_deleteall = True\n",
    "do_roulette_select = False\n",
    "print(do_recombine_one_point_crossover, do_mutate_flip, do_replace_deleteall, do_roulette_select)"
   ]
  },
  {
   "cell_type": "code",
   "execution_count": 40,
   "metadata": {},
   "outputs": [
    {
     "name": "stdout",
     "output_type": "stream",
     "text": [
      "False False False True\n"
     ]
    }
   ],
   "source": [
    "do_recombine_one_point_crossover = False\n",
    "do_mutate_flip = False\n",
    "do_replace_deleteall = False\n",
    "do_roulette_select = True\n",
    "print(do_recombine_one_point_crossover, do_mutate_flip, do_replace_deleteall, do_roulette_select)"
   ]
  },
  {
   "cell_type": "code",
   "execution_count": null,
   "metadata": {},
   "outputs": [],
   "source": [
    "do_recombine_one_point_crossover = True\n",
    "do_mutate_flip = True\n",
    "do_replace_deleteall = False\n",
    "do_roulette_select = False\n",
    "print(do_recombine_one_point_crossover, do_mutate_flip, do_replace_deleteall, do_roulette_select)"
   ]
  },
  {
   "cell_type": "code",
   "execution_count": null,
   "metadata": {},
   "outputs": [],
   "source": [
    "do_recombine_one_point_crossover = True\n",
    "do_mutate_flip = False\n",
    "do_replace_deleteall = True\n",
    "do_roulette_select = False\n",
    "print(do_recombine_one_point_crossover, do_mutate_flip, do_replace_deleteall, do_roulette_select)"
   ]
  },
  {
   "cell_type": "code",
   "execution_count": null,
   "metadata": {},
   "outputs": [],
   "source": [
    "do_recombine_one_point_crossover = True\n",
    "do_mutate_flip = False\n",
    "do_replace_deleteall = False\n",
    "do_roulette_select = True\n",
    "print(do_recombine_one_point_crossover, do_mutate_flip, do_replace_deleteall, do_roulette_select)"
   ]
  },
  {
   "cell_type": "code",
   "execution_count": null,
   "metadata": {},
   "outputs": [],
   "source": [
    "do_recombine_one_point_crossover = False\n",
    "do_mutate_flip = True\n",
    "do_replace_deleteall = True\n",
    "do_roulette_select = False\n",
    "print(do_recombine_one_point_crossover, do_mutate_flip, do_replace_deleteall, do_roulette_select)"
   ]
  },
  {
   "cell_type": "code",
   "execution_count": null,
   "metadata": {},
   "outputs": [],
   "source": [
    "do_recombine_one_point_crossover = False\n",
    "do_mutate_flip = True\n",
    "do_replace_deleteall = False\n",
    "do_roulette_select = True\n",
    "print(do_recombine_one_point_crossover, do_mutate_flip, do_replace_deleteall, do_roulette_select)"
   ]
  },
  {
   "cell_type": "code",
   "execution_count": null,
   "metadata": {},
   "outputs": [],
   "source": [
    "do_recombine_one_point_crossover = False\n",
    "do_mutate_flip = False\n",
    "do_replace_deleteall = True\n",
    "do_roulette_select = True\n",
    "print(do_recombine_one_point_crossover, do_mutate_flip, do_replace_deleteall, do_roulette_select)"
   ]
  },
  {
   "cell_type": "code",
   "execution_count": null,
   "metadata": {},
   "outputs": [],
   "source": [
    "do_recombine_one_point_crossover = True\n",
    "do_mutate_flip = True\n",
    "do_replace_deleteall = True\n",
    "do_roulette_select = False\n",
    "print(do_recombine_one_point_crossover, do_mutate_flip, do_replace_deleteall, do_roulette_select)"
   ]
  },
  {
   "cell_type": "code",
   "execution_count": 26,
   "metadata": {},
   "outputs": [
    {
     "name": "stdout",
     "output_type": "stream",
     "text": [
      "True True False True\n"
     ]
    }
   ],
   "source": [
    "do_recombine_one_point_crossover = True\n",
    "do_mutate_flip = True\n",
    "do_replace_deleteall = False\n",
    "do_roulette_select = True\n",
    "print(do_recombine_one_point_crossover, do_mutate_flip, do_replace_deleteall, do_roulette_select)"
   ]
  },
  {
   "cell_type": "code",
   "execution_count": null,
   "metadata": {},
   "outputs": [],
   "source": [
    "do_recombine_one_point_crossover = False\n",
    "do_mutate_flip = True\n",
    "do_replace_deleteall = True\n",
    "do_roulette_select = True\n",
    "print(do_recombine_one_point_crossover, do_mutate_flip, do_replace_deleteall, do_roulette_select)"
   ]
  },
  {
   "cell_type": "code",
   "execution_count": null,
   "metadata": {},
   "outputs": [],
   "source": [
    "do_recombine_one_point_crossover = True\n",
    "do_mutate_flip = False\n",
    "do_replace_deleteall = True\n",
    "do_roulette_select = True\n",
    "print(do_recombine_one_point_crossover, do_mutate_flip, do_replace_deleteall, do_roulette_select)"
   ]
  },
  {
   "cell_type": "code",
   "execution_count": null,
   "metadata": {},
   "outputs": [],
   "source": [
    "do_recombine_one_point_crossover = True\n",
    "do_mutate_flip = True\n",
    "do_replace_deleteall = True\n",
    "do_roulette_select = True\n",
    "print(do_recombine_one_point_crossover, do_mutate_flip, do_replace_deleteall, do_roulette_select)"
   ]
  },
  {
   "cell_type": "code",
   "execution_count": 58,
   "metadata": {
    "scrolled": true
   },
   "outputs": [
    {
     "name": "stdout",
     "output_type": "stream",
     "text": [
      "evaluation\n",
      "[-100854, -83900, -94594, -80636, -87188, -81989, -96305, -77504, -91643, -79217]\n",
      "Selection\n",
      "Recombination\n",
      "Replacement\n",
      "evaluation\n",
      "[-77504, -79217, -80636, -81989, -83900, -87188, -91643, -94594, -96305, -100854]\n",
      "Selection\n",
      "Recombination\n",
      "Replacement\n",
      "evaluation\n",
      "[-77504, -77504, -77504, -77504, -77504, -77504, -77504, -79217, -80636, -81989]\n",
      "Selection\n",
      "Recombination\n",
      "Replacement\n",
      "evaluation\n",
      "[-77504, -77504, -77504, -77504, -77504, -77504, -77504, -77504, -77504, -77504]\n",
      "Selection\n",
      "Recombination\n",
      "Replacement\n",
      "evaluation\n",
      "[-77504, -77504, -77504, -77504, -77504, -77504, -77504, -77504, -77504, -77504]\n",
      "Selection\n",
      "Recombination\n",
      "Replacement\n",
      "evaluation\n",
      "[-77504, -77504, -77504, -77504, -77504, -77504, -77504, -77504, -77504, -77504]\n",
      "Selection\n",
      "Recombination\n",
      "Replacement\n",
      "evaluation\n",
      "[-77504, -77504, -77504, -77504, -77504, -77504, -77504, -77504, -77504, -77504]\n",
      "Selection\n",
      "Recombination\n",
      "Replacement\n",
      "evaluation\n",
      "[-77504, -77504, -77504, -77504, -77504, -77504, -77504, -77504, -77504, -77504]\n",
      "Selection\n",
      "Recombination\n",
      "Replacement\n",
      "evaluation\n",
      "[-77504, -77504, -77504, -77504, -77504, -77504, -77504, -77504, -77504, -77504]\n",
      "Selection\n",
      "Recombination\n",
      "Replacement\n",
      "evaluation\n",
      "[-77504, -77504, -77504, -77504, -77504, -77504, -77504, -77504, -77504, -77504]\n",
      "Selection\n",
      "Recombination\n",
      "Replacement\n",
      "evaluation\n",
      "[-77504, -77504, -77504, -77504, -77504, -77504, -77504, -77504, -77504, -77504]\n",
      "Selection\n",
      "Recombination\n",
      "Replacement\n"
     ]
    },
    {
     "data": {
      "image/png": "[encoded data removed]",
      "text/plain": [
       "<matplotlib.figure.Figure at 0x25044ed3908>"
      ]
     },
     "metadata": {},
     "output_type": "display_data"
    },
    {
     "name": "stdout",
     "output_type": "stream",
     "text": [
      "Done!\n",
      "[[12 13  2 ... 18  7 14]\n",
      " [12 13  2 ... 18  7 14]\n",
      " [12 13  2 ... 18  7 14]\n",
      " ...\n",
      " [12 13  2 ... 18  7 14]\n",
      " [12 13  2 ... 18  7 14]\n",
      " [12 13  2 ... 18  7 14]]\n"
     ]
    }
   ],
   "source": [
    "#variables\n",
    "# population_size = 100\n",
    "# machine_number = 20\n",
    "# job_number = 300\n",
    "# stack1_border_high = 10000\n",
    "# stack1_border_low = 10\n",
    "# stack1_number = 200\n",
    "# stack2_border_high = 1000\n",
    "# stack2_border_low = 100\n",
    "# stack2_number = 100\n",
    "\n",
    "\n",
    "mating_pool_size = 6\n",
    "crossover_probability = 0.9\n",
    "mutation_probability = 0.01\n",
    "\n",
    "# do_recombine_one_point_crossover = False\n",
    "# do_mutate_flip = False\n",
    "# do_replace_deleteall = False\n",
    "# do_roulette_select = True\n",
    "\n",
    "converged = False\n",
    "count = 0\n",
    "\n",
    "\n",
    "y_coord_fitness = []\n",
    "x_coord_count = []\n",
    "y_coord=0\n",
    "x_coord=0\n",
    "#start loop\n",
    "while not converged:\n",
    "    children_chromosomes = []\n",
    "    new_chromosomes = []\n",
    "    \n",
    "    # Evaluation\n",
    "    population_fitness = evaluate(chromosomes,process_times,machine_number)\n",
    "    print(\"evaluation\")\n",
    "    #print(chromosomes)\n",
    "    #print(process_times)\n",
    "    print(population_fitness)\n",
    "    # Selection\n",
    "    if do_roulette_select:\n",
    "        selected_mating_pool = roulette_select(chromosomes,population_fitness,mating_pool_size)\n",
    "    else:\n",
    "        selected_mating_pool = tournament_select(chromosomes,population_fitness,mating_pool_size)\n",
    "    print(\"Selection\")\n",
    "    #print(selected_mating_pool)\n",
    "    # Recombination\n",
    "    if do_recombine_one_point_crossover:\n",
    "        children_chromosomes = recombine_one_point_crossover(selected_mating_pool,crossover_probability)\n",
    "    else:\n",
    "        children_chromosomes = recombine_uniform_crossover(selected_mating_pool,crossover_probability)\n",
    "    print(\"Recombination\")\n",
    "    # Mutation\n",
    "    if do_mutate_flip:\n",
    "        children_chromosomes = mutate_flip(children_chromosomes,mutation_probability,machine_number)\n",
    "    else:\n",
    "        children_chromosomes = mutate_swap(children_chromosomes,mutation_probability,machine_number)\n",
    "    #print(\"Mutation\")\n",
    "    # Replacement\n",
    "    if do_replace_deleteall:\n",
    "        new_chromosomes = replace_deleteall(chromosomes,children_chromosomes,process_times,machine_number)\n",
    "    else:\n",
    "        new_chromosomes = replace_choosebest(chromosomes,children_chromosomes,process_times,machine_number)\n",
    "\n",
    "    chromosomes = np.copy(new_chromosomes)\n",
    "    print(\"Replacement\")\n",
    "    \n",
    "\n",
    "    \n",
    "    if count == 10:\n",
    "        if (abs(fitness_value_first - np.amax(evaluate(chromosomes,process_times,machine_number)))) <= 1:\n",
    "            converged = True\n",
    "        else:\n",
    "            count = 0\n",
    "            fitness_value_first = 0\n",
    "    elif count == 0:\n",
    "        fitness_value_first = np.amax(evaluate(chromosomes,process_times,machine_number))\n",
    "        count += 1\n",
    "    else:\n",
    "        count += 1\n",
    "    \n",
    "    best_chromosone = tournament_select(chromosomes,population_fitness,1)\n",
    "    y_coord = evaluate(best_chromosone,process_times,machine_number)\n",
    "    x_coord = x_coord + 1\n",
    "    y_coord_fitness.append(y_coord)\n",
    "    x_coord_count.append(x_coord)\n",
    "    \n",
    "plt.plot(x_coord_count,   # here go the X coordinates\n",
    "         y_coord_fitness,   # here go the Y coordinates\n",
    "#          marker='x', # as I'm plotting only one point here, I'd like to make it extra visible\n",
    "         markersize=10 # by choosing a nice marker shape ('x') and large size\n",
    "         )\n",
    "plt.show() # this shows the current plot in a pop-up window\n",
    "        \n",
    "\n",
    "print('Done!')\n",
    "selected_mating_pool = tournament_select(chromosomes,population_fitness,1)\n",
    "print(chromosomes)\n",
    "chromosomes=copy_population\n",
    "\n"
   ]
  },
  {
   "cell_type": "code",
   "execution_count": null,
   "metadata": {},
   "outputs": [],
   "source": []
  }
 ],
 "metadata": {
  "kernelspec": {
   "display_name": "Python 3",
   "language": "python",
   "name": "python3"
  },
  "language_info": {
   "codemirror_mode": {
    "name": "ipython",
    "version": 3
   },
   "file_extension": ".py",
   "mimetype": "text/x-python",
   "name": "python",
   "nbconvert_exporter": "python",
   "pygments_lexer": "ipython3",
   "version": "3.6.4"
  }
 },
 "nbformat": 4,
 "nbformat_minor": 2
}
