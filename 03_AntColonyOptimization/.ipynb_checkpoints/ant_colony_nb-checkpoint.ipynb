{
 "cells": [
  {
   "cell_type": "markdown",
   "metadata": {},
   "source": [
    "# Ant-Colony-Optimization Problem"
   ]
  },
  {
   "cell_type": "markdown",
   "metadata": {},
   "source": [
    "This Jupyter Notebook deals with Ant-Colony-Optimization. All information is taken from Daniel Merkle's and Martin Middendorf's Chapter 14 on Swarm Intelligence in Search Methodologies. Introductory Tutorials in Optimization and Decision Support Techniques by Edmund K. Burke and Graham Kendall.\n",
    "\n",
    "Ant-Colony Optimization is one of two main areas of Swarm Intelligence. It is used to solve optimization and search problems. The idea is that ant colonies find the shortest way form their nest to the food source with the help of pheromones. Experiments have shown that if you connect the nest with two different branches to a food source - one way is longer than the other one, ants will quickly find out which way is the shortest one. The result is an ant trail.\n",
    "\n",
    "How exactly does it work? At the beginning both branches are taken with the same probability. After a while the pheromone concentration will be higher at the shorter branch since the ants are back at the nest way faster if they have taken the short road. The pheromone concentration gets higher more easily and since ants are taking the road with a higher pheromone concentration, eventually all ants take the short road"
   ]
  },
  {
   "cell_type": "code",
   "execution_count": 48,
   "metadata": {},
   "outputs": [],
   "source": [
    "import pandas as pd\n",
    "import numpy as np"
   ]
  },
  {
   "cell_type": "markdown",
   "metadata": {},
   "source": [
    "## 1. Initialization\n",
    "Importing .txt files and saving them as arrays."
   ]
  },
  {
   "cell_type": "code",
   "execution_count": 1,
   "metadata": {},
   "outputs": [],
   "source": [
    "def initialize(filepath): \n",
    "    with open(filepath, 'r') as t:\n",
    "        distance_matrix = []\n",
    "        for line in t.readlines():\n",
    "            y = [int(value) for value in line.split()]\n",
    "            distance_matrix.append(y)\n",
    "        \n",
    "        t.close()\n",
    "        distance_matrix = np.array(distance_matrix)\n",
    "    \n",
    "    return distance_matrix"
   ]
  },
  {
   "cell_type": "markdown",
   "metadata": {},
   "source": [
    "## 2. Solution Construction"
   ]
  },
  {
   "cell_type": "code",
   "execution_count": 60,
   "metadata": {},
   "outputs": [],
   "source": [
    "def solution_construction():\n",
    "    citiesleft = True\n",
    "    \n",
    "    number_ants = 5     #übergeben bekommen  (hier löschen)\n",
    "    distance_matrix = array1     #übergeben bekommen (hier löschen)\n",
    "    selection = np.copy(distance_matrix)\n",
    "    while number_ants > 0:\n",
    "        #start with a random city\n",
    "        start = (np.random.random_integers(0, len(distance_matrix)))\n",
    "        \n",
    "        while citiesleft:\n",
    "        #select next city until no item left\n",
    "        \n",
    "            #with probability p and heuristics\n",
    "            \n",
    "\n",
    "            #remove city after selection\n",
    "            #stop if no cities left\n",
    "            if len(selection) == 0:\n",
    "                citiesleft = False\n",
    "            else:\n",
    "                pass\n",
    "        #\n",
    "        number_ants -= 1"
   ]
  },
  {
   "cell_type": "code",
   "execution_count": null,
   "metadata": {},
   "outputs": [],
   "source": [
    "solution_construction()"
   ]
  },
  {
   "cell_type": "markdown",
   "metadata": {},
   "source": [
    "## 3. Evaporation"
   ]
  },
  {
   "cell_type": "code",
   "execution_count": 2,
   "metadata": {},
   "outputs": [],
   "source": [
    "def evaporate(pheromone_matrix):\n",
    "    pheromone_matrix = pheromone_matrix * 0.1\n",
    "\n",
    "    return pheromone_matrix"
   ]
  },
  {
   "cell_type": "markdown",
   "metadata": {},
   "source": [
    "## 4. Intensification"
   ]
  },
  {
   "cell_type": "markdown",
   "metadata": {},
   "source": [
    "solution_matrix will be a list of lists which each holding the numbers of the cities in the order that  each of the ants visited them\n"
   ]
  },
  {
   "cell_type": "code",
   "execution_count": 3,
   "metadata": {},
   "outputs": [],
   "source": [
    "# array2=[[1, 1, 1],[2, 2, 2],[3, 3, 1]]\n",
    "# array3=[[1, 2, 0],[2, 2, 2]]\n",
    "# array0=[[0, 4, 0],[0, 0, 4],[4, 0, 0]]\n",
    "\n",
    "def intensification(distance_matrix, pheromone_matrix, solution_matrix):\n",
    "      \n",
    "    shortest_distance = 10000000000\n",
    "    for i in solution_paths:\n",
    "        distance = 0\n",
    "        y = 0\n",
    "       \n",
    "        for j in i:\n",
    "            distance = distance + distance_matrix[y][j]\n",
    "            y = j\n",
    "        \n",
    "        if distance < shortest_distance:\n",
    "            shortest_distance = distance\n",
    "            #print(shortest_distance)\n",
    "            best_solution = i\n",
    "            #print(best_solution)\n",
    "\n",
    "\n",
    "    x = 0\n",
    "    for k in best_solution:     \n",
    "        pheromone_matrix[x][k]= pheromone_matrix[x][k]*1.5\n",
    "        x = k\n",
    "    return pheromone_matrix\n",
    "            \n",
    "#print(\n",
    "#intensification(array0,array2,array3)"
   ]
  },
  {
   "cell_type": "markdown",
   "metadata": {},
   "source": [
    "## Action"
   ]
  },
  {
   "cell_type": "code",
   "execution_count": null,
   "metadata": {},
   "outputs": [],
   "source": [
    "# Choose the city matrix: '01_tsp.txt', '02_tsp.txt', '03_tsp.txt'\n",
    "filepath = '01_tsp.txt'\n",
    "distance_matrix = initialize(filepath)\n",
    "\n",
    "# Set up pheromone matrix with shape 150 x 150 and fixed values = 0.01\n",
    "pheromone_matrix = np.full(distance_matrix.shape, 0.01)\n",
    "\n",
    "# Set number of ants\n",
    "number_ants = 10\n",
    "\n",
    "# Set alpha and beta (test: alpha = 1, beta = 0 AND alpha = 1, beta = 0)\n",
    "alpha = 1\n",
    "beta = 0\n",
    "\n",
    "# \"Measure\" convergence\n",
    "\n",
    "converged = False\n",
    "count = 0\n",
    "\n",
    "while not converged: \n",
    "    # solution_paths store the order how each ant visited the cities (each row is one ant)\n",
    "    solution_paths = solution_construction(distance_matrix, pheromone_matrix, number_ants, alpha, beta)\n",
    "\n",
    "    # Set up new pheromone matrix\n",
    "    pheromone_matrix = evaporate(pheromone_matrix)\n",
    "\n",
    "    # Intensify good solutions and store them in a new pheromone matrix\n",
    "    pheromone_matrix = intensification(distance_matrix, pheromone_matrix, solution_paths)\n",
    "        \n",
    "    if count == 10:\n",
    "            # here: if best solution from solution path stays the same and did not change = converged = True\n",
    "            else:\n",
    "                count = 0\n",
    "                best_solution_first = 0\n",
    "        elif count == 0:\n",
    "            # we need a function that gets again the best solution from the former solution\n",
    "            count += 1\n",
    "        else:\n",
    "            count += 1"
   ]
  }
 ],
 "metadata": {
  "kernelspec": {
   "display_name": "Python 3",
   "language": "python",
   "name": "python3"
  },
  "language_info": {
   "codemirror_mode": {
    "name": "ipython",
    "version": 3
   },
   "file_extension": ".py",
   "mimetype": "text/x-python",
   "name": "python",
   "nbconvert_exporter": "python",
   "pygments_lexer": "ipython3",
   "version": "3.6.5"
  }
 },
 "nbformat": 4,
 "nbformat_minor": 2
}
