{
 "cells": [
  {
   "cell_type": "markdown",
   "metadata": {},
   "source": [
    "# Ant-Colony-Optimization Problem"
   ]
  },
  {
   "cell_type": "code",
   "execution_count": 2,
   "metadata": {},
   "outputs": [],
   "source": [
    "import pandas as pd\n",
    "import numpy as np"
   ]
  },
  {
   "cell_type": "markdown",
   "metadata": {},
   "source": [
    "Importing .txt files and saving them as arrays."
   ]
  },
  {
   "cell_type": "code",
   "execution_count": 37,
   "metadata": {},
   "outputs": [
    {
     "name": "stdout",
     "output_type": "stream",
     "text": [
      "[[  0 100 229 ... 379 183 178]\n",
      " [100   0 329 ... 479 231 278]\n",
      " [229 329   0 ... 150 290  87]\n",
      " ...\n",
      " [379 479 150 ...   0 248 201]\n",
      " [183 231 290 ... 248   0 203]\n",
      " [178 278  87 ... 201 203   0]]\n",
      "(150, 150)\n",
      "<class 'numpy.ndarray'>\n"
     ]
    }
   ],
   "source": [
    "with open('01_tsp.txt', 'r') as t1:\n",
    "    array1 = []\n",
    "    for line in t1.readlines():\n",
    "        y = [int(value) for value in line.split()]\n",
    "        array1.append(y)\n",
    "\n",
    "    t1.close()\n",
    "    array1 = np.array(array1)\n",
    "    print(array1)\n",
    "\n",
    "print(array1.shape)\n",
    "print(type(array1))"
   ]
  }
 ],
 "metadata": {
  "kernelspec": {
   "display_name": "Python 3",
   "language": "python",
   "name": "python3"
  },
  "language_info": {
   "codemirror_mode": {
    "name": "ipython",
    "version": 3
   },
   "file_extension": ".py",
   "mimetype": "text/x-python",
   "name": "python",
   "nbconvert_exporter": "python",
   "pygments_lexer": "ipython3",
   "version": "3.6.5"
  }
 },
 "nbformat": 4,
 "nbformat_minor": 2
}
