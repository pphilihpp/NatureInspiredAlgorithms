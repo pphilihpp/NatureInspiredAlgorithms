{
 "cells": [
  {
   "cell_type": "markdown",
   "metadata": {},
   "source": [
    "# Ant-Colony-Optimization Problem"
   ]
  },
  {
   "cell_type": "markdown",
   "metadata": {},
   "source": [
    "This Jupyter Notebook deals with Ant-Colony-Optimization. All information is taken from Daniel Merkle's and Martin Middendorf's Chapter 14 on Swarm Intelligence in Search Methodologies. Introductory Tutorials in Optimization and Decision Support Techniques by Edmund K. Burke and Graham Kendall.\n",
    "\n",
    "Ant-Colony Optimization is one of two main areas of Swarm Intelligence. It is used to solve optimization and search problems. The idea is that ant colonies find the shortest way form their nest to the food source with the help of pheromones. Experiments have shown that if you connect the nest with two different branches to a food source - one way is longer than the other one, ants will quickly find out which way is the shortest one. The result is an ant trail.\n",
    "\n",
    "How exactly does it work? At the beginning both branches are taken with the same probability. After a while the pheromone concentration will be higher at the shorter branch since the ants are back at the nest way faster if they have taken the short road. The pheromone concentration gets higher more easily and since ants are taking the road with a higher pheromone concentration, eventually all ants take the short road"
   ]
  },
  {
   "cell_type": "code",
   "execution_count": 16,
   "metadata": {},
   "outputs": [],
   "source": [
    "import pandas as pd\n",
    "import numpy as np"
   ]
  },
  {
   "cell_type": "markdown",
   "metadata": {},
   "source": [
    "## 1. Initialization\n",
    "Importing .txt files and saving them as arrays."
   ]
  },
  {
   "cell_type": "code",
   "execution_count": 17,
   "metadata": {},
   "outputs": [],
   "source": [
    "with open('01_tsp.txt', 'r') as t1:\n",
    "    array1 = []\n",
    "    for line in t1.readlines():\n",
    "        y = [int(value) for value in line.split()]\n",
    "        array1.append(y)\n",
    "\n",
    "    t1.close()\n",
    "    array1 = np.array(array1)\n",
    "\n",
    "with open('02_tsp.txt', 'r') as t2:\n",
    "    array2 = []\n",
    "    for line in t2.readlines():\n",
    "        y = [int(value) for value in line.split()]\n",
    "        array2.append(y)\n",
    "\n",
    "    t2.close()\n",
    "    array2 = np.array(array2)\n",
    "\n",
    "with open('03_tsp.txt', 'r') as t3:\n",
    "    array3 = []\n",
    "    for line in t3.readlines():\n",
    "        y = [int(value) for value in line.split()]\n",
    "        array3.append(y)\n",
    "\n",
    "    t3.close()\n",
    "    array3 = np.array(array3)\n",
    "\n",
    "# Test: Print three imported arrays, their shape and check if it is a numpy array\n",
    "# print(array1)\n",
    "# print(array2)\n",
    "# print(array3)\n",
    "# print(array1.shape)\n",
    "# print(type(array1))\n",
    "\n",
    "pheromone_matrix = np.zeros_like(array1)"
   ]
  },
  {
   "cell_type": "markdown",
   "metadata": {},
   "source": [
    "## 2. Solution Construction"
   ]
  },
  {
   "cell_type": "code",
   "execution_count": 18,
   "metadata": {},
   "outputs": [
    {
     "ename": "SyntaxError",
     "evalue": "invalid syntax (<ipython-input-18-a2e7ab0f8f2d>, line 4)",
     "output_type": "error",
     "traceback": [
      "\u001b[0;36m  File \u001b[0;32m\"<ipython-input-18-a2e7ab0f8f2d>\"\u001b[0;36m, line \u001b[0;32m4\u001b[0m\n\u001b[0;31m    while number_ants\u001b[0m\n\u001b[0m                     ^\u001b[0m\n\u001b[0;31mSyntaxError\u001b[0m\u001b[0;31m:\u001b[0m invalid syntax\n"
     ]
    }
   ],
   "source": [
    "def solution_construction(distance_matrix, pheromone_matrix, number_ants):\n",
    "    citiesleft = True\n",
    "    #for each ant\n",
    "    while number_ants\n",
    "        #start with a random city\n",
    "        \n",
    "        \n",
    "        while citiesleft:\n",
    "        #select next city until no item left\n",
    "        \n",
    "            #with probability p and heuristics\n",
    "            \n",
    "\n",
    "            #remove city after selection\n",
    "            #stop if no cities left\n",
    "            if selection == False:\n",
    "                citiesleft = False\n",
    "            else:\n",
    "                pass\n",
    "        #\n",
    "        number_ants -= 1"
   ]
  },
  {
   "cell_type": "markdown",
   "metadata": {},
   "source": [
    "## 3. Evaporation"
   ]
  },
  {
   "cell_type": "code",
   "execution_count": 19,
   "metadata": {},
   "outputs": [
    {
     "data": {
      "text/plain": [
       "array([[ 0. , 10. , 22.9, ..., 37.9, 18.3, 17.8],\n",
       "       [10. ,  0. , 32.9, ..., 47.9, 23.1, 27.8],\n",
       "       [22.9, 32.9,  0. , ..., 15. , 29. ,  8.7],\n",
       "       ...,\n",
       "       [37.9, 47.9, 15. , ...,  0. , 24.8, 20.1],\n",
       "       [18.3, 23.1, 29. , ..., 24.8,  0. , 20.3],\n",
       "       [17.8, 27.8,  8.7, ..., 20.1, 20.3,  0. ]])"
      ]
     },
     "execution_count": 19,
     "metadata": {},
     "output_type": "execute_result"
    }
   ],
   "source": [
    "def evaporate(pheromone_matrix):\n",
    "    pheromone_matrix = pheromone_matrix * 0.1\n",
    "\n",
    "    return pheromone_matrix\n",
    "\n",
    "evaporate(array1)"
   ]
  },
  {
   "cell_type": "markdown",
   "metadata": {},
   "source": [
    "## 4. Intensification"
   ]
  },
  {
   "cell_type": "markdown",
   "metadata": {},
   "source": [
    "solution_matrix will be a list of lists which each holding the numbers of the cities in the order that  each of the ants visited them\n"
   ]
  },
  {
   "cell_type": "code",
   "execution_count": 11,
   "metadata": {},
   "outputs": [
    {
     "name": "stdout",
     "output_type": "stream",
     "text": [
      "12\n",
      "[1, 2, 0]\n",
      "0\n",
      "[2, 2, 2]\n"
     ]
    },
    {
     "data": {
      "text/plain": [
       "[[1, 1, 1.5], [2, 2, 2], [3, 3, 2.25]]"
      ]
     },
     "execution_count": 11,
     "metadata": {},
     "output_type": "execute_result"
    }
   ],
   "source": [
    "# array2=[[1, 1, 1],[2, 2, 2],[3, 3, 1]]\n",
    "# array3=[[1, 2, 0],[2, 2, 2]]\n",
    "# array0=[[0, 4, 0],[0, 0, 4],[4, 0, 0]]\n",
    "\n",
    "def intensification(distance_matrix, pheromone_matrix, solution_matrix):\n",
    "      \n",
    "    shortest_distance = 10000000000\n",
    "    for i in solution_matrix:\n",
    "    \n",
    "        distance=0\n",
    "        y=0\n",
    "       \n",
    "        for j in i:\n",
    "            distance= distance + distance_matrix[y][j]\n",
    "            y=j\n",
    "        \n",
    "        if distance < shortest_distance:\n",
    "            shortest_distance=distance\n",
    "            #print(shortest_distance)\n",
    "            best_solution=i\n",
    "            #print(best_solution)\n",
    "\n",
    "\n",
    "    x=0\n",
    "    for k in best_solution:\n",
    "          \n",
    "        pheromone_matrix[x][k]= pheromone_matrix[x][k]*1.5\n",
    "        x=k\n",
    "    return pheromone_matrix\n",
    "            \n",
    "#print(\n",
    "#intensification(array0,array2,array3)"
   ]
  },
  {
   "cell_type": "markdown",
   "metadata": {},
   "source": [
    "## Action"
   ]
  },
  {
   "cell_type": "code",
   "execution_count": null,
   "metadata": {},
   "outputs": [],
   "source": []
  }
 ],
 "metadata": {
  "kernelspec": {
   "display_name": "Python 3",
   "language": "python",
   "name": "python3"
  },
  "language_info": {
   "codemirror_mode": {
    "name": "ipython",
    "version": 3
   },
   "file_extension": ".py",
   "mimetype": "text/x-python",
   "name": "python",
   "nbconvert_exporter": "python",
   "pygments_lexer": "ipython3",
   "version": "3.6.5"
  }
 },
 "nbformat": 4,
 "nbformat_minor": 2
}
