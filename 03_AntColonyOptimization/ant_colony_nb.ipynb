{
 "cells": [
  {
   "cell_type": "markdown",
   "metadata": {},
   "source": [
    "# Ant-Colony-Optimization Problem"
   ]
  },
  {
   "cell_type": "markdown",
   "metadata": {},
   "source": [
    "This Jupyter Notebook deals with Ant-Colony-Optimization. All information is taken from Daniel Merkle's and Martin Middendorf's Chapter 14 on Swarm Intelligence in Search Methodologies. Introductory Tutorials in Optimization and Decision Support Techniques by Edmund K. Burke and Graham Kendall.\n",
    "\n",
    "Ant-Colony Optimization is one of two main areas of Swarm Intelligence. It is used to solve optimization and search problems. The idea is that ant colonies find the shortest way form their nest to the food source with the help of pheromones. Experiments have shown that if you connect the nest with two different branches to a food source - one way is longer than the other one, ants will quickly find out which way is the shortest one. The result is an ant trail.\n",
    "\n",
    "How exactly does it work? At the beginning both branches are taken with the same probability. After a while the pheromone concentration will be higher at the shorter branch since the ants are back at the nest way faster if they have taken the short road. The pheromone concentration gets higher more easily and since ants are taking the road with a higher pheromone concentration, eventually all ants take the short road"
   ]
  },
  {
   "cell_type": "code",
   "execution_count": 81,
   "metadata": {
    "collapsed": true
   },
   "outputs": [],
   "source": [
    "import pandas as pd\n",
    "import numpy as np"
   ]
  },
  {
   "cell_type": "markdown",
   "metadata": {},
   "source": [
    "## 1. Initialization\n",
    "Importing .txt files and saving them as arrays."
   ]
  },
  {
   "cell_type": "code",
   "execution_count": 82,
   "metadata": {
    "collapsed": true
   },
   "outputs": [],
   "source": [
    "def initialize(filepath): \n",
    "    with open(filepath, 'r') as t:\n",
    "        distance_matrix = []\n",
    "        for line in t.readlines():\n",
    "            y = [int(value) for value in line.split()]\n",
    "            distance_matrix.append(y)\n",
    "        \n",
    "        t.close()\n",
    "        distance_matrix = np.array(distance_matrix)\n",
    "    \n",
    "    return distance_matrix"
   ]
  },
  {
   "cell_type": "markdown",
   "metadata": {},
   "source": [
    "## 2. Solution Construction"
   ]
  },
  {
   "cell_type": "code",
   "execution_count": 83,
   "metadata": {
    "collapsed": true
   },
   "outputs": [],
   "source": [
    "def solution_construction(distance_matrix, pheromone_matrix, number_ants, alpha, beta):\n",
    "    \n",
    "    # test values\n",
    "    #pheromone_matrix = [[0,0.4,0.1,1.2,0.7],[0.8,0,0.1,1.5,1.7],[0.9,0.5,0,0.2,0.7],[0.1,0.8,1.1,0,0.7],[0.5,0.4,0.1,1.2,0],[0,0.4,0.1,1.2,0.7]]\n",
    "    #number_ants = 10\n",
    "    #distance_matrix = [[0,1,5,2,6],[1,0,3,7,4],[5,3,0,3,5],[2,7,3,0,1],[6,4,5,1,0]]\n",
    "    #alpha = 0.5\n",
    "    #beta = 0.5\n",
    "\n",
    "    ant_number = 0\n",
    "    solution_matrix = []\n",
    "    len_distance_matrix = len(distance_matrix)\n",
    "    range_distance_matrix = range(len(distance_matrix))\n",
    "    \n",
    "    # creating a solution matrix corresponding to the size of the distance_matrix\n",
    "    for i in range(number_ants):\n",
    "        solution_matrix.append([])\n",
    "        for j in range_distance_matrix:\n",
    "            solution_matrix[i].append([])\n",
    "    \n",
    "    # do for each ant\n",
    "    while ant_number < number_ants:\n",
    "        print('solution_construction')\n",
    "        \n",
    "        # initialize selection_set, append a placeholder '1' for each city available\n",
    "        selection_set = []            \n",
    "        selection_set = [[1] for i in range_distance_matrix]\n",
    "        \n",
    "        # choose a random starting city, save it in the solution matrix and set it to '0' in selection_set\n",
    "        start = (np.random.random_integers(0, len_distance_matrix-1))\n",
    "        solution_matrix[ant_number][0] = start\n",
    "        selection_set[start] = 0\n",
    "        \n",
    "        # iterating through all cities left\n",
    "        for x in range(len_distance_matrix-1):\n",
    "            probability = []                \n",
    "                \n",
    "            # create probability matrix of size of distance_matrix    \n",
    "            for i in range_distance_matrix:\n",
    "                probability.append([])\n",
    "                \n",
    "                # checking if there is still a city left\n",
    "                if((selection_set[i])!=0):\n",
    "                    # calculating heuristics\n",
    "                    variable = solution_matrix[ant_number][x]\n",
    "                    \n",
    "                    if alpha == 1 and beta == 1:\n",
    "                        t= (pheromone_matrix[variable][i])*alpha\n",
    "                        n = (1/(distance_matrix[variable][i]))*beta\n",
    "                        sum = 0\n",
    "                        \n",
    "                        for j in range_distance_matrix:\n",
    "                            if((selection_set[j])!=0):\n",
    "                                sum += ((pheromone_matrix[solution_matrix[ant_number][x]][j])*alpha) * ((1/distance_matrix[solution_matrix[ant_number][x]][j])*beta)\n",
    "                        \n",
    "                    elif alpha == 1 and beta == 0:\n",
    "                        t = (pheromone_matrix[variable][i])*alpha\n",
    "                        n = (1/(distance_matrix[variable][i]))\n",
    "                        \n",
    "                        for j in range_distance_matrix:\n",
    "                            if((selection_set[j])!=0):\n",
    "                                sum = ((pheromone_matrix[solution_matrix[ant_number][x]][j])*alpha) * ((1/distance_matrix[solution_matrix[ant_number][x]][j]))\n",
    "                        \n",
    "                    else:\n",
    "                        t = (pheromone_matrix[variable][i])**alpha\n",
    "                        n = (1/(distance_matrix[variable][i]))**beta\n",
    "                        \n",
    "                        for j in range_distance_matrix:\n",
    "                            if((selection_set[j])!=0):\n",
    "                                sum += ((pheromone_matrix[solution_matrix[ant_number][x]][j])**alpha) * ((1/distance_matrix[solution_matrix[ant_number][x]][j])**beta)\n",
    "                    \n",
    "                    probability[i] = (t*n)/sum\n",
    "                else:\n",
    "                    probability[i]= 0\n",
    "                    \n",
    "\n",
    "            boundaries = []\n",
    "            boundaries.append(0)\n",
    "            boundaries[0] = probability[0]\n",
    " \n",
    "            # calculation of boundaries for roulette-wheel-like selection of next city\n",
    "            for i in range(1, len(probability)):\n",
    "                boundaries.append(0)\n",
    "                boundaries[i] = probability[i]+boundaries[i-1]\n",
    "            \n",
    "            # selection of the next city\n",
    "            rand_mate = np.random.uniform(0,1)\n",
    "            for m in range(len(boundaries)):\n",
    "                if boundaries[m] > rand_mate:\n",
    "                    city = m\n",
    "                    break\n",
    "                    \n",
    "            solution_matrix[ant_number][x+1] = city\n",
    "            selection_set[m] = 0\n",
    "            \n",
    "        ant_number += 1\n",
    "        \n",
    "    return solution_matrix"
   ]
  },
  {
   "cell_type": "markdown",
   "metadata": {},
   "source": [
    "## 3. Evaporation"
   ]
  },
  {
   "cell_type": "code",
   "execution_count": 84,
   "metadata": {
    "collapsed": true
   },
   "outputs": [],
   "source": [
    "def evaporate(pheromone_matrix,evaporator):\n",
    "    pheromone_matrix = pheromone_matrix * evaporator\n",
    "\n",
    "    return pheromone_matrix"
   ]
  },
  {
   "cell_type": "markdown",
   "metadata": {},
   "source": [
    "## 4. Intensification"
   ]
  },
  {
   "cell_type": "markdown",
   "metadata": {},
   "source": [
    "solution_matrix will be a list of lists which each holding the numbers of the cities in the order that  each of the ants visited them\n"
   ]
  },
  {
   "cell_type": "code",
   "execution_count": 85,
   "metadata": {},
   "outputs": [
    {
     "name": "stdout",
     "output_type": "stream",
     "text": [
      "[[1, 1, 1.05], [1.05, 1, 1], [1, 1.05, 1]]\n"
     ]
    }
   ],
   "source": [
    "array2=[[1, 1, 1],[1, 1, 1],[1, 1, 1]]\n",
    "array3=[[1, 2, 0],[0, 2, 1]]\n",
    "array0=[[0, 4, 1],[1, 0, 5],[4, 1, 0]]\n",
    "\n",
    "def intensification(distance_matrix, pheromone_matrix, solution_matrix,intensifier):\n",
    "      \n",
    "    best_solution, shortest_distance = get_best_solution(distance_matrix, solution_matrix)\n",
    "   \n",
    "    for k in range(len(best_solution)):  \n",
    "        x = best_solution[k]\n",
    "        if k < len(best_solution)-1: \n",
    "            pheromone_matrix[x][best_solution[k+1]]= pheromone_matrix[x][best_solution[k+1]]*intensifier\n",
    "        else:\n",
    "            pheromone_matrix[best_solution[k]][0]= pheromone_matrix[best_solution[k]][0]*intensifier\n",
    "   \n",
    "    return pheromone_matrix\n",
    "            \n",
    "print(intensification(array0,array2,array3,1.05))"
   ]
  },
  {
   "cell_type": "code",
   "execution_count": 86,
   "metadata": {},
   "outputs": [],
   "source": [
    "def get_best_solution(distance_matrix, solution_matrix):\n",
    "    shortest_distance = 10000000000\n",
    "    for i in solution_matrix:\n",
    "        distance = 0\n",
    "       \n",
    "       \n",
    "        for j in range(len(i)):\n",
    "            y=i[j]\n",
    "            if j < len(i)-1: \n",
    "                distance = distance + distance_matrix[y][i[j+1]]\n",
    "            else:\n",
    "                distance= distance + distance_matrix[i[j]][i[0]]\n",
    "         \n",
    "        \n",
    "        if distance < shortest_distance:\n",
    "            shortest_distance = distance\n",
    "            best_solution = i\n",
    "            #print(best_solution)\n",
    "    return best_solution, shortest_distance"
   ]
  },
  {
   "cell_type": "markdown",
   "metadata": {},
   "source": [
    "## Action"
   ]
  },
  {
   "cell_type": "code",
   "execution_count": 88,
   "metadata": {},
   "outputs": [
    {
     "name": "stdout",
     "output_type": "stream",
     "text": [
      "solution_construction 0\n"
     ]
    },
    {
     "name": "stderr",
     "output_type": "stream",
     "text": [
      "C:\\Anaconda\\lib\\site-packages\\ipykernel_launcher.py:28: DeprecationWarning: This function is deprecated. Please call randint(0, 149 + 1) instead\n"
     ]
    },
    {
     "name": "stdout",
     "output_type": "stream",
     "text": [
      "solution_construction 1\n",
      "solution_construction 2\n",
      "solution_construction 3\n",
      "solution_construction 4\n",
      "solution_construction 5\n",
      "solution_construction 6\n",
      "solution_construction 7\n",
      "solution_construction 8\n",
      "solution_construction 9\n",
      "solution_contruction done!\n",
      "totalCount 1\n",
      "best_solution 26316\n",
      "best_solution_list [26316]\n",
      "solution_construction 0\n",
      "solution_construction 1\n",
      "solution_construction 2\n",
      "solution_construction 3\n",
      "solution_construction 4\n",
      "solution_construction 5\n",
      "solution_construction 6\n",
      "solution_construction 7\n",
      "solution_construction 8\n",
      "solution_construction 9\n",
      "solution_contruction done!\n",
      "totalCount 2\n",
      "best_solution 26406\n",
      "best_solution_list [26316, 26406]\n",
      "solution_construction 0\n",
      "solution_construction 1\n",
      "solution_construction 2\n",
      "solution_construction 3\n",
      "solution_construction 4\n",
      "solution_construction 5\n",
      "solution_construction 6\n",
      "solution_construction 7\n",
      "solution_construction 8\n",
      "solution_construction 9\n",
      "solution_contruction done!\n",
      "totalCount 3\n",
      "best_solution 27028\n",
      "best_solution_list [26316, 26406, 27028]\n",
      "solution_construction 0\n",
      "solution_construction 1\n",
      "solution_construction 2\n"
     ]
    },
    {
     "ename": "KeyboardInterrupt",
     "evalue": "",
     "output_type": "error",
     "traceback": [
      "\u001b[1;31m---------------------------------------------------------------------------\u001b[0m",
      "\u001b[1;31mKeyboardInterrupt\u001b[0m                         Traceback (most recent call last)",
      "\u001b[1;32m<ipython-input-88-57cc804c3786>\u001b[0m in \u001b[0;36m<module>\u001b[1;34m()\u001b[0m\n\u001b[0;32m     25\u001b[0m \u001b[1;32mwhile\u001b[0m \u001b[1;32mnot\u001b[0m \u001b[0mconverged\u001b[0m\u001b[1;33m:\u001b[0m\u001b[1;33m\u001b[0m\u001b[0m\n\u001b[0;32m     26\u001b[0m     \u001b[1;31m# solution_paths store the order how each ant visited the cities (each row is one ant)\u001b[0m\u001b[1;33m\u001b[0m\u001b[1;33m\u001b[0m\u001b[0m\n\u001b[1;32m---> 27\u001b[1;33m     \u001b[0msolution_matrix\u001b[0m \u001b[1;33m=\u001b[0m \u001b[0msolution_construction\u001b[0m\u001b[1;33m(\u001b[0m\u001b[0mdistance_matrix\u001b[0m\u001b[1;33m,\u001b[0m \u001b[0mpheromone_matrix\u001b[0m\u001b[1;33m,\u001b[0m \u001b[0mnumber_ants\u001b[0m\u001b[1;33m,\u001b[0m \u001b[0malpha\u001b[0m\u001b[1;33m,\u001b[0m \u001b[0mbeta\u001b[0m\u001b[1;33m)\u001b[0m\u001b[1;33m\u001b[0m\u001b[0m\n\u001b[0m\u001b[0;32m     28\u001b[0m     \u001b[0mprint\u001b[0m\u001b[1;33m(\u001b[0m\u001b[1;34m\"solution_contruction done!\"\u001b[0m\u001b[1;33m)\u001b[0m\u001b[1;33m\u001b[0m\u001b[0m\n\u001b[0;32m     29\u001b[0m \u001b[1;33m\u001b[0m\u001b[0m\n",
      "\u001b[1;32m<ipython-input-83-2389b9b202af>\u001b[0m in \u001b[0;36msolution_construction\u001b[1;34m(distance_matrix, pheromone_matrix, number_ants, alpha, beta)\u001b[0m\n\u001b[0;32m     58\u001b[0m                         \u001b[1;32mfor\u001b[0m \u001b[0mj\u001b[0m \u001b[1;32min\u001b[0m \u001b[0mrange\u001b[0m \u001b[1;33m(\u001b[0m\u001b[1;36m0\u001b[0m\u001b[1;33m,\u001b[0m \u001b[0mlen\u001b[0m\u001b[1;33m(\u001b[0m\u001b[0mdistance_matrix\u001b[0m\u001b[1;33m)\u001b[0m\u001b[1;33m)\u001b[0m\u001b[1;33m:\u001b[0m\u001b[1;33m\u001b[0m\u001b[0m\n\u001b[0;32m     59\u001b[0m                             \u001b[1;32mif\u001b[0m\u001b[1;33m(\u001b[0m\u001b[1;33m(\u001b[0m\u001b[0mselection_set\u001b[0m\u001b[1;33m[\u001b[0m\u001b[0mj\u001b[0m\u001b[1;33m]\u001b[0m\u001b[1;33m)\u001b[0m\u001b[1;33m!=\u001b[0m\u001b[1;36m0\u001b[0m\u001b[1;33m)\u001b[0m\u001b[1;33m:\u001b[0m\u001b[1;33m\u001b[0m\u001b[0m\n\u001b[1;32m---> 60\u001b[1;33m                                 \u001b[0msum\u001b[0m \u001b[1;33m=\u001b[0m \u001b[1;33m(\u001b[0m\u001b[1;33m(\u001b[0m\u001b[0mpheromone_matrix\u001b[0m\u001b[1;33m[\u001b[0m\u001b[0msolution_matrix\u001b[0m\u001b[1;33m[\u001b[0m\u001b[0mant_number\u001b[0m\u001b[1;33m]\u001b[0m\u001b[1;33m[\u001b[0m\u001b[0mx\u001b[0m\u001b[1;33m]\u001b[0m\u001b[1;33m]\u001b[0m\u001b[1;33m[\u001b[0m\u001b[0mj\u001b[0m\u001b[1;33m]\u001b[0m\u001b[1;33m)\u001b[0m\u001b[1;33m*\u001b[0m\u001b[0malpha\u001b[0m\u001b[1;33m)\u001b[0m \u001b[1;33m*\u001b[0m \u001b[1;33m(\u001b[0m\u001b[1;33m(\u001b[0m\u001b[1;36m1\u001b[0m\u001b[1;33m/\u001b[0m\u001b[0mdistance_matrix\u001b[0m\u001b[1;33m[\u001b[0m\u001b[0msolution_matrix\u001b[0m\u001b[1;33m[\u001b[0m\u001b[0mant_number\u001b[0m\u001b[1;33m]\u001b[0m\u001b[1;33m[\u001b[0m\u001b[0mx\u001b[0m\u001b[1;33m]\u001b[0m\u001b[1;33m]\u001b[0m\u001b[1;33m[\u001b[0m\u001b[0mj\u001b[0m\u001b[1;33m]\u001b[0m\u001b[1;33m)\u001b[0m\u001b[1;33m)\u001b[0m\u001b[1;33m\u001b[0m\u001b[0m\n\u001b[0m\u001b[0;32m     61\u001b[0m \u001b[1;33m\u001b[0m\u001b[0m\n\u001b[0;32m     62\u001b[0m                     \u001b[1;32melse\u001b[0m\u001b[1;33m:\u001b[0m\u001b[1;33m\u001b[0m\u001b[0m\n",
      "\u001b[1;31mKeyboardInterrupt\u001b[0m: "
     ]
    }
   ],
   "source": [
    "# Choose the city matrix: '01_tsp.txt', '02_tsp.txt', '03_tsp.txt'\n",
    "filepath = '01_tsp.txt'\n",
    "distance_matrix = initialize(filepath)\n",
    "\n",
    "# Set up pheromone matrix with shape 150 x 150 and fixed values = 0.01\n",
    "pheromone_matrix = np.full(distance_matrix.shape, 0.01)\n",
    "\n",
    "# Set number of ants\n",
    "number_ants = 10\n",
    "\n",
    "# Set alpha and beta (test: alpha = 1, beta = 0 AND alpha = 1, beta = 0)\n",
    "alpha = 1\n",
    "beta = 0\n",
    "\n",
    "intensifier = 1.05\n",
    "evaporator = 0.1\n",
    "\n",
    "\n",
    "best_solution_list = []\n",
    "# \"Measure\" convergence\n",
    "converged = False\n",
    "count = 0\n",
    "totalCount = 0\n",
    "\n",
    "while not converged: \n",
    "    # solution_paths store the order how each ant visited the cities (each row is one ant)\n",
    "    solution_matrix = solution_construction(distance_matrix, pheromone_matrix, number_ants, alpha, beta)\n",
    "    print(\"solution_contruction done!\")\n",
    "    \n",
    "    # Set up new pheromone matrix\n",
    "    pheromone_matrix = evaporate(pheromone_matrix,evaporator)\n",
    "\n",
    "    # Intensify good solutions and store them in a new pheromone matrix\n",
    "    pheromone_matrix = intensification(distance_matrix, pheromone_matrix, solution_matrix,intensifier)\n",
    "        \n",
    "    # Convergence-Criterium:\n",
    "    best_solution, shortest_distance = get_best_solution(distance_matrix, solution_matrix)\n",
    "    best_solution_list.append(shortest_distance)\n",
    "    if count == 10:\n",
    "    # if best_solution did not change, the algorithm converged, otherwise we reset the count value\n",
    "        if best_solution_first == shortest_distance:\n",
    "            converged = True\n",
    "        else:\n",
    "            count = 0\n",
    "    # store the first best_solution for convergence-comparison\n",
    "    elif count == 0:\n",
    "        best_solution_first = shortest_distance\n",
    "        count += 1\n",
    "    else:\n",
    "    # increase count\n",
    "        count += 1\n",
    "    totalCount += 1\n",
    "    print(\"totalCount\",totalCount)\n",
    "    print(\"best_solution\",shortest_distance)\n",
    "    print(\"best_solution_list\",best_solution_list)    "
   ]
  }
 ],
 "metadata": {
  "kernelspec": {
   "display_name": "Python 3",
   "language": "python",
   "name": "python3"
  },
  "language_info": {
   "codemirror_mode": {
    "name": "ipython",
    "version": 3
   },
   "file_extension": ".py",
   "mimetype": "text/x-python",
   "name": "python",
   "nbconvert_exporter": "python",
   "pygments_lexer": "ipython3",
   "version": "3.6.4"
  }
 },
 "nbformat": 4,
 "nbformat_minor": 2
}
