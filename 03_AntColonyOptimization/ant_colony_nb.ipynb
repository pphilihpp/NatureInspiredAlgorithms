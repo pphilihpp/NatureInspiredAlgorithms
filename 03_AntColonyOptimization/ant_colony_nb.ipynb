{
 "cells": [
  {
   "cell_type": "markdown",
   "metadata": {},
   "source": [
    "# Ant-Colony-Optimization Problem"
   ]
  },
  {
   "cell_type": "markdown",
   "metadata": {},
   "source": [
    "This Jupyter Notebook deals with Ant-Colony-Optimization. All information is taken from Daniel Merkle's and Martin Middendorf's Chapter 14 on Swarm Intelligence in Search Methodologies. Introductory Tutorials in Optimization and Decision Support Techniques by Edmund K. Burke and Graham Kendall.\n",
    "\n",
    "Ant-Colony Optimization is one of two main areas of Swarm Intelligence. It is used to solve optimization and search problems. The idea is that ant colonies find the shortest way form their nest to the food source with the help of pheromones. Experiments have shown that if you connect the nest with two different branches to a food source - one way is longer than the other one, ants will quickly find out which way is the shortest one. The result is an ant trail.\n",
    "\n",
    "How exactly does it work? At the beginning both branches are taken with the same probability. After a while the pheromone concentration will be higher at the shorter branch since the ants are back at the nest way faster if they have taken the short road. The pheromone concentration gets higher more easily and since ants are taking the road with a higher pheromone concentration, eventually \"all\" ants end up taking the short road."
   ]
  },
  {
   "cell_type": "code",
   "execution_count": null,
   "metadata": {},
   "outputs": [],
   "source": [
    "import pandas as pd\n",
    "import numpy as np\n",
    "import matplotlib.pyplot as plt"
   ]
  },
  {
   "cell_type": "markdown",
   "metadata": {},
   "source": [
    "## 1. Initialization\n",
    "Importing .txt files and saving them as arrays. Note that these distance matrixes are 150 x 150, symmetric and have zeros on its diagonal. That means that the distance from city x to city y is the same as the distance from city y to city x (symmetry) and that the distance from city x to itself is always 0. "
   ]
  },
  {
   "cell_type": "code",
   "execution_count": null,
   "metadata": {},
   "outputs": [],
   "source": [
    "def initialize(filepath): \n",
    "    with open(filepath, 'r') as t:\n",
    "        distance_matrix = []\n",
    "        for line in t.readlines():\n",
    "            y = [int(value) for value in line.split()]\n",
    "            distance_matrix.append(y)\n",
    "        \n",
    "        t.close()\n",
    "        distance_matrix = np.array(distance_matrix)\n",
    "    \n",
    "    return distance_matrix"
   ]
  },
  {
   "cell_type": "markdown",
   "metadata": {},
   "source": [
    "## 2. Solution Construction"
   ]
  },
  {
   "cell_type": "markdown",
   "metadata": {},
   "source": [
    "This is the core of our algorithm. One basic remark is that we split the solution construction into three functions - considering different values for beta. The aim is to speed up the run time. Iterative method, starting randomly. "
   ]
  },
  {
   "cell_type": "code",
   "execution_count": null,
   "metadata": {},
   "outputs": [],
   "source": [
    "def solution_construction(distance_matrix, pheromone_matrix, number_ants,alpha,beta):\n",
    "    ant_number = 0\n",
    "    len_distance_matrix = len(distance_matrix)\n",
    "    range_distance_matrix = np.arange(len(distance_matrix))\n",
    "    \n",
    "    # creating a solution matrix corresponding to the size of the distance_matrix\n",
    "    solution_matrix = np.zeros(shape=(number_ants, len_distance_matrix), dtype='int')\n",
    "    \n",
    "    # do for each ant\n",
    "    while ant_number < number_ants:\n",
    "        # initialize selection_set, append a placeholder '1' for each city available           \n",
    "        selection_set = np.ones(len(distance_matrix))\n",
    "        \n",
    "        # choose a random starting city, save it in the solution matrix and set it to '0' in selection_set\n",
    "        start = (np.random.random_integers(0, len_distance_matrix-1))\n",
    "        solution_matrix[ant_number, 0] = start\n",
    "        selection_set[start] = 0\n",
    "        \n",
    "        # iterating through all cities until no one is left \"one ant\"\n",
    "        for x in np.arange(len_distance_matrix-1):\n",
    "            probability = np.zeros((len_distance_matrix))\n",
    "                \n",
    "            # create probability matrix of size of distance_matrix    \n",
    "            cities_left = np.where(selection_set != 0)[0]\n",
    "            for i in cities_left:\n",
    "                city_before = solution_matrix[ant_number, x]\n",
    "\n",
    "                t = (pheromone_matrix[city_before][i])**alpha\n",
    "                n = (1/(distance_matrix[city_before][i]))**beta \n",
    "\n",
    "                pheromones_city_before = pheromone_matrix[city_before]\n",
    "                distances_city_before = distance_matrix[city_before]\n",
    "                \n",
    "                pheromones_city_before = pheromones_city_before[selection_set!=0]\n",
    "                distances_city_before = distances_city_before[selection_set!=0]\n",
    "\n",
    "                total_sum = np.sum((pheromones_city_before)**alpha * (1/distances_city_before)**beta)\n",
    "\n",
    "                probability[i] = (t * n)/total_sum\n",
    "\n",
    "            boundaries = np.zeros((len_distance_matrix))\n",
    "            boundaries[0] = probability[0]\n",
    " \n",
    "            # calculation of boundaries for roulette-wheel-like selection of next city\n",
    "            for i in np.arange(1, len_distance_matrix):\n",
    "                boundaries[i] = probability[i]+boundaries[i-1]\n",
    "            \n",
    "            # selection of the next city\n",
    "            rand_mate = np.random.uniform(0,1)\n",
    "            for m in range(len_distance_matrix):\n",
    "                if rand_mate == 1:\n",
    "                    city = len_distance_matrix\n",
    "                    break\n",
    "                elif boundaries[m] > rand_mate:\n",
    "                    city = m\n",
    "                    break\n",
    "            solution_matrix[ant_number, x+1] = city\n",
    "            selection_set[m] = 0\n",
    "        ant_number += 1\n",
    "    return solution_matrix"
   ]
  },
  {
   "cell_type": "code",
   "execution_count": null,
   "metadata": {},
   "outputs": [],
   "source": [
    "def solution_construction_both1(distance_matrix, pheromone_matrix, number_ants):\n",
    "    ant_number = 0\n",
    "    len_distance_matrix = len(distance_matrix)\n",
    "    range_distance_matrix = np.arange(len(distance_matrix))\n",
    "    \n",
    "    # creating a solution matrix corresponding to the size of the distance_matrix\n",
    "    solution_matrix = np.zeros(shape=(number_ants, len_distance_matrix), dtype='int')\n",
    "    \n",
    "    # do for each ant\n",
    "    while ant_number < number_ants:\n",
    "        # initialize selection_set, append a placeholder '1' for each city available           \n",
    "        selection_set = np.ones(len(distance_matrix))\n",
    "        \n",
    "        # choose a random starting city, save it in the solution matrix and set it to '0' in selection_set\n",
    "        start = (np.random.random_integers(0, len_distance_matrix-1))\n",
    "        solution_matrix[ant_number, 0] = start\n",
    "        selection_set[start] = 0\n",
    "        \n",
    "        # iterating through all cities until no one is left \"one ant\"\n",
    "        for x in np.arange(len_distance_matrix-1):\n",
    "            probability = np.zeros((len_distance_matrix))\n",
    "                \n",
    "            # create probability matrix of size of distance_matrix    \n",
    "            cities_left = np.where(selection_set != 0)[0]\n",
    "            for i in cities_left:\n",
    "                city_before = solution_matrix[ant_number, x]\n",
    "\n",
    "                t = (pheromone_matrix[city_before][i])\n",
    "                n = (1/(distance_matrix[city_before][i])) \n",
    "\n",
    "                pheromones_city_before = pheromone_matrix[city_before]\n",
    "                distances_city_before = distance_matrix[city_before]\n",
    "                \n",
    "                pheromones_city_before = pheromones_city_before[selection_set!=0]\n",
    "                distances_city_before = distances_city_before[selection_set!=0]\n",
    "\n",
    "                total_sum = np.sum((pheromones_city_before) * (1/distances_city_before))\n",
    "\n",
    "                probability[i] = (t * n)/total_sum\n",
    "\n",
    "            boundaries = np.zeros((len_distance_matrix))\n",
    "            boundaries[0] = probability[0]\n",
    " \n",
    "            # calculation of boundaries for roulette-wheel-like selection of next city\n",
    "            for i in np.arange(1, len_distance_matrix):\n",
    "                boundaries[i] = probability[i]+boundaries[i-1]\n",
    "            \n",
    "            # selection of the next city\n",
    "            rand_mate = np.random.uniform(0,1)\n",
    "            for m in range(len_distance_matrix):\n",
    "                if rand_mate == 1:\n",
    "                    city = len_distance_matrix\n",
    "                    break\n",
    "                elif boundaries[m] > rand_mate:\n",
    "                    city = m\n",
    "                    break\n",
    "            solution_matrix[ant_number, x+1] = city\n",
    "            selection_set[m] = 0\n",
    "        ant_number += 1\n",
    "    return solution_matrix"
   ]
  },
  {
   "cell_type": "code",
   "execution_count": null,
   "metadata": {},
   "outputs": [],
   "source": [
    "def solution_construction_withoutbeta(distance_matrix, pheromone_matrix, number_ants):\n",
    "    \n",
    "    ant_number = 0\n",
    "    len_distance_matrix = len(distance_matrix)\n",
    "    range_distance_matrix = np.arange(len(distance_matrix))\n",
    "    \n",
    "    # creating a solution matrix corresponding to the size of the distance_matrix\n",
    "    solution_matrix = np.zeros(shape=(number_ants, len_distance_matrix), dtype='int')\n",
    "    \n",
    "    # do for each ant\n",
    "    while ant_number < number_ants:\n",
    "        # initialize selection_set, append a placeholder '1' for each city available           \n",
    "        selection_set = np.ones(len(distance_matrix))\n",
    "        \n",
    "        # choose a random starting city, save it in the solution matrix and set it to '0' in selection_set\n",
    "        start = (np.random.random_integers(0, len_distance_matrix-1))\n",
    "        solution_matrix[ant_number, 0] = start\n",
    "        selection_set[start] = 0\n",
    "        \n",
    "        # iterating through all cities until no one is left \"one ant\"\n",
    "        for x in np.arange(len_distance_matrix-1):\n",
    "            probability = np.zeros((len_distance_matrix))\n",
    "                \n",
    "            # create probability matrix of size of distance_matrix    \n",
    "            cities_left = np.where(selection_set != 0)[0]\n",
    "            for i in cities_left:\n",
    "                city_before = solution_matrix[ant_number, x]\n",
    "\n",
    "                t = (pheromone_matrix[city_before][i])\n",
    "\n",
    "                pheromones_city_before_mask = pheromone_matrix[city_before]\n",
    "                pheromones_city_left = pheromones_city_before_mask[selection_set!=0] \n",
    "\n",
    "                total_sum = np.sum((pheromones_city_left))\n",
    "\n",
    "                probability[i] = (t)/total_sum\n",
    "\n",
    "            boundaries = np.zeros((len_distance_matrix))\n",
    "            boundaries[0] = probability[0]\n",
    " \n",
    "            # calculation of boundaries for roulette-wheel-like selection of next city\n",
    "            for i in np.arange(1, len_distance_matrix):\n",
    "                boundaries[i] = probability[i]+boundaries[i-1]\n",
    "            \n",
    "            # selection of the next city\n",
    "            rand_mate = np.random.uniform(0,1)\n",
    "            for m in range(len_distance_matrix):\n",
    "                if rand_mate == float(1):\n",
    "                    city = len_distance_matrix\n",
    "                    break\n",
    "                elif boundaries[m] > rand_mate:\n",
    "                    city = m\n",
    "                    break\n",
    "            solution_matrix[ant_number, x+1] = city\n",
    "            selection_set[m] = 0\n",
    "        ant_number += 1\n",
    "    return solution_matrix"
   ]
  },
  {
   "cell_type": "markdown",
   "metadata": {},
   "source": [
    "## 3. Evaporation"
   ]
  },
  {
   "cell_type": "markdown",
   "metadata": {},
   "source": [
    "The pheromone update consists od the evaporation and intensification."
   ]
  },
  {
   "cell_type": "code",
   "execution_count": null,
   "metadata": {},
   "outputs": [],
   "source": [
    "def evaporate(pheromone_matrix,evaporator):\n",
    "    pheromone_matrix = pheromone_matrix * evaporator\n",
    "\n",
    "    return pheromone_matrix"
   ]
  },
  {
   "cell_type": "markdown",
   "metadata": {},
   "source": [
    "## 4. Intensification"
   ]
  },
  {
   "cell_type": "markdown",
   "metadata": {},
   "source": [
    "solution_matrix will be a list of lists which each holding the numbers of the cities in the order that  each of the ants visited them\n"
   ]
  },
  {
   "cell_type": "code",
   "execution_count": null,
   "metadata": {},
   "outputs": [],
   "source": [
    "def get_best_solution(distance_matrix, solution_matrix):\n",
    "    \n",
    "    # the shortest_distance is initially set to a really large value, since our aim is to minimize this value\n",
    "    shortest_distance = 10000000000\n",
    "    \n",
    "    for i in solution_matrix:\n",
    "        distance = 0\n",
    "       \n",
    "        for j in range(len(i)):\n",
    "            y=i[j]\n",
    "            if j < len(i)-1: \n",
    "                distance = distance + distance_matrix[y][i[j+1]]\n",
    "            else:\n",
    "                distance= distance + distance_matrix[i[j]][i[0]]     \n",
    "        \n",
    "        if distance < shortest_distance:\n",
    "            shortest_distance = distance\n",
    "            best_solution = i\n",
    "\n",
    "    return best_solution, shortest_distance"
   ]
  },
  {
   "cell_type": "code",
   "execution_count": 1,
   "metadata": {},
   "outputs": [],
   "source": [
    "def intensification(distance_matrix, pheromone_matrix, solution_matrix,intensifier):\n",
    "      \n",
    "    best_solution, shortest_distance = get_best_solution(distance_matrix, solution_matrix)\n",
    "   \n",
    "    for k in range(len(best_solution)):  \n",
    "        x = best_solution[k]\n",
    "        if k < len(best_solution)-1: \n",
    "            pheromone_matrix[x][best_solution[k+1]]= pheromone_matrix[x][best_solution[k+1]]*intensifier\n",
    "        else:\n",
    "            pheromone_matrix[best_solution[k]][0]= pheromone_matrix[best_solution[k]][0]*intensifier\n",
    "   \n",
    "    return pheromone_matrix"
   ]
  },
  {
   "cell_type": "markdown",
   "metadata": {},
   "source": [
    "## Action"
   ]
  },
  {
   "cell_type": "markdown",
   "metadata": {},
   "source": [
    "In the following the functions defined above are called with the desired parameter settings. Note that we have two convergence criterias. The first one is that if the best solution did not change after 10 iterations, the algorithm will stop. Eventually it will end after 400 iterations. "
   ]
  },
  {
   "cell_type": "code",
   "execution_count": null,
   "metadata": {
    "scrolled": false
   },
   "outputs": [],
   "source": [
    "# Choose the city matrix: '01_tsp.txt', '02_tsp.txt', '03_tsp.txt'\n",
    "filepath = '01_tsp.txt'\n",
    "distance_matrix = initialize(filepath)\n",
    "\n",
    "# Set up pheromone matrix with shape 150 x 150 and value 0.1 or 1\n",
    "pheromone_matrix = np.full(distance_matrix.shape, 0.01)\n",
    "\n",
    "# Set number of ants\n",
    "number_ants = 20\n",
    "\n",
    "# Set alpha and beta (test: alpha = 1, beta = 0 AND alpha = 1, beta = 0)\n",
    "alpha = 1\n",
    "beta = 5\n",
    "\n",
    "intensifier = 1.60\n",
    "evaporator = 0.80\n",
    "\n",
    "%timeit\n",
    "best_solution_list = []\n",
    "# \"Measure\" convergence\n",
    "converged = False\n",
    "count = 0\n",
    "totalCount = 0\n",
    "\n",
    "while not converged or totalCount < 400: \n",
    "    # solution_paths store the order how each ant visited the cities (each row is one ant)\n",
    "    if alpha == 1 and beta == 1:\n",
    "        solution_matrix = solution_construction_both1(distance_matrix, pheromone_matrix, number_ants)\n",
    "    elif alpha == 1 and beta == 0:\n",
    "        solution_matrix = solution_construction_withoutbeta(distance_matrix, pheromone_matrix, number_ants)\n",
    "    else:\n",
    "        solution_matrix = solution_construction(distance_matrix, pheromone_matrix, number_ants, alpha, beta)\n",
    "    \n",
    "    # Set up new pheromone matrix\n",
    "    pheromone_matrix = evaporate(pheromone_matrix,evaporator)\n",
    "\n",
    "    # Intensify good solutions and store them in a new pheromone matrix\n",
    "    pheromone_matrix = intensification(distance_matrix, pheromone_matrix, solution_matrix,intensifier)\n",
    "        \n",
    "    # Convergence-Criterium:\n",
    "    best_solution, shortest_distance = get_best_solution(distance_matrix, solution_matrix)\n",
    "    best_solution_list.append(shortest_distance)\n",
    "    if count == 10:\n",
    "    # if best_solution did not change, the algorithm converged, otherwise we reset the count value\n",
    "        print(\"best solution\",shortest_distance)\n",
    "        if best_solution_first == shortest_distance:\n",
    "            converged = True\n",
    "        else:\n",
    "            count = 0\n",
    "    # store the first best_solution for convergence-comparison\n",
    "    elif count == 0:\n",
    "        best_solution_first = shortest_distance\n",
    "        count += 1\n",
    "    else:\n",
    "    # increase count\n",
    "        count += 1\n",
    "    totalCount += 1\n",
    "    print(\"totalCount\",totalCount)\n",
    "print(\"done!\")"
   ]
  },
  {
   "cell_type": "markdown",
   "metadata": {},
   "source": [
    "## Plot"
   ]
  },
  {
   "cell_type": "markdown",
   "metadata": {},
   "source": [
    "A simple plot function that creates a function with the number of iterations on the x-axes and the distance on the y-axes. The plots are saved in the directory /plots and receive generic names according to their parameter settings. Since our algorithm is meant to minimize the distance, we expect the plot to decrease over the number of iterations. "
   ]
  },
  {
   "cell_type": "code",
   "execution_count": null,
   "metadata": {},
   "outputs": [],
   "source": [
    "def simple_plot(shortest_distance_per_run,tsp_number,ant_number,alpha,beta,intensificator,evaporator):\n",
    "    fig, ax = plt.subplots(figsize=plt.figaspect(0.2))\n",
    "    ax.plot(shortest_distance_per_run, ':r', label=f\"α = {alpha}, β = {beta}\")\n",
    "    ax.set(ylabel='Distance', xlabel='Run', title='ACO on TSP')\n",
    "    ax.legend()\n",
    "    plt.show()\n",
    "    fig.savefig(f\"plots/tsp{tsp_number}_Ants{ant_number}_Aplha{alpha}_Beta{beta}_inten{intensificator}_evap{evaporator}.png\")"
   ]
  },
  {
   "cell_type": "code",
   "execution_count": null,
   "metadata": {},
   "outputs": [],
   "source": [
    "shortest_distance_per_run = best_solution_list\n",
    "tsp_number_for_plot = \"01\"\n",
    "ant_number_for_plot = 20\n",
    "alpha_for_plot = 1\n",
    "beta_for_plot = 5\n",
    "intensificator_for_plot = \"160\"\n",
    "evaporator_for_plot = \"080\"\n",
    "\n",
    "\n",
    "print(\"Best solution in this run: \",min(shortest_distance_per_run_1))\n",
    "simple_plot(shortest_distance_per_run,tsp_number_for_plot,ant_number_for_plot,alpha_for_plot,beta_for_plot,intensificator_for_plot,evaporator_for_plot)"
   ]
  }
 ],
 "metadata": {
  "kernelspec": {
   "display_name": "Python 3",
   "language": "python",
   "name": "python3"
  },
  "language_info": {
   "codemirror_mode": {
    "name": "ipython",
    "version": 3
   },
   "file_extension": ".py",
   "mimetype": "text/x-python",
   "name": "python",
   "nbconvert_exporter": "python",
   "pygments_lexer": "ipython3",
   "version": "3.6.5"
  }
 },
 "nbformat": 4,
 "nbformat_minor": 2
}
