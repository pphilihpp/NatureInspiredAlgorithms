{
 "cells": [
  {
   "cell_type": "markdown",
   "metadata": {},
   "source": [
    "# Ant-Colony-Optimization Problem"
   ]
  },
  {
   "cell_type": "markdown",
   "metadata": {},
   "source": [
    "This Jupyter Notebook deals with Ant-Colony-Optimization. All information is taken from Daniel Merkle's and Martin Middendorf's Chapter 14 on Swarm Intelligence in Search Methodologies. Introductory Tutorials in Optimization and Decision Support Techniques by Edmund K. Burke and Graham Kendall.\n",
    "\n",
    "Ant-Colony Optimization is one of two main areas of Swarm Intelligence. It is used to solve optimization and search problems. The idea is that ant colonies find the shortest way form their nest to the food source with the help of pheromones. Experiments have shown that if you connect the nest with two different branches to a food source - one way is longer than the other one, ants will quickly find out which way is the shortest one. The result is an ant trail.\n",
    "\n",
    "How exactly does it work? At the beginning both branches are taken with the same probability. After a while the pheromone concentration will be higher at the shorter branch since the ants are back at the nest way faster if they have taken the short road. The pheromone concentration gets higher more easily and since ants are taking the road with a higher pheromone concentration, eventually all ants take the short road"
   ]
  },
  {
   "cell_type": "code",
   "execution_count": 1,
   "metadata": {
    "collapsed": true
   },
   "outputs": [],
   "source": [
    "import pandas as pd\n",
    "import numpy as np\n",
    "import matplotlib.pyplot as plt"
   ]
  },
  {
   "cell_type": "markdown",
   "metadata": {},
   "source": [
    "## 1. Initialization\n",
    "Importing .txt files and saving them as arrays."
   ]
  },
  {
   "cell_type": "code",
   "execution_count": 2,
   "metadata": {
    "collapsed": true
   },
   "outputs": [],
   "source": [
    "def initialize(filepath): \n",
    "    with open(filepath, 'r') as t:\n",
    "        distance_matrix = []\n",
    "        for line in t.readlines():\n",
    "            y = [int(value) for value in line.split()]\n",
    "            distance_matrix.append(y)\n",
    "        \n",
    "        t.close()\n",
    "        distance_matrix = np.array(distance_matrix)\n",
    "    \n",
    "    return distance_matrix"
   ]
  },
  {
   "cell_type": "markdown",
   "metadata": {},
   "source": [
    "## 2. Solution Construction"
   ]
  },
  {
   "cell_type": "code",
   "execution_count": 49,
   "metadata": {
    "collapsed": true
   },
   "outputs": [],
   "source": [
    "def solution_construction(distance_matrix, pheromone_matrix, number_ants,alpha,beta):\n",
    "    ant_number = 0\n",
    "    len_distance_matrix = len(distance_matrix)\n",
    "    range_distance_matrix = np.arange(len(distance_matrix))\n",
    "    \n",
    "    # creating a solution matrix corresponding to the size of the distance_matrix\n",
    "    solution_matrix = np.zeros(shape=(number_ants, len_distance_matrix), dtype='int')\n",
    "    \n",
    "    # do for each ant\n",
    "    while ant_number < number_ants:\n",
    "        # initialize selection_set, append a placeholder '1' for each city available           \n",
    "        selection_set = np.ones(len(distance_matrix))\n",
    "        \n",
    "        # choose a random starting city, save it in the solution matrix and set it to '0' in selection_set\n",
    "        start = (np.random.random_integers(0, len_distance_matrix-1))\n",
    "        solution_matrix[ant_number, 0] = start\n",
    "        selection_set[start] = 0\n",
    "        \n",
    "        # iterating through all cities until no one is left \"one ant\"\n",
    "        for x in np.arange(len_distance_matrix-1):\n",
    "            probability = np.zeros((len_distance_matrix))\n",
    "                \n",
    "            # create probability matrix of size of distance_matrix    \n",
    "            cities_left = np.where(selection_set != 0)[0]\n",
    "            for i in cities_left:\n",
    "                city_before = solution_matrix[ant_number, x]\n",
    "\n",
    "                t = (pheromone_matrix[city_before][i])**alpha\n",
    "                n = (1/(distance_matrix[city_before][i]))**beta \n",
    "\n",
    "                pheromones_city_before = pheromone_matrix[city_before]\n",
    "                distances_city_before = distance_matrix[city_before]\n",
    "                \n",
    "                pheromones_city_before = pheromones_city_before[selection_set!=0]\n",
    "                distances_city_before = distances_city_before[selection_set!=0]\n",
    "\n",
    "                total_sum = np.sum((pheromones_city_before)**alpha * (1/distances_city_before))**beta\n",
    "\n",
    "                probability[i] = (t * n)/total_sum\n",
    "\n",
    "            boundaries = np.zeros((len_distance_matrix))\n",
    "            boundaries[0] = probability[0]\n",
    " \n",
    "            # calculation of boundaries for roulette-wheel-like selection of next city\n",
    "            for i in np.arange(1, len_distance_matrix):\n",
    "                boundaries[i] = probability[i]+boundaries[i-1]\n",
    "            \n",
    "            # selection of the next city\n",
    "            rand_mate = np.random.uniform(0,1)\n",
    "            for m in range(len_distance_matrix):\n",
    "                if rand_mate == 1:\n",
    "                    city = len_distance_matrix\n",
    "                    break\n",
    "                elif boundaries[m] > rand_mate:\n",
    "                    city = m\n",
    "                    break\n",
    "            solution_matrix[ant_number, x+1] = city\n",
    "            selection_set[m] = 0\n",
    "        ant_number += 1\n",
    "    return solution_matrix"
   ]
  },
  {
   "cell_type": "code",
   "execution_count": 50,
   "metadata": {
    "collapsed": true
   },
   "outputs": [],
   "source": [
    "def solution_construction_both1(distance_matrix, pheromone_matrix, number_ants):\n",
    "    ant_number = 0\n",
    "    len_distance_matrix = len(distance_matrix)\n",
    "    range_distance_matrix = np.arange(len(distance_matrix))\n",
    "    \n",
    "    # creating a solution matrix corresponding to the size of the distance_matrix\n",
    "    solution_matrix = np.zeros(shape=(number_ants, len_distance_matrix), dtype='int')\n",
    "    \n",
    "    # do for each ant\n",
    "    while ant_number < number_ants:\n",
    "        # initialize selection_set, append a placeholder '1' for each city available           \n",
    "        selection_set = np.ones(len(distance_matrix))\n",
    "        \n",
    "        # choose a random starting city, save it in the solution matrix and set it to '0' in selection_set\n",
    "        start = (np.random.random_integers(0, len_distance_matrix-1))\n",
    "        solution_matrix[ant_number, 0] = start\n",
    "        selection_set[start] = 0\n",
    "        \n",
    "        # iterating through all cities until no one is left \"one ant\"\n",
    "        for x in np.arange(len_distance_matrix-1):\n",
    "            probability = np.zeros((len_distance_matrix))\n",
    "                \n",
    "            # create probability matrix of size of distance_matrix    \n",
    "            cities_left = np.where(selection_set != 0)[0]\n",
    "            for i in cities_left:\n",
    "                city_before = solution_matrix[ant_number, x]\n",
    "\n",
    "                t = (pheromone_matrix[city_before][i])\n",
    "                n = (1/(distance_matrix[city_before][i])) \n",
    "\n",
    "                pheromones_city_before = pheromone_matrix[city_before]\n",
    "                distances_city_before = distance_matrix[city_before]\n",
    "                \n",
    "                pheromones_city_before = pheromones_city_before[selection_set!=0]\n",
    "                distances_city_before = distances_city_before[selection_set!=0]\n",
    "\n",
    "                total_sum = np.sum((pheromones_city_before) * (1/distances_city_before))\n",
    "\n",
    "                probability[i] = (t * n)/total_sum\n",
    "\n",
    "            boundaries = np.zeros((len_distance_matrix))\n",
    "            boundaries[0] = probability[0]\n",
    " \n",
    "            # calculation of boundaries for roulette-wheel-like selection of next city\n",
    "            for i in np.arange(1, len_distance_matrix):\n",
    "                boundaries[i] = probability[i]+boundaries[i-1]\n",
    "            \n",
    "            # selection of the next city\n",
    "            rand_mate = np.random.uniform(0,1)\n",
    "            for m in range(len_distance_matrix):\n",
    "                if rand_mate == 1:\n",
    "                    city = len_distance_matrix\n",
    "                    break\n",
    "                elif boundaries[m] > rand_mate:\n",
    "                    city = m\n",
    "                    break\n",
    "            solution_matrix[ant_number, x+1] = city\n",
    "            selection_set[m] = 0\n",
    "        ant_number += 1\n",
    "    return solution_matrix"
   ]
  },
  {
   "cell_type": "code",
   "execution_count": 29,
   "metadata": {
    "collapsed": true
   },
   "outputs": [],
   "source": [
    "def solution_construction_withoutbeta(distance_matrix, pheromone_matrix, number_ants):\n",
    "    \n",
    "    ant_number = 0\n",
    "    len_distance_matrix = len(distance_matrix)\n",
    "    range_distance_matrix = np.arange(len(distance_matrix))\n",
    "    \n",
    "    # creating a solution matrix corresponding to the size of the distance_matrix\n",
    "    solution_matrix = np.zeros(shape=(number_ants, len_distance_matrix), dtype='int')\n",
    "    \n",
    "    # do for each ant\n",
    "    while ant_number < number_ants:\n",
    "        # initialize selection_set, append a placeholder '1' for each city available           \n",
    "        selection_set = np.ones(len(distance_matrix))\n",
    "        \n",
    "        # choose a random starting city, save it in the solution matrix and set it to '0' in selection_set\n",
    "        start = (np.random.random_integers(0, len_distance_matrix-1))\n",
    "        solution_matrix[ant_number, 0] = start\n",
    "        selection_set[start] = 0\n",
    "        \n",
    "        # iterating through all cities until no one is left \"one ant\"\n",
    "        for x in np.arange(len_distance_matrix-1):\n",
    "            probability = np.zeros((len_distance_matrix))\n",
    "                \n",
    "            # create probability matrix of size of distance_matrix    \n",
    "            cities_left = np.where(selection_set != 0)[0]\n",
    "            for i in cities_left:\n",
    "                city_before = solution_matrix[ant_number, x]\n",
    "\n",
    "                t = (pheromone_matrix[city_before][i])\n",
    "\n",
    "                pheromones_city_before_mask = pheromone_matrix[city_before]\n",
    "                pheromones_city_left = pheromones_city_before_mask[selection_set!=0] \n",
    "\n",
    "                total_sum = np.sum((pheromones_city_left))\n",
    "\n",
    "                probability[i] = (t)/total_sum\n",
    "\n",
    "            boundaries = np.zeros((len_distance_matrix))\n",
    "            boundaries[0] = probability[0]\n",
    " \n",
    "            # calculation of boundaries for roulette-wheel-like selection of next city\n",
    "            for i in np.arange(1, len_distance_matrix):\n",
    "                boundaries[i] = probability[i]+boundaries[i-1]\n",
    "            \n",
    "            # selection of the next city\n",
    "            rand_mate = np.random.uniform(0,1)\n",
    "            for m in range(len_distance_matrix):\n",
    "                if rand_mate == float(1):\n",
    "                    city = len_distance_matrix\n",
    "                    break\n",
    "                elif boundaries[m] > rand_mate:\n",
    "                    city = m\n",
    "                    break\n",
    "            solution_matrix[ant_number, x+1] = city\n",
    "            selection_set[m] = 0\n",
    "        ant_number += 1\n",
    "    return solution_matrix"
   ]
  },
  {
   "cell_type": "markdown",
   "metadata": {},
   "source": [
    "## 3. Evaporation"
   ]
  },
  {
   "cell_type": "code",
   "execution_count": 7,
   "metadata": {
    "collapsed": true
   },
   "outputs": [],
   "source": [
    "def evaporate(pheromone_matrix,evaporator):\n",
    "    pheromone_matrix = pheromone_matrix * evaporator\n",
    "\n",
    "    return pheromone_matrix"
   ]
  },
  {
   "cell_type": "markdown",
   "metadata": {},
   "source": [
    "## 4. Intensification"
   ]
  },
  {
   "cell_type": "markdown",
   "metadata": {},
   "source": [
    "solution_matrix will be a list of lists which each holding the numbers of the cities in the order that  each of the ants visited them\n"
   ]
  },
  {
   "cell_type": "code",
   "execution_count": 8,
   "metadata": {
    "collapsed": true
   },
   "outputs": [],
   "source": [
    "def get_best_solution(distance_matrix, solution_matrix):\n",
    "    shortest_distance = 10000000000\n",
    "    for i in solution_matrix:\n",
    "        distance = 0\n",
    "       \n",
    "       \n",
    "        for j in range(len(i)):\n",
    "            y=i[j]\n",
    "            if j < len(i)-1: \n",
    "                distance = distance + distance_matrix[y][i[j+1]]\n",
    "            else:\n",
    "                distance= distance + distance_matrix[i[j]][i[0]]\n",
    "         \n",
    "        \n",
    "        if distance < shortest_distance:\n",
    "            shortest_distance = distance\n",
    "            best_solution = i\n",
    "            #print(best_solution)\n",
    "    return best_solution, shortest_distance"
   ]
  },
  {
   "cell_type": "code",
   "execution_count": 9,
   "metadata": {},
   "outputs": [
    {
     "name": "stdout",
     "output_type": "stream",
     "text": [
      "[[1, 1, 1.05], [1.05, 1, 1], [1, 1.05, 1]]\n"
     ]
    }
   ],
   "source": [
    "array2=[[1, 1, 1],[1, 1, 1],[1, 1, 1]]\n",
    "array3=[[1, 2, 0],[0, 2, 1]]\n",
    "array0=[[0, 4, 1],[1, 0, 5],[4, 1, 0]]\n",
    "\n",
    "def intensification(distance_matrix, pheromone_matrix, solution_matrix,intensifier):\n",
    "      \n",
    "    best_solution, shortest_distance = get_best_solution(distance_matrix, solution_matrix)\n",
    "   \n",
    "    for k in range(len(best_solution)):  \n",
    "        x = best_solution[k]\n",
    "        if k < len(best_solution)-1: \n",
    "            pheromone_matrix[x][best_solution[k+1]]= pheromone_matrix[x][best_solution[k+1]]*intensifier\n",
    "        else:\n",
    "            pheromone_matrix[best_solution[k]][0]= pheromone_matrix[best_solution[k]][0]*intensifier\n",
    "   \n",
    "    return pheromone_matrix\n",
    "            \n",
    "print(intensification(array0,array2,array3,1.05))"
   ]
  },
  {
   "cell_type": "markdown",
   "metadata": {},
   "source": [
    "## Action"
   ]
  },
  {
   "cell_type": "code",
   "execution_count": 51,
   "metadata": {
    "scrolled": false
   },
   "outputs": [
    {
     "name": "stderr",
     "output_type": "stream",
     "text": [
      "C:\\Anaconda\\lib\\site-packages\\ipykernel_launcher.py:15: DeprecationWarning: This function is deprecated. Please call randint(0, 149 + 1) instead\n",
      "  from ipykernel import kernelapp as app\n"
     ]
    },
    {
     "name": "stdout",
     "output_type": "stream",
     "text": [
      "totalCount 1\n",
      "totalCount 2\n",
      "totalCount 3\n",
      "totalCount 4\n",
      "totalCount 5\n",
      "totalCount 6\n",
      "totalCount 7\n",
      "totalCount 8\n",
      "totalCount 9\n",
      "totalCount 10\n",
      "best solution 18116\n",
      "totalCount 11\n",
      "totalCount 12\n",
      "totalCount 13\n",
      "totalCount 14\n",
      "totalCount 15\n",
      "totalCount 16\n",
      "totalCount 17\n",
      "totalCount 18\n",
      "totalCount 19\n",
      "totalCount 20\n",
      "totalCount 21\n",
      "best solution 15662\n",
      "totalCount 22\n",
      "totalCount 23\n",
      "totalCount 24\n",
      "totalCount 25\n",
      "totalCount 26\n",
      "totalCount 27\n",
      "totalCount 28\n",
      "totalCount 29\n",
      "totalCount 30\n",
      "totalCount 31\n",
      "totalCount 32\n",
      "best solution 13326\n",
      "totalCount 33\n",
      "totalCount 34\n",
      "totalCount 35\n",
      "totalCount 36\n",
      "totalCount 37\n",
      "totalCount 38\n",
      "totalCount 39\n",
      "totalCount 40\n",
      "totalCount 41\n",
      "totalCount 42\n",
      "totalCount 43\n",
      "best solution 11816\n",
      "totalCount 44\n",
      "totalCount 45\n",
      "totalCount 46\n",
      "totalCount 47\n",
      "totalCount 48\n",
      "totalCount 49\n",
      "totalCount 50\n",
      "totalCount 51\n",
      "totalCount 52\n",
      "totalCount 53\n",
      "totalCount 54\n",
      "best solution 9832\n",
      "totalCount 55\n",
      "totalCount 56\n",
      "totalCount 57\n",
      "totalCount 58\n",
      "totalCount 59\n",
      "totalCount 60\n",
      "totalCount 61\n",
      "totalCount 62\n",
      "totalCount 63\n",
      "totalCount 64\n",
      "totalCount 65\n",
      "best solution 8564\n",
      "totalCount 66\n",
      "totalCount 67\n",
      "totalCount 68\n",
      "totalCount 69\n",
      "totalCount 70\n",
      "totalCount 71\n",
      "totalCount 72\n",
      "totalCount 73\n",
      "totalCount 74\n",
      "totalCount 75\n",
      "totalCount 76\n",
      "best solution 7928\n",
      "totalCount 77\n",
      "totalCount 78\n",
      "totalCount 79\n",
      "totalCount 80\n",
      "totalCount 81\n",
      "totalCount 82\n",
      "totalCount 83\n",
      "totalCount 84\n",
      "totalCount 85\n",
      "totalCount 86\n",
      "totalCount 87\n",
      "best solution 7460\n",
      "totalCount 88\n",
      "totalCount 89\n",
      "totalCount 90\n",
      "totalCount 91\n",
      "totalCount 92\n",
      "totalCount 93\n",
      "totalCount 94\n",
      "totalCount 95\n",
      "totalCount 96\n",
      "totalCount 97\n",
      "totalCount 98\n",
      "best solution 6638\n",
      "totalCount 99\n",
      "totalCount 100\n",
      "totalCount 101\n",
      "totalCount 102\n",
      "totalCount 103\n",
      "totalCount 104\n",
      "totalCount 105\n",
      "totalCount 106\n",
      "totalCount 107\n",
      "totalCount 108\n",
      "totalCount 109\n",
      "best solution 6716\n",
      "totalCount 110\n",
      "totalCount 111\n",
      "totalCount 112\n",
      "totalCount 113\n",
      "totalCount 114\n",
      "totalCount 115\n",
      "totalCount 116\n",
      "totalCount 117\n",
      "totalCount 118\n",
      "totalCount 119\n",
      "totalCount 120\n",
      "best solution 6246\n",
      "totalCount 121\n",
      "totalCount 122\n",
      "totalCount 123\n",
      "totalCount 124\n",
      "totalCount 125\n",
      "totalCount 126\n",
      "totalCount 127\n",
      "totalCount 128\n",
      "totalCount 129\n",
      "totalCount 130\n",
      "totalCount 131\n",
      "best solution 5962\n",
      "totalCount 132\n",
      "totalCount 133\n",
      "totalCount 134\n",
      "totalCount 135\n",
      "totalCount 136\n",
      "totalCount 137\n",
      "totalCount 138\n",
      "totalCount 139\n",
      "totalCount 140\n",
      "totalCount 141\n",
      "totalCount 142\n",
      "best solution 5608\n",
      "totalCount 143\n",
      "totalCount 144\n",
      "totalCount 145\n",
      "totalCount 146\n",
      "totalCount 147\n",
      "totalCount 148\n",
      "totalCount 149\n",
      "totalCount 150\n",
      "totalCount 151\n",
      "totalCount 152\n",
      "totalCount 153\n",
      "best solution 5370\n",
      "totalCount 154\n",
      "totalCount 155\n",
      "totalCount 156\n",
      "totalCount 157\n",
      "totalCount 158\n",
      "totalCount 159\n",
      "totalCount 160\n",
      "totalCount 161\n",
      "totalCount 162\n",
      "totalCount 163\n",
      "totalCount 164\n",
      "best solution 5330\n",
      "totalCount 165\n"
     ]
    },
    {
     "ename": "KeyboardInterrupt",
     "evalue": "",
     "output_type": "error",
     "traceback": [
      "\u001b[1;31m---------------------------------------------------------------------------\u001b[0m",
      "\u001b[1;31mKeyboardInterrupt\u001b[0m                         Traceback (most recent call last)",
      "\u001b[1;32m<ipython-input-51-edbc62d764b3>\u001b[0m in \u001b[0;36m<module>\u001b[1;34m()\u001b[0m\n\u001b[0;32m     26\u001b[0m     \u001b[1;31m# solution_paths store the order how each ant visited the cities (each row is one ant)\u001b[0m\u001b[1;33m\u001b[0m\u001b[1;33m\u001b[0m\u001b[0m\n\u001b[0;32m     27\u001b[0m     \u001b[1;32mif\u001b[0m \u001b[0malpha\u001b[0m \u001b[1;33m==\u001b[0m \u001b[1;36m1\u001b[0m \u001b[1;32mand\u001b[0m \u001b[0mbeta\u001b[0m \u001b[1;33m==\u001b[0m \u001b[1;36m1\u001b[0m\u001b[1;33m:\u001b[0m\u001b[1;33m\u001b[0m\u001b[0m\n\u001b[1;32m---> 28\u001b[1;33m         \u001b[0msolution_matrix\u001b[0m \u001b[1;33m=\u001b[0m \u001b[0msolution_construction_both1\u001b[0m\u001b[1;33m(\u001b[0m\u001b[0mdistance_matrix\u001b[0m\u001b[1;33m,\u001b[0m \u001b[0mpheromone_matrix\u001b[0m\u001b[1;33m,\u001b[0m \u001b[0mnumber_ants\u001b[0m\u001b[1;33m)\u001b[0m\u001b[1;33m\u001b[0m\u001b[0m\n\u001b[0m\u001b[0;32m     29\u001b[0m     \u001b[1;32melif\u001b[0m \u001b[0malpha\u001b[0m \u001b[1;33m==\u001b[0m \u001b[1;36m1\u001b[0m \u001b[1;32mand\u001b[0m \u001b[0mbeta\u001b[0m \u001b[1;33m==\u001b[0m \u001b[1;36m0\u001b[0m\u001b[1;33m:\u001b[0m\u001b[1;33m\u001b[0m\u001b[0m\n\u001b[0;32m     30\u001b[0m         \u001b[0msolution_matrix\u001b[0m \u001b[1;33m=\u001b[0m \u001b[0msolution_construction_withoutbeta\u001b[0m\u001b[1;33m(\u001b[0m\u001b[0mdistance_matrix\u001b[0m\u001b[1;33m,\u001b[0m \u001b[0mpheromone_matrix\u001b[0m\u001b[1;33m,\u001b[0m \u001b[0mnumber_ants\u001b[0m\u001b[1;33m)\u001b[0m\u001b[1;33m\u001b[0m\u001b[0m\n",
      "\u001b[1;32m<ipython-input-50-1e59c7dbd258>\u001b[0m in \u001b[0;36msolution_construction_both1\u001b[1;34m(distance_matrix, pheromone_matrix, number_ants)\u001b[0m\n\u001b[0;32m     35\u001b[0m                 \u001b[0mdistances_city_before\u001b[0m \u001b[1;33m=\u001b[0m \u001b[0mdistances_city_before\u001b[0m\u001b[1;33m[\u001b[0m\u001b[0mselection_set\u001b[0m\u001b[1;33m!=\u001b[0m\u001b[1;36m0\u001b[0m\u001b[1;33m]\u001b[0m\u001b[1;33m\u001b[0m\u001b[0m\n\u001b[0;32m     36\u001b[0m \u001b[1;33m\u001b[0m\u001b[0m\n\u001b[1;32m---> 37\u001b[1;33m                 \u001b[0mtotal_sum\u001b[0m \u001b[1;33m=\u001b[0m \u001b[0mnp\u001b[0m\u001b[1;33m.\u001b[0m\u001b[0msum\u001b[0m\u001b[1;33m(\u001b[0m\u001b[1;33m(\u001b[0m\u001b[0mpheromones_city_before\u001b[0m\u001b[1;33m)\u001b[0m \u001b[1;33m*\u001b[0m \u001b[1;33m(\u001b[0m\u001b[1;36m1\u001b[0m\u001b[1;33m/\u001b[0m\u001b[0mdistances_city_before\u001b[0m\u001b[1;33m)\u001b[0m\u001b[1;33m)\u001b[0m\u001b[1;33m\u001b[0m\u001b[0m\n\u001b[0m\u001b[0;32m     38\u001b[0m \u001b[1;33m\u001b[0m\u001b[0m\n\u001b[0;32m     39\u001b[0m                 \u001b[0mprobability\u001b[0m\u001b[1;33m[\u001b[0m\u001b[0mi\u001b[0m\u001b[1;33m]\u001b[0m \u001b[1;33m=\u001b[0m \u001b[1;33m(\u001b[0m\u001b[0mt\u001b[0m \u001b[1;33m*\u001b[0m \u001b[0mn\u001b[0m\u001b[1;33m)\u001b[0m\u001b[1;33m/\u001b[0m\u001b[0mtotal_sum\u001b[0m\u001b[1;33m\u001b[0m\u001b[0m\n",
      "\u001b[1;31mKeyboardInterrupt\u001b[0m: "
     ]
    }
   ],
   "source": [
    "# Choose the city matrix: '01_tsp.txt', '02_tsp.txt', '03_tsp.txt'\n",
    "filepath = '01_tsp.txt'\n",
    "distance_matrix = initialize(filepath)\n",
    "\n",
    "# Set up pheromone matrix with shape 150 x 150 and fixed values = 0.01\n",
    "pheromone_matrix = np.full(distance_matrix.shape, 0.01)\n",
    "\n",
    "# Set number of ants\n",
    "number_ants = 20\n",
    "\n",
    "# Set alpha and beta (test: alpha = 1, beta = 0 AND alpha = 1, beta = 0)\n",
    "alpha = 1\n",
    "beta = 1\n",
    "\n",
    "intensifier = 1.60\n",
    "evaporator = 0.80\n",
    "\n",
    "%timeit\n",
    "best_solution_list = []\n",
    "# \"Measure\" convergence\n",
    "converged = False\n",
    "count = 0\n",
    "totalCount = 0\n",
    "\n",
    "while not converged: \n",
    "    # solution_paths store the order how each ant visited the cities (each row is one ant)\n",
    "    if alpha == 1 and beta == 1:\n",
    "        solution_matrix = solution_construction_both1(distance_matrix, pheromone_matrix, number_ants)\n",
    "    elif alpha == 1 and beta == 0:\n",
    "        solution_matrix = solution_construction_withoutbeta(distance_matrix, pheromone_matrix, number_ants)\n",
    "    else:\n",
    "        solution_matrix = solution_construction(distance_matrix, pheromone_matrix, number_ants, alpha, beta)\n",
    "    \n",
    "    # Set up new pheromone matrix\n",
    "    pheromone_matrix = evaporate(pheromone_matrix,evaporator)\n",
    "\n",
    "    # Intensify good solutions and store them in a new pheromone matrix\n",
    "    pheromone_matrix = intensification(distance_matrix, pheromone_matrix, solution_matrix,intensifier)\n",
    "        \n",
    "    # Convergence-Criterium:\n",
    "    best_solution, shortest_distance = get_best_solution(distance_matrix, solution_matrix)\n",
    "    best_solution_list.append(shortest_distance)\n",
    "    if count == 10:\n",
    "    # if best_solution did not change, the algorithm converged, otherwise we reset the count value\n",
    "        print(\"best solution\",shortest_distance)\n",
    "        if best_solution_first == shortest_distance:\n",
    "            converged = True\n",
    "        else:\n",
    "            count = 0\n",
    "    # store the first best_solution for convergence-comparison\n",
    "    elif count == 0:\n",
    "        best_solution_first = shortest_distance\n",
    "        count += 1\n",
    "    else:\n",
    "    # increase count\n",
    "        count += 1\n",
    "    totalCount += 1\n",
    "    print(\"totalCount\",totalCount)\n",
    "print(\"done!\")"
   ]
  },
  {
   "cell_type": "markdown",
   "metadata": {},
   "source": [
    "## Plot"
   ]
  },
  {
   "cell_type": "code",
   "execution_count": 54,
   "metadata": {
    "collapsed": true
   },
   "outputs": [],
   "source": [
    "def simple_plot(*args):\n",
    "    fig, ax = plt.subplots(figsize=plt.figaspect(0.2))\n",
    "    ax.plot(shortest_distance_per_run_1, ':r', label='α = 1, β = 0')\n",
    "    #ax.plot(shortest_distance_per_run_2[0], '-.o', label='α = 1, β = 1')\n",
    "    #ax.plot(shortest_distance_per_run_3[0], '--m', label='α = 0, β = 1')\n",
    "    ax.set(ylabel='Shortest distance', xlabel='Run', title='ACO on TSP')\n",
    "    ax.legend()\n",
    "    plt.show()\n",
    "    fig.savefig('plots/tsp01_Ants20_Aplha1_Beta1_inten160_evap080.png')"
   ]
  },
  {
   "cell_type": "code",
   "execution_count": 105,
   "metadata": {},
   "outputs": [
    {
     "name": "stdout",
     "output_type": "stream",
     "text": [
      "[455  73 396 118 702 589 547 100 821 427 252 498 392  29 435 450 388 791\n",
      " 530 388 824 368 993 919 298 577 843 670 818   1 741  59  79 226 979 629\n",
      " 439 180 525 630 798 572 977  59 753 731 894 501 801 513 822 443 442 421\n",
      " 824 406  69 357 784 692 913 982   3 429 852 356 904 204 418 971  76 128\n",
      " 616 886  97 289 370 642 549 242 575 781 796 190 725 664 207   8 374 620\n",
      " 898 496 462 558 902 406 250 822 760 332 885 156  97 804 674  76 465 256\n",
      " 415 313 151  53   2 569 935 577 614 613 533 135 922 517 739 398 637 274\n",
      " 140 371 617 495 337 446  22 623 841 772 366 954 493 967 357 554 347 130\n",
      " 269 684 569 489 614 660  66 975 706 278  13 377 686 856 384 525 751 427\n",
      "  69  18 838 977 871 981 121 143 737 253 570 238 968 391 700 219 135 120\n",
      " 352 918 497 690 607 709 506 610 504 960 147 745 480 192 871 525 332 934\n",
      " 433 807 634 705 677 735 761 837 347  23 520 898 369 900 192 478 174 898\n",
      " 803 875 301 352 574  92 107 431 809 320 248 669 749 720 413 566 683]\n"
     ]
    },
    {
     "data": {
      "image/png": "[encoded data removed]",
      "text/plain": [
       "<matplotlib.figure.Figure at 0x223fb770470>"
      ]
     },
     "metadata": {},
     "output_type": "display_data"
    }
   ],
   "source": [
    "# Example with three random 1D arrays. \n",
    "# Each index 1 - 150 stands for one run. \n",
    "# The entry at the given position is the shortest distance measured in this run.\n",
    "\n",
    "shortest_distance_per_run_1 = np.random.randint(1000, size=(233))\n",
    "print(shortest_distance_per_run_1)\n",
    "shortest_distance_per_run_2 = np.random.randint(1000, size=(1,150))\n",
    "shortest_distance_per_run_3 = np.random.randint(1000, size=(1,150))\n",
    "\n",
    "# calling simple_plot function with the three random arrays\n",
    "simple_plot(shortest_distance_per_run_1, shortest_distance_per_run_2)"
   ]
  },
  {
   "cell_type": "code",
   "execution_count": 55,
   "metadata": {},
   "outputs": [
    {
     "name": "stdout",
     "output_type": "stream",
     "text": [
      "Best solution in this run:  5292\n"
     ]
    },
    {
     "data": {
      "image/png": "[encoded data removed]",
      "text/plain": [
       "<matplotlib.figure.Figure at 0x24194e4b3c8>"
      ]
     },
     "metadata": {},
     "output_type": "display_data"
    }
   ],
   "source": [
    "shortest_distance_per_run_1 = np.array(best_solution_list)\n",
    "print(\"Best solution in this run: \",min(shortest_distance_per_run_1))\n",
    "simple_plot(shortest_distance_per_run_1)"
   ]
  },
  {
   "cell_type": "code",
   "execution_count": null,
   "metadata": {
    "collapsed": true
   },
   "outputs": [],
   "source": []
  }
 ],
 "metadata": {
  "kernelspec": {
   "display_name": "Python 3",
   "language": "python",
   "name": "python3"
  },
  "language_info": {
   "codemirror_mode": {
    "name": "ipython",
    "version": 3
   },
   "file_extension": ".py",
   "mimetype": "text/x-python",
   "name": "python",
   "nbconvert_exporter": "python",
   "pygments_lexer": "ipython3",
   "version": "3.6.3"
  }
 },
 "nbformat": 4,
 "nbformat_minor": 2
}
