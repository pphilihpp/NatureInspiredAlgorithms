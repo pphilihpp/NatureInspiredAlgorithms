{
 "cells": [
  {
   "cell_type": "markdown",
   "metadata": {},
   "source": [
    "# Ant-Colony-Optimization Problem"
   ]
  },
  {
   "cell_type": "code",
   "execution_count": 1,
   "metadata": {},
   "outputs": [],
   "source": [
    "import pandas as pd\n",
    "import numpy as np"
   ]
  },
  {
   "cell_type": "markdown",
   "metadata": {},
   "source": [
    "Importing .txt files and saving them as arrays."
   ]
  },
  {
   "cell_type": "code",
   "execution_count": 12,
   "metadata": {},
   "outputs": [
    {
     "name": "stdout",
     "output_type": "stream",
     "text": [
      "[[  0 100 229 ... 379 183 178]\n",
      " [100   0 329 ... 479 231 278]\n",
      " [229 329   0 ... 150 290  87]\n",
      " ...\n",
      " [379 479 150 ...   0 248 201]\n",
      " [183 231 290 ... 248   0 203]\n",
      " [178 278  87 ... 201 203   0]]\n",
      "(150, 150)\n",
      "<class 'numpy.ndarray'>\n"
     ]
    }
   ],
   "source": [
    "with open('01_tsp.txt', 'r') as t1:\n",
    "    array1 = []\n",
    "    for line in t1.readlines():\n",
    "        y = [int(value) for value in line.split()]\n",
    "        array1.append(y)\n",
    "\n",
    "    t1.close()\n",
    "    array1 = np.array(array1)\n",
    "    print(array1)\n",
    "\n",
    "print(array1.shape)\n",
    "\n",
    "print(type(array1))\n"
   ]
  },
  {
   "cell_type": "code",
   "execution_count": 43,
   "metadata": {},
   "outputs": [],
   "source": [
    "def evaporate(pheromone_matrix):\n",
    "    pheromone_matrix= pheromone_matrix * 0.1\n",
    "\n",
    "    return pheromone_matrix\n"
   ]
  },
  {
   "cell_type": "markdown",
   "metadata": {},
   "source": [
    "## Intensification\n"
   ]
  },
  {
   "cell_type": "markdown",
   "metadata": {},
   "source": [
    "solution_matrix will be a list of lists which hold the numbers of the cities in the order that the each of the ants visited them\n"
   ]
  },
  {
   "cell_type": "code",
   "execution_count": 45,
   "metadata": {},
   "outputs": [
    {
     "name": "stdout",
     "output_type": "stream",
     "text": [
      "[[1, 1.5, 1.5], [2, 2, 3.0], [3, 4.5, 6.75]]\n"
     ]
    }
   ],
   "source": [
    "array2=[[1, 1, 1],[2, 2, 2],[3, 3, 3]]\n",
    "array3=[[1, 2, 2],[2, 2, 1]]\n",
    "def intensification(pheromone_matrix,solution_matrix):\n",
    "    \n",
    "    for i in solution_matrix:\n",
    "    \n",
    "        x=0\n",
    "        for j in i:\n",
    "          \n",
    "            pheromone_matrix[x][j]= pheromone_matrix[x][j]*1.5\n",
    "            x=j\n",
    "    return pheromone_matrix\n",
    "            \n",
    "print(intensification(array2,array3))"
   ]
  },
  {
   "cell_type": "code",
   "execution_count": 22,
   "metadata": {},
   "outputs": [
    {
     "name": "stdout",
     "output_type": "stream",
     "text": [
      "[[ 0.  10.  22.9 ... 37.9 18.3 17.8]\n",
      " [10.   0.  32.9 ... 47.9 23.1 27.8]\n",
      " [22.9 32.9  0.  ... 15.  29.   8.7]\n",
      " ...\n",
      " [37.9 47.9 15.  ...  0.  24.8 20.1]\n",
      " [18.3 23.1 29.  ... 24.8  0.  20.3]\n",
      " [17.8 27.8  8.7 ... 20.1 20.3  0. ]]\n"
     ]
    }
   ],
   "source": []
  },
  {
   "cell_type": "code",
   "execution_count": null,
   "metadata": {},
   "outputs": [],
   "source": []
  }
 ],
 "metadata": {
  "kernelspec": {
   "display_name": "Python 3",
   "language": "python",
   "name": "python3"
  },
  "language_info": {
   "codemirror_mode": {
    "name": "ipython",
    "version": 3
   },
   "file_extension": ".py",
   "mimetype": "text/x-python",
   "name": "python",
   "nbconvert_exporter": "python",
   "pygments_lexer": "ipython3",
   "version": "3.6.4"
  }
 },
 "nbformat": 4,
 "nbformat_minor": 2
}
