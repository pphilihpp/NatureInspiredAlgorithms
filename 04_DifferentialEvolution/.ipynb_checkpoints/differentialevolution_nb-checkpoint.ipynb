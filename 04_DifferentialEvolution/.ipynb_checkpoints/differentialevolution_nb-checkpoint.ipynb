{
 "cells": [
  {
   "cell_type": "markdown",
   "metadata": {},
   "source": [
    "# Powerplant Optimization with Differential Evolution"
   ]
  },
  {
   "cell_type": "markdown",
   "metadata": {},
   "source": [
    "All information is taken from \"Differential Evolution: A Survey of the State-of-the-Art\"by Swagatam Das, Member, IEEE, and Ponnuthurai Nagaratnam Suganthan, Senior Member, IEEE."
   ]
  },
  {
   "cell_type": "code",
   "execution_count": 4,
   "metadata": {},
   "outputs": [],
   "source": [
    "import numpy as np"
   ]
  },
  {
   "cell_type": "markdown",
   "metadata": {},
   "source": [
    "We aim to optimize two parameters: the scaling factor (mutation) and the crossover probability. Moreover, we consider different instantiations.\n",
    "\n",
    "Note that we consider the scaling factor $\\in [0.4, 1]$. The reason for that is that finding an optimal solutions is difficult for a scaling factor greater than $1$ since we have \"big steps\". For a scaling factor smaller than $0.4$ these steps are considerably small and therefore increase the run time drastically ."
   ]
  },
  {
   "cell_type": "markdown",
   "metadata": {},
   "source": [
    "## 1. Initialization "
   ]
  },
  {
   "cell_type": "markdown",
   "metadata": {},
   "source": [
    "Randomly initiated population of real-valued parameter vectors. Each vector, called chromosome, forms a candidate solution to the multidimensional optimization problem."
   ]
  },
  {
   "cell_type": "code",
   "execution_count": null,
   "metadata": {
    "collapsed": true
   },
   "outputs": [],
   "source": [
    "def initiaize(population_size_NP):\n",
    "    # TODO: randomly initialize a population of NP individuals within the domain\n",
    "    return population"
   ]
  },
  {
   "cell_type": "markdown",
   "metadata": {},
   "source": [
    "## 2. Mutation"
   ]
  },
  {
   "cell_type": "code",
   "execution_count": 47,
   "metadata": {},
   "outputs": [],
   "source": [
    "def mutate():\n",
    "    #target_vector_X,scale_factor_F,population_size_NP,population\n",
    "    # TODO: Generate a donor vector according to the mutation scheme with scale Factor F\n",
    "    target_vector_X = [50,40,30,20]\n",
    "    scale_factor_F = 0.3\n",
    "    population_size_NP = 10\n",
    "    population = np.array([[10,20,30,40], [30,40,50,60], [10,10,20,20], [30,30,30,30], [90,30,10,10], [20,20,30,40], [50,50,50,0], [40,40,30,30], [90,80,40,10], [40,40,70,80]])\n",
    "    \n",
    "    rand = np.random.random_integers(0, population_size_NP)\n",
    "    \n",
    "    # NOT FINISHED !!!\n",
    "    param_vectors = np.zeros(3)\n",
    "    vectors_used = 0\n",
    "    while vectors_used < 3:\n",
    "        new_vector = population[rand]\n",
    "        \n",
    "        # check if new_vector is not the target_vector_X and not already chosen for param_vectors\n",
    "        # (new_vector!=param_vectors).all() or this one //// if-statement not working\n",
    "        if np.all((new_vector != target_vector_X)) and (np.array_equiv(new_vector, param_vectors)):\n",
    "            param_vectors = np.vstack([param_vectors, new_vector])\n",
    "            vectors_used+1\n",
    "            \n",
    "    donor_vector_V = param_vectors[0] + scale_factor_F*(param_vectors[1]-param_vectors[2])\n",
    "    \n",
    "    return print(donor_vector_V)"
   ]
  },
  {
   "cell_type": "code",
   "execution_count": 48,
   "metadata": {},
   "outputs": [
    {
     "name": "stderr",
     "output_type": "stream",
     "text": [
      "/Users/vanessamac/miniconda3/lib/python3.6/site-packages/ipykernel_launcher.py:9: DeprecationWarning: This function is deprecated. Please call randint(0, 10 + 1) instead\n",
      "  if __name__ == '__main__':\n"
     ]
    },
    {
     "ename": "KeyboardInterrupt",
     "evalue": "",
     "output_type": "error",
     "traceback": [
      "\u001b[0;31m---------------------------------------------------------------------------\u001b[0m",
      "\u001b[0;31mKeyboardInterrupt\u001b[0m                         Traceback (most recent call last)",
      "\u001b[0;32m<ipython-input-48-b6db0855aed5>\u001b[0m in \u001b[0;36m<module>\u001b[0;34m()\u001b[0m\n\u001b[0;32m----> 1\u001b[0;31m \u001b[0mmutate\u001b[0m\u001b[0;34m(\u001b[0m\u001b[0;34m)\u001b[0m\u001b[0;34m\u001b[0m\u001b[0m\n\u001b[0m\u001b[1;32m      2\u001b[0m \u001b[0mtest\u001b[0m \u001b[0;34m=\u001b[0m \u001b[0mnp\u001b[0m\u001b[0;34m.\u001b[0m\u001b[0marray\u001b[0m\u001b[0;34m(\u001b[0m\u001b[0;34m[\u001b[0m\u001b[0;34m[\u001b[0m\u001b[0;36m1\u001b[0m\u001b[0;34m,\u001b[0m\u001b[0;36m2\u001b[0m\u001b[0;34m,\u001b[0m\u001b[0;36m3\u001b[0m\u001b[0;34m]\u001b[0m\u001b[0;34m,\u001b[0m\u001b[0;34m[\u001b[0m\u001b[0;36m4\u001b[0m\u001b[0;34m,\u001b[0m\u001b[0;36m5\u001b[0m\u001b[0;34m,\u001b[0m\u001b[0;36m6\u001b[0m\u001b[0;34m]\u001b[0m\u001b[0;34m]\u001b[0m\u001b[0;34m)\u001b[0m\u001b[0;34m\u001b[0m\u001b[0m\n\u001b[1;32m      3\u001b[0m \u001b[0mprint\u001b[0m\u001b[0;34m(\u001b[0m\u001b[0mtest\u001b[0m\u001b[0;34m)\u001b[0m\u001b[0;34m\u001b[0m\u001b[0m\n\u001b[1;32m      4\u001b[0m \u001b[0mnp\u001b[0m\u001b[0;34m.\u001b[0m\u001b[0mvstack\u001b[0m\u001b[0;34m(\u001b[0m\u001b[0;34m[\u001b[0m\u001b[0mtest\u001b[0m\u001b[0;34m,\u001b[0m \u001b[0;34m[\u001b[0m\u001b[0;36m7\u001b[0m\u001b[0;34m,\u001b[0m\u001b[0;36m8\u001b[0m\u001b[0;34m,\u001b[0m\u001b[0;36m9\u001b[0m\u001b[0;34m]\u001b[0m\u001b[0;34m]\u001b[0m\u001b[0;34m)\u001b[0m\u001b[0;34m\u001b[0m\u001b[0m\n",
      "\u001b[0;32m<ipython-input-47-25e23b87a672>\u001b[0m in \u001b[0;36mmutate\u001b[0;34m()\u001b[0m\n\u001b[1;32m     17\u001b[0m         \u001b[0;31m# check if new_vector is not the target_vector_X and not already chosen for param_vectors\u001b[0m\u001b[0;34m\u001b[0m\u001b[0;34m\u001b[0m\u001b[0m\n\u001b[1;32m     18\u001b[0m         \u001b[0;31m# (new_vector!=param_vectors).all() or this one?\u001b[0m\u001b[0;34m\u001b[0m\u001b[0;34m\u001b[0m\u001b[0m\n\u001b[0;32m---> 19\u001b[0;31m         \u001b[0;32mif\u001b[0m \u001b[0mnp\u001b[0m\u001b[0;34m.\u001b[0m\u001b[0mall\u001b[0m\u001b[0;34m(\u001b[0m\u001b[0;34m(\u001b[0m\u001b[0mnew_vector\u001b[0m \u001b[0;34m!=\u001b[0m \u001b[0mtarget_vector_X\u001b[0m\u001b[0;34m)\u001b[0m\u001b[0;34m)\u001b[0m \u001b[0;32mand\u001b[0m \u001b[0;34m(\u001b[0m\u001b[0mnp\u001b[0m\u001b[0;34m.\u001b[0m\u001b[0marray_equiv\u001b[0m\u001b[0;34m(\u001b[0m\u001b[0mnew_vector\u001b[0m\u001b[0;34m,\u001b[0m \u001b[0mparam_vectors\u001b[0m\u001b[0;34m)\u001b[0m\u001b[0;34m)\u001b[0m\u001b[0;34m:\u001b[0m\u001b[0;34m\u001b[0m\u001b[0m\n\u001b[0m\u001b[1;32m     20\u001b[0m             \u001b[0mparam_vectors\u001b[0m \u001b[0;34m=\u001b[0m \u001b[0mnp\u001b[0m\u001b[0;34m.\u001b[0m\u001b[0mvstack\u001b[0m\u001b[0;34m(\u001b[0m\u001b[0;34m[\u001b[0m\u001b[0mparam_vectors\u001b[0m\u001b[0;34m,\u001b[0m \u001b[0mnew_vector\u001b[0m\u001b[0;34m]\u001b[0m\u001b[0;34m)\u001b[0m\u001b[0;34m\u001b[0m\u001b[0m\n\u001b[1;32m     21\u001b[0m             \u001b[0mvectors_used\u001b[0m\u001b[0;34m+\u001b[0m\u001b[0;36m1\u001b[0m\u001b[0;34m\u001b[0m\u001b[0m\n",
      "\u001b[0;32m~/miniconda3/lib/python3.6/site-packages/numpy/core/fromnumeric.py\u001b[0m in \u001b[0;36mall\u001b[0;34m(a, axis, out, keepdims)\u001b[0m\n\u001b[1;32m   2092\u001b[0m \u001b[0;34m\u001b[0m\u001b[0m\n\u001b[1;32m   2093\u001b[0m     \"\"\"\n\u001b[0;32m-> 2094\u001b[0;31m     \u001b[0marr\u001b[0m \u001b[0;34m=\u001b[0m \u001b[0masanyarray\u001b[0m\u001b[0;34m(\u001b[0m\u001b[0ma\u001b[0m\u001b[0;34m)\u001b[0m\u001b[0;34m\u001b[0m\u001b[0m\n\u001b[0m\u001b[1;32m   2095\u001b[0m     \u001b[0mkwargs\u001b[0m \u001b[0;34m=\u001b[0m \u001b[0;34m{\u001b[0m\u001b[0;34m}\u001b[0m\u001b[0;34m\u001b[0m\u001b[0m\n\u001b[1;32m   2096\u001b[0m     \u001b[0;32mif\u001b[0m \u001b[0mkeepdims\u001b[0m \u001b[0;32mis\u001b[0m \u001b[0;32mnot\u001b[0m \u001b[0mnp\u001b[0m\u001b[0;34m.\u001b[0m\u001b[0m_NoValue\u001b[0m\u001b[0;34m:\u001b[0m\u001b[0;34m\u001b[0m\u001b[0m\n",
      "\u001b[0;32m~/miniconda3/lib/python3.6/site-packages/numpy/core/numeric.py\u001b[0m in \u001b[0;36masanyarray\u001b[0;34m(a, dtype, order)\u001b[0m\n\u001b[1;32m    542\u001b[0m \u001b[0;34m\u001b[0m\u001b[0m\n\u001b[1;32m    543\u001b[0m     \"\"\"\n\u001b[0;32m--> 544\u001b[0;31m     \u001b[0;32mreturn\u001b[0m \u001b[0marray\u001b[0m\u001b[0;34m(\u001b[0m\u001b[0ma\u001b[0m\u001b[0;34m,\u001b[0m \u001b[0mdtype\u001b[0m\u001b[0;34m,\u001b[0m \u001b[0mcopy\u001b[0m\u001b[0;34m=\u001b[0m\u001b[0;32mFalse\u001b[0m\u001b[0;34m,\u001b[0m \u001b[0morder\u001b[0m\u001b[0;34m=\u001b[0m\u001b[0morder\u001b[0m\u001b[0;34m,\u001b[0m \u001b[0msubok\u001b[0m\u001b[0;34m=\u001b[0m\u001b[0;32mTrue\u001b[0m\u001b[0;34m)\u001b[0m\u001b[0;34m\u001b[0m\u001b[0m\n\u001b[0m\u001b[1;32m    545\u001b[0m \u001b[0;34m\u001b[0m\u001b[0m\n\u001b[1;32m    546\u001b[0m \u001b[0;34m\u001b[0m\u001b[0m\n",
      "\u001b[0;31mKeyboardInterrupt\u001b[0m: "
     ]
    }
   ],
   "source": [
    "mutate()\n",
    "test = np.array([[1,2,3],[4,5,6]])\n",
    "print(test)\n",
    "np.vstack([test, [7,8,9]])"
   ]
  },
  {
   "cell_type": "markdown",
   "metadata": {},
   "source": [
    "## 3. Crossover / Recombination"
   ]
  },
  {
   "cell_type": "code",
   "execution_count": null,
   "metadata": {
    "collapsed": true
   },
   "outputs": [],
   "source": [
    "def crossover(target_vector_X,donor_vector_V,cross_over_rate_Cr):\n",
    "    # TODO: Generate a trial vector through binomial crossover\n",
    "    \n",
    "    \n",
    "    return trial_vector_U"
   ]
  },
  {
   "cell_type": "markdown",
   "metadata": {},
   "source": [
    "## 4. Selection"
   ]
  },
  {
   "cell_type": "code",
   "execution_count": null,
   "metadata": {},
   "outputs": [],
   "source": [
    "def demand(price, maxPrice, maxDemand):\n",
    "    if(price > maxPrice):\n",
    "        return 0\n",
    "    \n",
    "    if(price <= 0):\n",
    "        return maxDemand\n",
    "    \n",
    "    demand = maxDemand - price**2 * maxDemand / maxPrice**2\n",
    "    \n",
    "    return demand"
   ]
  },
  {
   "cell_type": "code",
   "execution_count": null,
   "metadata": {},
   "outputs": [],
   "source": [
    "def cost(x, kwhPerPlant, costPerPlant, maxPlants):\n",
    "    if(x <= 0):\n",
    "        return 0\n",
    "    \n",
    "    if(x > kwhPerPlant * maxPlants):\n",
    "        assert \"Error: more planned than produceable\"\n",
    "    \n",
    "    plantsNeeded = math.ceil(x / kwhPerPlant)\n",
    "    \n",
    "    return plantsNeeded * costPerPlant"
   ]
  },
  {
   "cell_type": "code",
   "execution_count": null,
   "metadata": {},
   "outputs": [],
   "source": [
    "def objective(tested_vector):\n",
    "    \n",
    "    # each e already provides the sum of energy produced per plant type\n",
    "    total_energy_produced = tested_vector[0] + tested_vector[1] + tested_vector[2]\n",
    "    \n",
    "    total_energy_planned =  tested_vector[3] + tested_vector[4] + tested_vector[5]\n",
    "    \n",
    "    purchasing_cost = max((total_energy_planned-total_energy_produced),0)*0.6\n",
    "    \n",
    "    production_cost = cost(tested_vector[0], 50000, 10000, 100) + cost(tested_vector[1], 600000, 80000, 50) + cost(tested_vector[2], 4000000, 400000, 3)\n",
    "    \n",
    "    cost = purchasing_cost + production_cost\n",
    "    \n",
    "    revenue = min(demand(tested_vector[6], 0.45, 2000000), tested_vector[3])*tested_vector[6] + min(demand(tested_vector[7], 0.25, 30000000), tested_vector[4])*tested_vector[7] + min(demand(tested_vector[8], 0.2, 20000000), tested_vector[5])*tested_vector[8]\n",
    "    \n",
    "    #profit equals fitness\n",
    "    profit = revenue - cost\n",
    "    \n",
    "    return profit"
   ]
  },
  {
   "cell_type": "code",
   "execution_count": null,
   "metadata": {
    "collapsed": true
   },
   "outputs": [],
   "source": [
    "def select(target_vector_X,trial_vector_U):\n",
    "    # TODO: Evaluate the trial vector and choose new target vector with better value\n",
    "\n",
    "    if objective(target_vector_X) > objective(trial_vector_U):\n",
    "        new_target_vector = target_vector_X\n",
    "    else:\n",
    "        new_target_vector = trial_vector_U\n",
    "\n",
    "    return new_target_vector"
   ]
  },
  {
   "cell_type": "markdown",
   "metadata": {},
   "source": [
    "## 5. Action"
   ]
  },
  {
   "cell_type": "code",
   "execution_count": null,
   "metadata": {
    "collapsed": true
   },
   "outputs": [],
   "source": [
    "# set factors:\n",
    "scale_factor_F = 0.4\n",
    "cross_over_rate_Cr = 0.5\n",
    "population_size_NP = 10\n",
    "\n",
    "# Initialization:\n",
    "generation_number_G = 0\n",
    "new_population = initialize(population_size_NP)\n",
    "\n",
    "converged = False\n",
    "while not converged:\n",
    "    population = np.copy(new_population)\n",
    "    for i in range(population_size_NP):\n",
    "        target_vector_X = population[i]\n",
    "        \n",
    "        # Mutation:\n",
    "        donor_vector_V = mutate(target_vector_X,scale_factor_F,population_size_NP,population)\n",
    "        \n",
    "        # Crossover:\n",
    "        trial_vector_U = crossover(target_vector_X,donor_vector_V,cross_over_rate_Cr)\n",
    "        \n",
    "        # Selection:\n",
    "        new_population[i] = select(target_vector_X,trial_vector_U)\n",
    "    \n",
    "    generation_number_G += 1\n",
    "    converged = (generation_number_G == 100)\n",
    "    \n",
    "print(\"done!\")\n",
    "\n",
    "#choose the best one of the final population\n",
    "bestChromosome = new_population[0]\n",
    "for i in range(population_size_NP):\n",
    "    if objective(new_population[i])>objective(bestChromosome):\n",
    "        bestChromosome = new_population[i]\n",
    "    \n",
    "print(\"best Chromosome:\")\n",
    "print(bestChromosome)\n",
    "print(objective(bestChromosome))\n",
    "    "
   ]
  },
  {
   "cell_type": "markdown",
   "metadata": {},
   "source": [
    "## 6. Plot"
   ]
  }
 ],
 "metadata": {
  "kernelspec": {
   "display_name": "Python 3",
   "language": "python",
   "name": "python3"
  },
  "language_info": {
   "codemirror_mode": {
    "name": "ipython",
    "version": 3
   },
   "file_extension": ".py",
   "mimetype": "text/x-python",
   "name": "python",
   "nbconvert_exporter": "python",
   "pygments_lexer": "ipython3",
   "version": "3.6.5"
  }
 },
 "nbformat": 4,
 "nbformat_minor": 2
}
