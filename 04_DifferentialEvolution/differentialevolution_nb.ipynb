{
 "cells": [
  {
   "cell_type": "markdown",
   "metadata": {},
   "source": [
    "# Powerplant Optimization with Differential Evolution"
   ]
  },
  {
   "cell_type": "markdown",
   "metadata": {},
   "source": [
    "All information is taken from \"Differential Evolution: A Survey of the State-of-the-Art\"by Swagatam Das, Member, IEEE, and Ponnuthurai Nagaratnam Suganthan, Senior Member, IEEE."
   ]
  },
  {
   "cell_type": "code",
   "execution_count": 2,
   "metadata": {},
   "outputs": [],
   "source": [
    "import numpy as np\n",
    "import random\n",
    "import math\n",
    "import matplotlib.pyplot as plt"
   ]
  },
  {
   "cell_type": "markdown",
   "metadata": {},
   "source": [
    "We aim to optimize two parameters: the scaling factor (mutation) and the crossover probability. Moreover, we consider different instantiations.\n",
    "\n",
    "Note that we consider the scaling factor $\\in [0.4, 1]$. The reason for that is that finding an optimal solutions is difficult for a scaling factor greater than $1$ since we have \"big steps\". For a scaling factor smaller than $0.4$ these steps are considerably small and therefore increase the run time drastically ."
   ]
  },
  {
   "cell_type": "markdown",
   "metadata": {},
   "source": [
    "## 1. Initialization "
   ]
  },
  {
   "cell_type": "markdown",
   "metadata": {},
   "source": [
    "Randomly initiated population of real-valued parameter vectors. Each vector, called chromosome, forms a candidate solution to the multidimensional optimization problem."
   ]
  },
  {
   "cell_type": "code",
   "execution_count": 2,
   "metadata": {
    "collapsed": true
   },
   "outputs": [],
   "source": [
    "def initialize(population_size_NP):\n",
    "    # TODO: randomly initialize a population of NP individuals within the domain\n",
    "    population = []\n",
    "    random_chromosome = []\n",
    "    for i in range(population_size_NP):\n",
    "        random_chromosome = []\n",
    "        # initialize energy produced:\n",
    "        random_chromosome.append(random.uniform(0,5000000))\n",
    "        random_chromosome.append(random.uniform(0,30000000))\n",
    "        random_chromosome.append(random.uniform(0,12000000))\n",
    "        \n",
    "        # initialize demands\n",
    "        random_chromosome.append(random.uniform(0,2000000))\n",
    "        random_chromosome.append(random.uniform(0,30000000))\n",
    "        random_chromosome.append(random.uniform(0,20000000))\n",
    "        \n",
    "        # initialize prices\n",
    "        random_chromosome.append(random.uniform(0,0.45))\n",
    "        random_chromosome.append(random.uniform(0,0.25))\n",
    "        random_chromosome.append(random.uniform(0,0.2))\n",
    "        \n",
    "        population.append(random_chromosome)\n",
    "    \n",
    "    return population"
   ]
  },
  {
   "cell_type": "code",
   "execution_count": 4,
   "metadata": {},
   "outputs": [
    {
     "data": {
      "text/plain": [
       "array([[3.19093502e+06, 2.15938058e+07, 3.04925248e+06, 1.47983165e+06,\n",
       "        4.46847916e+06, 9.57162760e+06, 3.12063591e-01, 1.47692313e-01,\n",
       "        1.96909097e-01],\n",
       "       [4.67216605e+06, 5.36126783e+06, 1.03506678e+07, 1.40677342e+06,\n",
       "        2.93083436e+07, 1.90943455e+07, 1.92541876e-01, 2.04295469e-01,\n",
       "        1.76661469e-01]])"
      ]
     },
     "execution_count": 4,
     "metadata": {},
     "output_type": "execute_result"
    }
   ],
   "source": [
    "def initiaize(population_size_NP):\n",
    "    \n",
    "    population = np.empty((0,9),dtype=float)\n",
    "    \n",
    "    for x in range(population_size_NP):\n",
    "        \n",
    "        result = [# initialize energy produced:\n",
    "                np.random.uniform(0,5000000),np.random.uniform(0,30000000),np.random.uniform(0,12000000),\n",
    "                # initialize energy demands:\n",
    "                 np.random.uniform(0,2000000),np.random.uniform(0,30000000),np.random.uniform(0,20000000),\n",
    "                # initialize energy prices:\n",
    "                 np.random.uniform(0,0.45),np.random.uniform(0,0.25),np.random.uniform(0,0.2)]\n",
    "        \n",
    "        population = np.append(population, [result], axis=0)\n",
    "\n",
    "    return population\n",
    "\n",
    "initiaize(2)"
   ]
  },
  {
   "cell_type": "code",
   "execution_count": 3,
   "metadata": {},
   "outputs": [
    {
     "name": "stdout",
     "output_type": "stream",
     "text": [
      "[[3004955.7764374637, 20293353.656187594, 9181171.028227225, 1794931.0517051884, 5775114.601534752, 17953821.974611226, 0.41612518789212266, 0.18906580441901524, 0.18748614881117998], [1182077.3388099214, 17456233.77737508, 11145845.800144633, 105055.12094460246, 6594618.302382267, 4178730.395859589, 0.05824006884252453, 0.1931346310971613, 0.1194632273833918], [3214450.899052842, 18234668.024939653, 8073548.547011204, 44998.988609866065, 4285544.551276132, 17799666.75951831, 0.1618452583639619, 0.13337723534842394, 0.19468106793993153]]\n"
     ]
    }
   ],
   "source": [
    "print(initialize(3))"
   ]
  },
  {
   "cell_type": "markdown",
   "metadata": {},
   "source": [
    "## 2. Mutation"
   ]
  },
  {
   "cell_type": "code",
   "execution_count": 4,
   "metadata": {
    "collapsed": true
   },
   "outputs": [],
   "source": [
    "def mutate(target_vector_X,scale_factor_F,population):\n",
    "    #target_vector_X,scale_factor_F,population_size_NP,population\n",
    "    # TODO: Generate a donor vector according to the mutation scheme with scale Factor F\n",
    "    \n",
    "    # NOT FINISHED !!!\n",
    "    population_size_NP = len(population)\n",
    "    param_vectors = []\n",
    "    vectors_used = 0\n",
    "    while vectors_used < 3:\n",
    "        rand = random.randint(0, population_size_NP-1)\n",
    "        new_vector = population[rand]\n",
    "        \n",
    "        # check if new_vector is not the target_vector_X and not already chosen for param_vectors\n",
    "        # (new_vector!=param_vectors).all() or this one //// if-statement not working\n",
    "        #if np.all((new_vector != target_vector_X)) and (np.array_equiv(new_vector, param_vectors)):\n",
    "        if not np.array_equiv(new_vector,target_vector_X):\n",
    "            if vectors_used == 0:\n",
    "                param_vectors.append(new_vector)\n",
    "                vectors_used += 1\n",
    "            else:\n",
    "                for i in range(vectors_used):\n",
    "                    if not np.array_equiv(new_vector, param_vectors[i]):\n",
    "                        param_vectors.append(new_vector)\n",
    "                        vectors_used += 1\n",
    "                        break\n",
    "\n",
    "    donor_vector_V = param_vectors[0] + scale_factor_F*(param_vectors[1]-param_vectors[2])\n",
    "    \n",
    "    return donor_vector_V"
   ]
  },
  {
   "cell_type": "code",
   "execution_count": 5,
   "metadata": {},
   "outputs": [
    {
     "name": "stdout",
     "output_type": "stream",
     "text": [
      "[ 20.  20.  30.  40.]\n"
     ]
    }
   ],
   "source": [
    "target_vector_X = [50,40,30,20]\n",
    "scale_factor_F = 0.5\n",
    "population = np.array([[10,20,30,40], [30,40,50,60], [10,10,20,20], [30,30,30,30], [90,30,10,10], [20,20,30,40], [50,50,50,0], [40,40,30,30], [90,80,40,10], [40,40,70,80]])\n",
    "    \n",
    "print(mutate(target_vector_X,scale_factor_F,population))"
   ]
  },
  {
   "cell_type": "markdown",
   "metadata": {},
   "source": [
    "## 3. Crossover / Recombination"
   ]
  },
  {
   "cell_type": "code",
   "execution_count": 6,
   "metadata": {
    "collapsed": true
   },
   "outputs": [],
   "source": [
    "def crossover(target_vector_X,donor_vector_V,cross_over_rate_Cr):\n",
    "    # TODO: Generate a trial vector through binomial crossover\n",
    "    trial_vector_U = np.copy(target_vector_X)\n",
    "    D = len(target_vector_X)\n",
    "    for j in range(D):\n",
    "        j_rand = random.randint(1,D)\n",
    "        if (random.random() <= cross_over_rate_Cr) or j == j_rand :\n",
    "            trial_vector_U[j] = donor_vector_V[j]\n",
    "            #print(\"donor_vector \",j)\n",
    "        else:\n",
    "            trial_vector_U[j] = target_vector_X[j]\n",
    "            #print(\"target__vector \",j)\n",
    "    return trial_vector_U"
   ]
  },
  {
   "cell_type": "code",
   "execution_count": 7,
   "metadata": {},
   "outputs": [
    {
     "name": "stdout",
     "output_type": "stream",
     "text": [
      "[1 2 2 2 1 1 2 1 2]\n"
     ]
    }
   ],
   "source": [
    "target_vector_X = [1,1,1,1,1,1,1,1,1]\n",
    "donor_vector_V = [2,2,2,2,2,2,2,2,2]\n",
    "cross_over_rate_Cr = 0.5\n",
    "print(crossover(target_vector_X,donor_vector_V,cross_over_rate_Cr))"
   ]
  },
  {
   "cell_type": "markdown",
   "metadata": {},
   "source": [
    "## 4. Selection"
   ]
  },
  {
   "cell_type": "code",
   "execution_count": 8,
   "metadata": {
    "collapsed": true
   },
   "outputs": [],
   "source": [
    "def demand(price, maxPrice, maxDemand):\n",
    "    if(price > maxPrice):\n",
    "        return 0\n",
    "    \n",
    "    if(price <= 0):\n",
    "        return maxDemand\n",
    "    \n",
    "    demand = maxDemand - price**2 * maxDemand / maxPrice**2\n",
    "    \n",
    "    return demand"
   ]
  },
  {
   "cell_type": "code",
   "execution_count": 9,
   "metadata": {
    "collapsed": true
   },
   "outputs": [],
   "source": [
    "def cost(x, kwhPerPlant, costPerPlant, maxPlants):\n",
    "    if(x <= 0):\n",
    "        return 0\n",
    "    \n",
    "    if(x > kwhPerPlant * maxPlants):\n",
    "        assert \"Error: more planned than produceable\"\n",
    "    \n",
    "    plantsNeeded = math.ceil(x / kwhPerPlant)\n",
    "    \n",
    "    return plantsNeeded * costPerPlant"
   ]
  },
  {
   "cell_type": "code",
   "execution_count": 10,
   "metadata": {
    "collapsed": true
   },
   "outputs": [],
   "source": [
    "def objective(tested_vector):\n",
    "    \n",
    "    # each e already provides the sum of energy produced per plant type\n",
    "    total_energy_produced = tested_vector[0] + tested_vector[1] + tested_vector[2]\n",
    "    \n",
    "    total_energy_planned =  tested_vector[3] + tested_vector[4] + tested_vector[5]\n",
    "    \n",
    "    purchasing_cost = max((total_energy_planned-total_energy_produced),0)*0.6\n",
    "    \n",
    "    production_cost = cost(tested_vector[0], 50000, 10000, 100) + cost(tested_vector[1], 600000, 80000, 50) + cost(tested_vector[2], 4000000, 400000, 3)\n",
    "    \n",
    "    total_cost = purchasing_cost + production_cost\n",
    "    \n",
    "    revenue = min(demand(tested_vector[6], 0.45, 2000000), tested_vector[3])*tested_vector[6] + min(demand(tested_vector[7], 0.25, 30000000), tested_vector[4])*tested_vector[7] + min(demand(tested_vector[8], 0.2, 20000000), tested_vector[5])*tested_vector[8]\n",
    "    \n",
    "    #profit equals fitness\n",
    "    profit = revenue - total_cost\n",
    "    \n",
    "    return profit"
   ]
  },
  {
   "cell_type": "code",
   "execution_count": 11,
   "metadata": {
    "collapsed": true
   },
   "outputs": [],
   "source": [
    "def select(target_vector_X,trial_vector_U):\n",
    "    # TODO: Evaluate the trial vector and choose new target vector with better value\n",
    "\n",
    "    if objective(target_vector_X) > objective(trial_vector_U):\n",
    "        new_target_vector = target_vector_X\n",
    "    else:\n",
    "        new_target_vector = trial_vector_U\n",
    "\n",
    "    return new_target_vector"
   ]
  },
  {
   "cell_type": "markdown",
   "metadata": {},
   "source": [
    "## 5. Action"
   ]
  },
  {
   "cell_type": "code",
   "execution_count": 12,
   "metadata": {
    "collapsed": true
   },
   "outputs": [],
   "source": [
    "def get_best(new_population,population_size_NP):\n",
    "    #choose the best one of the final population\n",
    "    best_chromosome = new_population[0]\n",
    "    for i in range(population_size_NP):\n",
    "        if objective(new_population[i])>objective(best_chromosome):\n",
    "            best_chromosome = new_population[i]\n",
    "\n",
    "    return best_chromosome"
   ]
  },
  {
   "cell_type": "code",
   "execution_count": 13,
   "metadata": {},
   "outputs": [
    {
     "name": "stdout",
     "output_type": "stream",
     "text": [
      "done!\n",
      "best Chromosome:\n",
      "[  7.89324663e+05   9.49125152e+06   7.56600782e+06   1.13125226e+06\n",
      "   1.58467787e+07   8.99697832e+05   2.95733316e-01   1.67012451e-01\n",
      "   1.78066190e-01]\n",
      "882677.21772\n"
     ]
    }
   ],
   "source": [
    "# set factors:\n",
    "scale_factor_F = 0.4\n",
    "cross_over_rate_Cr = 0.5\n",
    "population_size_NP = 10\n",
    "\n",
    "# Initialization:\n",
    "generation_number_G = 0\n",
    "new_population = initialize(population_size_NP)\n",
    "best_solution_list = []\n",
    "\n",
    "converged = False\n",
    "while not converged:\n",
    "    population = np.copy(new_population)\n",
    "    for i in range(population_size_NP):\n",
    "        target_vector_X = population[i]\n",
    "        \n",
    "        # Mutation:\n",
    "        donor_vector_V = mutate(target_vector_X,scale_factor_F,population)\n",
    "        \n",
    "        # Crossover:\n",
    "        trial_vector_U = crossover(target_vector_X,donor_vector_V,cross_over_rate_Cr)\n",
    "        \n",
    "        # Selection:\n",
    "        new_population[i] = select(target_vector_X,trial_vector_U)\n",
    "    \n",
    "    generation_number_G += 1\n",
    "    converged = (generation_number_G == 100)\n",
    "    #choose the best one of the final population\n",
    "    best_chromosome = get_best(new_population,population_size_NP)\n",
    "    best_solution_list.append(objective(best_chromosome))\n",
    "    \n",
    "print(\"done!\")\n",
    "print(\"best Chromosome:\")\n",
    "print(best_chromosome)\n",
    "print(objective(best_chromosome))\n",
    "    "
   ]
  },
  {
   "cell_type": "markdown",
   "metadata": {},
   "source": [
    "## 6. Plot"
   ]
  },
  {
   "cell_type": "code",
   "execution_count": 22,
   "metadata": {
    "collapsed": true
   },
   "outputs": [],
   "source": [
    "def simple_plot(best_profit_per_run,minimum_solution,best_solution):\n",
    "    fig, ax = plt.subplots(figsize=plt.figaspect(0.2))\n",
    "    ax.plot(best_profit_per_run, ':r', label=f\"parameters\")\n",
    "    ax.set(ylim=[minimum_solution,best_solution],ylabel='Profit', xlabel='Run', title='DE on Power Plant Optimization')\n",
    "    ax.legend()\n",
    "    plt.show()\n",
    "    fig.savefig(f\"plots/test.png\")"
   ]
  },
  {
   "cell_type": "code",
   "execution_count": 23,
   "metadata": {},
   "outputs": [
    {
     "name": "stdout",
     "output_type": "stream",
     "text": [
      "Best solution in this run:  882677.21772\n"
     ]
    },
    {
     "data": {
      "image/png": "[encoded data removed]",
      "text/plain": [
       "<matplotlib.figure.Figure at 0x287908e68d0>"
      ]
     },
     "metadata": {},
     "output_type": "display_data"
    }
   ],
   "source": [
    "best_profit_per_run = best_solution_list\n",
    "best_solution = max(best_solution_list)\n",
    "\n",
    "print(\"Best solution in this run: \",best_solution)\n",
    "simple_plot(best_profit_per_run,0,best_solution)"
   ]
  }
 ],
 "metadata": {
  "kernelspec": {
   "display_name": "Python 3",
   "language": "python",
   "name": "python3"
  },
  "language_info": {
   "codemirror_mode": {
    "name": "ipython",
    "version": 3
   },
   "file_extension": ".py",
   "mimetype": "text/x-python",
   "name": "python",
   "nbconvert_exporter": "python",
   "pygments_lexer": "ipython3",
   "version": "3.6.5"
  }
 },
 "nbformat": 4,
 "nbformat_minor": 2
}
