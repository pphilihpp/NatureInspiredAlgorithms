{
 "cells": [
  {
   "cell_type": "markdown",
   "metadata": {},
   "source": [
    "# Powerplant Optimization with Differential Evolution"
   ]
  },
  {
   "cell_type": "markdown",
   "metadata": {},
   "source": [
    "All information is taken from \"Differential Evolution: A Survey of the State-of-the-Art\"by Swagatam Das, Member, IEEE, and Ponnuthurai Nagaratnam Suganthan, Senior Member, IEEE."
   ]
  },
  {
   "cell_type": "code",
   "execution_count": 1,
   "metadata": {
    "collapsed": true
   },
   "outputs": [],
   "source": [
    "import numpy as np"
   ]
  },
  {
   "cell_type": "markdown",
   "metadata": {},
   "source": [
    "## 1. Initialization "
   ]
  },
  {
   "cell_type": "code",
   "execution_count": null,
   "metadata": {
    "collapsed": true
   },
   "outputs": [],
   "source": [
    "def initiaize(population_size_NP):\n",
    "    # TODO: randomly initialize a population of NP individuals within the domain\n",
    "    return population"
   ]
  },
  {
   "cell_type": "markdown",
   "metadata": {},
   "source": [
    "## 2. Mutation"
   ]
  },
  {
   "cell_type": "code",
   "execution_count": null,
   "metadata": {
    "collapsed": true
   },
   "outputs": [],
   "source": [
    "def mutate(target_vector_X,scale_factor_F):\n",
    "    # TODO: Generate a donor vector according to the mutation scheme with scale Factor F\n",
    "    return donor_vector_V"
   ]
  },
  {
   "cell_type": "markdown",
   "metadata": {},
   "source": [
    "## 3. Crossover / Recombination"
   ]
  },
  {
   "cell_type": "code",
   "execution_count": null,
   "metadata": {
    "collapsed": true
   },
   "outputs": [],
   "source": [
    "def crossover(target_vector_X,donor_vector_V,cross_over_rate_Cr):\n",
    "    # TODO: Generate a trial vector through binomial crossover\n",
    "    return trial_vector_U"
   ]
  },
  {
   "cell_type": "markdown",
   "metadata": {},
   "source": [
    "## 4. Selection"
   ]
  },
  {
   "cell_type": "code",
   "execution_count": null,
   "metadata": {
    "collapsed": true
   },
   "outputs": [],
   "source": [
    "def select(target_vector_X,trial_vector_U):\n",
    "    # TODO: Evaluate the trial vector and choose new target vector with better value\n",
    "    return new_target_vector"
   ]
  },
  {
   "cell_type": "markdown",
   "metadata": {},
   "source": [
    "## 5. Action"
   ]
  },
  {
   "cell_type": "code",
   "execution_count": null,
   "metadata": {
    "collapsed": true
   },
   "outputs": [],
   "source": [
    "# set factors:\n",
    "scale_factor_F = 0.4\n",
    "cross_over_rate_Cr = 0.5\n",
    "population_size_NP = 10\n",
    "\n",
    "# Initialization:\n",
    "generation_number_G = 0\n",
    "new_population = initialize(population_size_NP)\n",
    "\n",
    "converged = False\n",
    "while not converged:\n",
    "    population = np.copy(new_population)\n",
    "    for i in range(population_size_NP):\n",
    "        target_vector_X = population[i]\n",
    "        \n",
    "        # Mutation:\n",
    "        donor_vector_V = mutate(target_vector_X,scale_factor_F)\n",
    "        \n",
    "        # Crossover:\n",
    "        trial_vector_U = crossover(target_vector_X,donor_vector_V,cross_over_rate_Cr)\n",
    "        \n",
    "        # Selection:\n",
    "        new_population[i] = select(target_vector_X,trial_vector_U)\n",
    "    \n",
    "    generation_number_G += 1\n",
    "    converged = (generation_number_G == 100)\n",
    "print(\"done!\")"
   ]
  },
  {
   "cell_type": "markdown",
   "metadata": {},
   "source": [
    "## 6. Plot"
   ]
  }
 ],
 "metadata": {
  "kernelspec": {
   "display_name": "Python 3",
   "language": "python",
   "name": "python3"
  },
  "language_info": {
   "codemirror_mode": {
    "name": "ipython",
    "version": 3
   },
   "file_extension": ".py",
   "mimetype": "text/x-python",
   "name": "python",
   "nbconvert_exporter": "python",
   "pygments_lexer": "ipython3",
   "version": "3.6.3"
  }
 },
 "nbformat": 4,
 "nbformat_minor": 2
}
