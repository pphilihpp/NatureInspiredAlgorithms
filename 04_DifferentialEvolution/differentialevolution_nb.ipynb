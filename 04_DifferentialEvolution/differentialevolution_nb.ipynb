{
 "cells": [
  {
   "cell_type": "markdown",
   "metadata": {},
   "source": [
    "# Powerplant Optimization with Differential Evolution"
   ]
  },
  {
   "cell_type": "markdown",
   "metadata": {},
   "source": [
    "All information is taken from \"Differential Evolution: A Survey of the State-of-the-Art\"by Swagatam Das, Member, IEEE, and Ponnuthurai Nagaratnam Suganthan, Senior Member, IEEE."
   ]
  },
  {
   "cell_type": "code",
   "execution_count": 15,
   "metadata": {
    "collapsed": true
   },
   "outputs": [],
   "source": [
    "import numpy as np\n",
    "import random\n",
    "import math\n",
    "import matplotlib.pyplot as plt"
   ]
  },
  {
   "cell_type": "markdown",
   "metadata": {},
   "source": [
    "We aim to optimize two parameters: the scaling factor (mutation) and the crossover probability. Moreover, we consider different instantiations.\n",
    "\n",
    "Note that we consider the scaling factor $\\in [0.4, 1]$. The reason for that is that finding an optimal solutions is difficult for a scaling factor greater than $1$ since we have \"big steps\". For a scaling factor smaller than $0.4$ these steps are considerably small and therefore increase the run time drastically ."
   ]
  },
  {
   "cell_type": "markdown",
   "metadata": {},
   "source": [
    "## 1. Initialization "
   ]
  },
  {
   "cell_type": "markdown",
   "metadata": {},
   "source": [
    "Randomly initiated population of real-valued parameter vectors. Each vector, called chromosome, forms a candidate solution to the multidimensional optimization problem."
   ]
  },
  {
   "cell_type": "code",
   "execution_count": 21,
   "metadata": {
    "collapsed": true
   },
   "outputs": [],
   "source": [
    "def initialize(population_size_NP,e1,e2,e3,d1,d2,d3,p1,p2,p3):\n",
    "    # randomly initialize a population of NP individuals within the domain\n",
    "    population = []\n",
    "    random_chromosome = []\n",
    "    for i in range(population_size_NP):\n",
    "        random_chromosome = []\n",
    "        # initialize energy produced:\n",
    "        random_chromosome.append(random.uniform(0,e1))\n",
    "        random_chromosome.append(random.uniform(0,e2))\n",
    "        random_chromosome.append(random.uniform(0,e3))\n",
    "        \n",
    "        # initialize demands\n",
    "        random_chromosome.append(random.uniform(0,d1))\n",
    "        random_chromosome.append(random.uniform(0,d2))\n",
    "        random_chromosome.append(random.uniform(0,d3))\n",
    "        \n",
    "        # initialize prices\n",
    "        random_chromosome.append(random.uniform(0,p1))\n",
    "        random_chromosome.append(random.uniform(0,p2))\n",
    "        random_chromosome.append(random.uniform(0,p3))\n",
    "        \n",
    "        population.append(random_chromosome)\n",
    "    \n",
    "    return population"
   ]
  },
  {
   "cell_type": "markdown",
   "metadata": {},
   "source": [
    "## 2. Mutation"
   ]
  },
  {
   "cell_type": "code",
   "execution_count": 22,
   "metadata": {},
   "outputs": [],
   "source": [
    "def make_vector_feasible(donor_vector,e1,e2,e3,d1,d2,d3,p1,p2,p3):\n",
    "    feasible = True\n",
    "    if (donor_vector[0] < 0):\n",
    "        donor_vector[0] = 0\n",
    "    if (donor_vector[0] > e1):\n",
    "        donor_vector[0] = e1\n",
    "    if (donor_vector[1] < 0):\n",
    "        donor_vector[1] = 0\n",
    "    if (donor_vector[1] > e2):\n",
    "        donor_vector[1] = e2\n",
    "    if (donor_vector[2] < 0):\n",
    "        donor_vector[2] = 0\n",
    "    if (donor_vector[2] > e3):\n",
    "        donor_vector[2] = e3\n",
    "    if (donor_vector[3] < 0):\n",
    "        donor_vector[3] = 0\n",
    "    if (donor_vector[3] > d1):\n",
    "        donor_vector[3] = d1\n",
    "    if (donor_vector[4] < 0):\n",
    "        donor_vector[4] = 0\n",
    "    if (donor_vector[4] > d2):\n",
    "        donor_vector[4] = d2\n",
    "    if (donor_vector[5] < 0):\n",
    "        donor_vector[5] = 0\n",
    "    if (donor_vector[5] > d3):\n",
    "        donor_vector[5] = d3\n",
    "    if (donor_vector[6] < 0):\n",
    "        donor_vector[6] = 0\n",
    "    if (donor_vector[6] > p1):\n",
    "        donor_vector[6] = p1\n",
    "    if (donor_vector[7] < 0):\n",
    "        donor_vector[7] = 0\n",
    "    if (donor_vector[7] > p2):\n",
    "        donor_vector[7] = p2\n",
    "    if (donor_vector[8] < 0):\n",
    "        donor_vector[8] = 0\n",
    "    if (donor_vector[8] > p3):\n",
    "        donor_vector[8] = p3\n",
    "        \n",
    "    return donor_vector"
   ]
  },
  {
   "cell_type": "code",
   "execution_count": 23,
   "metadata": {
    "collapsed": true
   },
   "outputs": [],
   "source": [
    "def mutate(target_vector_X,scale_factor_F,population,e1,e2,e3,d1,d2,d3,p1,p2,p3):\n",
    "    population_size = len(population)\n",
    "    param_vectors = []\n",
    "    vectors_used = 0\n",
    "    while vectors_used < 3:\n",
    "        rand = random.randint(0, population_size-1)\n",
    "        new_vector = population[rand]\n",
    "\n",
    "        # check if new_vector is not the target_vector_X and not already chosen for param_vectors\n",
    "        # (new_vector!=param_vectors).all() or this one //// if-statement not working\n",
    "        if not np.array_equiv(new_vector,target_vector_X):\n",
    "            if vectors_used == 0:\n",
    "                param_vectors.append(new_vector)\n",
    "                vectors_used += 1\n",
    "            else:\n",
    "                for i in range(vectors_used):\n",
    "                    if not np.array_equiv(new_vector, param_vectors[i]):\n",
    "                            param_vectors.append(new_vector)\n",
    "                            vectors_used += 1\n",
    "                            break\n",
    "\n",
    "    donor_vector_V = param_vectors[0] + scale_factor_F*(param_vectors[1]-param_vectors[2])\n",
    "    donor_vector_V = make_vector_feasible(donor_vector_V,e1,e2,e3,d1,d2,d3,p1,p2,p3)\n",
    "    \n",
    "    return donor_vector_V"
   ]
  },
  {
   "cell_type": "markdown",
   "metadata": {},
   "source": [
    "## 3. Crossover / Recombination"
   ]
  },
  {
   "cell_type": "code",
   "execution_count": 8,
   "metadata": {
    "collapsed": true
   },
   "outputs": [],
   "source": [
    "def crossover(target_vector_X,donor_vector_V,cross_over_rate_Cr):\n",
    "    trial_vector_U = np.copy(target_vector_X)\n",
    "    D = len(target_vector_X)\n",
    "    for j in range(D):\n",
    "        j_rand = random.randint(1,D)\n",
    "        if (random.random() <= cross_over_rate_Cr) or j == j_rand :\n",
    "            trial_vector_U[j] = donor_vector_V[j]\n",
    "        else:\n",
    "            trial_vector_U[j] = target_vector_X[j]\n",
    "    return trial_vector_U"
   ]
  },
  {
   "cell_type": "markdown",
   "metadata": {},
   "source": [
    "## 4. Selection"
   ]
  },
  {
   "cell_type": "code",
   "execution_count": 9,
   "metadata": {
    "collapsed": true
   },
   "outputs": [],
   "source": [
    "def demand(price, maxPrice, maxDemand):\n",
    "    if(price > maxPrice):\n",
    "        return 0\n",
    "    \n",
    "    if(price <= 0):\n",
    "        return maxDemand\n",
    "    \n",
    "    demand = maxDemand - price**2 * maxDemand / maxPrice**2\n",
    "    \n",
    "    return demand"
   ]
  },
  {
   "cell_type": "code",
   "execution_count": 10,
   "metadata": {
    "collapsed": true
   },
   "outputs": [],
   "source": [
    "def cost(x, kwhPerPlant, costPerPlant, maxPlants):\n",
    "    if(x <= 0):\n",
    "        return 0\n",
    "    \n",
    "    if(x > kwhPerPlant * maxPlants):\n",
    "        return float(\"Inf\")\n",
    "    \n",
    "    plantsNeeded = math.ceil(x / kwhPerPlant)\n",
    "    \n",
    "    return plantsNeeded * costPerPlant"
   ]
  },
  {
   "cell_type": "code",
   "execution_count": 46,
   "metadata": {
    "collapsed": true
   },
   "outputs": [],
   "source": [
    "def objective(tested_vector,cost_price,e1,e2,e3,d1,d2,d3,p1,p2,p3):\n",
    "    kwhPerPlant1 = e1 // 100\n",
    "    kwhPerPlant2 = e2 // 50\n",
    "    kwhPerPlant3 = e3 // 3\n",
    "    \n",
    "    # each e already provides the sum of energy produced per plant type\n",
    "    total_energy_produced = tested_vector[0] + tested_vector[1] + tested_vector[2]\n",
    "    \n",
    "    total_energy_planned =  tested_vector[3] + tested_vector[4] + tested_vector[5]\n",
    "    \n",
    "    purchasing_cost = max((total_energy_planned-total_energy_produced),0)*cost_price\n",
    "    \n",
    "    production_cost = cost(tested_vector[0], kwhPerPlant1, 10000, 100) + cost(tested_vector[1], kwhPerPlant2, 80000, 50) + cost(tested_vector[2], kwhPerPlant3, 400000, 3)\n",
    "    \n",
    "    total_cost = purchasing_cost + production_cost\n",
    "    \n",
    "    revenue = min(demand(tested_vector[6], p1, d1), tested_vector[3])*tested_vector[6] + min(demand(tested_vector[7], p2, d2), tested_vector[4])*tested_vector[7] + min(demand(tested_vector[8], p3, d3), tested_vector[5])*tested_vector[8]\n",
    "    \n",
    "    #profit equals fitness\n",
    "    profit = revenue - total_cost\n",
    "    \n",
    "    return profit"
   ]
  },
  {
   "cell_type": "code",
   "execution_count": 47,
   "metadata": {
    "collapsed": true
   },
   "outputs": [],
   "source": [
    "def select(target_vector_X,trial_vector_U,cost_price,e1,e2,e3,d1,d2,d3,p1,p2,p3):\n",
    "    # Evaluate the trial vector and choose new target vector with better value\n",
    "\n",
    "    if objective(target_vector_X,cost_price,e1,e2,e3,d1,d2,d3,p1,p2,p3) > objective(trial_vector_U,cost_price,e1,e2,e3,d1,d2,d3,p1,p2,p3):\n",
    "        new_target_vector = target_vector_X\n",
    "    else:\n",
    "        new_target_vector = trial_vector_U\n",
    "\n",
    "    return new_target_vector"
   ]
  },
  {
   "cell_type": "markdown",
   "metadata": {},
   "source": [
    "## 5. Action"
   ]
  },
  {
   "cell_type": "code",
   "execution_count": 48,
   "metadata": {
    "collapsed": true
   },
   "outputs": [],
   "source": [
    "def get_best(new_population,population_size_NP,e1,e2,e3,d1,d2,d3,p1,p2,p3):\n",
    "    #choose the best one of the final population\n",
    "    best_chromosome = new_population[0]\n",
    "    for i in range(population_size_NP):\n",
    "        if objective(new_population[i],cost_price,e1,e2,e3,d1,d2,d3,p1,p2,p3) > objective(best_chromosome,cost_price,e1,e2,e3,d1,d2,d3,p1,p2,p3):\n",
    "            best_chromosome = new_population[i]\n",
    "\n",
    "    return best_chromosome"
   ]
  },
  {
   "cell_type": "code",
   "execution_count": 49,
   "metadata": {},
   "outputs": [
    {
     "name": "stdout",
     "output_type": "stream",
     "text": [
      "done!\n",
      "best Chromosome:\n",
      "[  0.00000000e+00   7.20000000e+06   1.20000000e+07   1.07211667e+06\n",
      "   1.19738520e+07   6.15403131e+06   3.06509685e-01   1.93789770e-01\n",
      "   1.66408946e-01]\n",
      "1513110.03732\n"
     ]
    }
   ],
   "source": [
    "# set factors:\n",
    "scale_factor_F = 0.6\n",
    "cross_over_rate_Cr = 0.9\n",
    "population_size_NP = 100\n",
    "cost_price = 0.6\n",
    "\n",
    "# total energy values (for all plants)\n",
    "e1 = 5000000\n",
    "e2 = 30000000\n",
    "e3 = 12000000\n",
    "\n",
    "# market prices\n",
    "p1 = 0.45\n",
    "p2 = 0.25\n",
    "p3 = 0.2\n",
    "\n",
    "# market demands\n",
    "d1 = 2000000\n",
    "d2 = 30000000\n",
    "d3 = 20000000\n",
    "\n",
    "# Initialization:\n",
    "generation_number_G = 0\n",
    "new_population = initialize(population_size_NP,e1,e2,e3,d1,d2,d3,p1,p2,p3)\n",
    "best_solution_list = []\n",
    "\n",
    "converged = False\n",
    "while not converged:\n",
    "    population = np.copy(new_population)\n",
    "    for i in range(population_size_NP):\n",
    "        target_vector_X = population[i]\n",
    "        \n",
    "        # Mutation:\n",
    "        donor_vector_V = mutate(target_vector_X,scale_factor_F,population,e1,e2,e3,d1,d2,d3,p1,p2,p3)\n",
    "        \n",
    "        # Crossover:\n",
    "        trial_vector_U = crossover(target_vector_X,donor_vector_V,cross_over_rate_Cr)\n",
    "        \n",
    "        # Selection:\n",
    "        new_population[i] = select(target_vector_X,trial_vector_U,cost_price,e1,e2,e3,d1,d2,d3,p1,p2,p3)\n",
    "    \n",
    "    generation_number_G += 1\n",
    "    converged = (generation_number_G == 1000)\n",
    "    #choose the best one of the final population\n",
    "    best_chromosome = get_best(new_population,population_size_NP,e1,e2,e3,d1,d2,d3,p1,p2,p3)\n",
    "    best_solution_list.append(objective(best_chromosome,cost_price,e1,e2,e3,d1,d2,d3,p1,p2,p3))\n",
    "    \n",
    "print(\"done!\")\n",
    "print(\"best Chromosome:\")\n",
    "print(best_chromosome)\n",
    "print(objective(best_chromosome,cost_price,e1,e2,e3,d1,d2,d3,p1,p2,p3))"
   ]
  },
  {
   "cell_type": "markdown",
   "metadata": {},
   "source": [
    "## 6. Plot"
   ]
  },
  {
   "cell_type": "code",
   "execution_count": 50,
   "metadata": {
    "collapsed": true
   },
   "outputs": [],
   "source": [
    "def simple_plot(best_profit_per_run,minimum_solution,best_solution,scale_factor_F_plot,cross_over_rate_Cr_plot,population_size_NP_plot,cost_price_plot):\n",
    "    fig, ax = plt.subplots(figsize=plt.figaspect(0.2))\n",
    "    ax.plot(best_profit_per_run, ':r', label=f\"F: {scale_factor_F_plot}\\nCr: {cross_over_rate_Cr_plot}\\npopulation size: {population_size_NP_plot}\\ncost price: {cost_price_plot}\")\n",
    "    ax.set(ylim=[minimum_solution,best_solution],ylabel='Profit', xlabel='Iteration', title='DE on Power Plant Optimization')\n",
    "    ax.legend()\n",
    "    plt.show()\n",
    "    fig.savefig(f\"plots/F{scale_factor_F_plot}_Cr{cross_over_rate_Cr_plot}_PopSize{population_size_NP_plot}_CostPrice{cost_price_plot}.png\")"
   ]
  },
  {
   "cell_type": "code",
   "execution_count": 51,
   "metadata": {},
   "outputs": [
    {
     "name": "stdout",
     "output_type": "stream",
     "text": [
      "Best solution in this run:  1513110.03732\n"
     ]
    },
    {
     "data": {
      "image/png": "[encoded data removed]",
      "text/plain": [
       "<matplotlib.figure.Figure at 0x22964367f98>"
      ]
     },
     "metadata": {},
     "output_type": "display_data"
    }
   ],
   "source": [
    "best_profit_per_run = best_solution_list\n",
    "best_solution = max(best_solution_list)\n",
    "scale_factor_F_plot = scale_factor_F\n",
    "cross_over_rate_Cr_plot = cross_over_rate_Cr\n",
    "population_size_NP_plot = population_size_NP\n",
    "cost_price_plot = cost_price\n",
    "\n",
    "print(\"Best solution in this run: \",best_solution)\n",
    "simple_plot(best_profit_per_run,0,1750000,scale_factor_F_plot,cross_over_rate_Cr_plot,population_size_NP_plot,cost_price_plot)"
   ]
  },
  {
   "cell_type": "code",
   "execution_count": null,
   "metadata": {
    "collapsed": true
   },
   "outputs": [],
   "source": []
  }
 ],
 "metadata": {
  "kernelspec": {
   "display_name": "Python 3",
   "language": "python",
   "name": "python3"
  },
  "language_info": {
   "codemirror_mode": {
    "name": "ipython",
    "version": 3
   },
   "file_extension": ".py",
   "mimetype": "text/x-python",
   "name": "python",
   "nbconvert_exporter": "python",
   "pygments_lexer": "ipython3",
   "version": "3.6.3"
  }
 },
 "nbformat": 4,
 "nbformat_minor": 2
}
