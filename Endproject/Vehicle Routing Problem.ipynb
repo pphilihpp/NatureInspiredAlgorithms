{
 "cells": [
  {
   "cell_type": "markdown",
   "metadata": {},
   "source": [
    "# Final Project: Vehicle Rounting Problem"
   ]
  },
  {
   "cell_type": "code",
   "execution_count": 3,
   "metadata": {},
   "outputs": [],
   "source": [
    "import numpy as np\n",
    "#np.set_printoptions(threshold=np.nan)\n",
    "from matplotlib import pyplot as plt"
   ]
  },
  {
   "cell_type": "markdown",
   "metadata": {},
   "source": [
    "Import Matrices"
   ]
  },
  {
   "cell_type": "code",
   "execution_count": 4,
   "metadata": {},
   "outputs": [],
   "source": [
    "# VRP1\n",
    "# import distance matrix\n",
    "filepath = 'VRP1/distance.txt'\n",
    "with open(filepath, 'r') as t:\n",
    "    distance_matrix = []\n",
    "    for line in t.readlines():\n",
    "        y = [int(value) for value in line.split()]\n",
    "        distance_matrix.append(y)\n",
    "        \n",
    "    t.close()\n",
    "    distance_matrix = np.array(distance_matrix)\n",
    "\n",
    "# import demand matrix\n",
    "filepath = 'VRP1/demand.txt'\n",
    "with open(filepath, 'r') as t:\n",
    "    demand_matrix = []\n",
    "    for line in t.readlines():\n",
    "        y = [int(value) for value in line.split()]\n",
    "        demand_matrix.append(y)\n",
    "        \n",
    "    t.close()\n",
    "    demand_matrix = np.array(demand_matrix)\n",
    "\n",
    "# import capacity matrix\n",
    "filepath = 'VRP1/capacity.txt'\n",
    "with open(filepath, 'r') as t:\n",
    "    capacity_matrix = []\n",
    "    for line in t.readlines():\n",
    "        y = [int(value) for value in line.split()]\n",
    "        capacity_matrix.append(y)\n",
    "        \n",
    "    t.close()\n",
    "    capacity_matrix = np.array(capacity_matrix)\n",
    "\n",
    "# VRP1\n",
    "# import distance matrix\n",
    "filepath = 'VRP2/distance.txt'\n",
    "with open(filepath, 'r') as t:\n",
    "    distance_matrix_2 = []\n",
    "    for line in t.readlines():\n",
    "        y = [int(value) for value in line.split()]\n",
    "        distance_matrix_2.append(y)\n",
    "        \n",
    "    t.close()\n",
    "    distance_matrix_2 = np.array(distance_matrix)\n",
    "\n",
    "# import demand matrix\n",
    "filepath = 'VRP2/demand.txt'\n",
    "with open(filepath, 'r') as t:\n",
    "    demand_matrix_2 = []\n",
    "    for line in t.readlines():\n",
    "        y = [int(value) for value in line.split()]\n",
    "        demand_matrix_2.append(y)\n",
    "        \n",
    "    t.close()\n",
    "    demand_matrix_2 = np.array(demand_matrix)\n",
    "\n",
    "# import capacity matrix\n",
    "filepath = 'VRP2/capacity.txt'\n",
    "with open(filepath, 'r') as t:\n",
    "    capacity_matrix_2 = []\n",
    "    for line in t.readlines():\n",
    "        y = [int(value) for value in line.split()]\n",
    "        capacity_matrix_2.append(y)\n",
    "        \n",
    "    t.close()\n",
    "    capacity_matrix_2 = np.array(capacity_matrix)"
   ]
  },
  {
   "cell_type": "code",
   "execution_count": 19,
   "metadata": {},
   "outputs": [
    {
     "name": "stdout",
     "output_type": "stream",
     "text": [
      "Information about distance matric for VRP1 \n",
      "# columns:  101\n",
      "# lines:  101\n",
      "[False  True]\n",
      "Since we also get False values while comparing the matrix with its transposed, the matrix is asymmetric. \n",
      "\n",
      "Information about distance matric for VRP2 \n",
      "# columns:  101\n",
      "# lines:  101\n",
      "[False  True]\n",
      "Since we also get False values while comparing the matrix with its transposed, the matrix is asymmetric.\n"
     ]
    }
   ],
   "source": [
    "# information about the distance matrix for VRP1\n",
    "print(\"Information about distance matric for VRP1 \\n# columns: \", len(distance_matrix[0]))\n",
    "print(\"# lines: \", len(distance_matrix))\n",
    "symmetric = (distance_matrix == distance_matrix.T)\n",
    "print(np.unique(symmetric))\n",
    "print(\"Since we also get False values while comparing the matrix with its transposed, the matrix is asymmetric. \\n\")\n",
    "\n",
    "# information about the distance matrix for VRP2\n",
    "print(\"Information about distance matric for VRP2 \\n# columns: \", len(distance_matrix_2[0]))\n",
    "print(\"# lines: \", len(distance_matrix_2))\n",
    "symmetric = (distance_matrix_2 == distance_matrix_2.T)\n",
    "print(np.unique(symmetric))\n",
    "print(\"Since we also get False values while comparing the matrix with its transposed, the matrix is asymmetric.\")\n"
   ]
  },
  {
   "cell_type": "code",
   "execution_count": null,
   "metadata": {},
   "outputs": [],
   "source": []
  }
 ],
 "metadata": {
  "kernelspec": {
   "display_name": "Python 3",
   "language": "python",
   "name": "python3"
  },
  "language_info": {
   "codemirror_mode": {
    "name": "ipython",
    "version": 3
   },
   "file_extension": ".py",
   "mimetype": "text/x-python",
   "name": "python",
   "nbconvert_exporter": "python",
   "pygments_lexer": "ipython3",
   "version": "3.6.5"
  }
 },
 "nbformat": 4,
 "nbformat_minor": 2
}
