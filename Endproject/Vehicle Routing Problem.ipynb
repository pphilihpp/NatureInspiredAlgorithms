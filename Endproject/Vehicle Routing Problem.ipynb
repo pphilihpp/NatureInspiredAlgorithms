{
 "cells": [
  {
   "cell_type": "markdown",
   "metadata": {},
   "source": [
    "# Final Project: Vehicle Rounting Problem"
   ]
  },
  {
   "cell_type": "code",
   "execution_count": 33,
   "metadata": {
    "collapsed": true
   },
   "outputs": [],
   "source": [
    "import numpy as np\n",
    "#np.set_printoptions(threshold=np.nan)\n",
    "import seaborn as sns\n",
    "from matplotlib import pyplot as plt\n",
    "import math"
   ]
  },
  {
   "cell_type": "markdown",
   "metadata": {},
   "source": [
    "## 1. Import Data"
   ]
  },
  {
   "cell_type": "code",
   "execution_count": 23,
   "metadata": {
    "collapsed": true
   },
   "outputs": [],
   "source": [
    "# VRP1\n",
    "# import distance matrix\n",
    "filepath = 'VRP1/distance.txt'\n",
    "with open(filepath, 'r') as t:\n",
    "    distance_matrix = []\n",
    "    for line in t.readlines():\n",
    "        y = [int(value) for value in line.split()]\n",
    "        distance_matrix.append(y)\n",
    "        \n",
    "    t.close()\n",
    "    distance_matrix = np.array(distance_matrix)\n",
    "\n",
    "# import demand matrix\n",
    "filepath = 'VRP1/demand.txt'\n",
    "with open(filepath, 'r') as t:\n",
    "    demand_matrix = []\n",
    "    for line in t.readlines():\n",
    "        y = [int(value) for value in line.split()]\n",
    "        demand_matrix.append(y)\n",
    "        \n",
    "    t.close()\n",
    "    demand_matrix = np.array(demand_matrix)\n",
    "\n",
    "# import capacity matrix\n",
    "filepath = 'VRP1/capacity.txt'\n",
    "with open(filepath, 'r') as t:\n",
    "    capacity_matrix = []\n",
    "    for line in t.readlines():\n",
    "        y = [int(value) for value in line.split()]\n",
    "        capacity_matrix.append(y)\n",
    "        \n",
    "    t.close()\n",
    "    capacity_matrix = np.array(capacity_matrix)\n",
    "\n",
    "# VRP1\n",
    "# import distance matrix\n",
    "filepath = 'VRP2/distance.txt'\n",
    "with open(filepath, 'r') as t:\n",
    "    distance_matrix_2 = []\n",
    "    for line in t.readlines():\n",
    "        y = [int(value) for value in line.split()]\n",
    "        distance_matrix_2.append(y)\n",
    "        \n",
    "    t.close()\n",
    "    distance_matrix_2 = np.array(distance_matrix_2)\n",
    "\n",
    "# import demand matrix\n",
    "filepath = 'VRP2/demand.txt'\n",
    "with open(filepath, 'r') as t:\n",
    "    demand_matrix_2 = []\n",
    "    for line in t.readlines():\n",
    "        y = [int(value) for value in line.split()]\n",
    "        demand_matrix_2.append(y)\n",
    "        \n",
    "    t.close()\n",
    "    demand_matrix_2 = np.array(demand_matrix)\n",
    "\n",
    "# import capacity matrix\n",
    "filepath = 'VRP2/capacity.txt'\n",
    "with open(filepath, 'r') as t:\n",
    "    capacity_matrix_2 = []\n",
    "    for line in t.readlines():\n",
    "        y = [int(value) for value in line.split()]\n",
    "        capacity_matrix_2.append(y)\n",
    "        \n",
    "    t.close()\n",
    "    capacity_matrix_2 = np.array(capacity_matrix)"
   ]
  },
  {
   "cell_type": "code",
   "execution_count": 24,
   "metadata": {},
   "outputs": [
    {
     "name": "stdout",
     "output_type": "stream",
     "text": [
      "Information about distance matric for VRP1 \n",
      "# columns:  101\n",
      "# lines:  101\n",
      "[False  True]\n",
      "Since we also get False values while comparing the matrix with its transposed, the matrix is asymmetric. \n",
      "\n",
      "Information about distance matric for VRP2 \n",
      "# columns:  101\n",
      "# lines:  101\n",
      "[False  True]\n",
      "Since we also get False values while comparing the matrix with its transposed, the matrix is asymmetric.\n"
     ]
    }
   ],
   "source": [
    "# information about the distance matrix for VRP1\n",
    "print(\"Information about distance matric for VRP1 \\n# columns: \", len(distance_matrix[0]))\n",
    "print(\"# lines: \", len(distance_matrix))\n",
    "asymmetric = (distance_matrix != distance_matrix.T)\n",
    "print(np.unique(asymmetric))\n",
    "print(\"Since we also get False values while comparing the matrix with its transposed, the matrix is asymmetric. \\n\")\n",
    "\n",
    "# information about the distance matrix for VRP2\n",
    "print(\"Information about distance matric for VRP2 \\n# columns: \", len(distance_matrix_2[0]))\n",
    "print(\"# lines: \", len(distance_matrix_2))\n",
    "asymmetric_2 = (distance_matrix_2 != distance_matrix_2.T)\n",
    "print(np.unique(asymmetric_2))\n",
    "print(\"Since we also get False values while comparing the matrix with its transposed, the matrix is asymmetric.\")"
   ]
  },
  {
   "cell_type": "code",
   "execution_count": 25,
   "metadata": {},
   "outputs": [],
   "source": [
    "#heatmap\n",
    "ax = sns.heatmap(distance_matrix, center=0)"
   ]
  },
  {
   "cell_type": "markdown",
   "metadata": {},
   "source": [
    "The heatmap again illustrates the fact that we have to deal with an asymmetric distance matrix. In order to apply the k-means algorithm, we need a symmetric matrix. Therefore we need to make our distances symmetric be taking the mean between the distances (if they are different). "
   ]
  },
  {
   "cell_type": "code",
   "execution_count": 26,
   "metadata": {
    "collapsed": true
   },
   "outputs": [],
   "source": [
    "# CASE 1: distance_matrix \n",
    "cleaned_distance_matrix = np.copy(distance_matrix)\n",
    "for i in range(len(asymmetric)):\n",
    "    for j in range(i+1, len(asymmetric[0])):\n",
    "        if asymmetric[i,j]:\n",
    "            cleaned_distance = (distance_matrix[i,j] + distance_matrix[j,i]) // 2\n",
    "            cleaned_distance_matrix[i,j] = cleaned_distance\n",
    "            cleaned_distance_matrix[j,i] = cleaned_distance\n",
    "            \n",
    "# CASE 2: distance_matrix_2 \n",
    "cleaned_distance_matrix_2 = np.copy(distance_matrix_2)\n",
    "for i in range(len(asymmetric_2)):\n",
    "    for j in range(i+1, len(asymmetric_2[0])):\n",
    "        if asymmetric_2[i,j]:\n",
    "            cleaned_distance = (distance_matrix_2[i,j] + distance_matrix_2[j,i]) // 2\n",
    "            cleaned_distance_matrix_2[i,j] = cleaned_distance\n",
    "            cleaned_distance_matrix_2[j,i] = cleaned_distance"
   ]
  },
  {
   "cell_type": "code",
   "execution_count": 27,
   "metadata": {},
   "outputs": [
    {
     "data": {
      "text/plain": [
       "(1, 100)"
      ]
     },
     "execution_count": 27,
     "metadata": {},
     "output_type": "execute_result"
    }
   ],
   "source": [
    "# Demand matrix has 100 entries\n",
    "demand_matrix.shape\n",
    "\n",
    "# Note that the matrix is 101x101, i.e. that the depot is set at (0)"
   ]
  },
  {
   "cell_type": "markdown",
   "metadata": {},
   "source": [
    "## Algorithm"
   ]
  },
  {
   "cell_type": "markdown",
   "metadata": {},
   "source": [
    "1. Clean matrix, i.e. make the matrix symmetric. Take mean of two different values.\n",
    "2. K-means clustering to 100-demand-clusters. See Vanessa's paper how to do it. \n",
    "3. Look at one 100 cluster and calculate the demand distance ratio: $:= \\dfrac{demand}{distance \\cdot cost}$ Merge the 100 cluster with the nearest one, calculate new ratio and save it. Calculate new center point. Merge this cluster with the next nearest and calculate ratio, save it, etc. Do this until you reached a demand of 1000. Then Merge the first cluster with the ones that give the best ratio. Go to the next cluster, that hasn't been merged yet and do the same until no more clusters have not been merged or checked. \n",
    "4. Apply nature inspired algorithm.\n",
    "\n",
    "\n",
    "Last idea: \n",
    "1. Clean matrix, i.e. make the matrix symmetric. Take mean of two different values.\n",
    "2. K-means clustering to 100-demand-clusters. See Vanessa's paper how to do it. \n",
    "3. Merging: first calculate the demand-distance-ratio for the existing 100-demand-clusters. Then merge 3 100-demand-clusters with K-means clustering into one (do that until all are merged). Calculate demand-distance-ratio of the 300-clusters as well. Note that **demand-distance-ratio** $:= \\dfrac{demand}{distance \\cdot cost}$\n",
    "4. Merge all 100-demand-clusters into 500-demand-clusters. Calculate demand-distance-ratio. \n",
    "5. Merge all 100-demand-clusters into 1000-demand-clusters. Calculate demand-distance-ratio.\n",
    "6. Choose cluster with best ratio (smallest value) and mark the customers as final. Check if all customers are marked final. \n",
    "7. If not check if we still have all types of cars available. Recalculate the clusters for all non-final clusters for all available car types (repeat step 3-5).\n",
    "\n",
    "**REMEMBER:** do not hard code parameters, name them "
   ]
  },
  {
   "cell_type": "markdown",
   "metadata": {},
   "source": [
    "## 2. Creating coordinate matrix from distance matrix"
   ]
  },
  {
   "cell_type": "code",
   "execution_count": 28,
   "metadata": {
    "collapsed": true
   },
   "outputs": [],
   "source": [
    "# input: 101 x 101 matrix (use cleaned_distance_matrix and cleaned_distance_matrix_2)\n",
    "# depot is node 0 - set it in (0,0)\n",
    "# output: np.array coordinate_matrix with 2 columns displaying (x,y)-coordinates"
   ]
  },
  {
   "cell_type": "markdown",
   "metadata": {},
   "source": [
    "## 3. Clustering"
   ]
  },
  {
   "cell_type": "code",
   "execution_count": 29,
   "metadata": {
    "collapsed": true
   },
   "outputs": [],
   "source": [
    "# input: distance matrix (use cleaned_distance_matrix and cleaned_distance_matrix_2) and geometrical representation\n",
    "# of the customers (from point 2), demand_matrix, capacity_matrix\n",
    "\n",
    "# output: (cluster x customer)-matrix that consists only of 0 and 1 (1 means that the customer is part of the cluster)\n",
    "# The size of the (cluster x customer)-matrix is approx. 19 x 100\n",
    "# output: a demand_per_cluster_matrix that consists of the demand per cluster [demand_of_cluster_1, demand_of_cluster_2, ...]"
   ]
  },
  {
   "cell_type": "markdown",
   "metadata": {},
   "source": [
    "## 4. Merging"
   ]
  },
  {
   "cell_type": "code",
   "execution_count": 32,
   "metadata": {},
   "outputs": [
    {
     "name": "stdout",
     "output_type": "stream",
     "text": [
      "[False False False]\n"
     ]
    }
   ],
   "source": [
    "# input: (cluster x customer)-matrix: ccmatrix, demand_per_cluster_matrix: dpcmatrix, demand_matrix, cleaned_distance_matrix, \n",
    "# capacity_matrix, coordinate_matrix\n",
    "# 100cluster-centers array:originalclustercenters, 100cluster-intradistances - array:intradistances\n",
    "# array with car types, number of vehicles per type, cost per type, (one column for type, one for number, one for cost): vehiclematrix\n",
    "\n",
    "def ddr(demand, distance, cost):\n",
    "    return demand/(distance*cost)\n",
    "\n",
    "def distance(x1,y1,x2,y2):\n",
    "    dist = math.sqrt((x2 - x1)**2 + (y2 - y1)**2)\n",
    "    return dist\n",
    "\n",
    "# prepating mergedclusters    \n",
    "demand_matrix = np.array([[1,2,3],[3,4,5],[4,5,6]]) #just to test\n",
    "mergedclusters = np.zeros(len(demand_matrix), dtype=bool)\n",
    "print(mergedclusters) # to check\n",
    "\n",
    "# calculate center of 100-clusters - already get it from last method\n",
    "\n",
    "# get cluster that's farest away from Depot\n",
    "\n",
    "currentcluster = 0\n",
    "currentclusterdistance = 0\n",
    "for(i in range np.size(originalclustercenters,0):\n",
    "    if((dist(originalclustercenter(i),originalclustercenter(i),coordinate_matrix(0),coordinate_matrix(0)) > currentclusterdistance)&& mergedclusters(i)==False):  #need to access x and y values somehow\n",
    "        currentcluster = i\n",
    "        currentclusterdistance = dist((originalclustercenter(i),originalclustercenter(i),coordinate_matrix(0),coordinate_matrix(0))\n",
    "    \n",
    "\n",
    "# calculate ddr of cluster, save it in new array: Ratio-array. This is only the code for calculating it for a single 100 cluster, nees to be adapted later. \n",
    "                                      \n",
    "ratioarray = np.array([0])\n",
    "mergedarraynumber = 0\n",
    "neighbourarray = np.array([currentcluster])\n",
    "                                      \n",
    "                                      \n",
    "current_cost = vehiclematrix[0,2]\n",
    "current_distance = intradistances(currentcluster) + 2* dist(originalclustercenter(currentcluster),originalclustercenter(currentcluster),coordinate_matrix(0),coordinate_matrix(0)))\n",
    "current_ddr = ddr(demand_matrix(currentcluster),current_distance,current_cost)\n",
    "np.append(ratioarray, current_ddr)\n",
    "                                          \n",
    "# find nearest cluster, calculate ddr with fitting car, if they would be merged, save it in Ratio-array\n",
    "    \n",
    "\n",
    "    \n",
    "# calculate new center\n",
    "# repeat last two steps and stop when demand will be over thousand\n",
    "# find best merging partners by looking at highest value in Ratio array.\n",
    "# Merge according clusters.\n",
    "# set merged clusters to value TRUE in mergedclusters-matrix.\n",
    "\n",
    "#repeat with next cluster that's farest away, that has the value FALSE in mergedclusters-matrix\n",
    "\n",
    "# output: final_cluster_customer_matrix"
   ]
  },
  {
   "cell_type": "markdown",
   "metadata": {},
   "source": [
    "## 5. Differential Evolution/Genetic Algorithm/Ant Algorithm"
   ]
  },
  {
   "cell_type": "code",
   "execution_count": 10,
   "metadata": {
    "collapsed": true
   },
   "outputs": [],
   "source": [
    "# input: final_cluster_customer_matrix"
   ]
  },
  {
   "cell_type": "markdown",
   "metadata": {},
   "source": [
    "## 6. Run"
   ]
  },
  {
   "cell_type": "code",
   "execution_count": 38,
   "metadata": {},
   "outputs": [
    {
     "name": "stdout",
     "output_type": "stream",
     "text": [
      "5\n",
      "[[1 2 3]\n",
      " [9 4 5]\n",
      " [7 8 6]]\n"
     ]
    }
   ],
   "source": [
    "demand_matrix = np.array([[1,2,3],[9,4,5],[7,8,6]]) #just to test\n",
    "print(demand_matrix[1,2])\n",
    "print(demand_matrix)"
   ]
  },
  {
   "cell_type": "code",
   "execution_count": null,
   "metadata": {
    "collapsed": true
   },
   "outputs": [],
   "source": []
  }
 ],
 "metadata": {
  "kernelspec": {
   "display_name": "Python 3",
   "language": "python",
   "name": "python3"
  },
  "language_info": {
   "codemirror_mode": {
    "name": "ipython",
    "version": 3
   },
   "file_extension": ".py",
   "mimetype": "text/x-python",
   "name": "python",
   "nbconvert_exporter": "python",
   "pygments_lexer": "ipython3",
   "version": "3.6.3"
  }
 },
 "nbformat": 4,
 "nbformat_minor": 2
}
