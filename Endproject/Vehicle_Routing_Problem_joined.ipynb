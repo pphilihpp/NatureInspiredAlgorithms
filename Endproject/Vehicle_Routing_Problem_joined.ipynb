{
 "cells": [
  {
   "cell_type": "markdown",
   "metadata": {},
   "source": [
    "# Vehicle Routing Problem"
   ]
  },
  {
   "cell_type": "code",
   "execution_count": 1,
   "metadata": {},
   "outputs": [],
   "source": [
    "import numpy as np\n",
    "#np.set_printoptions(threshold=np.nan)\n",
    "import seaborn as sns\n",
    "from matplotlib import pyplot as plt\n",
    "import math\n",
    "import copy\n",
    "import random\n",
    "import timeit\n",
    "from scipy.spatial import distance\n",
    "import operator\n",
    "import sys\n",
    "#from google.colab import files\n",
    "#uploaded = files.upload()"
   ]
  },
  {
   "cell_type": "markdown",
   "metadata": {},
   "source": [
    "## 1. Import, Data Investigation and Preprocessing"
   ]
  },
  {
   "cell_type": "markdown",
   "metadata": {},
   "source": [
    "Import"
   ]
  },
  {
   "cell_type": "code",
   "execution_count": 2,
   "metadata": {},
   "outputs": [],
   "source": [
    "# VRP1\n",
    "# import distance matrix\n",
    "filepath = 'VRP1/distance.txt'\n",
    "with open(filepath, 'r') as t:\n",
    "    distance_matrix = []\n",
    "    for line in t.readlines():\n",
    "        y = [int(value) for value in line.split()]\n",
    "        distance_matrix.append(y)\n",
    "        \n",
    "    t.close()\n",
    "    distance_matrix = np.array(distance_matrix)\n",
    "\n",
    "# import demand matrix\n",
    "filepath = 'VRP1/demand.txt'\n",
    "with open(filepath, 'r') as t:\n",
    "    demand_matrix = []\n",
    "    for line in t.readlines():\n",
    "        y = [int(value) for value in line.split()]\n",
    "        demand_matrix.append(y)\n",
    "        \n",
    "    t.close()\n",
    "    demand_matrix = np.array(demand_matrix)\n",
    "    demand_matrix = demand_matrix[0]\n",
    "    # since demand matrix has length 100 but the distance_matrix has length 101, we add one demand with 0 to represent the depot \n",
    "    demand_matrix = np.insert(demand_matrix,0,0)\n",
    "\n",
    "# import capacity matrix\n",
    "filepath = 'VRP1/capacity.txt'\n",
    "with open(filepath, 'r') as t:\n",
    "    capacity_matrix = []\n",
    "    for line in t.readlines():\n",
    "        y = [int(value) for value in line.split()]\n",
    "        capacity_matrix.append(y)\n",
    "        \n",
    "    t.close()\n",
    "    capacity_matrix = np.array(capacity_matrix)\n",
    "    capacity_matrix = capacity_matrix[0]\n",
    "\n",
    "# import transportation_cost matrix\n",
    "filepath = 'VRP1/transportation_cost.txt'\n",
    "with open(filepath, 'r') as t:\n",
    "    transportation_cost = []\n",
    "    for line in t.readlines():\n",
    "        y = [int(value) for value in line.split()]\n",
    "        transportation_cost.append(y)\n",
    "        \n",
    "    t.close()\n",
    "    transportation_cost = np.array(transportation_cost)\n",
    "    transportation_cost = transportation_cost[0]\n",
    "# VRP2\n",
    "# import distance matrix\n",
    "filepath = 'VRP2/distance.txt'\n",
    "with open(filepath, 'r') as t:\n",
    "    distance_matrix_2 = []\n",
    "    for line in t.readlines():\n",
    "        y = [int(value) for value in line.split()]\n",
    "        distance_matrix_2.append(y)\n",
    "        \n",
    "    t.close()\n",
    "    distance_matrix_2 = np.array(distance_matrix_2)\n",
    "\n",
    "# import demand matrix\n",
    "filepath = 'VRP2/demand.txt'\n",
    "with open(filepath, 'r') as t:\n",
    "    demand_matrix_2 = []\n",
    "    for line in t.readlines():\n",
    "        y = [int(value) for value in line.split()]\n",
    "        demand_matrix_2.append(y)\n",
    "        \n",
    "    t.close()\n",
    "    demand_matrix_2 = np.array(demand_matrix)\n",
    "    demand_matrix_2 = demand_matrix_2[0]\n",
    "    # since demand matrix has length 100 but the distance_matrix has length 101, we add one demand with 0 to represent the depot \n",
    "    demand_matrix_2 = np.insert(demand_matrix,0,0)\n",
    "\n",
    "    \n",
    "# import capacity matrix\n",
    "filepath = 'VRP2/capacity.txt'\n",
    "with open(filepath, 'r') as t:\n",
    "    capacity_matrix_2 = []\n",
    "    for line in t.readlines():\n",
    "        y = [int(value) for value in line.split()]\n",
    "        capacity_matrix_2.append(y)\n",
    "        \n",
    "    t.close()\n",
    "    capacity_matrix_2 = np.array(capacity_matrix_2)\n",
    "    capacity_matrix_2 = capacity_matrix_2[0]\n",
    "    \n",
    "\n",
    "    \n",
    "# import transportation_cost matrix\n",
    "filepath = 'VRP2/transportation_cost.txt'\n",
    "with open(filepath, 'r') as t:\n",
    "    transportation_cost_2 = []\n",
    "    for line in t.readlines():\n",
    "        y = [int(value) for value in line.split()]\n",
    "        transportation_cost_2.append(y)\n",
    "        \n",
    "    t.close()\n",
    "    transportation_cost_2 = np.array(transportation_cost_2)\n",
    "    transportation_cost_2 = transportation_cost_2[0]"
   ]
  },
  {
   "cell_type": "code",
   "execution_count": 3,
   "metadata": {},
   "outputs": [],
   "source": [
    "# which data to use\n",
    "#demand_matrix = demand_matrix_2"
   ]
  },
  {
   "cell_type": "markdown",
   "metadata": {},
   "source": [
    "Data Investigation"
   ]
  },
  {
   "cell_type": "code",
   "execution_count": 4,
   "metadata": {},
   "outputs": [
    {
     "name": "stdout",
     "output_type": "stream",
     "text": [
      "Information about distance matric for VRP1 \n",
      "# columns:  101\n",
      "# lines:  101\n",
      "[False  True]\n",
      "Since we also get False values while comparing the matrix with its transposed, the matrix is asymmetric. \n",
      "\n",
      "Information about distance matric for VRP2 \n",
      "# columns:  101\n",
      "# lines:  101\n",
      "[False  True]\n",
      "Since we also get False values while comparing the matrix with its transposed, the matrix is asymmetric.\n"
     ]
    }
   ],
   "source": [
    "# information about the distance matrix for VRP1\n",
    "print(\"Information about distance matric for VRP1 \\n# columns: \", len(distance_matrix[0]))\n",
    "print(\"# lines: \", len(distance_matrix))\n",
    "asymmetric = (distance_matrix != np.transpose(distance_matrix))\n",
    "print(np.unique(asymmetric))\n",
    "print(\"Since we also get False values while comparing the matrix with its transposed, the matrix is asymmetric. \\n\")\n",
    "\n",
    "# information about the distance matrix for VRP2\n",
    "print(\"Information about distance matric for VRP2 \\n# columns: \", len(distance_matrix_2[0]))\n",
    "print(\"# lines: \", len(distance_matrix_2))\n",
    "asymmetric_2 = (distance_matrix_2 != np.transpose(distance_matrix_2))\n",
    "                \n",
    "print(np.unique(asymmetric_2))\n",
    "print(\"Since we also get False values while comparing the matrix with its transposed, the matrix is asymmetric.\")"
   ]
  },
  {
   "cell_type": "code",
   "execution_count": 5,
   "metadata": {},
   "outputs": [
    {
     "data": {
      "image/png": "[encoded data removed]",
      "text/plain": [
       "<Figure size 432x288 with 2 Axes>"
      ]
     },
     "metadata": {
      "needs_background": "light"
     },
     "output_type": "display_data"
    }
   ],
   "source": [
    "#heatmap\n",
    "ax = sns.heatmap(distance_matrix, center=0)"
   ]
  },
  {
   "cell_type": "markdown",
   "metadata": {},
   "source": [
    "The heatmap again illustrates the fact that we have to deal with an asymmetric distance matrix. In order to apply the k-means algorithm, we need a symmetric matrix. Therefore we need to make our distances symmetric be taking the mean between the distances (if they are different)."
   ]
  },
  {
   "cell_type": "code",
   "execution_count": 6,
   "metadata": {},
   "outputs": [
    {
     "data": {
      "text/plain": [
       "array([ 100,  100,  100,  100,  100,  100,  100,  100,  100,  100,  100,\n",
       "        100,  100,  100,  100,  100,  100,  100,  100,  100,  300,  300,\n",
       "        300,  300,  300,  300,  300,  500,  500,  500,  500, 1000, 1000])"
      ]
     },
     "execution_count": 6,
     "metadata": {},
     "output_type": "execute_result"
    }
   ],
   "source": [
    "capacity_matrix_2"
   ]
  },
  {
   "cell_type": "code",
   "execution_count": 7,
   "metadata": {},
   "outputs": [
    {
     "data": {
      "text/plain": [
       "array([ 100,  100,  100,  100,  100,  100,  100,  100,  100,  100,  100,\n",
       "        100,  100,  100,  100,  100,  100,  100,  100,  100,  300,  300,\n",
       "        300,  300,  300,  300,  300,  500,  500,  500,  500, 1000, 1000])"
      ]
     },
     "execution_count": 7,
     "metadata": {},
     "output_type": "execute_result"
    }
   ],
   "source": [
    "capacity_matrix"
   ]
  },
  {
   "cell_type": "markdown",
   "metadata": {},
   "source": [
    "## 2. Clustering"
   ]
  },
  {
   "cell_type": "code",
   "execution_count": 8,
   "metadata": {},
   "outputs": [],
   "source": [
    "def average_dist(cluster):\n",
    "    \n",
    "    sum_distance = 0\n",
    "    avg_distance = 0\n",
    "    \n",
    "    # from every node to every node in the current cluster calculate the overall distance\n",
    "    for node1 in cluster:\n",
    "        for node2 in cluster:\n",
    "            sum_distance += distance_matrix[node1][node2]\n",
    "\n",
    "    # and calculate the average as an approximation\n",
    "    one_edge = sum_distance/(len(cluster)**2-2)\n",
    "    avg_distance = one_edge * (len(cluster)-1)\n",
    "    \n",
    "    return avg_distance"
   ]
  },
  {
   "cell_type": "code",
   "execution_count": 9,
   "metadata": {},
   "outputs": [],
   "source": [
    "def total_demand_satisfied(route):\n",
    "    total_demand_satisfied = 0\n",
    "    for i in route:\n",
    "        total_demand_satisfied += demand_matrix[i]\n",
    "    return total_demand_satisfied"
   ]
  },
  {
   "cell_type": "code",
   "execution_count": 10,
   "metadata": {},
   "outputs": [],
   "source": [
    "def total_cars():\n",
    "    '''\n",
    "    returns the sorted sets of capacities available with their according costs and those zipped information as dict\n",
    "    '''\n",
    "    unique_capacity = sorted(set(capacity_matrix)) #VRP1: 100, 300, 500, 1000\n",
    "    unique_cost = sorted(set(transportation_cost)) #VRP1: 11, 13, 15, 18\n",
    "    \n",
    "    cap = capacity_matrix\n",
    "    num_cars = [list(cap).count(value) for value in unique_capacity]\n",
    "    total_cars = dict(zip(unique_capacity, num_cars))\n",
    "    \n",
    "    return unique_capacity, unique_cost, total_cars"
   ]
  },
  {
   "cell_type": "code",
   "execution_count": 11,
   "metadata": {},
   "outputs": [],
   "source": [
    "def get_cost_list(cars_of_clusters):\n",
    "    \n",
    "    '''\n",
    "    gives us the list of the costs of the cars of the final clusters\n",
    "    '''\n",
    "    \n",
    "    cars_capacity = []\n",
    "    cars_capacity = list(cars_of_clusters.values())\n",
    "    \n",
    "    unique_capacity = total_cars()[0]\n",
    "    unique_cost = total_cars()[1]\n",
    "    cost_list = []\n",
    "    \n",
    "    for i in range(len(cars_capacity)):\n",
    "        for j in range(len(unique_capacity)):\n",
    "            if cars_capacity[i] == unique_capacity[j]:\n",
    "                cost_list.append(unique_cost[j])\n",
    "    \n",
    "    \n",
    "    \n",
    "    return cost_list\n",
    "    \n",
    "    "
   ]
  },
  {
   "cell_type": "code",
   "execution_count": 12,
   "metadata": {},
   "outputs": [],
   "source": [
    "def optimal_car(single_cluster):\n",
    "    '''\n",
    "    check the output of the function with\n",
    "        if type(x) == str:\n",
    "    if it's True, then there is no car available for this cluster\n",
    "    '''\n",
    "    global cars_left\n",
    "    \n",
    "    unique_capacity, unique_cost, _ = total_cars()\n",
    "    \n",
    "    copy_cars_left = cars_left\n",
    "    cars_possible = []\n",
    "    cars_available = []\n",
    "    \n",
    "    for value in range(len(unique_capacity)):\n",
    "        if total_demand_satisfied(single_cluster) < unique_capacity[value]:\n",
    "            cars_possible.append(unique_capacity[value])\n",
    "    \n",
    "    cars_possible = sorted(cars_possible)\n",
    "    cars_available = cars_possible[:]\n",
    "    \n",
    "    for car in cars_possible:\n",
    "        test_value = copy_cars_left[car] - 1\n",
    "        if test_value < 0:\n",
    "            cars_available.remove(car)\n",
    "            \n",
    "    try:\n",
    "        optimal_car = min(cars_available)\n",
    "        return optimal_car\n",
    "        \n",
    "    except ValueError:\n",
    "        return \"no car available\""
   ]
  },
  {
   "cell_type": "code",
   "execution_count": 13,
   "metadata": {},
   "outputs": [],
   "source": [
    "def update_cars_left(string, used_car):\n",
    "    '''\n",
    "    takes as input the chosen car and removes it from the global variable cars_left\n",
    "    '''\n",
    "    global cars_left\n",
    "    \n",
    "    if string == \"+\":\n",
    "        cars_left[used_car] += 1\n",
    "    if string == \"-\":\n",
    "        cars_left[used_car] -= 1"
   ]
  },
  {
   "cell_type": "code",
   "execution_count": 14,
   "metadata": {},
   "outputs": [],
   "source": [
    "def cluster_initialization():\n",
    "\n",
    "    global cars_left\n",
    "    global cars_used\n",
    "    \n",
    "    list_of_clusters = []\n",
    "    customers = list(range(len(demand_matrix))[1:-1])\n",
    "    visited_customers = []\n",
    "    remaining_distance_matrix = copy.deepcopy(distance_matrix[0])\n",
    "\n",
    "    while len(visited_customers) < len(customers)-1: \n",
    "        cluster = []\n",
    "        demand = 0\n",
    "\n",
    "        #add customers with smallest demand/distance ratio to cluster as long as overall demand of cluster is <= 100\n",
    "        while total_demand_satisfied(cluster) < min(capacity_matrix):\n",
    "            best_demand_distance_ratio = 0\n",
    "            \n",
    "            if cluster == []:\n",
    "                #add depot, because that's where we are starting\n",
    "                cluster.append(0)\n",
    "                #choose customer furthest away from depot to create cluster\n",
    "                while(cluster == [0]):\n",
    "                    if visited_customers == []:\n",
    "                        pass\n",
    "                    else:\n",
    "                        for values in visited_customers:\n",
    "                            remaining_distance_matrix[values] = 0\n",
    "                    first_customer = np.argmax(remaining_distance_matrix)\n",
    "                    #add the best fitting customer to the cluster \n",
    "                    if first_customer not in visited_customers:\n",
    "                        visited_customers.append(first_customer)\n",
    "                        cluster.append(first_customer)\n",
    "\n",
    "            else:\n",
    "                #go through all customers\n",
    "                for i in range(len(customers)):\n",
    "\n",
    "                    #if customer is not added yet\n",
    "                    if customers[i] not in visited_customers:\n",
    "                        \n",
    "                        #create a hypothetical cluster with the regarded customer and check the resulting demand-distance-ratio\n",
    "                        cluster_copy = cluster[:]\n",
    "                        cluster_copy.append(customers[i])\n",
    "                        cluster_copy.append(0)\n",
    "\n",
    "                        #calculate the demand_distance_ratio for comparison\n",
    "                        demand_distance_ratio = total_demand_satisfied(cluster_copy) / average_dist(cluster_copy)\n",
    "\n",
    "                        #find best customer\n",
    "                        if demand_distance_ratio > best_demand_distance_ratio and total_demand_satisfied(cluster_copy) <= min(capacity_matrix):\n",
    "                            best_demand_distance_ratio = demand_distance_ratio\n",
    "                            best_customer = customers[i]\n",
    "\n",
    "                if best_customer in visited_customers:\n",
    "                    break\n",
    "                #add the best fitting customer to the cluster\n",
    "                else:\n",
    "                    cluster.append(best_customer)\n",
    "                    visited_customers.append(best_customer)\n",
    "        cluster.append(0)\n",
    "        update_cars_left(\"-\", min(capacity_matrix))\n",
    "        \n",
    "        cars_used[str(cluster)] = min(capacity_matrix)\n",
    "        \n",
    "        list_of_clusters.append(cluster)\n",
    "        \n",
    "    return np.asarray([np.array(clusters) for clusters in list_of_clusters])"
   ]
  },
  {
   "cell_type": "code",
   "execution_count": 15,
   "metadata": {},
   "outputs": [],
   "source": [
    "# has only one cluster as input\n",
    "def demand_cost_ratio(cluster, capacity):\n",
    "    #RETURN INDEX NOT VALUE\n",
    "    #when using, cast the yield into a list and get max --> max(list(yield))\n",
    "    cluster = list(cluster)\n",
    "    unique_capacity = sorted(set(capacity_matrix))\n",
    "    unique_cost = sorted(set(transportation_cost))\n",
    "\n",
    "    capacity_dict = dict(zip(unique_capacity, unique_cost))\n",
    "    cost = capacity_dict.get(capacity)\n",
    "\n",
    "    \n",
    "    demand_cost_ratio = total_demand_satisfied(cluster)/(average_dist(cluster) * cost) \n",
    "    \n",
    "    return demand_cost_ratio"
   ]
  },
  {
   "cell_type": "code",
   "execution_count": 16,
   "metadata": {},
   "outputs": [],
   "source": [
    "def evaluate_solution(list_of_clusters):\n",
    "    \n",
    "    global cars_used\n",
    "    total_cost = 0\n",
    "   \n",
    "    unique_capacity, unique_cost, _ = total_cars()\n",
    "    \n",
    "    cost_dict = dict(zip(unique_capacity, unique_cost))\n",
    "    sum_distance = 0\n",
    "    \n",
    "    for cluster in list_of_clusters:\n",
    "        capacity = cars_used.get(str(cluster))\n",
    "        cost = cost_dict.get(capacity)\n",
    "        sum_distance = average_dist(cluster)\n",
    "        \n",
    "#         for node in range(len(cluster)-1):\n",
    "#             sum_distance += distance_matrix[node][node+1]\n",
    "        \n",
    "        total_cost += (cost*sum_distance)\n",
    "        \n",
    "    return total_cost"
   ]
  },
  {
   "cell_type": "code",
   "execution_count": 17,
   "metadata": {},
   "outputs": [],
   "source": [
    "def cost(cluster):\n",
    "    \n",
    "    cost = 0\n",
    "    total_cost = 0\n",
    "    \n",
    "    unique_capacity, unique_cost, _ = total_cars()\n",
    "    cost_dict = dict(zip(unique_capacity, unique_cost))\n",
    "    \n",
    "    capacity = cars_used.get(str(cluster))\n",
    "    if capacity == None:\n",
    "        capacity = optimal_car(cluster)\n",
    "        \n",
    "#     print(\"cluster\", cluster)\n",
    "#     print(\"capacity\", capacity)\n",
    "#     print(\"cars_used\", cars_used)\n",
    "    cost = cost_dict.get(capacity)\n",
    "#     print(\"cost_dict\",cost_dict)\n",
    "    sum_distance = average_dist(cluster)\n",
    "    \n",
    "#     print(\"cost\", cost)\n",
    "#     print(\"sum_distance\", sum_distance)\n",
    "    total_cost = cost*sum_distance\n",
    "    \n",
    "    \n",
    "    return total_cost"
   ]
  },
  {
   "cell_type": "code",
   "execution_count": 18,
   "metadata": {},
   "outputs": [],
   "source": [
    "def merge(initial_clusters):\n",
    "    \n",
    "    '''\n",
    "    returns the merged clusters \n",
    "    '''\n",
    "    \n",
    "    global cars_used\n",
    "    \n",
    "    initial_cost_ratio = []\n",
    "    \n",
    "    for cluster in initial_clusters:\n",
    "        initial_cost_ratio.append(demand_cost_ratio(cluster, optimal_car(cluster)))\n",
    "        \n",
    "    solution = [list(value) for value in initial_clusters]\n",
    "    \n",
    "    #sort clusters according to demand/ cost ratio\n",
    "    cluster_and_cost_dict = dict( zip(initial_cost_ratio, solution))\n",
    "    sorted_cluster_and_cost_dict = sorted(cluster_and_cost_dict.items(), key = lambda s: s[0])\n",
    "    \n",
    "    #first approach was to only consider the 50% worst initial clusters\n",
    "    #but yields worse results; if you want to try this also uncomment the join with the other 50% before the return\n",
    "    #this variable mainly tells how around many 100 capacity cars are kept(i.e not selected for the merge in this iteration)\n",
    "    #split_point = math.floor(len(sorted_cluster_and_cost_dict)/2)\n",
    "    \n",
    "    # consindering all initial clusters   \n",
    "    clusters_to_be_merged = []\n",
    "    for i in range(len(solution)):\n",
    "        clusters_to_be_merged.append(sorted_cluster_and_cost_dict[i][1])\n",
    "    \n",
    "    \n",
    "    copy_clusters_to_be_merged = clusters_to_be_merged[:]\n",
    "    #print(copy_clusters_to_be_merged)\n",
    "    start_cluster = []\n",
    "    next_cluster = []\n",
    "    new_cluster = []\n",
    "    merged_clusters = []\n",
    "    new_solution = []\n",
    "\n",
    "    i = 0\n",
    "    j = 0\n",
    "        \n",
    "    len_initial_cluster = len(clusters_to_be_merged)\n",
    "    \n",
    "    while j < len_initial_cluster:\n",
    "        start_cluster = clusters_to_be_merged[j]\n",
    "        i = j\n",
    "    \n",
    "        while i < len_initial_cluster-1:\n",
    "            next_cluster = clusters_to_be_merged[i+1]\n",
    "            merged_clusters = start_cluster[:-1] + next_cluster[1:]\n",
    "\n",
    "            if new_solution == []: \n",
    "                new_solution.append(start_cluster)\n",
    "            if all([next_cluster not in new_solution]): \n",
    "                new_solution.append(next_cluster)\n",
    "            \n",
    "            # from the global variable cars_used\n",
    "            start_car = cars_used.get(str(start_cluster))\n",
    "            next_car = cars_used.get(str(next_cluster))\n",
    "            \n",
    "            # checks if the optimal car for this cluster is available (if not, then merging is not possible)\n",
    "            if optimal_car(merged_clusters) == \"no car available\":\n",
    "                break\n",
    "            else:\n",
    "                merged_car = optimal_car(merged_clusters)\n",
    "\n",
    "            # that was a different approach, substituting the demand_cost_ratio and using only cost() in the next if-statement\n",
    "            #cost_factor_ratio = ((start_car + next_car)/merged_car)\n",
    "            \n",
    "            #print(\"start_car:\", start_car)\n",
    "            #print(\"next_car:\", next_car)\n",
    "            #print(\"merged_cluster\", total_demand_satisfied(merged_clusters))\n",
    "            #print(\"merged_car\", merged_car)           \n",
    "\n",
    "            #if the merged_cluster has a better demand_cost_ratio, merge\n",
    "            if (demand_cost_ratio(start_cluster, start_car)) <= (demand_cost_ratio(merged_clusters, merged_car)):\n",
    "            \n",
    "            #different if statement that considers only cost not; unfortunately: IT'S NOT MERGING\n",
    "            #if (cost(start_cluster)) >= (cost(merged_clusters)):\n",
    "                \n",
    "                index = new_solution.index(start_cluster)\n",
    "                new_solution[index] = merged_clusters[:]\n",
    "                new_solution.remove(next_cluster)\n",
    "\n",
    "                del cars_used[str(start_cluster)]\n",
    "                start_cluster = merged_clusters[:]\n",
    "\n",
    "                len_initial_cluster = len_initial_cluster - 1\n",
    "                \n",
    "                # This is an annoying case. Happens when new_solution's last element is the merged cluster(else statement are the usual steps while if and elif take care of the boundary cases)   \n",
    "                if len(new_solution) == 1:\n",
    "                    clusters_to_be_merged = new_solution[:] + clusters_to_be_merged[1:]\n",
    "                elif new_solution[-1] not in clusters_to_be_merged:\n",
    "                    index_end = clusters_to_be_merged.index(new_solution[-2])\n",
    "                    clusters_to_be_merged = new_solution[:] + clusters_to_be_merged[index_end+2:]\n",
    "                else:\n",
    "                    index_end = clusters_to_be_merged.index(new_solution[-1])\n",
    "                    clusters_to_be_merged = new_solution[:] + clusters_to_be_merged[index_end+1:]\n",
    "\n",
    "\n",
    "                if next_cluster in clusters_to_be_merged:\n",
    "                    clusters_to_be_merged.remove(next_cluster)\n",
    "\n",
    "                # update global variable cars_left used for function optimal_car()\n",
    "                update_cars_left(\"+\", start_car)\n",
    "                update_cars_left(\"+\", next_car)\n",
    "                update_cars_left(\"-\", merged_car)\n",
    "\n",
    "                del cars_used[str(next_cluster)]\n",
    "                cars_used[str(merged_clusters)] = merged_car\n",
    "\n",
    "                # update while loops\n",
    "                i = clusters_to_be_merged.index(start_cluster) - 1\n",
    "                len_initial_cluster = len(clusters_to_be_merged)\n",
    "\n",
    "             \n",
    "            i = i + 1\n",
    "        j = j + 1\n",
    "        \n",
    "    better_solution = clusters_to_be_merged[:]\n",
    "    \n",
    "    #only when taking the worst clusters\n",
    "    #for i in range(len(solution) - split_point):\n",
    "        #better_solution.append(sorted_cluster_and_cost_dict[i+split_point][1])\n",
    "    \n",
    "    return better_solution"
   ]
  },
  {
   "cell_type": "markdown",
   "metadata": {},
   "source": [
    "## 3. Genetic Algorithm"
   ]
  },
  {
   "cell_type": "markdown",
   "metadata": {},
   "source": [
    "Take initialized clusters. Take one route and set it as first chromosome of a population. Then produce other chromosomes for this population by permutating the nodes of the first chromosome. How many permutations we want to consider can be considered with the parameter population_size. Store it as population on which the genetic algorithm is performed. Our aim is to optimize the route of one vehicle, i.e. one cluster.\n"
   ]
  },
  {
   "cell_type": "code",
   "execution_count": 19,
   "metadata": {},
   "outputs": [],
   "source": [
    "# get route and shuffle\n",
    "\n",
    "def shuffle_cluster(cluster): \n",
    "    sliced_cluster = []\n",
    "    sliced_cluster = cluster[1:len(cluster)-1]\n",
    "    random.shuffle(sliced_cluster)\n",
    "    sliced_cluster.append(0)\n",
    "    sliced_cluster.insert(0,0)    \n",
    "    return list(sliced_cluster)  "
   ]
  },
  {
   "cell_type": "code",
   "execution_count": 20,
   "metadata": {},
   "outputs": [],
   "source": [
    "# create as many permutations as given with population_size. It returns a list in which every route is randomly\n",
    "# shuffled n-times with n being the population size. \n",
    "\n",
    "def create_permutations(initialized_clusters, population_size):\n",
    "    population_list = []\n",
    "    sliced_shuffled = []\n",
    "    \n",
    "    for i in range(len(initialized_clusters)):\n",
    "        for j in range(population_size):\n",
    "            sliced_shuffled = shuffle_cluster(initialized_clusters[i])\n",
    "            if sliced_shuffled not in population_list:\n",
    "                population_list.append(sliced_shuffled)\n",
    "            else: \n",
    "                unique = False\n",
    "                while unique == False:\n",
    "                    sliced_shuffled = shuffle_cluster(initialized_clusters[i])\n",
    "                    if sliced_shuffled not in population_list:\n",
    "                        population_list.append(sliced_shuffled)\n",
    "                        unique = True\n",
    "                    else: \n",
    "                        unique == False\n",
    "\n",
    "    return population_list"
   ]
  },
  {
   "cell_type": "markdown",
   "metadata": {},
   "source": [
    "### 3.1 Evaluate Fitness"
   ]
  },
  {
   "cell_type": "markdown",
   "metadata": {},
   "source": [
    "Here the fitness of one cluster corresponds to the costs. Since we want to minimize our costs, a low evaluation value represents a high fitness. "
   ]
  },
  {
   "cell_type": "code",
   "execution_count": 21,
   "metadata": {},
   "outputs": [],
   "source": [
    "def evaluate_cluster(transportation_cost,distance_matrix,cluster):\n",
    "    total_distance = 0\n",
    "    \n",
    "    for i in range(len(cluster)-1):\n",
    "        total_cluster_distance = total_distance + distance_matrix[cluster[i]][cluster[i+1]]\n",
    "        total_distance = total_cluster_distance\n",
    "    return transportation_cost * total_distance"
   ]
  },
  {
   "cell_type": "code",
   "execution_count": 22,
   "metadata": {},
   "outputs": [],
   "source": [
    "def evaluate(initialized_clusters):\n",
    "    clusters_costs = []\n",
    "    for cluster in (initialized_clusters):\n",
    "        clusters_costs.append(evaluate_cluster(transportation_cost,distance_matrix,cluster,truck_number))\n",
    "    return clusters_costs"
   ]
  },
  {
   "cell_type": "markdown",
   "metadata": {},
   "source": [
    "### 3.2 Selection"
   ]
  },
  {
   "cell_type": "markdown",
   "metadata": {},
   "source": [
    "The selection method we use is called tournament selection. It also takes the population (here: population_list), its fitness array (here:clusters costs) and the mating pool size (how many chromosomes do we want to keep) as input. It basically takes the chromosomes that have the lowest cost values. Note that highest fitness level corresponds to lowest cost values in this example since our aim is to minimize the overall costs."
   ]
  },
  {
   "cell_type": "code",
   "execution_count": 23,
   "metadata": {},
   "outputs": [],
   "source": [
    "def tournament_selection(population_list, mating_pool_size,population_size,cost_list):\n",
    "    mating_pool_big = []\n",
    "    counter = 0\n",
    "    for i in range(len(population_list)):\n",
    "        if i % population_size == 0: \n",
    "            current_population = population_list[i:i+population_size]\n",
    "            mating_pool = []\n",
    "            cost = cost_list[counter]\n",
    "            counter +=1 \n",
    "            j = 0\n",
    "            #print(current_population)\n",
    "            #print(len(current_population[0]))\n",
    "            while(j < mating_pool_size):\n",
    "                participant1 = current_population[random.randint(0, population_size-1)]\n",
    "                participant2 = current_population[random.randint(0, population_size-1)]\n",
    "                if (participant1 != participant2):\n",
    "                    j +=1\n",
    "                    if evaluate_cluster(cost, distance_matrix, participant1) <= evaluate_cluster(cost, distance_matrix, participant2) :\n",
    "                        mating_pool = mating_pool + [participant1]\n",
    "                    else: \n",
    "                        mating_pool = mating_pool + [participant2]     \n",
    "            mating_pool_big = mating_pool_big + mating_pool \n",
    "    return mating_pool_big"
   ]
  },
  {
   "cell_type": "markdown",
   "metadata": {},
   "source": [
    "### 3.3 Recombination"
   ]
  },
  {
   "cell_type": "markdown",
   "metadata": {},
   "source": [
    " \n",
    "\n",
    "In recombination, two chromosomes are taken, called parent1 and parent2, and they are recombined (have children, here: child1 and child2) that might produce better outputs, i.e. lower cost.\n",
    "\n",
    "In uniform_order_based_crossover, we use a template to create valid childs that still visit every customer on the route"
   ]
  },
  {
   "cell_type": "code",
   "execution_count": 24,
   "metadata": {},
   "outputs": [],
   "source": [
    "def uniform_order_based_crossover(parent1,parent2):\n",
    "    parent1 = parent1[1:-1]\n",
    "    parent2 = parent2[1:-1]\n",
    "    \n",
    "    table = np.zeros(len(parent1))\n",
    "    for i in range(len(parent1)):\n",
    "        table[i]= random.randint(0,1)\n",
    "    \n",
    "    child1 = np.zeros(len(parent1))\n",
    "    child2 = np.zeros(len(parent1))\n",
    "    for i in range(len(table)):\n",
    "        if table[i]==1:\n",
    "            child1[i]=parent1[i]\n",
    "            child2[i]=parent2[i]\n",
    "        \n",
    "    for i in range(len(table)):\n",
    "        if child1[i]==0:\n",
    "            for j in range(len(parent2)):\n",
    "                if parent2[j] not in child1:\n",
    "                    child1[i] = parent2[j]\n",
    "                    break\n",
    "        \n",
    "        if child2[i]==0:\n",
    "            for j in range(len(parent1)):\n",
    "                if parent1[j] not in child2:\n",
    "                    child2[i] = parent1[j]\n",
    "                    break\n",
    "                    \n",
    "                \n",
    "    child1 = np.insert(child1,0,0)\n",
    "    child1 = np.insert(child1, len(child1),0)\n",
    "    child2 = np.insert(child2,0,0)\n",
    "    child2 = np.insert(child2, len(child2),0)\n",
    "                    \n",
    "    return child1, child2\n",
    "    "
   ]
  },
  {
   "cell_type": "code",
   "execution_count": 25,
   "metadata": {},
   "outputs": [],
   "source": [
    "def recombine_uniform_order_based_crossover(population_size,mating_pool,crossover_probability, mating_pool_size):\n",
    "    \n",
    "    children_clusters_big = []\n",
    "    \n",
    "    for i in range(len(mating_pool)):\n",
    "        if i % mating_pool_size == 0: \n",
    "            current_mating_pool = mating_pool[i:i+mating_pool_size]\n",
    "            children_clusters = [] \n",
    "\n",
    "            j = 0\n",
    "            while j < population_size:\n",
    "                \n",
    "                cluster1 = current_mating_pool[random.randint(0,mating_pool_size-1)]\n",
    "                cluster2 = current_mating_pool[random.randint(0,mating_pool_size-1)]\n",
    "                \n",
    "                if cluster2 == cluster1:\n",
    "                    cluster2 = current_mating_pool[random.randint(0,mating_pool_size-1)]\n",
    "                    \n",
    "                if random.random() < crossover_probability:\n",
    "                    child1, child2 = uniform_order_based_crossover(cluster1,cluster2)\n",
    "                    child1 = child1.astype(int)\n",
    "                    child2 = child2.astype(int)\n",
    "                    child1 = list(child1)\n",
    "                    child2 = list(child2)\n",
    "                    children_clusters.append(child1)\n",
    "                    children_clusters.append(child2)\n",
    "                    \n",
    "                    \n",
    "                    \n",
    "                else:\n",
    "                    #cluster1 = np.asarray(cluster1)\n",
    "                    #cluster2 = np.asarray(cluster2)\n",
    "                    children_clusters.append(cluster1)\n",
    "                    children_clusters.append(cluster2)\n",
    "                \n",
    "                j+=2\n",
    "                \n",
    "            children_clusters_big = children_clusters_big + children_clusters\n",
    "\n",
    "    return children_clusters_big\n"
   ]
  },
  {
   "cell_type": "markdown",
   "metadata": {},
   "source": [
    "### 3.4 Swap Mutation"
   ]
  },
  {
   "cell_type": "markdown",
   "metadata": {},
   "source": [
    "Mutation (in contrast to recombination) operates locally and tries to improve the fitness level with local optimization techniques. Here we implement the swap mutation, i.e. that given a particular probability, we swap at two randomly chosen locations within the cluster. Mutation makes sense in this example since we deal with an asymmetric matrix. This means that sometimes it is shorter to go from A to B instead from B to A. It is basically a form of permutation, which we have already done in the beginning for a fixed population_size. Nevertheless, we will still consider swap mutation since we will not be able to permutate over all customer nodes of one cluster, i.e. we still might be lucky to consider a better solution with the help of swap mutation."
   ]
  },
  {
   "cell_type": "code",
   "execution_count": 26,
   "metadata": {},
   "outputs": [],
   "source": [
    "def swap(cluster,mutation_probability):\n",
    "    mutated_cluster = np.copy(cluster)\n",
    "    if random.random() < mutation_probability:\n",
    "        # note that we consider all entries without the first one and the last one since this represents the depot\n",
    "        location1 = np.random.randint(1,len(cluster)-1)\n",
    "        location2 = np.random.randint(1,len(cluster)-1)\n",
    "        \n",
    "        while location1 == location2:\n",
    "            location2 = np.random.randint(1,len(cluster)-1)\n",
    "        help_variable = mutated_cluster[location1]\n",
    "        mutated_cluster[location1] = mutated_cluster[location2]\n",
    "        mutated_cluster[location2] = help_variable\n",
    "        \n",
    "    return mutated_cluster"
   ]
  },
  {
   "cell_type": "code",
   "execution_count": 27,
   "metadata": {},
   "outputs": [],
   "source": [
    "def mutate_swap(cluster,mutation_probability):\n",
    "    all_mutated_clusters = []\n",
    "    for i in range(len(cluster)):\n",
    "        mutated_cluster = swap(cluster[i],mutation_probability)\n",
    "        mutated_cluster = list(mutated_cluster)\n",
    "        all_mutated_clusters.append(mutated_cluster)\n",
    "    return all_mutated_clusters"
   ]
  },
  {
   "cell_type": "code",
   "execution_count": 28,
   "metadata": {},
   "outputs": [],
   "source": [
    "# After last episode, choose best sequence for each cluster. \n",
    "\n",
    "def choose_best(all_populations, cost_list):\n",
    "    final_clusters = []\n",
    "    for i in range(len(all_populations)):\n",
    "        if i % population_size == 0: \n",
    "            current_population = all_populations[i:i+population_size]\n",
    "            #print(current_population)\n",
    "            #print(i)\n",
    "            cost_index = int(((i+10)/10)-1)\n",
    "            cost = cost_list[cost_index]\n",
    "            #print(cost)\n",
    "            \n",
    "            current_best = current_population[0]\n",
    "            for j in range(population_size):\n",
    "                if evaluate_cluster(cost, distance_matrix, current_population[j]) < evaluate_cluster(cost, distance_matrix, current_best):\n",
    "                    current_best = current_population[j]\n",
    "            final_clusters.append(current_best)\n",
    "            #print(\"final\", final_clusters)\n",
    "            #print(\"best\", current_best)\n",
    "    \n",
    "    return final_clusters"
   ]
  },
  {
   "cell_type": "code",
   "execution_count": 29,
   "metadata": {},
   "outputs": [],
   "source": [
    "def final_evaluation(final_clusters, cost_list):\n",
    "    final_cost = 0\n",
    "    \n",
    "    for i in range(len(final_clusters)):\n",
    "        cost = cost_list[i]\n",
    "        final_cost = final_cost + (evaluate_cluster(cost, distance_matrix, final_clusters[i]))\n",
    "        \n",
    "    return final_cost"
   ]
  },
  {
   "cell_type": "markdown",
   "metadata": {},
   "source": [
    "### 3.5 Replacement"
   ]
  },
  {
   "cell_type": "markdown",
   "metadata": {},
   "source": [
    "## 5. Run"
   ]
  },
  {
   "cell_type": "markdown",
   "metadata": {},
   "source": [
    "At first we are clustering the distance matrix with the trucks with a simple heuristic: \"Start with the node that is closest to the depot and add the demand of that customer into the truck. Then look for the clostest node from this point and if the capacity of the truck has not reached its limits, add it to the truck as well. Continue until truck is full.\" \n",
    "\n",
    "In order to optimize the clusters, we decided to use the genetic algorithms. That means that we consider all routes a truck could possibly take as population, with the routes being our chromosomes and the customers being our genes. This optimization follows the following steps: "
   ]
  },
  {
   "cell_type": "markdown",
   "metadata": {},
   "source": [
    "![Credits: http://www.ecs.umass.edu/mie/labs/mda/mechanism/papers/gfig1.gif](genetic_algorithm.png)"
   ]
  },
  {
   "cell_type": "markdown",
   "metadata": {},
   "source": [
    "We decided to tournament selection as selection, one-point-crossover as recombination/crossover and swap-mutation as mutation. Moreover as final replacement, we chose choose-best. "
   ]
  },
  {
   "cell_type": "code",
   "execution_count": 30,
   "metadata": {},
   "outputs": [
    {
     "name": "stdout",
     "output_type": "stream",
     "text": [
      "{100: 20, 300: 7, 500: 4, 1000: 2}\n"
     ]
    }
   ],
   "source": [
    "global cars_left\n",
    "_, _, cars_left = total_cars()\n",
    "global cars_used\n",
    "cars_used = {}\n",
    "print(cars_left)"
   ]
  },
  {
   "cell_type": "code",
   "execution_count": 31,
   "metadata": {},
   "outputs": [],
   "source": [
    "# find initial clusters by merging\n",
    "\n",
    "initial = cluster_initialization()\n",
    "merge_solution = merge(initial)"
   ]
  },
  {
   "cell_type": "code",
   "execution_count": 35,
   "metadata": {
    "scrolled": false
   },
   "outputs": [
    {
     "name": "stdout",
     "output_type": "stream",
     "text": [
      "i 161702\n",
      "i 162332\n",
      "i 157382\n",
      "i 159560\n",
      "i 160793\n",
      "i 161918\n",
      "i 160874\n",
      "i 161036\n",
      "i 160928\n",
      "i 159470\n",
      "i 160730\n",
      "i 159362\n",
      "i 159272\n",
      "i 156068\n",
      "i 155114\n",
      "i 156446\n",
      "i 156131\n",
      "i 156068\n",
      "i 154943\n",
      "i 154421\n",
      "i 155033\n",
      "i 155294\n",
      "i 154664\n",
      "i 155762\n",
      "i 156392\n",
      "i 156536\n",
      "i 157265\n",
      "i 157760\n",
      "i 159137\n",
      "i 158741\n",
      "i 158191\n",
      "i 157112\n",
      "i 156716\n",
      "i 156383\n",
      "i 156356\n",
      "i 155924\n",
      "i 154286\n",
      "i 157166\n",
      "i 156770\n",
      "i 155960\n",
      "i 156392\n",
      "i 155456\n",
      "i 156284\n",
      "i 156518\n",
      "i 157886\n",
      "i 156302\n",
      "i 160640\n",
      "i 159164\n",
      "i 157094\n",
      "i 158255\n",
      "i 159704\n",
      "i 159875\n",
      "i 158786\n",
      "i 156842\n",
      "i 160514\n",
      "i 160082\n",
      "i 158858\n",
      "i 157508\n",
      "i 158228\n",
      "i 158534\n",
      "i 157454\n",
      "i 158282\n",
      "i 160982\n",
      "i 158804\n",
      "i 159218\n",
      "i 159470\n",
      "i 159344\n",
      "i 157805\n",
      "i 155834\n",
      "i 157292\n",
      "i 156392\n",
      "i 155996\n",
      "i 156248\n",
      "i 157850\n",
      "i 157265\n",
      "i 157868\n",
      "i 157769\n",
      "i 156455\n",
      "i 154961\n",
      "i 154502\n",
      "i 156004\n",
      "i 157048\n",
      "i 156958\n",
      "i 155644\n",
      "i 155392\n",
      "i 154916\n",
      "i 156356\n",
      "i 154808\n",
      "i 154853\n",
      "i 156041\n",
      "i 155654\n",
      "i 154178\n",
      "i 154745\n",
      "i 153260\n",
      "i 154358\n",
      "i 156239\n",
      "i 156410\n",
      "i 155600\n",
      "i 155852\n",
      "i 155231\n",
      "len: 180\n",
      "cars_left: {100: 3, 300: 6, 500: 4, 1000: 2}\n",
      "cost_before_genetic 180168\n",
      "last cost: 155231\n",
      "best cost: 153260\n"
     ]
    }
   ],
   "source": [
    "population_size = 10\n",
    "mating_pool_size = 6\n",
    "crossover_probability =0.9\n",
    "mutation_probability = 0.5\n",
    "cost_list = get_cost_list(cars_used)\n",
    "\n",
    "#start of genetic algorithm\n",
    "\n",
    "all_populations = create_permutations(merge_solution, population_size)\n",
    "best = all_populations\n",
    "for i in range(100):\n",
    "\n",
    "    mating_pool = tournament_selection(all_populations,mating_pool_size,population_size, cost_list)\n",
    "    new_generation = recombine_uniform_order_based_crossover(population_size,mating_pool,crossover_probability, mating_pool_size)\n",
    "    mutation = mutate_swap(new_generation, mutation_probability)\n",
    "    all_populations = mutation\n",
    "    print(\"i\", final_evaluation(choose_best(all_populations, cost_list), cost_list))\n",
    "    if (final_evaluation(choose_best(all_populations, cost_list), cost_list)) < final_evaluation(choose_best(best, cost_list), cost_list):\n",
    "        best = all_populations\n",
    "\n",
    "last_solution = choose_best(all_populations, cost_list)\n",
    "final_solution = choose_best(best, cost_list)\n",
    "\n",
    "\n",
    "\n",
    "\n",
    "#print(\"mutation:\", mutation)\n",
    "#print(\"final\",final_solution)\n",
    "print(\"len:\", len(mutation))\n",
    "print(\"cars_left:\", cars_left)\n",
    "print(\"cost_before_genetic\", final_evaluation(merge_solution, cost_list))\n",
    "print(\"last cost:\", final_evaluation(last_solution, cost_list))\n",
    "print(\"best cost:\", final_evaluation(final_solution, cost_list))\n"
   ]
  },
  {
   "cell_type": "code",
   "execution_count": null,
   "metadata": {},
   "outputs": [],
   "source": []
  }
 ],
 "metadata": {
  "kernelspec": {
   "display_name": "Python 3",
   "language": "python",
   "name": "python3"
  },
  "language_info": {
   "codemirror_mode": {
    "name": "ipython",
    "version": 3
   },
   "file_extension": ".py",
   "mimetype": "text/x-python",
   "name": "python",
   "nbconvert_exporter": "python",
   "pygments_lexer": "ipython3",
   "version": "3.6.0"
  }
 },
 "nbformat": 4,
 "nbformat_minor": 2
}
